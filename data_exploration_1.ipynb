{
 "cells": [
  {
   "cell_type": "markdown",
   "metadata": {},
   "source": [
    "# Data Exploration 1\n",
    "\n",
    "## <br>By Jean-Philippe Pitteloud</br>"
   ]
  },
  {
   "cell_type": "markdown",
   "metadata": {},
   "source": [
    "### Requirements"
   ]
  },
  {
   "cell_type": "code",
   "execution_count": 1,
   "metadata": {},
   "outputs": [],
   "source": [
    "import numpy as np\n",
    "import pandas as pd\n",
    "from sqlalchemy import create_engine\n",
    "import warnings\n",
    "import seaborn as sns\n",
    "import matplotlib.pyplot as plt\n",
    "from scipy.stats.mstats import winsorize\n",
    "%matplotlib inline\n",
    "\n",
    "warnings.filterwarnings('ignore')"
   ]
  },
  {
   "cell_type": "markdown",
   "metadata": {},
   "source": [
    "### Data Gathering"
   ]
  },
  {
   "cell_type": "code",
   "execution_count": 2,
   "metadata": {
    "scrolled": true
   },
   "outputs": [],
   "source": [
    "postgres_user = 'dsbc_student'\n",
    "postgres_pw = '7*.8G9QH21'\n",
    "postgres_host = '142.93.121.174'\n",
    "postgres_port = '5432'\n",
    "postgres_db = 'useducation'\n",
    "\n",
    "engine = create_engine('postgresql://{}:{}@{}:{}/{}'.format(\n",
    "    postgres_user, postgres_pw, postgres_host, postgres_port, postgres_db))\n",
    "\n",
    "edu_df = pd.read_sql_query('select * from useducation',con=engine)\n",
    "\n",
    "# no need for an open connection, \n",
    "# as we're only doing \n",
    "engine.dispose()"
   ]
  },
  {
   "cell_type": "code",
   "execution_count": 3,
   "metadata": {
    "scrolled": false
   },
   "outputs": [
    {
     "data": {
      "text/html": [
       "<div>\n",
       "<style scoped>\n",
       "    .dataframe tbody tr th:only-of-type {\n",
       "        vertical-align: middle;\n",
       "    }\n",
       "\n",
       "    .dataframe tbody tr th {\n",
       "        vertical-align: top;\n",
       "    }\n",
       "\n",
       "    .dataframe thead th {\n",
       "        text-align: right;\n",
       "    }\n",
       "</style>\n",
       "<table border=\"1\" class=\"dataframe\">\n",
       "  <thead>\n",
       "    <tr style=\"text-align: right;\">\n",
       "      <th></th>\n",
       "      <th>PRIMARY_KEY</th>\n",
       "      <th>STATE</th>\n",
       "      <th>YEAR</th>\n",
       "      <th>ENROLL</th>\n",
       "      <th>TOTAL_REVENUE</th>\n",
       "      <th>FEDERAL_REVENUE</th>\n",
       "      <th>STATE_REVENUE</th>\n",
       "      <th>LOCAL_REVENUE</th>\n",
       "      <th>TOTAL_EXPENDITURE</th>\n",
       "      <th>INSTRUCTION_EXPENDITURE</th>\n",
       "      <th>...</th>\n",
       "      <th>GRADES_4_G</th>\n",
       "      <th>GRADES_8_G</th>\n",
       "      <th>GRADES_12_G</th>\n",
       "      <th>GRADES_1_8_G</th>\n",
       "      <th>GRADES_9_12_G</th>\n",
       "      <th>GRADES_ALL_G</th>\n",
       "      <th>AVG_MATH_4_SCORE</th>\n",
       "      <th>AVG_MATH_8_SCORE</th>\n",
       "      <th>AVG_READING_4_SCORE</th>\n",
       "      <th>AVG_READING_8_SCORE</th>\n",
       "    </tr>\n",
       "  </thead>\n",
       "  <tbody>\n",
       "    <tr>\n",
       "      <th>1487</th>\n",
       "      <td>2017_VIRGINIA</td>\n",
       "      <td>VIRGINIA</td>\n",
       "      <td>2017</td>\n",
       "      <td>NaN</td>\n",
       "      <td>NaN</td>\n",
       "      <td>NaN</td>\n",
       "      <td>NaN</td>\n",
       "      <td>NaN</td>\n",
       "      <td>NaN</td>\n",
       "      <td>NaN</td>\n",
       "      <td>...</td>\n",
       "      <td>NaN</td>\n",
       "      <td>NaN</td>\n",
       "      <td>NaN</td>\n",
       "      <td>NaN</td>\n",
       "      <td>NaN</td>\n",
       "      <td>NaN</td>\n",
       "      <td>248.041059</td>\n",
       "      <td>290.081407</td>\n",
       "      <td>227.598382</td>\n",
       "      <td>273.402640</td>\n",
       "    </tr>\n",
       "    <tr>\n",
       "      <th>1488</th>\n",
       "      <td>2017_WASHINGTON</td>\n",
       "      <td>WASHINGTON</td>\n",
       "      <td>2017</td>\n",
       "      <td>NaN</td>\n",
       "      <td>NaN</td>\n",
       "      <td>NaN</td>\n",
       "      <td>NaN</td>\n",
       "      <td>NaN</td>\n",
       "      <td>NaN</td>\n",
       "      <td>NaN</td>\n",
       "      <td>...</td>\n",
       "      <td>NaN</td>\n",
       "      <td>NaN</td>\n",
       "      <td>NaN</td>\n",
       "      <td>NaN</td>\n",
       "      <td>NaN</td>\n",
       "      <td>NaN</td>\n",
       "      <td>241.701001</td>\n",
       "      <td>289.131257</td>\n",
       "      <td>223.123409</td>\n",
       "      <td>267.744778</td>\n",
       "    </tr>\n",
       "    <tr>\n",
       "      <th>1489</th>\n",
       "      <td>2017_WEST_VIRGINIA</td>\n",
       "      <td>WEST_VIRGINIA</td>\n",
       "      <td>2017</td>\n",
       "      <td>NaN</td>\n",
       "      <td>NaN</td>\n",
       "      <td>NaN</td>\n",
       "      <td>NaN</td>\n",
       "      <td>NaN</td>\n",
       "      <td>NaN</td>\n",
       "      <td>NaN</td>\n",
       "      <td>...</td>\n",
       "      <td>NaN</td>\n",
       "      <td>NaN</td>\n",
       "      <td>NaN</td>\n",
       "      <td>NaN</td>\n",
       "      <td>NaN</td>\n",
       "      <td>NaN</td>\n",
       "      <td>236.057019</td>\n",
       "      <td>273.415854</td>\n",
       "      <td>217.316396</td>\n",
       "      <td>271.617023</td>\n",
       "    </tr>\n",
       "    <tr>\n",
       "      <th>1490</th>\n",
       "      <td>2017_WISCONSIN</td>\n",
       "      <td>WISCONSIN</td>\n",
       "      <td>2017</td>\n",
       "      <td>NaN</td>\n",
       "      <td>NaN</td>\n",
       "      <td>NaN</td>\n",
       "      <td>NaN</td>\n",
       "      <td>NaN</td>\n",
       "      <td>NaN</td>\n",
       "      <td>NaN</td>\n",
       "      <td>...</td>\n",
       "      <td>NaN</td>\n",
       "      <td>NaN</td>\n",
       "      <td>NaN</td>\n",
       "      <td>NaN</td>\n",
       "      <td>NaN</td>\n",
       "      <td>NaN</td>\n",
       "      <td>240.389213</td>\n",
       "      <td>288.143144</td>\n",
       "      <td>219.612694</td>\n",
       "      <td>258.700304</td>\n",
       "    </tr>\n",
       "    <tr>\n",
       "      <th>1491</th>\n",
       "      <td>2017_WYOMING</td>\n",
       "      <td>WYOMING</td>\n",
       "      <td>2017</td>\n",
       "      <td>NaN</td>\n",
       "      <td>NaN</td>\n",
       "      <td>NaN</td>\n",
       "      <td>NaN</td>\n",
       "      <td>NaN</td>\n",
       "      <td>NaN</td>\n",
       "      <td>NaN</td>\n",
       "      <td>...</td>\n",
       "      <td>NaN</td>\n",
       "      <td>NaN</td>\n",
       "      <td>NaN</td>\n",
       "      <td>NaN</td>\n",
       "      <td>NaN</td>\n",
       "      <td>NaN</td>\n",
       "      <td>247.820619</td>\n",
       "      <td>288.761812</td>\n",
       "      <td>226.831211</td>\n",
       "      <td>269.371456</td>\n",
       "    </tr>\n",
       "  </tbody>\n",
       "</table>\n",
       "<p>5 rows × 25 columns</p>\n",
       "</div>"
      ],
      "text/plain": [
       "             PRIMARY_KEY          STATE  YEAR  ENROLL  TOTAL_REVENUE  \\\n",
       "1487       2017_VIRGINIA       VIRGINIA  2017     NaN            NaN   \n",
       "1488     2017_WASHINGTON     WASHINGTON  2017     NaN            NaN   \n",
       "1489  2017_WEST_VIRGINIA  WEST_VIRGINIA  2017     NaN            NaN   \n",
       "1490      2017_WISCONSIN      WISCONSIN  2017     NaN            NaN   \n",
       "1491        2017_WYOMING        WYOMING  2017     NaN            NaN   \n",
       "\n",
       "      FEDERAL_REVENUE  STATE_REVENUE  LOCAL_REVENUE  TOTAL_EXPENDITURE  \\\n",
       "1487              NaN            NaN            NaN                NaN   \n",
       "1488              NaN            NaN            NaN                NaN   \n",
       "1489              NaN            NaN            NaN                NaN   \n",
       "1490              NaN            NaN            NaN                NaN   \n",
       "1491              NaN            NaN            NaN                NaN   \n",
       "\n",
       "      INSTRUCTION_EXPENDITURE         ...           GRADES_4_G  GRADES_8_G  \\\n",
       "1487                      NaN         ...                  NaN         NaN   \n",
       "1488                      NaN         ...                  NaN         NaN   \n",
       "1489                      NaN         ...                  NaN         NaN   \n",
       "1490                      NaN         ...                  NaN         NaN   \n",
       "1491                      NaN         ...                  NaN         NaN   \n",
       "\n",
       "      GRADES_12_G  GRADES_1_8_G  GRADES_9_12_G  GRADES_ALL_G  \\\n",
       "1487          NaN           NaN            NaN           NaN   \n",
       "1488          NaN           NaN            NaN           NaN   \n",
       "1489          NaN           NaN            NaN           NaN   \n",
       "1490          NaN           NaN            NaN           NaN   \n",
       "1491          NaN           NaN            NaN           NaN   \n",
       "\n",
       "      AVG_MATH_4_SCORE  AVG_MATH_8_SCORE  AVG_READING_4_SCORE  \\\n",
       "1487        248.041059        290.081407           227.598382   \n",
       "1488        241.701001        289.131257           223.123409   \n",
       "1489        236.057019        273.415854           217.316396   \n",
       "1490        240.389213        288.143144           219.612694   \n",
       "1491        247.820619        288.761812           226.831211   \n",
       "\n",
       "      AVG_READING_8_SCORE  \n",
       "1487           273.402640  \n",
       "1488           267.744778  \n",
       "1489           271.617023  \n",
       "1490           258.700304  \n",
       "1491           269.371456  \n",
       "\n",
       "[5 rows x 25 columns]"
      ]
     },
     "execution_count": 3,
     "metadata": {},
     "output_type": "execute_result"
    }
   ],
   "source": [
    "edu_df.tail()"
   ]
  },
  {
   "cell_type": "markdown",
   "metadata": {},
   "source": [
    "### Data Cleaning"
   ]
  },
  {
   "cell_type": "code",
   "execution_count": 4,
   "metadata": {},
   "outputs": [],
   "source": [
    "edu_df_cleaned = edu_df.copy()"
   ]
  },
  {
   "cell_type": "code",
   "execution_count": 5,
   "metadata": {},
   "outputs": [],
   "source": [
    "edu_df_cleaned.drop('PRIMARY_KEY', axis = 1, inplace = True)"
   ]
  },
  {
   "cell_type": "code",
   "execution_count": 6,
   "metadata": {},
   "outputs": [],
   "source": [
    "edu_df_cleaned['STATE'] = edu_df_cleaned['STATE'].str.replace('_-_', '_')\n",
    "\n",
    "edu_df_cleaned['bureau'] = edu_df_cleaned['STATE'].str.contains('^[B][UREAU]{5}\\w+|^[B][I][E]?', case = False, regex = True)\n",
    "edu_df_cleaned['STATE'] = np.where(edu_df_cleaned['bureau'], 'BUREAU_OF_INDIAN_EDUCATION', edu_df_cleaned['STATE'])\n",
    "edu_df_cleaned.drop('bureau', axis = 1, inplace = True)\n",
    "\n",
    "edu_df_cleaned['maria'] = edu_df_cleaned['STATE'].str.contains('NORTHERN_MARIANAS|COMMONWEALTH_OF_MARIANAS|MARIANAS|^[M][P]$', case = False, regex = True)\n",
    "edu_df_cleaned['STATE'] = np.where(edu_df_cleaned['maria'], 'NORTHERN_MARIANA_ISLANDS', edu_df_cleaned['STATE'])\n",
    "edu_df_cleaned.drop('maria', axis = 1, inplace = True)\n",
    "\n",
    "edu_df_cleaned['dod'] = edu_df_cleaned['STATE'].str.contains('DEPARTMENT|DOD|DD', case = False, regex = True)\n",
    "edu_df_cleaned['STATE'] = np.where(edu_df_cleaned['dod'], 'DEPARTMENT_OF_DEFENSE', edu_df_cleaned['STATE'])\n",
    "edu_df_cleaned.drop('dod', axis = 1, inplace = True)\n",
    "\n",
    "edu_df_cleaned['as'] = edu_df_cleaned['STATE'].str.contains('AMERICAN_SAMOA|^[A][S]', case = False, regex = True)\n",
    "edu_df_cleaned['STATE'] = np.where(edu_df_cleaned['as'], 'AMERICAN_SAMOA', edu_df_cleaned['STATE'])\n",
    "edu_df_cleaned.drop('as', axis = 1, inplace = True)\n",
    "\n",
    "edu_df_cleaned['guam'] = edu_df_cleaned['STATE'].str.contains('GUAM|^[G][U]', case = False, regex = True)\n",
    "edu_df_cleaned['STATE'] = np.where(edu_df_cleaned['guam'], 'GUAM', edu_df_cleaned['STATE'])\n",
    "edu_df_cleaned.drop('guam', axis = 1, inplace = True)\n",
    "\n",
    "edu_df_cleaned['pr'] = edu_df_cleaned['STATE'].str.contains('PUERTO_RICO|^[P][R]', case = False, regex = True)\n",
    "edu_df_cleaned['STATE'] = np.where(edu_df_cleaned['pr'], 'PUERTO_RICO', edu_df_cleaned['STATE'])\n",
    "edu_df_cleaned.drop('pr', axis = 1, inplace = True)\n",
    "\n",
    "edu_df_cleaned['vi'] = edu_df_cleaned['STATE'].str.contains('VIRGIN_ISLANDS|^[V][I]$', case = False, regex = True)\n",
    "edu_df_cleaned['STATE'] = np.where(edu_df_cleaned['vi'], 'VIRGIN_ISLANDS', edu_df_cleaned['STATE'])\n",
    "edu_df_cleaned.drop('vi', axis = 1, inplace = True)"
   ]
  },
  {
   "cell_type": "code",
   "execution_count": 7,
   "metadata": {},
   "outputs": [
    {
     "data": {
      "text/plain": [
       "Index(['STATE', 'YEAR', 'ENROLL', 'TOTAL_REVENUE', 'FEDERAL_REVENUE',\n",
       "       'STATE_REVENUE', 'LOCAL_REVENUE', 'TOTAL_EXPENDITURE',\n",
       "       'INSTRUCTION_EXPENDITURE', 'SUPPORT_SERVICES_EXPENDITURE',\n",
       "       'OTHER_EXPENDITURE', 'CAPITAL_OUTLAY_EXPENDITURE', 'GRADES_PK_G',\n",
       "       'GRADES_KG_G', 'GRADES_4_G', 'GRADES_8_G', 'GRADES_12_G',\n",
       "       'GRADES_1_8_G', 'GRADES_9_12_G', 'GRADES_ALL_G', 'AVG_MATH_4_SCORE',\n",
       "       'AVG_MATH_8_SCORE', 'AVG_READING_4_SCORE', 'AVG_READING_8_SCORE'],\n",
       "      dtype='object')"
      ]
     },
     "execution_count": 7,
     "metadata": {},
     "output_type": "execute_result"
    }
   ],
   "source": [
    "edu_df_cleaned.columns"
   ]
  },
  {
   "cell_type": "code",
   "execution_count": 8,
   "metadata": {},
   "outputs": [],
   "source": [
    "columns = ['ENROLL', 'TOTAL_REVENUE', 'FEDERAL_REVENUE',\n",
    "       'STATE_REVENUE', 'LOCAL_REVENUE', 'TOTAL_EXPENDITURE',\n",
    "       'INSTRUCTION_EXPENDITURE', 'SUPPORT_SERVICES_EXPENDITURE',\n",
    "       'OTHER_EXPENDITURE', 'CAPITAL_OUTLAY_EXPENDITURE', 'GRADES_PK_G',\n",
    "       'GRADES_KG_G', 'GRADES_4_G', 'GRADES_8_G', 'GRADES_12_G',\n",
    "       'GRADES_1_8_G', 'GRADES_9_12_G', 'GRADES_ALL_G', 'AVG_MATH_4_SCORE',\n",
    "       'AVG_MATH_8_SCORE', 'AVG_READING_4_SCORE', 'AVG_READING_8_SCORE'] \n",
    "\n",
    "states = edu_df_cleaned['STATE'].unique()\n",
    "\n",
    "for state in states:\n",
    "    edu_df_cleaned.loc[edu_df_cleaned['STATE'] == state, columns] = edu_df_cleaned.loc[edu_df_cleaned[\"STATE\"] == state, columns].interpolate()\n",
    "\n",
    "edu_df_cleaned.dropna(inplace=True)"
   ]
  },
  {
   "cell_type": "code",
   "execution_count": 9,
   "metadata": {},
   "outputs": [
    {
     "name": "stdout",
     "output_type": "stream",
     "text": [
      "<class 'pandas.core.frame.DataFrame'>\n",
      "Int64Index: 1046 entries, 54 to 1491\n",
      "Data columns (total 24 columns):\n",
      "STATE                           1046 non-null object\n",
      "YEAR                            1046 non-null int64\n",
      "ENROLL                          1046 non-null float64\n",
      "TOTAL_REVENUE                   1046 non-null float64\n",
      "FEDERAL_REVENUE                 1046 non-null float64\n",
      "STATE_REVENUE                   1046 non-null float64\n",
      "LOCAL_REVENUE                   1046 non-null float64\n",
      "TOTAL_EXPENDITURE               1046 non-null float64\n",
      "INSTRUCTION_EXPENDITURE         1046 non-null float64\n",
      "SUPPORT_SERVICES_EXPENDITURE    1046 non-null float64\n",
      "OTHER_EXPENDITURE               1046 non-null float64\n",
      "CAPITAL_OUTLAY_EXPENDITURE      1046 non-null float64\n",
      "GRADES_PK_G                     1046 non-null float64\n",
      "GRADES_KG_G                     1046 non-null float64\n",
      "GRADES_4_G                      1046 non-null float64\n",
      "GRADES_8_G                      1046 non-null float64\n",
      "GRADES_12_G                     1046 non-null float64\n",
      "GRADES_1_8_G                    1046 non-null float64\n",
      "GRADES_9_12_G                   1046 non-null float64\n",
      "GRADES_ALL_G                    1046 non-null float64\n",
      "AVG_MATH_4_SCORE                1046 non-null float64\n",
      "AVG_MATH_8_SCORE                1046 non-null float64\n",
      "AVG_READING_4_SCORE             1046 non-null float64\n",
      "AVG_READING_8_SCORE             1046 non-null float64\n",
      "dtypes: float64(22), int64(1), object(1)\n",
      "memory usage: 204.3+ KB\n"
     ]
    }
   ],
   "source": [
    "edu_df_cleaned.info()"
   ]
  },
  {
   "cell_type": "markdown",
   "metadata": {},
   "source": [
    "**1. Derive the descriptive statistics of the data and discuss the points that you think remarkable**"
   ]
  },
  {
   "cell_type": "code",
   "execution_count": 19,
   "metadata": {
    "scrolled": true
   },
   "outputs": [
    {
     "data": {
      "text/html": [
       "<div>\n",
       "<style scoped>\n",
       "    .dataframe tbody tr th:only-of-type {\n",
       "        vertical-align: middle;\n",
       "    }\n",
       "\n",
       "    .dataframe tbody tr th {\n",
       "        vertical-align: top;\n",
       "    }\n",
       "\n",
       "    .dataframe thead th {\n",
       "        text-align: right;\n",
       "    }\n",
       "</style>\n",
       "<table border=\"1\" class=\"dataframe\">\n",
       "  <thead>\n",
       "    <tr style=\"text-align: right;\">\n",
       "      <th></th>\n",
       "      <th>TOTAL_EXPENDITURE</th>\n",
       "      <th>INSTRUCTION_EXPENDITURE</th>\n",
       "      <th>SUPPORT_SERVICES_EXPENDITURE</th>\n",
       "      <th>OTHER_EXPENDITURE</th>\n",
       "      <th>CAPITAL_OUTLAY_EXPENDITURE</th>\n",
       "      <th>GRADES_PK_G</th>\n",
       "      <th>GRADES_KG_G</th>\n",
       "      <th>GRADES_4_G</th>\n",
       "      <th>GRADES_8_G</th>\n",
       "      <th>GRADES_12_G</th>\n",
       "      <th>GRADES_1_8_G</th>\n",
       "      <th>GRADES_9_12_G</th>\n",
       "      <th>GRADES_ALL_G</th>\n",
       "      <th>AVG_MATH_4_SCORE</th>\n",
       "      <th>AVG_MATH_8_SCORE</th>\n",
       "      <th>AVG_READING_4_SCORE</th>\n",
       "      <th>AVG_READING_8_SCORE</th>\n",
       "    </tr>\n",
       "  </thead>\n",
       "  <tbody>\n",
       "    <tr>\n",
       "      <th>count</th>\n",
       "      <td>1.046000e+03</td>\n",
       "      <td>1.046000e+03</td>\n",
       "      <td>1.046000e+03</td>\n",
       "      <td>1046.000000</td>\n",
       "      <td>1.046000e+03</td>\n",
       "      <td>1046.000000</td>\n",
       "      <td>1046.000000</td>\n",
       "      <td>1046.000000</td>\n",
       "      <td>1046.000000</td>\n",
       "      <td>1046.000000</td>\n",
       "      <td>1046.000000</td>\n",
       "      <td>1046.000000</td>\n",
       "      <td>1.046000e+03</td>\n",
       "      <td>1046.000000</td>\n",
       "      <td>1046.000000</td>\n",
       "      <td>1046.000000</td>\n",
       "      <td>1046.000000</td>\n",
       "    </tr>\n",
       "    <tr>\n",
       "      <th>mean</th>\n",
       "      <td>1.025869e+07</td>\n",
       "      <td>5.302625e+06</td>\n",
       "      <td>2.997572e+06</td>\n",
       "      <td>465925.866157</td>\n",
       "      <td>1.004152e+06</td>\n",
       "      <td>21407.926386</td>\n",
       "      <td>70590.249044</td>\n",
       "      <td>71534.228967</td>\n",
       "      <td>71677.377629</td>\n",
       "      <td>62567.048279</td>\n",
       "      <td>575159.107553</td>\n",
       "      <td>279757.934990</td>\n",
       "      <td>8.764167e+05</td>\n",
       "      <td>235.269162</td>\n",
       "      <td>278.747113</td>\n",
       "      <td>219.099817</td>\n",
       "      <td>263.615681</td>\n",
       "    </tr>\n",
       "    <tr>\n",
       "      <th>std</th>\n",
       "      <td>1.308992e+07</td>\n",
       "      <td>6.879720e+06</td>\n",
       "      <td>3.665806e+06</td>\n",
       "      <td>575722.727297</td>\n",
       "      <td>1.435778e+06</td>\n",
       "      <td>33167.593655</td>\n",
       "      <td>85100.439719</td>\n",
       "      <td>85272.286001</td>\n",
       "      <td>84302.592122</td>\n",
       "      <td>74919.819069</td>\n",
       "      <td>682406.034849</td>\n",
       "      <td>332560.468998</td>\n",
       "      <td>1.040403e+06</td>\n",
       "      <td>9.632646</td>\n",
       "      <td>9.912572</td>\n",
       "      <td>7.804302</td>\n",
       "      <td>5.768169</td>\n",
       "    </tr>\n",
       "    <tr>\n",
       "      <th>min</th>\n",
       "      <td>6.578090e+05</td>\n",
       "      <td>2.834840e+05</td>\n",
       "      <td>1.695450e+05</td>\n",
       "      <td>22636.000000</td>\n",
       "      <td>1.545200e+04</td>\n",
       "      <td>0.000000</td>\n",
       "      <td>3459.000000</td>\n",
       "      <td>2548.000000</td>\n",
       "      <td>1485.000000</td>\n",
       "      <td>484.000000</td>\n",
       "      <td>19226.000000</td>\n",
       "      <td>2758.000000</td>\n",
       "      <td>2.455400e+04</td>\n",
       "      <td>187.134670</td>\n",
       "      <td>232.831510</td>\n",
       "      <td>179.324956</td>\n",
       "      <td>236.379102</td>\n",
       "    </tr>\n",
       "  </tbody>\n",
       "</table>\n",
       "</div>"
      ],
      "text/plain": [
       "       TOTAL_EXPENDITURE  INSTRUCTION_EXPENDITURE  \\\n",
       "count       1.046000e+03             1.046000e+03   \n",
       "mean        1.025869e+07             5.302625e+06   \n",
       "std         1.308992e+07             6.879720e+06   \n",
       "min         6.578090e+05             2.834840e+05   \n",
       "\n",
       "       SUPPORT_SERVICES_EXPENDITURE  OTHER_EXPENDITURE  \\\n",
       "count                  1.046000e+03        1046.000000   \n",
       "mean                   2.997572e+06      465925.866157   \n",
       "std                    3.665806e+06      575722.727297   \n",
       "min                    1.695450e+05       22636.000000   \n",
       "\n",
       "       CAPITAL_OUTLAY_EXPENDITURE   GRADES_PK_G   GRADES_KG_G    GRADES_4_G  \\\n",
       "count                1.046000e+03   1046.000000   1046.000000   1046.000000   \n",
       "mean                 1.004152e+06  21407.926386  70590.249044  71534.228967   \n",
       "std                  1.435778e+06  33167.593655  85100.439719  85272.286001   \n",
       "min                  1.545200e+04      0.000000   3459.000000   2548.000000   \n",
       "\n",
       "         GRADES_8_G   GRADES_12_G   GRADES_1_8_G  GRADES_9_12_G  GRADES_ALL_G  \\\n",
       "count   1046.000000   1046.000000    1046.000000    1046.000000  1.046000e+03   \n",
       "mean   71677.377629  62567.048279  575159.107553  279757.934990  8.764167e+05   \n",
       "std    84302.592122  74919.819069  682406.034849  332560.468998  1.040403e+06   \n",
       "min     1485.000000    484.000000   19226.000000    2758.000000  2.455400e+04   \n",
       "\n",
       "       AVG_MATH_4_SCORE  AVG_MATH_8_SCORE  AVG_READING_4_SCORE  \\\n",
       "count       1046.000000       1046.000000          1046.000000   \n",
       "mean         235.269162        278.747113           219.099817   \n",
       "std            9.632646          9.912572             7.804302   \n",
       "min          187.134670        232.831510           179.324956   \n",
       "\n",
       "       AVG_READING_8_SCORE  \n",
       "count          1046.000000  \n",
       "mean            263.615681  \n",
       "std               5.768169  \n",
       "min             236.379102  "
      ]
     },
     "execution_count": 19,
     "metadata": {},
     "output_type": "execute_result"
    }
   ],
   "source": [
    "edu_df_cleaned.describe().iloc[:4,6:]"
   ]
  },
  {
   "cell_type": "markdown",
   "metadata": {},
   "source": [
    "- Surprisingly, the average revenue from the Federal government is smaller than revenue perceived from at the State and Local levels.\n",
    "- With respect to Expenses/Expenditure, on average the states spend most of the resources in INSTRUCTION compared to other channels\n",
    "- On average, there is an increase in the grades in math and reading scores from fourth graders to eight graders taking the NAEP exams"
   ]
  },
  {
   "cell_type": "markdown",
   "metadata": {},
   "source": [
    "**2. Choose a state (e.g. California) and draw a line graph of its total revenues and total expenditures along the years. How do these two variables evolve during the years? Try to explain the peaks and troughs with some state-wise news and informations around those dates**"
   ]
  },
  {
   "cell_type": "code",
   "execution_count": 20,
   "metadata": {},
   "outputs": [],
   "source": [
    "edu_df_cali = edu_df_cleaned[edu_df_cleaned['STATE'] == 'CALIFORNIA']"
   ]
  },
  {
   "cell_type": "code",
   "execution_count": 21,
   "metadata": {},
   "outputs": [
    {
     "data": {
      "image/png": "[encoded data removed]",
      "text/plain": [
       "<Figure size 432x288 with 1 Axes>"
      ]
     },
     "metadata": {
      "needs_background": "light"
     },
     "output_type": "display_data"
    }
   ],
   "source": [
    "sns.lineplot(data = edu_df_cali, x = 'YEAR', y = \"TOTAL_REVENUE\", label=\"Total Revenue\")\n",
    "\n",
    "sns.lineplot(data = edu_df_cali, x = 'YEAR', y = \"TOTAL_EXPENDITURE\", label=\"Total Expenditure\")\n",
    "\n",
    "plt.title(\"Total Revenue and Total Expenditure\")\n",
    "plt.legend();"
   ]
  },
  {
   "cell_type": "markdown",
   "metadata": {},
   "source": [
    "In the chart above, it is evident that the state of California experienced a sustained growth in both Revenue and Expenditure during the period between 1995 and 2008, however, a dramatic decrease was reported in 2010 due to a major budget crisis in the state that resulted in major cuts in the education budget for the state. Protest across the state at college and elementary school level were reported in news outlets (https://www.nytimes.com/2010/03/05/education/05protests.html)  "
   ]
  },
  {
   "cell_type": "markdown",
   "metadata": {},
   "source": [
    "**3. In your chosen state, which one of the lessons the students are more successful, math or reading?**"
   ]
  },
  {
   "cell_type": "code",
   "execution_count": 91,
   "metadata": {
    "scrolled": true
   },
   "outputs": [
    {
     "data": {
      "image/png": "[encoded data removed]",
      "text/plain": [
       "<Figure size 1440x360 with 2 Axes>"
      ]
     },
     "metadata": {
      "needs_background": "light"
     },
     "output_type": "display_data"
    }
   ],
   "source": [
    "plt.figure(figsize = [20,5])\n",
    "\n",
    "edu_df_cali['diff_4'] = (edu_df_cali['AVG_MATH_4_SCORE'] - edu_df_cali['AVG_READING_4_SCORE'])\n",
    "edu_df_cali['sign_4'] = np.where(diff_4 > 0, 'pos', 'neg')\n",
    "\n",
    "edu_df_cali['diff_8'] = (edu_df_cali['AVG_MATH_8_SCORE'] - edu_df_cali['AVG_READING_8_SCORE'])\n",
    "edu_df_cali['sign_8'] = np.where(diff_8 > 0, 'pos', 'neg')\n",
    "\n",
    "plt.subplot(1,2,1)\n",
    "sns.barplot(data = edu_df_cali, x = 'YEAR', y = 'diff_4', hue = 'sign_4')\n",
    "plt.title('Difference between Math and Reading Scores (4th Graders)', fontsize = 14, weight = 'bold')\n",
    "plt.xticks(rotation = -45)\n",
    "sns.despine()\n",
    "plt.legend('')\n",
    "plt.ylabel('Difference between Math and Reading Scores (4th Graders)')\n",
    "\n",
    "plt.subplot(1,2,2)\n",
    "sns.barplot(data = edu_df_cali, x = 'YEAR', y = 'diff_8', hue = 'sign_8')\n",
    "plt.title('Difference between Math and Reading Scores (8th Graders)', fontsize = 14, weight = 'bold')\n",
    "plt.xticks(rotation = -45)\n",
    "sns.despine()\n",
    "plt.legend('')\n",
    "plt.ylabel('Difference between Math and Reading Scores (8th Graders)');"
   ]
  },
  {
   "cell_type": "markdown",
   "metadata": {},
   "source": [
    "In the graphics above, the students of the state of California have been performing cosistently better in \"Math\" compared to \"Reading\" in the period between 2001-2017 at the 4th and 8th Grade level. However, in the period 1996-2000, 4th Graders steadily performed better in \"Math\" while 8th Graders had better results in \"Reading\""
   ]
  },
  {
   "cell_type": "markdown",
   "metadata": {},
   "source": [
    "**4. What are the distributions of the math and reading scores in the sample?**"
   ]
  },
  {
   "cell_type": "code",
   "execution_count": 127,
   "metadata": {},
   "outputs": [
    {
     "data": {
      "image/png": "[encoded data removed]",
      "text/plain": [
       "<Figure size 1440x720 with 4 Axes>"
      ]
     },
     "metadata": {
      "needs_background": "light"
     },
     "output_type": "display_data"
    }
   ],
   "source": [
    "plt.figure(figsize = [20, 10])\n",
    "plt.subplots_adjust(hspace = 0.3)\n",
    "\n",
    "plt.subplot(2, 2, 1)\n",
    "sns.distplot(edu_df_cleaned['AVG_MATH_4_SCORE'], kde = False, bins = 15, color = sns.color_palette()[0])\n",
    "plt.title('Distribution of Average Math Scores (4th Graders)', fontsize = 16, weight = 'bold')\n",
    "plt.xlabel('Average Math Score (4th Graders)')\n",
    "plt.ylabel('Count')\n",
    "\n",
    "plt.subplot(2, 2, 2)\n",
    "sns.distplot(edu_df_cleaned['AVG_READING_4_SCORE'], kde = False, bins = 15, color = sns.color_palette()[1])\n",
    "plt.title('Distribution of Average Reading Scores (4th Graders)', fontsize = 16, weight = 'bold')\n",
    "plt.xlabel('Average Reading Score (4th Graders)')\n",
    "plt.ylabel('Count')\n",
    "\n",
    "plt.subplot(2, 2, 3)\n",
    "sns.distplot(edu_df_cleaned['AVG_MATH_8_SCORE'], kde = False, bins = 15, color = sns.color_palette()[0])\n",
    "plt.title('Distribution of Average Math Scores (8th Graders)', fontsize = 16, weight = 'bold')\n",
    "plt.xlabel('Average Math Score (8th Graders)')\n",
    "plt.ylabel('Count')\n",
    "\n",
    "plt.subplot(2, 2, 4)\n",
    "sns.distplot(edu_df_cleaned['AVG_READING_8_SCORE'], kde = False, bins = 15, color = sns.color_palette()[1])\n",
    "plt.title('Distribution of Average Reading Scores (8th Graders)', fontsize = 16, weight = 'bold')\n",
    "plt.xlabel('Average Reading Score (8th Graders)')\n",
    "plt.ylabel('Count');"
   ]
  },
  {
   "cell_type": "markdown",
   "metadata": {},
   "source": [
    "From the plots above, it results evident that the values for \"Average Math Scores\" and \"Average Reading Scores\" for both 4th Graders and 8th Graders are not normally distributed and are consistently left skewed resulting in values for the mean lower than the median"
   ]
  },
  {
   "cell_type": "markdown",
   "metadata": {},
   "source": [
    "**5. Notice that there are too many missing values for math and reading scores. Fill out the missing values using mean, median and linear interpolation. Then compare the effects of these techniques on the distributions of the score variables**"
   ]
  },
  {
   "cell_type": "markdown",
   "metadata": {},
   "source": [
    "This question does not apply to the dataset at hand. During the cleaning of the dataset described in a section above, all missing values in the corresponding variables were succesfully replaced using a state-by-state interpolation approach, and any remaining record missing values in any variable were removed from the dataset. Therefore, the working dataset does not report any missing value for the variables in question"
   ]
  },
  {
   "cell_type": "code",
   "execution_count": 128,
   "metadata": {},
   "outputs": [
    {
     "name": "stdout",
     "output_type": "stream",
     "text": [
      "<class 'pandas.core.frame.DataFrame'>\n",
      "Int64Index: 1046 entries, 54 to 1491\n",
      "Data columns (total 24 columns):\n",
      "STATE                           1046 non-null object\n",
      "YEAR                            1046 non-null int64\n",
      "ENROLL                          1046 non-null float64\n",
      "TOTAL_REVENUE                   1046 non-null float64\n",
      "FEDERAL_REVENUE                 1046 non-null float64\n",
      "STATE_REVENUE                   1046 non-null float64\n",
      "LOCAL_REVENUE                   1046 non-null float64\n",
      "TOTAL_EXPENDITURE               1046 non-null float64\n",
      "INSTRUCTION_EXPENDITURE         1046 non-null float64\n",
      "SUPPORT_SERVICES_EXPENDITURE    1046 non-null float64\n",
      "OTHER_EXPENDITURE               1046 non-null float64\n",
      "CAPITAL_OUTLAY_EXPENDITURE      1046 non-null float64\n",
      "GRADES_PK_G                     1046 non-null float64\n",
      "GRADES_KG_G                     1046 non-null float64\n",
      "GRADES_4_G                      1046 non-null float64\n",
      "GRADES_8_G                      1046 non-null float64\n",
      "GRADES_12_G                     1046 non-null float64\n",
      "GRADES_1_8_G                    1046 non-null float64\n",
      "GRADES_9_12_G                   1046 non-null float64\n",
      "GRADES_ALL_G                    1046 non-null float64\n",
      "AVG_MATH_4_SCORE                1046 non-null float64\n",
      "AVG_MATH_8_SCORE                1046 non-null float64\n",
      "AVG_READING_4_SCORE             1046 non-null float64\n",
      "AVG_READING_8_SCORE             1046 non-null float64\n",
      "dtypes: float64(22), int64(1), object(1)\n",
      "memory usage: 244.3+ KB\n"
     ]
    }
   ],
   "source": [
    "edu_df_cleaned.info()"
   ]
  }
 ],
 "metadata": {
  "kernelspec": {
   "display_name": "Python 3",
   "language": "python",
   "name": "python3"
  },
  "language_info": {
   "codemirror_mode": {
    "name": "ipython",
    "version": 3
   },
   "file_extension": ".py",
   "mimetype": "text/x-python",
   "name": "python",
   "nbconvert_exporter": "python",
   "pygments_lexer": "ipython3",
   "version": "3.6.8"
  }
 },
 "nbformat": 4,
 "nbformat_minor": 2
}
