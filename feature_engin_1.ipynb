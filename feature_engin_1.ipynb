{
 "cells": [
  {
   "cell_type": "markdown",
   "metadata": {},
   "source": [
    "# Feature Engineering 1\n",
    "\n",
    "## <br>By Jean-Philippe Pitteloud</br>"
   ]
  },
  {
   "cell_type": "markdown",
   "metadata": {},
   "source": [
    "### Requirements"
   ]
  },
  {
   "cell_type": "code",
   "execution_count": 1,
   "metadata": {},
   "outputs": [],
   "source": [
    "import numpy as np\n",
    "import pandas as pd\n",
    "from sqlalchemy import create_engine\n",
    "import warnings\n",
    "import seaborn as sns\n",
    "import matplotlib.pyplot as plt\n",
    "from scipy.stats.stats import ttest_ind\n",
    "from scipy.stats import boxcox\n",
    "from scipy.stats import jarque_bera\n",
    "from scipy.stats import normaltest\n",
    "from scipy.stats.mstats import winsorize\n",
    "%matplotlib inline\n",
    "\n",
    "warnings.filterwarnings('ignore')"
   ]
  },
  {
   "cell_type": "markdown",
   "metadata": {},
   "source": [
    "### Data Gathering"
   ]
  },
  {
   "cell_type": "code",
   "execution_count": 2,
   "metadata": {
    "scrolled": true
   },
   "outputs": [],
   "source": [
    "postgres_user = 'dsbc_student'\n",
    "postgres_pw = '7*.8G9QH21'\n",
    "postgres_host = '142.93.121.174'\n",
    "postgres_port = '5432'\n",
    "postgres_db = 'studentsperformance'\n",
    "\n",
    "engine = create_engine('postgresql://{}:{}@{}:{}/{}'.format(\n",
    "    postgres_user, postgres_pw, postgres_host, postgres_port, postgres_db))\n",
    "\n",
    "students_df = pd.read_sql_query('select * from studentsperformance',con=engine)\n",
    "\n",
    "# no need for an open connection, \n",
    "# as we're only doing \n",
    "engine.dispose()"
   ]
  },
  {
   "cell_type": "code",
   "execution_count": 3,
   "metadata": {
    "scrolled": true
   },
   "outputs": [
    {
     "data": {
      "text/html": [
       "<div>\n",
       "<style scoped>\n",
       "    .dataframe tbody tr th:only-of-type {\n",
       "        vertical-align: middle;\n",
       "    }\n",
       "\n",
       "    .dataframe tbody tr th {\n",
       "        vertical-align: top;\n",
       "    }\n",
       "\n",
       "    .dataframe thead th {\n",
       "        text-align: right;\n",
       "    }\n",
       "</style>\n",
       "<table border=\"1\" class=\"dataframe\">\n",
       "  <thead>\n",
       "    <tr style=\"text-align: right;\">\n",
       "      <th></th>\n",
       "      <th>gender</th>\n",
       "      <th>race/ethnicity</th>\n",
       "      <th>parental level of education</th>\n",
       "      <th>lunch</th>\n",
       "      <th>test preparation course</th>\n",
       "      <th>math score</th>\n",
       "      <th>reading score</th>\n",
       "      <th>writing score</th>\n",
       "    </tr>\n",
       "  </thead>\n",
       "  <tbody>\n",
       "    <tr>\n",
       "      <th>0</th>\n",
       "      <td>female</td>\n",
       "      <td>group B</td>\n",
       "      <td>bachelor's degree</td>\n",
       "      <td>standard</td>\n",
       "      <td>none</td>\n",
       "      <td>72</td>\n",
       "      <td>72</td>\n",
       "      <td>74</td>\n",
       "    </tr>\n",
       "    <tr>\n",
       "      <th>1</th>\n",
       "      <td>female</td>\n",
       "      <td>group C</td>\n",
       "      <td>some college</td>\n",
       "      <td>standard</td>\n",
       "      <td>completed</td>\n",
       "      <td>69</td>\n",
       "      <td>90</td>\n",
       "      <td>88</td>\n",
       "    </tr>\n",
       "    <tr>\n",
       "      <th>2</th>\n",
       "      <td>female</td>\n",
       "      <td>group B</td>\n",
       "      <td>master's degree</td>\n",
       "      <td>standard</td>\n",
       "      <td>none</td>\n",
       "      <td>90</td>\n",
       "      <td>95</td>\n",
       "      <td>93</td>\n",
       "    </tr>\n",
       "    <tr>\n",
       "      <th>3</th>\n",
       "      <td>male</td>\n",
       "      <td>group A</td>\n",
       "      <td>associate's degree</td>\n",
       "      <td>free/reduced</td>\n",
       "      <td>none</td>\n",
       "      <td>47</td>\n",
       "      <td>57</td>\n",
       "      <td>44</td>\n",
       "    </tr>\n",
       "    <tr>\n",
       "      <th>4</th>\n",
       "      <td>male</td>\n",
       "      <td>group C</td>\n",
       "      <td>some college</td>\n",
       "      <td>standard</td>\n",
       "      <td>none</td>\n",
       "      <td>76</td>\n",
       "      <td>78</td>\n",
       "      <td>75</td>\n",
       "    </tr>\n",
       "  </tbody>\n",
       "</table>\n",
       "</div>"
      ],
      "text/plain": [
       "   gender race/ethnicity parental level of education         lunch  \\\n",
       "0  female        group B           bachelor's degree      standard   \n",
       "1  female        group C                some college      standard   \n",
       "2  female        group B             master's degree      standard   \n",
       "3    male        group A          associate's degree  free/reduced   \n",
       "4    male        group C                some college      standard   \n",
       "\n",
       "  test preparation course  math score  reading score  writing score  \n",
       "0                    none          72             72             74  \n",
       "1               completed          69             90             88  \n",
       "2                    none          90             95             93  \n",
       "3                    none          47             57             44  \n",
       "4                    none          76             78             75  "
      ]
     },
     "execution_count": 3,
     "metadata": {},
     "output_type": "execute_result"
    }
   ],
   "source": [
    "students_df.head()"
   ]
  },
  {
   "cell_type": "code",
   "execution_count": 4,
   "metadata": {},
   "outputs": [
    {
     "name": "stdout",
     "output_type": "stream",
     "text": [
      "<class 'pandas.core.frame.DataFrame'>\n",
      "RangeIndex: 1000 entries, 0 to 999\n",
      "Data columns (total 8 columns):\n",
      "gender                         1000 non-null object\n",
      "race/ethnicity                 1000 non-null object\n",
      "parental level of education    1000 non-null object\n",
      "lunch                          1000 non-null object\n",
      "test preparation course        1000 non-null object\n",
      "math score                     1000 non-null int64\n",
      "reading score                  1000 non-null int64\n",
      "writing score                  1000 non-null int64\n",
      "dtypes: int64(3), object(5)\n",
      "memory usage: 62.6+ KB\n"
     ]
    }
   ],
   "source": [
    "students_df.info()"
   ]
  },
  {
   "cell_type": "markdown",
   "metadata": {},
   "source": [
    "**1. Are the exam score variables distributed normally? If not, apply Box-Cox transformation. Does anything change?**"
   ]
  },
  {
   "cell_type": "code",
   "execution_count": 5,
   "metadata": {
    "scrolled": false
   },
   "outputs": [
    {
     "data": {
      "image/png": "[encoded data removed]",
      "text/plain": [
       "<Figure size 1440x360 with 3 Axes>"
      ]
     },
     "metadata": {
      "needs_background": "light"
     },
     "output_type": "display_data"
    }
   ],
   "source": [
    "plt.figure(figsize = [20, 5])\n",
    "\n",
    "plt.subplot(1, 3, 1)\n",
    "plt.hist(students_df[\"math score\"])\n",
    "plt.title(\"Histogram of Math Score\")\n",
    "\n",
    "plt.subplot(1, 3, 2)\n",
    "plt.hist(students_df[\"reading score\"])\n",
    "plt.title(\"Histogram of Reading Score\")\n",
    "\n",
    "plt.subplot(1, 3, 3)\n",
    "plt.hist(students_df[\"writing score\"])\n",
    "plt.title(\"Histogram of Writing Score\");"
   ]
  },
  {
   "cell_type": "markdown",
   "metadata": {},
   "source": [
    "As it can be seen in the plots above, the histograms for the three selected variables reflect distribution of values that are not normal and are left skewed. The calculated statistics displayed below confirmed the lack of normality in the variables"
   ]
  },
  {
   "cell_type": "code",
   "execution_count": 6,
   "metadata": {
    "scrolled": true
   },
   "outputs": [
    {
     "name": "stdout",
     "output_type": "stream",
     "text": [
      "Math Score:\n",
      "Jarque-Bera test statistics is 15.912256686712709 and p value is 0.0003505075386818213\n",
      "Normality test statistics is 15.408960513931822 and p value is 0.00045080293869937836\n",
      "\n",
      "\n",
      "Reading Score:\n",
      "Jarque-Bera test statistics is 11.383300575987892 and p value is 0.0033740202672214448\n",
      "Normality test statistics is 11.11741279628622 and p value is 0.003853758403576582\n",
      "\n",
      "\n",
      "Writing Score:\n",
      "Jarque-Bera test statistics is 13.98509448257235 and p value is 0.0009187033894586527\n",
      "Normality test statistics is 13.606450837263859 and p value is 0.0011101885439899974\n"
     ]
    }
   ],
   "source": [
    "jb_math = jarque_bera(students_df[\"math score\"])\n",
    "norm_math = normaltest(students_df[\"math score\"])\n",
    "\n",
    "jb_read = jarque_bera(students_df[\"reading score\"])\n",
    "norm_read = normaltest(students_df[\"reading score\"])\n",
    "\n",
    "jb_write = jarque_bera(students_df[\"writing score\"])\n",
    "norm_write = normaltest(students_df[\"writing score\"])\n",
    "\n",
    "print(\"Math Score:\")\n",
    "print(\"Jarque-Bera test statistics is {0} and p value is {1}\".format(jb_math[0], jb_math[1]))\n",
    "print(\"Normality test statistics is {0} and p value is {1}\".format(norm_math[0], norm_math[1]))\n",
    "print(\"\\n\")\n",
    "\n",
    "print(\"Reading Score:\")\n",
    "print(\"Jarque-Bera test statistics is {0} and p value is {1}\".format(jb_read[0], jb_read[1]))\n",
    "print(\"Normality test statistics is {0} and p value is {1}\".format(norm_read[0], norm_read[1]))\n",
    "print(\"\\n\")\n",
    "\n",
    "print('Writing Score:')\n",
    "print(\"Jarque-Bera test statistics is {0} and p value is {1}\".format(jb_write[0], jb_write[1]))\n",
    "print(\"Normality test statistics is {0} and p value is {1}\".format(norm_write[0], norm_write[1]))"
   ]
  },
  {
   "cell_type": "markdown",
   "metadata": {},
   "source": [
    "Before transforming the data to make it more normally distributed, a look into the summary statistics was necessary. While applying the Box-Cox transformation will have not present any issue for the variables 'reading score' and 'writing score', the '0' (zero) value in the variable 'math score' will prevent the transformation from occurring"
   ]
  },
  {
   "cell_type": "code",
   "execution_count": 7,
   "metadata": {
    "scrolled": true
   },
   "outputs": [
    {
     "data": {
      "text/html": [
       "<div>\n",
       "<style scoped>\n",
       "    .dataframe tbody tr th:only-of-type {\n",
       "        vertical-align: middle;\n",
       "    }\n",
       "\n",
       "    .dataframe tbody tr th {\n",
       "        vertical-align: top;\n",
       "    }\n",
       "\n",
       "    .dataframe thead th {\n",
       "        text-align: right;\n",
       "    }\n",
       "</style>\n",
       "<table border=\"1\" class=\"dataframe\">\n",
       "  <thead>\n",
       "    <tr style=\"text-align: right;\">\n",
       "      <th></th>\n",
       "      <th>math score</th>\n",
       "      <th>reading score</th>\n",
       "      <th>writing score</th>\n",
       "    </tr>\n",
       "  </thead>\n",
       "  <tbody>\n",
       "    <tr>\n",
       "      <th>count</th>\n",
       "      <td>1000.00000</td>\n",
       "      <td>1000.000000</td>\n",
       "      <td>1000.000000</td>\n",
       "    </tr>\n",
       "    <tr>\n",
       "      <th>mean</th>\n",
       "      <td>66.08900</td>\n",
       "      <td>69.169000</td>\n",
       "      <td>68.054000</td>\n",
       "    </tr>\n",
       "    <tr>\n",
       "      <th>std</th>\n",
       "      <td>15.16308</td>\n",
       "      <td>14.600192</td>\n",
       "      <td>15.195657</td>\n",
       "    </tr>\n",
       "    <tr>\n",
       "      <th>min</th>\n",
       "      <td>0.00000</td>\n",
       "      <td>17.000000</td>\n",
       "      <td>10.000000</td>\n",
       "    </tr>\n",
       "    <tr>\n",
       "      <th>25%</th>\n",
       "      <td>57.00000</td>\n",
       "      <td>59.000000</td>\n",
       "      <td>57.750000</td>\n",
       "    </tr>\n",
       "    <tr>\n",
       "      <th>50%</th>\n",
       "      <td>66.00000</td>\n",
       "      <td>70.000000</td>\n",
       "      <td>69.000000</td>\n",
       "    </tr>\n",
       "    <tr>\n",
       "      <th>75%</th>\n",
       "      <td>77.00000</td>\n",
       "      <td>79.000000</td>\n",
       "      <td>79.000000</td>\n",
       "    </tr>\n",
       "    <tr>\n",
       "      <th>max</th>\n",
       "      <td>100.00000</td>\n",
       "      <td>100.000000</td>\n",
       "      <td>100.000000</td>\n",
       "    </tr>\n",
       "  </tbody>\n",
       "</table>\n",
       "</div>"
      ],
      "text/plain": [
       "       math score  reading score  writing score\n",
       "count  1000.00000    1000.000000    1000.000000\n",
       "mean     66.08900      69.169000      68.054000\n",
       "std      15.16308      14.600192      15.195657\n",
       "min       0.00000      17.000000      10.000000\n",
       "25%      57.00000      59.000000      57.750000\n",
       "50%      66.00000      70.000000      69.000000\n",
       "75%      77.00000      79.000000      79.000000\n",
       "max     100.00000     100.000000     100.000000"
      ]
     },
     "execution_count": 7,
     "metadata": {},
     "output_type": "execute_result"
    }
   ],
   "source": [
    "students_df.describe()"
   ]
  },
  {
   "cell_type": "markdown",
   "metadata": {},
   "source": [
    "To address this issue, the transformation of the 'math score' variable values was perfomed including value higher than '0' (zero)"
   ]
  },
  {
   "cell_type": "code",
   "execution_count": 8,
   "metadata": {},
   "outputs": [],
   "source": [
    "math_boxcox,_ = boxcox(students_df[students_df[\"math score\"] > 0][\"math score\"])\n",
    "reading_boxcox,_ = boxcox(students_df[\"reading score\"])\n",
    "writing_boxcox,_ = boxcox(students_df[\"writing score\"])"
   ]
  },
  {
   "cell_type": "code",
   "execution_count": 9,
   "metadata": {
    "scrolled": true
   },
   "outputs": [
    {
     "data": {
      "image/png": "[encoded data removed]",
      "text/plain": [
       "<Figure size 1440x360 with 3 Axes>"
      ]
     },
     "metadata": {
      "needs_background": "light"
     },
     "output_type": "display_data"
    }
   ],
   "source": [
    "plt.figure(figsize = [20, 5])\n",
    "\n",
    "plt.subplot(1, 3, 1)\n",
    "plt.hist(math_boxcox)\n",
    "plt.title(\"Histogram of Box-Cox Transformed Math Score\")\n",
    "\n",
    "plt.subplot(1, 3, 2)\n",
    "plt.hist(reading_boxcox)\n",
    "plt.title(\"Histogram of Box-Cox Transformed Reading Score\")\n",
    "\n",
    "plt.subplot(1, 3, 3)\n",
    "plt.hist(writing_boxcox)\n",
    "plt.title(\"Histogram of Box-Cox Transformed Writing Score\");"
   ]
  },
  {
   "cell_type": "markdown",
   "metadata": {},
   "source": [
    "As it can be seen in the series of plots presented above, the values in the variables selected looks more symmetrically distributed around the mean. Confirmation of the success of the applied transformation was obtain from the Jarque-Bera and Normal test, and the results are presented below. All three transformed variables may be considered normal with a 5% level of confidence"
   ]
  },
  {
   "cell_type": "code",
   "execution_count": 10,
   "metadata": {},
   "outputs": [
    {
     "name": "stdout",
     "output_type": "stream",
     "text": [
      "Math Score:\n",
      "Jarque-Bera test statistics is 1.720098104874378 and p value is 0.4231413256953709\n",
      "Normality test statistics is 1.8323073377495822 and p value is 0.40005482895717037\n",
      "\n",
      "\n",
      "Reading Score:\n",
      "Jarque-Bera test statistics is 4.119778575331906 and p value is 0.1274680814024559\n",
      "Normality test statistics is 5.282274611852865 and p value is 0.07128015609575467\n",
      "\n",
      "\n",
      "Writing Score:\n",
      "Jarque-Bera test statistics is 4.746478090040098 and p value is 0.09317842784055597\n",
      "Normality test statistics is 6.267311355043339 and p value is 0.04355827085023795\n"
     ]
    }
   ],
   "source": [
    "jb_box_math = jarque_bera(math_boxcox)\n",
    "norm_box_math = normaltest(math_boxcox)\n",
    "\n",
    "jb_box_read = jarque_bera(reading_boxcox)\n",
    "norm_box_read = normaltest(reading_boxcox)\n",
    "\n",
    "jb_box_write = jarque_bera(writing_boxcox)\n",
    "norm_box_write = normaltest(writing_boxcox)\n",
    "\n",
    "print(\"Math Score:\")\n",
    "print(\"Jarque-Bera test statistics is {0} and p value is {1}\".format(jb_box_math[0], jb_box_math[1]))\n",
    "print(\"Normality test statistics is {0} and p value is {1}\".format(norm_box_math[0], norm_box_math[1]))\n",
    "print(\"\\n\")\n",
    "\n",
    "print(\"Reading Score:\")\n",
    "print(\"Jarque-Bera test statistics is {0} and p value is {1}\".format(jb_box_read[0], jb_box_read[1]))\n",
    "print(\"Normality test statistics is {0} and p value is {1}\".format(norm_box_read[0], norm_box_read[1]))\n",
    "print(\"\\n\")\n",
    "\n",
    "print('Writing Score:')\n",
    "print(\"Jarque-Bera test statistics is {0} and p value is {1}\".format(jb_box_write[0], jb_box_write[1]))\n",
    "print(\"Normality test statistics is {0} and p value is {1}\".format(norm_box_write[0], norm_box_write[1]))"
   ]
  },
  {
   "cell_type": "markdown",
   "metadata": {},
   "source": [
    "**2. Say, we want to use a single variable for the exam scores as our target. For this purpose, create a new variable by taking a weighted average of the exam scores. Check whether this new variable is normally distributed or not. If it's not normally distributed, apply Box-Cox transformation and check whether the transformed variable is normally distributed**"
   ]
  },
  {
   "cell_type": "code",
   "execution_count": 11,
   "metadata": {},
   "outputs": [],
   "source": [
    "avg_score = (students_df[\"math score\"] + students_df[\"reading score\"] + students_df[\"writing score\"])/3"
   ]
  },
  {
   "cell_type": "code",
   "execution_count": 12,
   "metadata": {},
   "outputs": [
    {
     "data": {
      "image/png": "[encoded data removed]",
      "text/plain": [
       "<Figure size 432x288 with 1 Axes>"
      ]
     },
     "metadata": {
      "needs_background": "light"
     },
     "output_type": "display_data"
    }
   ],
   "source": [
    "plt.hist(avg_score)\n",
    "plt.title(\"Histogram of the Average Exam Score\");"
   ]
  },
  {
   "cell_type": "code",
   "execution_count": 13,
   "metadata": {
    "scrolled": true
   },
   "outputs": [
    {
     "name": "stdout",
     "output_type": "stream",
     "text": [
      "Jarque-Bera test statistics is 15.453387913085168 and p value is 0.00044089934264401887\n",
      "Normality test statistics is 15.186721327231322 and p value is 0.0005037851534494478\n"
     ]
    }
   ],
   "source": [
    "jb_avg_score = jarque_bera(avg_score)\n",
    "norm_avg_score = normaltest(avg_score)\n",
    "\n",
    "print(\"Jarque-Bera test statistics is {0} and p value is {1}\".format(jb_avg_score[0], jb_avg_score[1]))\n",
    "print(\"Normality test statistics is {0} and p value is {1}\".format(norm_avg_score[0], norm_avg_score[1]))"
   ]
  },
  {
   "cell_type": "code",
   "execution_count": 14,
   "metadata": {},
   "outputs": [],
   "source": [
    "avg_score_boxcox,_ = boxcox(avg_score)"
   ]
  },
  {
   "cell_type": "code",
   "execution_count": 15,
   "metadata": {
    "scrolled": true
   },
   "outputs": [
    {
     "data": {
      "image/png": "[encoded data removed]",
      "text/plain": [
       "<Figure size 432x288 with 1 Axes>"
      ]
     },
     "metadata": {
      "needs_background": "light"
     },
     "output_type": "display_data"
    }
   ],
   "source": [
    "plt.hist(avg_score_boxcox)\n",
    "plt.title(\"Histogram of the Box-Cox Transformed Average Exam Score\");"
   ]
  },
  {
   "cell_type": "code",
   "execution_count": 16,
   "metadata": {},
   "outputs": [
    {
     "name": "stdout",
     "output_type": "stream",
     "text": [
      "Jarque-Bera test statistics is 2.4353987431906026 and p value is 0.29591016374203183\n",
      "Normality test statistics is 2.779857245981238 and p value is 0.2490930835165177\n"
     ]
    }
   ],
   "source": [
    "jb_avg_score_boxcox = jarque_bera(avg_score_boxcox)\n",
    "norm_avg_score_boxcox = normaltest(avg_score_boxcox)\n",
    "\n",
    "print(\"Jarque-Bera test statistics is {0} and p value is {1}\".format(jb_avg_score_boxcox[0], jb_avg_score_boxcox[1]))\n",
    "print(\"Normality test statistics is {0} and p value is {1}\".format(norm_avg_score_boxcox[0], norm_avg_score_boxcox[1]))"
   ]
  },
  {
   "cell_type": "markdown",
   "metadata": {},
   "source": [
    "**3. Which variables do seem to be related with the target variable (the newly created variable in the previous question)? If our goal is to explain the determinants of the success in the exams, which variables in our dataset might be useful?**"
   ]
  },
  {
   "cell_type": "code",
   "execution_count": 17,
   "metadata": {},
   "outputs": [],
   "source": [
    "students_df['avg_score'] = avg_score"
   ]
  },
  {
   "cell_type": "code",
   "execution_count": 18,
   "metadata": {},
   "outputs": [
    {
     "data": {
      "text/plain": [
       "some college          226\n",
       "associate's degree    222\n",
       "high school           196\n",
       "some high school      179\n",
       "bachelor's degree     118\n",
       "master's degree        59\n",
       "Name: parental level of education, dtype: int64"
      ]
     },
     "execution_count": 18,
     "metadata": {},
     "output_type": "execute_result"
    }
   ],
   "source": [
    "students_df['parental level of education'].value_counts()"
   ]
  },
  {
   "cell_type": "code",
   "execution_count": 19,
   "metadata": {},
   "outputs": [
    {
     "data": {
      "image/png": "[encoded data removed]",
      "text/plain": [
       "<Figure size 1296x1152 with 5 Axes>"
      ]
     },
     "metadata": {
      "needs_background": "light"
     },
     "output_type": "display_data"
    }
   ],
   "source": [
    "plt.figure(figsize = [18, 16])\n",
    "plt.subplots_adjust(hspace = 0.55)\n",
    "base_color = sns.color_palette()[0]\n",
    "\n",
    "plt.subplot(3, 2, 1)\n",
    "sns.barplot(data = students_df, x = \"race/ethnicity\", y = \"avg_score\", color = base_color, order = ['group A', 'group B', 'group C', 'group D', 'group E'])\n",
    "plt.title(\"Average Exam Scores by Race/Ethnicity\")\n",
    "plt.xlabel(\"Race/Ethnicity\")\n",
    "plt.ylabel(\"Average Exam Scores\")\n",
    "plt.xticks(rotation = 25)\n",
    "\n",
    "plt.subplot(3, 2, 2)\n",
    "sns.barplot(data = students_df, x = \"gender\", y = \"avg_score\", color = base_color, order = ['male', 'female'])\n",
    "plt.title(\"Average Exam Scores by Gender\")\n",
    "plt.xlabel(\"Gender\")\n",
    "plt.ylabel(\"Average Exam Scores\")\n",
    "plt.xticks(rotation = 25)\n",
    "\n",
    "plt.subplot(3, 2, 3)\n",
    "sns.barplot(data = students_df, x = \"parental level of education\", y = \"avg_score\", color = base_color, order = ['some high school', 'high school', 'some college', 'associate\\'s degree', 'bachelor\\'s degree', 'master\\'s degree'])\n",
    "plt.title(\"Average Exam Scores by Parental Level of Education\")\n",
    "plt.xlabel(\"Parental Level of Education\")\n",
    "plt.ylabel(\"Average Exam Scores\")\n",
    "plt.xticks(rotation = 25)\n",
    "\n",
    "plt.subplot(3, 2, 4)\n",
    "sns.barplot(data = students_df, x = \"lunch\", y = \"avg_score\", color = base_color, order = ['free/reduced', 'standard'])\n",
    "plt.title(\"Average Exam Scores by Lunch\")\n",
    "plt.xlabel(\"Lunch\")\n",
    "plt.ylabel(\"Average Exam Scores\")\n",
    "plt.xticks(rotation = 25)\n",
    "\n",
    "plt.subplot(3, 2, 5)\n",
    "sns.barplot(data = students_df, x = \"test preparation course\", y = \"avg_score\", color = base_color)\n",
    "plt.title(\"Average Exam Scores by Test Preparation Course\")\n",
    "plt.xlabel(\"Test Preparation Course\")\n",
    "plt.ylabel(\"Average Exam Scores\")\n",
    "plt.xticks(rotation = 25);"
   ]
  },
  {
   "cell_type": "markdown",
   "metadata": {},
   "source": [
    "From the bivariate plots above, several conclusions can be drawn:\n",
    "\n",
    "- The average score increases from group A to group E\n",
    "- In terms of gender, female students tend to have higher average scores than the males\n",
    "- There seems to be an important effect of the parental education level in the average scores\n",
    "- The type of lunch also seems to have an impact in the average scores, however, this variable might be dependent on other variables with more clear and direct effects on the target variable\n",
    "- On average, the students that completed the Preparation Course receive higher average scores than the students that did not complete it"
   ]
  }
 ],
 "metadata": {
  "kernelspec": {
   "display_name": "Python 3",
   "language": "python",
   "name": "python3"
  },
  "language_info": {
   "codemirror_mode": {
    "name": "ipython",
    "version": 3
   },
   "file_extension": ".py",
   "mimetype": "text/x-python",
   "name": "python",
   "nbconvert_exporter": "python",
   "pygments_lexer": "ipython3",
   "version": "3.6.8"
  }
 },
 "nbformat": 4,
 "nbformat_minor": 2
}
