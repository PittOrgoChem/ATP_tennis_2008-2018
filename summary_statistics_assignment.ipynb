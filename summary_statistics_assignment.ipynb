{
 "cells": [
  {
   "cell_type": "markdown",
   "metadata": {},
   "source": [
    "## Assignments\n",
    "\n",
    "Now that we have introduced some tools for describing populations, let's try them out. First do these drills by hand, then use the Python code we've provided in the previous assignments to check your work. Keep track of your work in a Google document or markdown file that you can submit below and share with your mentor.\n",
    "\n",
    " 1. Greg was 14, Marcia was 12, Peter was 11, Jan was 10, Bobby was 8, and Cindy was 6 when they started playing the Brady kids on The Brady Bunch.  Cousin Oliver was 8 years old when he joined the show. What are the mean, median, and mode of the kids' ages when they first appeared on the show? What are the variance, standard deviation, and standard error?\n",
    " 2. Using these estimates, if you had to choose only one estimate of central tendency and one estimate of variance to describe the data, which would you pick and why?\n",
    " 3. Next, Cindy has a birthday. Update your estimates- what changed, and what didn't?\n",
    " 4. Nobody likes Cousin Oliver. Maybe the network should have used an even younger actor. Replace Cousin Oliver with 1-year-old Jessica, then recalculate again.  Does this change your choice of central tendency or variance estimation methods?\n",
    " 5. On the 50th anniversary of The Brady Bunch, four different magazines asked their readers whether they were fans of the show.  The answers were:\n",
    "    TV Guide            20% fans\n",
    "    Entertainment Weekly    23% fans\n",
    "    Pop Culture Today       17% fans\n",
    "    SciPhi Phanatic     5% fans\n",
    "\n",
    " Based on these numbers, what percentage of adult Americans would you estimate were Brady Bunch fans on the 50th anniversary of the show?\n",
    "\n",
    "Discuss your answer to each of these questions, along with your code, with your mentor.\n",
    "\n",
    "When you've given it a try, you can find a solution [here](https://github.com/Thinkful-Ed/data-201-resources/blob/master/solutions/Prep%20course/3.1.4.ipynb)."
   ]
  },
  {
   "cell_type": "markdown",
   "metadata": {},
   "source": [
    " **1.** To begin, I created a little dictionary of the data and later used it to create a dataframe"
   ]
  },
  {
   "cell_type": "code",
   "execution_count": 26,
   "metadata": {},
   "outputs": [],
   "source": [
    "brady_bunch = {'name': ['Greg', 'Marcia', 'Peter', 'Jan', 'Bobby', 'Cindy', 'Cousin Oliver'],\n",
    "              'age': [14, 12, 11, 10, 8, 6, 8]}"
   ]
  },
  {
   "cell_type": "code",
   "execution_count": 27,
   "metadata": {
    "scrolled": true
   },
   "outputs": [
    {
     "data": {
      "text/html": [
       "<div>\n",
       "<style scoped>\n",
       "    .dataframe tbody tr th:only-of-type {\n",
       "        vertical-align: middle;\n",
       "    }\n",
       "\n",
       "    .dataframe tbody tr th {\n",
       "        vertical-align: top;\n",
       "    }\n",
       "\n",
       "    .dataframe thead th {\n",
       "        text-align: right;\n",
       "    }\n",
       "</style>\n",
       "<table border=\"1\" class=\"dataframe\">\n",
       "  <thead>\n",
       "    <tr style=\"text-align: right;\">\n",
       "      <th></th>\n",
       "      <th>name</th>\n",
       "      <th>age</th>\n",
       "    </tr>\n",
       "  </thead>\n",
       "  <tbody>\n",
       "    <tr>\n",
       "      <th>0</th>\n",
       "      <td>Greg</td>\n",
       "      <td>14</td>\n",
       "    </tr>\n",
       "    <tr>\n",
       "      <th>1</th>\n",
       "      <td>Marcia</td>\n",
       "      <td>12</td>\n",
       "    </tr>\n",
       "    <tr>\n",
       "      <th>2</th>\n",
       "      <td>Peter</td>\n",
       "      <td>11</td>\n",
       "    </tr>\n",
       "    <tr>\n",
       "      <th>3</th>\n",
       "      <td>Jan</td>\n",
       "      <td>10</td>\n",
       "    </tr>\n",
       "    <tr>\n",
       "      <th>4</th>\n",
       "      <td>Bobby</td>\n",
       "      <td>8</td>\n",
       "    </tr>\n",
       "    <tr>\n",
       "      <th>5</th>\n",
       "      <td>Cindy</td>\n",
       "      <td>6</td>\n",
       "    </tr>\n",
       "    <tr>\n",
       "      <th>6</th>\n",
       "      <td>Cousin Oliver</td>\n",
       "      <td>8</td>\n",
       "    </tr>\n",
       "  </tbody>\n",
       "</table>\n",
       "</div>"
      ],
      "text/plain": [
       "            name  age\n",
       "0           Greg   14\n",
       "1         Marcia   12\n",
       "2          Peter   11\n",
       "3            Jan   10\n",
       "4          Bobby    8\n",
       "5          Cindy    6\n",
       "6  Cousin Oliver    8"
      ]
     },
     "execution_count": 27,
     "metadata": {},
     "output_type": "execute_result"
    }
   ],
   "source": [
    "df_brady = pd.DataFrame.from_dict(brady_bunch)\n",
    "df_brady"
   ]
  },
  {
   "cell_type": "markdown",
   "metadata": {},
   "source": [
    "In order to perform the calculation of the summary statistics, the function \"summ_stats\" was defined and used on the 'age' column of the dataframe. From the list above, we can see that the **mode** is 8"
   ]
  },
  {
   "cell_type": "code",
   "execution_count": 28,
   "metadata": {},
   "outputs": [],
   "source": [
    "def summ_stats(series):\n",
    "    print('mean:', np.mean(series))\n",
    "    print('median:', np.median(series))\n",
    "    print('variance:', np.var(series))\n",
    "    print('std:', np.std(series))\n",
    "    print('se:', np.std(series) / np.sqrt(len(series)))\n",
    "    print(series.value_counts())"
   ]
  },
  {
   "cell_type": "code",
   "execution_count": 29,
   "metadata": {
    "scrolled": true
   },
   "outputs": [
    {
     "name": "stdout",
     "output_type": "stream",
     "text": [
      "mean: 9.857142857142858\n",
      "median: 10.0\n",
      "variance: 6.408163265306122\n",
      "std: 2.531435020952764\n",
      "se: 0.9567925036515135\n",
      "8     2\n",
      "6     1\n",
      "14    1\n",
      "12    1\n",
      "11    1\n",
      "10    1\n",
      "Name: age, dtype: int64\n"
     ]
    }
   ],
   "source": [
    "summ_stats(df_brady['age'])"
   ]
  },
  {
   "cell_type": "markdown",
   "metadata": {},
   "source": [
    "**2.** With the original data, I will pick the mean and the standard deviation as the best estimates to descibe central tendency and variance in the data"
   ]
  },
  {
   "cell_type": "markdown",
   "metadata": {},
   "source": [
    "**3.** After modifying the age of Cindy in the original data, the summary statistics were calculated for the new dataset. As we see, the new mean is now exactly the same as the median, while the standard deviation became even smaller. So, selecting these two statistics again seems reasonable"
   ]
  },
  {
   "cell_type": "code",
   "execution_count": 30,
   "metadata": {},
   "outputs": [],
   "source": [
    "df_brady2 = df_brady.copy()\n",
    "df_brady2.at[5, 'age'] = 7"
   ]
  },
  {
   "cell_type": "code",
   "execution_count": 31,
   "metadata": {
    "scrolled": true
   },
   "outputs": [
    {
     "name": "stdout",
     "output_type": "stream",
     "text": [
      "mean: 10.0\n",
      "median: 10.0\n",
      "variance: 5.428571428571429\n",
      "std: 2.32992949004287\n",
      "se: 0.8806305718527109\n",
      "8     2\n",
      "7     1\n",
      "14    1\n",
      "12    1\n",
      "11    1\n",
      "10    1\n",
      "Name: age, dtype: int64\n"
     ]
    }
   ],
   "source": [
    "summ_stats(df_brady2['age'])"
   ]
  },
  {
   "cell_type": "markdown",
   "metadata": {},
   "source": [
    "**4.** After substituting 'Cousin Oliver' for 'Jessica' and the corresponding ages, the new dataset was analyzed using the custom function. As we see below, the mean and median are now very different becuase of the very low 'age' of 'Jessica'. This low value (1) can be considered an outlier, so reporting the **median** as an estimate of central tendency is the best choice. The standar deviation may still be useful as estimate of variance"
   ]
  },
  {
   "cell_type": "code",
   "execution_count": 32,
   "metadata": {},
   "outputs": [],
   "source": [
    "df_brady3 = df_brady2.copy()\n",
    "df_brady3.at[6, 'name'] = 'Jessica'\n",
    "df_brady3.at[6, 'age'] = 1"
   ]
  },
  {
   "cell_type": "code",
   "execution_count": 33,
   "metadata": {},
   "outputs": [
    {
     "name": "stdout",
     "output_type": "stream",
     "text": [
      "mean: 9.0\n",
      "median: 10.0\n",
      "variance: 15.428571428571429\n",
      "std: 3.927922024247863\n",
      "se: 1.4846149779161806\n",
      "14    1\n",
      "12    1\n",
      "11    1\n",
      "10    1\n",
      "8     1\n",
      "7     1\n",
      "1     1\n",
      "Name: age, dtype: int64\n"
     ]
    }
   ],
   "source": [
    "summ_stats(df_brady3['age'])"
   ]
  },
  {
   "cell_type": "markdown",
   "metadata": {},
   "source": [
    "**5.** In the last question, the results of surveying the readers of the last magazine seem to biased. The title of the magazine suggests that its audience may not be a good representation of the audience of the \"Brady Bunch\" show, so for that reason the results should not be included when estimating the percentage of americans are fans of the show. Approximately 20% of the americans are fans of the show"
   ]
  },
  {
   "cell_type": "code",
   "execution_count": 36,
   "metadata": {},
   "outputs": [
    {
     "name": "stdout",
     "output_type": "stream",
     "text": [
      "mean: 20.0\n",
      "median: 20.0\n"
     ]
    }
   ],
   "source": [
    "data = [20, 23, 17]\n",
    "\n",
    "print('mean:', np.mean(data))\n",
    "print('median:', np.median(data))"
   ]
  }
 ],
 "metadata": {
  "kernelspec": {
   "display_name": "Python 3",
   "language": "python",
   "name": "python3"
  },
  "language_info": {
   "codemirror_mode": {
    "name": "ipython",
    "version": 3
   },
   "file_extension": ".py",
   "mimetype": "text/x-python",
   "name": "python",
   "nbconvert_exporter": "python",
   "pygments_lexer": "ipython3",
   "version": "3.6.6"
  }
 },
 "nbformat": 4,
 "nbformat_minor": 2
}
