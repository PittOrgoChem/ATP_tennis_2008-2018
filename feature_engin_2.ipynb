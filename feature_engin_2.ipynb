{
 "cells": [
  {
   "cell_type": "markdown",
   "metadata": {},
   "source": [
    "# Feature Engineering 2: Dimensionality and PCA\n",
    "\n",
    "## <br>By Jean-Philippe Pitteloud</br>"
   ]
  },
  {
   "cell_type": "markdown",
   "metadata": {},
   "source": [
    "### Requirements"
   ]
  },
  {
   "cell_type": "code",
   "execution_count": 1,
   "metadata": {},
   "outputs": [],
   "source": [
    "import numpy as np\n",
    "import pandas as pd\n",
    "from sqlalchemy import create_engine\n",
    "import warnings\n",
    "import seaborn as sns\n",
    "import matplotlib.pyplot as plt\n",
    "from scipy.stats.mstats import winsorize\n",
    "%matplotlib inline\n",
    "\n",
    "warnings.filterwarnings('ignore')"
   ]
  },
  {
   "cell_type": "markdown",
   "metadata": {},
   "source": [
    "### Data Gathering"
   ]
  },
  {
   "cell_type": "code",
   "execution_count": 2,
   "metadata": {
    "scrolled": true
   },
   "outputs": [],
   "source": [
    "postgres_user = 'dsbc_student'\n",
    "postgres_pw = '7*.8G9QH21'\n",
    "postgres_host = '142.93.121.174'\n",
    "postgres_port = '5432'\n",
    "postgres_db = 'useducation'\n",
    "\n",
    "engine = create_engine('postgresql://{}:{}@{}:{}/{}'.format(\n",
    "    postgres_user, postgres_pw, postgres_host, postgres_port, postgres_db))\n",
    "\n",
    "edu_df = pd.read_sql_query('select * from useducation',con=engine)\n",
    "\n",
    "# no need for an open connection, \n",
    "# as we're only doing \n",
    "engine.dispose()"
   ]
  },
  {
   "cell_type": "code",
   "execution_count": 3,
   "metadata": {
    "scrolled": false
   },
   "outputs": [
    {
     "data": {
      "text/html": [
       "<div>\n",
       "<style scoped>\n",
       "    .dataframe tbody tr th:only-of-type {\n",
       "        vertical-align: middle;\n",
       "    }\n",
       "\n",
       "    .dataframe tbody tr th {\n",
       "        vertical-align: top;\n",
       "    }\n",
       "\n",
       "    .dataframe thead th {\n",
       "        text-align: right;\n",
       "    }\n",
       "</style>\n",
       "<table border=\"1\" class=\"dataframe\">\n",
       "  <thead>\n",
       "    <tr style=\"text-align: right;\">\n",
       "      <th></th>\n",
       "      <th>PRIMARY_KEY</th>\n",
       "      <th>STATE</th>\n",
       "      <th>YEAR</th>\n",
       "      <th>ENROLL</th>\n",
       "      <th>TOTAL_REVENUE</th>\n",
       "      <th>FEDERAL_REVENUE</th>\n",
       "      <th>STATE_REVENUE</th>\n",
       "      <th>LOCAL_REVENUE</th>\n",
       "      <th>TOTAL_EXPENDITURE</th>\n",
       "      <th>INSTRUCTION_EXPENDITURE</th>\n",
       "      <th>...</th>\n",
       "      <th>GRADES_4_G</th>\n",
       "      <th>GRADES_8_G</th>\n",
       "      <th>GRADES_12_G</th>\n",
       "      <th>GRADES_1_8_G</th>\n",
       "      <th>GRADES_9_12_G</th>\n",
       "      <th>GRADES_ALL_G</th>\n",
       "      <th>AVG_MATH_4_SCORE</th>\n",
       "      <th>AVG_MATH_8_SCORE</th>\n",
       "      <th>AVG_READING_4_SCORE</th>\n",
       "      <th>AVG_READING_8_SCORE</th>\n",
       "    </tr>\n",
       "  </thead>\n",
       "  <tbody>\n",
       "    <tr>\n",
       "      <th>1487</th>\n",
       "      <td>2017_VIRGINIA</td>\n",
       "      <td>VIRGINIA</td>\n",
       "      <td>2017</td>\n",
       "      <td>NaN</td>\n",
       "      <td>NaN</td>\n",
       "      <td>NaN</td>\n",
       "      <td>NaN</td>\n",
       "      <td>NaN</td>\n",
       "      <td>NaN</td>\n",
       "      <td>NaN</td>\n",
       "      <td>...</td>\n",
       "      <td>NaN</td>\n",
       "      <td>NaN</td>\n",
       "      <td>NaN</td>\n",
       "      <td>NaN</td>\n",
       "      <td>NaN</td>\n",
       "      <td>NaN</td>\n",
       "      <td>248.041059</td>\n",
       "      <td>290.081407</td>\n",
       "      <td>227.598382</td>\n",
       "      <td>273.402640</td>\n",
       "    </tr>\n",
       "    <tr>\n",
       "      <th>1488</th>\n",
       "      <td>2017_WASHINGTON</td>\n",
       "      <td>WASHINGTON</td>\n",
       "      <td>2017</td>\n",
       "      <td>NaN</td>\n",
       "      <td>NaN</td>\n",
       "      <td>NaN</td>\n",
       "      <td>NaN</td>\n",
       "      <td>NaN</td>\n",
       "      <td>NaN</td>\n",
       "      <td>NaN</td>\n",
       "      <td>...</td>\n",
       "      <td>NaN</td>\n",
       "      <td>NaN</td>\n",
       "      <td>NaN</td>\n",
       "      <td>NaN</td>\n",
       "      <td>NaN</td>\n",
       "      <td>NaN</td>\n",
       "      <td>241.701001</td>\n",
       "      <td>289.131257</td>\n",
       "      <td>223.123409</td>\n",
       "      <td>267.744778</td>\n",
       "    </tr>\n",
       "    <tr>\n",
       "      <th>1489</th>\n",
       "      <td>2017_WEST_VIRGINIA</td>\n",
       "      <td>WEST_VIRGINIA</td>\n",
       "      <td>2017</td>\n",
       "      <td>NaN</td>\n",
       "      <td>NaN</td>\n",
       "      <td>NaN</td>\n",
       "      <td>NaN</td>\n",
       "      <td>NaN</td>\n",
       "      <td>NaN</td>\n",
       "      <td>NaN</td>\n",
       "      <td>...</td>\n",
       "      <td>NaN</td>\n",
       "      <td>NaN</td>\n",
       "      <td>NaN</td>\n",
       "      <td>NaN</td>\n",
       "      <td>NaN</td>\n",
       "      <td>NaN</td>\n",
       "      <td>236.057019</td>\n",
       "      <td>273.415854</td>\n",
       "      <td>217.316396</td>\n",
       "      <td>271.617023</td>\n",
       "    </tr>\n",
       "    <tr>\n",
       "      <th>1490</th>\n",
       "      <td>2017_WISCONSIN</td>\n",
       "      <td>WISCONSIN</td>\n",
       "      <td>2017</td>\n",
       "      <td>NaN</td>\n",
       "      <td>NaN</td>\n",
       "      <td>NaN</td>\n",
       "      <td>NaN</td>\n",
       "      <td>NaN</td>\n",
       "      <td>NaN</td>\n",
       "      <td>NaN</td>\n",
       "      <td>...</td>\n",
       "      <td>NaN</td>\n",
       "      <td>NaN</td>\n",
       "      <td>NaN</td>\n",
       "      <td>NaN</td>\n",
       "      <td>NaN</td>\n",
       "      <td>NaN</td>\n",
       "      <td>240.389213</td>\n",
       "      <td>288.143144</td>\n",
       "      <td>219.612694</td>\n",
       "      <td>258.700304</td>\n",
       "    </tr>\n",
       "    <tr>\n",
       "      <th>1491</th>\n",
       "      <td>2017_WYOMING</td>\n",
       "      <td>WYOMING</td>\n",
       "      <td>2017</td>\n",
       "      <td>NaN</td>\n",
       "      <td>NaN</td>\n",
       "      <td>NaN</td>\n",
       "      <td>NaN</td>\n",
       "      <td>NaN</td>\n",
       "      <td>NaN</td>\n",
       "      <td>NaN</td>\n",
       "      <td>...</td>\n",
       "      <td>NaN</td>\n",
       "      <td>NaN</td>\n",
       "      <td>NaN</td>\n",
       "      <td>NaN</td>\n",
       "      <td>NaN</td>\n",
       "      <td>NaN</td>\n",
       "      <td>247.820619</td>\n",
       "      <td>288.761812</td>\n",
       "      <td>226.831211</td>\n",
       "      <td>269.371456</td>\n",
       "    </tr>\n",
       "  </tbody>\n",
       "</table>\n",
       "<p>5 rows × 25 columns</p>\n",
       "</div>"
      ],
      "text/plain": [
       "             PRIMARY_KEY          STATE  YEAR  ENROLL  TOTAL_REVENUE  \\\n",
       "1487       2017_VIRGINIA       VIRGINIA  2017     NaN            NaN   \n",
       "1488     2017_WASHINGTON     WASHINGTON  2017     NaN            NaN   \n",
       "1489  2017_WEST_VIRGINIA  WEST_VIRGINIA  2017     NaN            NaN   \n",
       "1490      2017_WISCONSIN      WISCONSIN  2017     NaN            NaN   \n",
       "1491        2017_WYOMING        WYOMING  2017     NaN            NaN   \n",
       "\n",
       "      FEDERAL_REVENUE  STATE_REVENUE  LOCAL_REVENUE  TOTAL_EXPENDITURE  \\\n",
       "1487              NaN            NaN            NaN                NaN   \n",
       "1488              NaN            NaN            NaN                NaN   \n",
       "1489              NaN            NaN            NaN                NaN   \n",
       "1490              NaN            NaN            NaN                NaN   \n",
       "1491              NaN            NaN            NaN                NaN   \n",
       "\n",
       "      INSTRUCTION_EXPENDITURE         ...           GRADES_4_G  GRADES_8_G  \\\n",
       "1487                      NaN         ...                  NaN         NaN   \n",
       "1488                      NaN         ...                  NaN         NaN   \n",
       "1489                      NaN         ...                  NaN         NaN   \n",
       "1490                      NaN         ...                  NaN         NaN   \n",
       "1491                      NaN         ...                  NaN         NaN   \n",
       "\n",
       "      GRADES_12_G  GRADES_1_8_G  GRADES_9_12_G  GRADES_ALL_G  \\\n",
       "1487          NaN           NaN            NaN           NaN   \n",
       "1488          NaN           NaN            NaN           NaN   \n",
       "1489          NaN           NaN            NaN           NaN   \n",
       "1490          NaN           NaN            NaN           NaN   \n",
       "1491          NaN           NaN            NaN           NaN   \n",
       "\n",
       "      AVG_MATH_4_SCORE  AVG_MATH_8_SCORE  AVG_READING_4_SCORE  \\\n",
       "1487        248.041059        290.081407           227.598382   \n",
       "1488        241.701001        289.131257           223.123409   \n",
       "1489        236.057019        273.415854           217.316396   \n",
       "1490        240.389213        288.143144           219.612694   \n",
       "1491        247.820619        288.761812           226.831211   \n",
       "\n",
       "      AVG_READING_8_SCORE  \n",
       "1487           273.402640  \n",
       "1488           267.744778  \n",
       "1489           271.617023  \n",
       "1490           258.700304  \n",
       "1491           269.371456  \n",
       "\n",
       "[5 rows x 25 columns]"
      ]
     },
     "execution_count": 3,
     "metadata": {},
     "output_type": "execute_result"
    }
   ],
   "source": [
    "edu_df.tail()"
   ]
  },
  {
   "cell_type": "markdown",
   "metadata": {},
   "source": [
    "### Data Cleaning"
   ]
  },
  {
   "cell_type": "code",
   "execution_count": 4,
   "metadata": {},
   "outputs": [],
   "source": [
    "edu_df_cleaned = edu_df.copy()"
   ]
  },
  {
   "cell_type": "code",
   "execution_count": 5,
   "metadata": {},
   "outputs": [],
   "source": [
    "edu_df_cleaned.drop('PRIMARY_KEY', axis = 1, inplace = True)"
   ]
  },
  {
   "cell_type": "code",
   "execution_count": 6,
   "metadata": {},
   "outputs": [],
   "source": [
    "edu_df_cleaned['STATE'] = edu_df_cleaned['STATE'].str.replace('_-_', '_')\n",
    "\n",
    "edu_df_cleaned['bureau'] = edu_df_cleaned['STATE'].str.contains('^[B][UREAU]{5}\\w+|^[B][I][E]?', case = False, regex = True)\n",
    "edu_df_cleaned['STATE'] = np.where(edu_df_cleaned['bureau'], 'BUREAU_OF_INDIAN_EDUCATION', edu_df_cleaned['STATE'])\n",
    "edu_df_cleaned.drop('bureau', axis = 1, inplace = True)\n",
    "\n",
    "edu_df_cleaned['maria'] = edu_df_cleaned['STATE'].str.contains('NORTHERN_MARIANAS|COMMONWEALTH_OF_MARIANAS|MARIANAS|^[M][P]$', case = False, regex = True)\n",
    "edu_df_cleaned['STATE'] = np.where(edu_df_cleaned['maria'], 'NORTHERN_MARIANA_ISLANDS', edu_df_cleaned['STATE'])\n",
    "edu_df_cleaned.drop('maria', axis = 1, inplace = True)\n",
    "\n",
    "edu_df_cleaned['dod'] = edu_df_cleaned['STATE'].str.contains('DEPARTMENT|DOD|DD', case = False, regex = True)\n",
    "edu_df_cleaned['STATE'] = np.where(edu_df_cleaned['dod'], 'DEPARTMENT_OF_DEFENSE', edu_df_cleaned['STATE'])\n",
    "edu_df_cleaned.drop('dod', axis = 1, inplace = True)\n",
    "\n",
    "edu_df_cleaned['as'] = edu_df_cleaned['STATE'].str.contains('AMERICAN_SAMOA|^[A][S]', case = False, regex = True)\n",
    "edu_df_cleaned['STATE'] = np.where(edu_df_cleaned['as'], 'AMERICAN_SAMOA', edu_df_cleaned['STATE'])\n",
    "edu_df_cleaned.drop('as', axis = 1, inplace = True)\n",
    "\n",
    "edu_df_cleaned['guam'] = edu_df_cleaned['STATE'].str.contains('GUAM|^[G][U]', case = False, regex = True)\n",
    "edu_df_cleaned['STATE'] = np.where(edu_df_cleaned['guam'], 'GUAM', edu_df_cleaned['STATE'])\n",
    "edu_df_cleaned.drop('guam', axis = 1, inplace = True)\n",
    "\n",
    "edu_df_cleaned['pr'] = edu_df_cleaned['STATE'].str.contains('PUERTO_RICO|^[P][R]', case = False, regex = True)\n",
    "edu_df_cleaned['STATE'] = np.where(edu_df_cleaned['pr'], 'PUERTO_RICO', edu_df_cleaned['STATE'])\n",
    "edu_df_cleaned.drop('pr', axis = 1, inplace = True)\n",
    "\n",
    "edu_df_cleaned['vi'] = edu_df_cleaned['STATE'].str.contains('VIRGIN_ISLANDS|^[V][I]$', case = False, regex = True)\n",
    "edu_df_cleaned['STATE'] = np.where(edu_df_cleaned['vi'], 'VIRGIN_ISLANDS', edu_df_cleaned['STATE'])\n",
    "edu_df_cleaned.drop('vi', axis = 1, inplace = True)"
   ]
  },
  {
   "cell_type": "code",
   "execution_count": 8,
   "metadata": {},
   "outputs": [],
   "source": [
    "columns = ['ENROLL', 'TOTAL_REVENUE', 'FEDERAL_REVENUE',\n",
    "       'STATE_REVENUE', 'LOCAL_REVENUE', 'TOTAL_EXPENDITURE',\n",
    "       'INSTRUCTION_EXPENDITURE', 'SUPPORT_SERVICES_EXPENDITURE',\n",
    "       'OTHER_EXPENDITURE', 'CAPITAL_OUTLAY_EXPENDITURE', 'GRADES_PK_G',\n",
    "       'GRADES_KG_G', 'GRADES_4_G', 'GRADES_8_G', 'GRADES_12_G',\n",
    "       'GRADES_1_8_G', 'GRADES_9_12_G', 'GRADES_ALL_G', 'AVG_MATH_4_SCORE',\n",
    "       'AVG_MATH_8_SCORE', 'AVG_READING_4_SCORE', 'AVG_READING_8_SCORE'] \n",
    "\n",
    "states = edu_df_cleaned['STATE'].unique()\n",
    "\n",
    "for state in states:\n",
    "    edu_df_cleaned.loc[edu_df_cleaned['STATE'] == state, columns] = edu_df_cleaned.loc[edu_df_cleaned[\"STATE\"] == state, columns].interpolate()\n",
    "\n",
    "edu_df_cleaned.dropna(inplace=True)"
   ]
  },
  {
   "cell_type": "code",
   "execution_count": 9,
   "metadata": {},
   "outputs": [
    {
     "name": "stdout",
     "output_type": "stream",
     "text": [
      "<class 'pandas.core.frame.DataFrame'>\n",
      "Int64Index: 1046 entries, 54 to 1491\n",
      "Data columns (total 24 columns):\n",
      "STATE                           1046 non-null object\n",
      "YEAR                            1046 non-null int64\n",
      "ENROLL                          1046 non-null float64\n",
      "TOTAL_REVENUE                   1046 non-null float64\n",
      "FEDERAL_REVENUE                 1046 non-null float64\n",
      "STATE_REVENUE                   1046 non-null float64\n",
      "LOCAL_REVENUE                   1046 non-null float64\n",
      "TOTAL_EXPENDITURE               1046 non-null float64\n",
      "INSTRUCTION_EXPENDITURE         1046 non-null float64\n",
      "SUPPORT_SERVICES_EXPENDITURE    1046 non-null float64\n",
      "OTHER_EXPENDITURE               1046 non-null float64\n",
      "CAPITAL_OUTLAY_EXPENDITURE      1046 non-null float64\n",
      "GRADES_PK_G                     1046 non-null float64\n",
      "GRADES_KG_G                     1046 non-null float64\n",
      "GRADES_4_G                      1046 non-null float64\n",
      "GRADES_8_G                      1046 non-null float64\n",
      "GRADES_12_G                     1046 non-null float64\n",
      "GRADES_1_8_G                    1046 non-null float64\n",
      "GRADES_9_12_G                   1046 non-null float64\n",
      "GRADES_ALL_G                    1046 non-null float64\n",
      "AVG_MATH_4_SCORE                1046 non-null float64\n",
      "AVG_MATH_8_SCORE                1046 non-null float64\n",
      "AVG_READING_4_SCORE             1046 non-null float64\n",
      "AVG_READING_8_SCORE             1046 non-null float64\n",
      "dtypes: float64(22), int64(1), object(1)\n",
      "memory usage: 204.3+ KB\n"
     ]
    }
   ],
   "source": [
    "edu_df_cleaned.info()"
   ]
  },
  {
   "cell_type": "markdown",
   "metadata": {},
   "source": [
    "**1. Create a new score variable from the weighted averages of the all score variables in the datasets. Notice that the number of students in the fourth grade isn't the same with the number of students in the eighth grade. So, you should weight the scores appropriately!**"
   ]
  },
  {
   "cell_type": "markdown",
   "metadata": {},
   "source": [
    "In order to create a weighted average score feature, the differences in population between the two groups, 4th graders and 8th graders, need to be considered using the contribution (proportion) of each group to the total"
   ]
  },
  {
   "cell_type": "code",
   "execution_count": 10,
   "metadata": {
    "scrolled": true
   },
   "outputs": [],
   "source": [
    "edu_df_cleaned[\"overall_score\"] = (edu_df_cleaned[\"GRADES_4_G\"] * ((edu_df_cleaned[\"AVG_MATH_4_SCORE\"] + edu_df_cleaned[\"AVG_READING_4_SCORE\"]) * 0.5) + edu_df_cleaned[\"GRADES_8_G\"] * ((edu_df_cleaned[\"AVG_MATH_8_SCORE\"] + edu_df_cleaned[\"AVG_READING_8_SCORE\"])*0.5)) / (edu_df_cleaned[\"GRADES_4_G\"] + edu_df_cleaned[\"GRADES_8_G\"])"
   ]
  },
  {
   "cell_type": "markdown",
   "metadata": {},
   "source": [
    "**2. What are the correlations between this newly created score variable and the expenditure types? Which one of the expenditure type is more correlated than the others?**"
   ]
  },
  {
   "cell_type": "code",
   "execution_count": 13,
   "metadata": {
    "scrolled": true
   },
   "outputs": [
    {
     "data": {
      "text/html": [
       "<div>\n",
       "<style scoped>\n",
       "    .dataframe tbody tr th:only-of-type {\n",
       "        vertical-align: middle;\n",
       "    }\n",
       "\n",
       "    .dataframe tbody tr th {\n",
       "        vertical-align: top;\n",
       "    }\n",
       "\n",
       "    .dataframe thead th {\n",
       "        text-align: right;\n",
       "    }\n",
       "</style>\n",
       "<table border=\"1\" class=\"dataframe\">\n",
       "  <thead>\n",
       "    <tr style=\"text-align: right;\">\n",
       "      <th></th>\n",
       "      <th>overall_score</th>\n",
       "      <th>TOTAL_EXPENDITURE</th>\n",
       "      <th>INSTRUCTION_EXPENDITURE</th>\n",
       "      <th>SUPPORT_SERVICES_EXPENDITURE</th>\n",
       "      <th>OTHER_EXPENDITURE</th>\n",
       "      <th>CAPITAL_OUTLAY_EXPENDITURE</th>\n",
       "    </tr>\n",
       "  </thead>\n",
       "  <tbody>\n",
       "    <tr>\n",
       "      <th>overall_score</th>\n",
       "      <td>1.000000</td>\n",
       "      <td>0.093020</td>\n",
       "      <td>0.105787</td>\n",
       "      <td>0.098643</td>\n",
       "      <td>0.027635</td>\n",
       "      <td>0.010670</td>\n",
       "    </tr>\n",
       "    <tr>\n",
       "      <th>TOTAL_EXPENDITURE</th>\n",
       "      <td>0.093020</td>\n",
       "      <td>1.000000</td>\n",
       "      <td>0.990829</td>\n",
       "      <td>0.993175</td>\n",
       "      <td>0.946483</td>\n",
       "      <td>0.928576</td>\n",
       "    </tr>\n",
       "    <tr>\n",
       "      <th>INSTRUCTION_EXPENDITURE</th>\n",
       "      <td>0.105787</td>\n",
       "      <td>0.990829</td>\n",
       "      <td>1.000000</td>\n",
       "      <td>0.975867</td>\n",
       "      <td>0.907235</td>\n",
       "      <td>0.889763</td>\n",
       "    </tr>\n",
       "    <tr>\n",
       "      <th>SUPPORT_SERVICES_EXPENDITURE</th>\n",
       "      <td>0.098643</td>\n",
       "      <td>0.993175</td>\n",
       "      <td>0.975867</td>\n",
       "      <td>1.000000</td>\n",
       "      <td>0.953789</td>\n",
       "      <td>0.913680</td>\n",
       "    </tr>\n",
       "    <tr>\n",
       "      <th>OTHER_EXPENDITURE</th>\n",
       "      <td>0.027635</td>\n",
       "      <td>0.946483</td>\n",
       "      <td>0.907235</td>\n",
       "      <td>0.953789</td>\n",
       "      <td>1.000000</td>\n",
       "      <td>0.924197</td>\n",
       "    </tr>\n",
       "    <tr>\n",
       "      <th>CAPITAL_OUTLAY_EXPENDITURE</th>\n",
       "      <td>0.010670</td>\n",
       "      <td>0.928576</td>\n",
       "      <td>0.889763</td>\n",
       "      <td>0.913680</td>\n",
       "      <td>0.924197</td>\n",
       "      <td>1.000000</td>\n",
       "    </tr>\n",
       "  </tbody>\n",
       "</table>\n",
       "</div>"
      ],
      "text/plain": [
       "                              overall_score  TOTAL_EXPENDITURE  \\\n",
       "overall_score                      1.000000           0.093020   \n",
       "TOTAL_EXPENDITURE                  0.093020           1.000000   \n",
       "INSTRUCTION_EXPENDITURE            0.105787           0.990829   \n",
       "SUPPORT_SERVICES_EXPENDITURE       0.098643           0.993175   \n",
       "OTHER_EXPENDITURE                  0.027635           0.946483   \n",
       "CAPITAL_OUTLAY_EXPENDITURE         0.010670           0.928576   \n",
       "\n",
       "                              INSTRUCTION_EXPENDITURE  \\\n",
       "overall_score                                0.105787   \n",
       "TOTAL_EXPENDITURE                            0.990829   \n",
       "INSTRUCTION_EXPENDITURE                      1.000000   \n",
       "SUPPORT_SERVICES_EXPENDITURE                 0.975867   \n",
       "OTHER_EXPENDITURE                            0.907235   \n",
       "CAPITAL_OUTLAY_EXPENDITURE                   0.889763   \n",
       "\n",
       "                              SUPPORT_SERVICES_EXPENDITURE  OTHER_EXPENDITURE  \\\n",
       "overall_score                                     0.098643           0.027635   \n",
       "TOTAL_EXPENDITURE                                 0.993175           0.946483   \n",
       "INSTRUCTION_EXPENDITURE                           0.975867           0.907235   \n",
       "SUPPORT_SERVICES_EXPENDITURE                      1.000000           0.953789   \n",
       "OTHER_EXPENDITURE                                 0.953789           1.000000   \n",
       "CAPITAL_OUTLAY_EXPENDITURE                        0.913680           0.924197   \n",
       "\n",
       "                              CAPITAL_OUTLAY_EXPENDITURE  \n",
       "overall_score                                   0.010670  \n",
       "TOTAL_EXPENDITURE                               0.928576  \n",
       "INSTRUCTION_EXPENDITURE                         0.889763  \n",
       "SUPPORT_SERVICES_EXPENDITURE                    0.913680  \n",
       "OTHER_EXPENDITURE                               0.924197  \n",
       "CAPITAL_OUTLAY_EXPENDITURE                      1.000000  "
      ]
     },
     "execution_count": 13,
     "metadata": {},
     "output_type": "execute_result"
    }
   ],
   "source": [
    "corr_mat = edu_df_cleaned[[\"overall_score\", \"TOTAL_EXPENDITURE\", \"INSTRUCTION_EXPENDITURE\", \"SUPPORT_SERVICES_EXPENDITURE\", \"OTHER_EXPENDITURE\", \"CAPITAL_OUTLAY_EXPENDITURE\"]].corr()\n",
    "corr_mat"
   ]
  },
  {
   "cell_type": "code",
   "execution_count": 15,
   "metadata": {},
   "outputs": [
    {
     "data": {
      "image/png": "[encoded data removed]",
      "text/plain": [
       "<Figure size 432x288 with 2 Axes>"
      ]
     },
     "metadata": {
      "needs_background": "light"
     },
     "output_type": "display_data"
    }
   ],
   "source": [
    "sns.heatmap(corr_mat, square=True, annot=True, linewidths=.5);"
   ]
  },
  {
   "cell_type": "markdown",
   "metadata": {},
   "source": [
    "As it can be seen in the table and chart above, all expenditure variables exhibit positive but weak correlation the newly created variable, 'overall_score'. Among the expenditure variables, 'INSTRUCTION_EXPENDITURE' shows the strongest correlation to the target variable"
   ]
  },
  {
   "cell_type": "markdown",
   "metadata": {},
   "source": [
    "**3. Now, apply PCA to the four expenditure types. How much of the total variance is explained by the first component?**"
   ]
  },
  {
   "cell_type": "code",
   "execution_count": 39,
   "metadata": {
    "scrolled": true
   },
   "outputs": [
    {
     "name": "stdout",
     "output_type": "stream",
     "text": [
      "The percentage of total variance in the dataset explained by each component from Sklearn PCA.\n",
      " [0.94568116]\n"
     ]
    }
   ],
   "source": [
    "from sklearn.decomposition import PCA\n",
    "from sklearn.preprocessing import StandardScaler\n",
    "\n",
    "X_mat = edu_df_cleaned[[\"INSTRUCTION_EXPENDITURE\", \"SUPPORT_SERVICES_EXPENDITURE\", \"OTHER_EXPENDITURE\", \"CAPITAL_OUTLAY_EXPENDITURE\"]]\n",
    "\n",
    "X_mat = StandardScaler().fit_transform(X_mat)\n",
    "\n",
    "sklearn_pca = PCA(n_components=1)\n",
    "edu_df_cleaned[\"pca_1\"] = sklearn_pca.fit_transform(X_mat)\n",
    "\n",
    "print('The percentage of total variance in the dataset explained by each component from Sklearn PCA.\\n', sklearn_pca.explained_variance_ratio_)"
   ]
  },
  {
   "cell_type": "markdown",
   "metadata": {},
   "source": [
    "From the result above, a proportion of 0.946 (95 %) of the variance is effectively explanied by the first Principal Component calculated from the variables specified above"
   ]
  },
  {
   "cell_type": "markdown",
   "metadata": {},
   "source": [
    "**4. What is the correlation between the overall score variable and the first principal component?**"
   ]
  },
  {
   "cell_type": "code",
   "execution_count": 41,
   "metadata": {
    "scrolled": true
   },
   "outputs": [
    {
     "data": {
      "text/html": [
       "<div>\n",
       "<style scoped>\n",
       "    .dataframe tbody tr th:only-of-type {\n",
       "        vertical-align: middle;\n",
       "    }\n",
       "\n",
       "    .dataframe tbody tr th {\n",
       "        vertical-align: top;\n",
       "    }\n",
       "\n",
       "    .dataframe thead th {\n",
       "        text-align: right;\n",
       "    }\n",
       "</style>\n",
       "<table border=\"1\" class=\"dataframe\">\n",
       "  <thead>\n",
       "    <tr style=\"text-align: right;\">\n",
       "      <th></th>\n",
       "      <th>overall_score</th>\n",
       "      <th>pca_1</th>\n",
       "      <th>TOTAL_EXPENDITURE</th>\n",
       "      <th>INSTRUCTION_EXPENDITURE</th>\n",
       "      <th>SUPPORT_SERVICES_EXPENDITURE</th>\n",
       "      <th>OTHER_EXPENDITURE</th>\n",
       "      <th>CAPITAL_OUTLAY_EXPENDITURE</th>\n",
       "    </tr>\n",
       "  </thead>\n",
       "  <tbody>\n",
       "    <tr>\n",
       "      <th>overall_score</th>\n",
       "      <td>1.000000</td>\n",
       "      <td>0.062716</td>\n",
       "      <td>0.093020</td>\n",
       "      <td>0.105787</td>\n",
       "      <td>0.098643</td>\n",
       "      <td>0.027635</td>\n",
       "      <td>0.010670</td>\n",
       "    </tr>\n",
       "    <tr>\n",
       "      <th>pca_1</th>\n",
       "      <td>0.062716</td>\n",
       "      <td>1.000000</td>\n",
       "      <td>0.992264</td>\n",
       "      <td>0.970167</td>\n",
       "      <td>0.988317</td>\n",
       "      <td>0.973193</td>\n",
       "      <td>0.957927</td>\n",
       "    </tr>\n",
       "    <tr>\n",
       "      <th>TOTAL_EXPENDITURE</th>\n",
       "      <td>0.093020</td>\n",
       "      <td>0.992264</td>\n",
       "      <td>1.000000</td>\n",
       "      <td>0.990829</td>\n",
       "      <td>0.993175</td>\n",
       "      <td>0.946483</td>\n",
       "      <td>0.928576</td>\n",
       "    </tr>\n",
       "    <tr>\n",
       "      <th>INSTRUCTION_EXPENDITURE</th>\n",
       "      <td>0.105787</td>\n",
       "      <td>0.970167</td>\n",
       "      <td>0.990829</td>\n",
       "      <td>1.000000</td>\n",
       "      <td>0.975867</td>\n",
       "      <td>0.907235</td>\n",
       "      <td>0.889763</td>\n",
       "    </tr>\n",
       "    <tr>\n",
       "      <th>SUPPORT_SERVICES_EXPENDITURE</th>\n",
       "      <td>0.098643</td>\n",
       "      <td>0.988317</td>\n",
       "      <td>0.993175</td>\n",
       "      <td>0.975867</td>\n",
       "      <td>1.000000</td>\n",
       "      <td>0.953789</td>\n",
       "      <td>0.913680</td>\n",
       "    </tr>\n",
       "    <tr>\n",
       "      <th>OTHER_EXPENDITURE</th>\n",
       "      <td>0.027635</td>\n",
       "      <td>0.973193</td>\n",
       "      <td>0.946483</td>\n",
       "      <td>0.907235</td>\n",
       "      <td>0.953789</td>\n",
       "      <td>1.000000</td>\n",
       "      <td>0.924197</td>\n",
       "    </tr>\n",
       "    <tr>\n",
       "      <th>CAPITAL_OUTLAY_EXPENDITURE</th>\n",
       "      <td>0.010670</td>\n",
       "      <td>0.957927</td>\n",
       "      <td>0.928576</td>\n",
       "      <td>0.889763</td>\n",
       "      <td>0.913680</td>\n",
       "      <td>0.924197</td>\n",
       "      <td>1.000000</td>\n",
       "    </tr>\n",
       "  </tbody>\n",
       "</table>\n",
       "</div>"
      ],
      "text/plain": [
       "                              overall_score     pca_1  TOTAL_EXPENDITURE  \\\n",
       "overall_score                      1.000000  0.062716           0.093020   \n",
       "pca_1                              0.062716  1.000000           0.992264   \n",
       "TOTAL_EXPENDITURE                  0.093020  0.992264           1.000000   \n",
       "INSTRUCTION_EXPENDITURE            0.105787  0.970167           0.990829   \n",
       "SUPPORT_SERVICES_EXPENDITURE       0.098643  0.988317           0.993175   \n",
       "OTHER_EXPENDITURE                  0.027635  0.973193           0.946483   \n",
       "CAPITAL_OUTLAY_EXPENDITURE         0.010670  0.957927           0.928576   \n",
       "\n",
       "                              INSTRUCTION_EXPENDITURE  \\\n",
       "overall_score                                0.105787   \n",
       "pca_1                                        0.970167   \n",
       "TOTAL_EXPENDITURE                            0.990829   \n",
       "INSTRUCTION_EXPENDITURE                      1.000000   \n",
       "SUPPORT_SERVICES_EXPENDITURE                 0.975867   \n",
       "OTHER_EXPENDITURE                            0.907235   \n",
       "CAPITAL_OUTLAY_EXPENDITURE                   0.889763   \n",
       "\n",
       "                              SUPPORT_SERVICES_EXPENDITURE  OTHER_EXPENDITURE  \\\n",
       "overall_score                                     0.098643           0.027635   \n",
       "pca_1                                             0.988317           0.973193   \n",
       "TOTAL_EXPENDITURE                                 0.993175           0.946483   \n",
       "INSTRUCTION_EXPENDITURE                           0.975867           0.907235   \n",
       "SUPPORT_SERVICES_EXPENDITURE                      1.000000           0.953789   \n",
       "OTHER_EXPENDITURE                                 0.953789           1.000000   \n",
       "CAPITAL_OUTLAY_EXPENDITURE                        0.913680           0.924197   \n",
       "\n",
       "                              CAPITAL_OUTLAY_EXPENDITURE  \n",
       "overall_score                                   0.010670  \n",
       "pca_1                                           0.957927  \n",
       "TOTAL_EXPENDITURE                               0.928576  \n",
       "INSTRUCTION_EXPENDITURE                         0.889763  \n",
       "SUPPORT_SERVICES_EXPENDITURE                    0.913680  \n",
       "OTHER_EXPENDITURE                               0.924197  \n",
       "CAPITAL_OUTLAY_EXPENDITURE                      1.000000  "
      ]
     },
     "execution_count": 41,
     "metadata": {},
     "output_type": "execute_result"
    }
   ],
   "source": [
    "corr_mat2 = edu_df_cleaned[[\"overall_score\", \"pca_1\", \"TOTAL_EXPENDITURE\", \"INSTRUCTION_EXPENDITURE\", \"SUPPORT_SERVICES_EXPENDITURE\", \"OTHER_EXPENDITURE\", \"CAPITAL_OUTLAY_EXPENDITURE\"]].corr()\n",
    "corr_mat2"
   ]
  },
  {
   "cell_type": "code",
   "execution_count": 42,
   "metadata": {},
   "outputs": [
    {
     "data": {
      "image/png": "[encoded data removed]",
      "text/plain": [
       "<Figure size 432x288 with 2 Axes>"
      ]
     },
     "metadata": {
      "needs_background": "light"
     },
     "output_type": "display_data"
    }
   ],
   "source": [
    "sns.heatmap(corr_mat2, square=True, annot=True, linewidths=.5);"
   ]
  },
  {
   "cell_type": "markdown",
   "metadata": {},
   "source": [
    "From the table and chart displayed above, it can be seen that the correlation between the target variable 'overall_score' and the first Principal Component calculated is 0.063. This value is smaller than the most correlated variable in the original dataset, the 'INSTRUCTION_EXPENDITURE' variable "
   ]
  },
  {
   "cell_type": "markdown",
   "metadata": {},
   "source": [
    "**5. If you were to choose the best variables for your model, would you prefer using the first principal component instead of the expenditure variables? Why?**"
   ]
  },
  {
   "cell_type": "markdown",
   "metadata": {},
   "source": [
    "Since the correlation exhibited between the taget varible and the Principal Component of all the expenditure variables was weaker and the estimation of the correlation between the taget and the 'INSTRUCTION_EXPENDITURE' variable, I will likely support my model in the use of the 'INSTRUCTION_EXPENDITURE' variable"
   ]
  }
 ],
 "metadata": {
  "kernelspec": {
   "display_name": "Python 3",
   "language": "python",
   "name": "python3"
  },
  "language_info": {
   "codemirror_mode": {
    "name": "ipython",
    "version": 3
   },
   "file_extension": ".py",
   "mimetype": "text/x-python",
   "name": "python",
   "nbconvert_exporter": "python",
   "pygments_lexer": "ipython3",
   "version": "3.6.8"
  }
 },
 "nbformat": 4,
 "nbformat_minor": 2
}
