{
 "cells": [
  {
   "cell_type": "markdown",
   "metadata": {},
   "source": [
    "# Data Distributions Assignment"
   ]
  },
  {
   "cell_type": "code",
   "execution_count": 1,
   "metadata": {},
   "outputs": [],
   "source": [
    "import numpy as np\n",
    "import pandas as pd\n",
    "import matplotlib.pyplot as plt\n",
    "%matplotlib inline"
   ]
  },
  {
   "cell_type": "markdown",
   "metadata": {},
   "source": [
    "### Exponential Distribution"
   ]
  },
  {
   "cell_type": "code",
   "execution_count": 2,
   "metadata": {},
   "outputs": [],
   "source": [
    "exponentialvar = np.random.exponential(scale = 1.0, size = 1000)"
   ]
  },
  {
   "cell_type": "code",
   "execution_count": 3,
   "metadata": {},
   "outputs": [
    {
     "name": "stdout",
     "output_type": "stream",
     "text": [
      "0.9952451664264063\n",
      "0.9712827791222867\n"
     ]
    }
   ],
   "source": [
    "exp_mean = np.mean(exponentialvar)\n",
    "exp_std = np.std(exponentialvar)\n",
    "print(exp_mean)\n",
    "print(exp_std)"
   ]
  },
  {
   "cell_type": "code",
   "execution_count": 4,
   "metadata": {
    "scrolled": true
   },
   "outputs": [
    {
     "data": {
      "image/png": "[encoded data removed]",
      "text/plain": [
       "<Figure size 432x288 with 1 Axes>"
      ]
     },
     "metadata": {
      "needs_background": "light"
     },
     "output_type": "display_data"
    }
   ],
   "source": [
    "plt.hist(exponentialvar, bins = 20)\n",
    "plt.axvline(exp_mean, linewidth = 2, color = 'red')\n",
    "plt.axvline(exp_mean - exp_std, linewidth = 2, color = 'red', linestyle = 'dashed')\n",
    "plt.axvline(exp_mean + exp_std, linewidth = 2, color = 'red', linestyle = 'dashed');"
   ]
  },
  {
   "cell_type": "markdown",
   "metadata": {},
   "source": [
    "For this distribution, the mean does not seem to be a good estimate of central tendency. Strinkingly, the mean and the standard deviation shared the same value"
   ]
  },
  {
   "cell_type": "markdown",
   "metadata": {},
   "source": [
    "### Binomial Distribution"
   ]
  },
  {
   "cell_type": "code",
   "execution_count": 5,
   "metadata": {},
   "outputs": [],
   "source": [
    "binomialvar = np.random.binomial(n = 5, p = 0.50, size = 1000)"
   ]
  },
  {
   "cell_type": "code",
   "execution_count": 6,
   "metadata": {},
   "outputs": [
    {
     "name": "stdout",
     "output_type": "stream",
     "text": [
      "2.484\n",
      "1.1071332349812284\n"
     ]
    }
   ],
   "source": [
    "binom_mean = np.mean(binomialvar)\n",
    "binom_std = np.std(binomialvar)\n",
    "print(binom_mean)\n",
    "print(binom_std)"
   ]
  },
  {
   "cell_type": "code",
   "execution_count": 7,
   "metadata": {},
   "outputs": [
    {
     "data": {
      "image/png": "[encoded data removed]",
      "text/plain": [
       "<Figure size 432x288 with 1 Axes>"
      ]
     },
     "metadata": {
      "needs_background": "light"
     },
     "output_type": "display_data"
    }
   ],
   "source": [
    "plt.hist(binomialvar, bins = 6)\n",
    "plt.axvline(binom_mean, linewidth = 2, color = 'red')\n",
    "plt.axvline(binom_mean - binom_std, linewidth = 2, color = 'red', linestyle = 'dashed')\n",
    "plt.axvline(binom_mean + binom_std, linewidth = 2, color = 'red', linestyle = 'dashed');"
   ]
  },
  {
   "cell_type": "markdown",
   "metadata": {},
   "source": [
    "This distribution looks almost normal. Actually, for the number of samples used and the probability of success a normal distribution could have been used to get the same result. A more normal distribution look would be obtained by increasing the size"
   ]
  },
  {
   "cell_type": "markdown",
   "metadata": {},
   "source": [
    "### Gamma Distribution"
   ]
  },
  {
   "cell_type": "code",
   "execution_count": 8,
   "metadata": {},
   "outputs": [],
   "source": [
    "gammavar = np.random.gamma(shape = 1, scale = 1, size = 1000)"
   ]
  },
  {
   "cell_type": "code",
   "execution_count": 9,
   "metadata": {},
   "outputs": [
    {
     "name": "stdout",
     "output_type": "stream",
     "text": [
      "1.0426229916487375\n",
      "0.9883451055368124\n"
     ]
    }
   ],
   "source": [
    "gamma_mean = np.mean(gammavar)\n",
    "gamma_std = np.std(gammavar)\n",
    "print(gamma_mean)\n",
    "print(gamma_std)"
   ]
  },
  {
   "cell_type": "code",
   "execution_count": 10,
   "metadata": {
    "scrolled": true
   },
   "outputs": [
    {
     "data": {
      "image/png": "[encoded data removed]",
      "text/plain": [
       "<Figure size 432x288 with 1 Axes>"
      ]
     },
     "metadata": {
      "needs_background": "light"
     },
     "output_type": "display_data"
    }
   ],
   "source": [
    "plt.hist(gammavar, bins = 20)\n",
    "plt.axvline(gamma_mean, linewidth = 2, color = 'red')\n",
    "plt.axvline(gamma_mean - gamma_std, linewidth = 2, color = 'red', linestyle = 'dashed')\n",
    "plt.axvline(gamma_mean + gamma_std, linewidth = 2, color = 'red', linestyle = 'dashed');"
   ]
  },
  {
   "cell_type": "markdown",
   "metadata": {},
   "source": [
    "This distribution shares many characteristics with the **Exponential Distribution** shown above. First, the histogram is the same within errors due to the random seed used. Second, the values calculated for the mean and standard deviation are practically the same, a characteristic also found in the **Exponential Distribution**"
   ]
  },
  {
   "cell_type": "markdown",
   "metadata": {},
   "source": [
    "### Laplace Distribution"
   ]
  },
  {
   "cell_type": "code",
   "execution_count": 11,
   "metadata": {},
   "outputs": [],
   "source": [
    "laplacevar = np.random.laplace(loc = 0, scale = 1, size = 1000)"
   ]
  },
  {
   "cell_type": "code",
   "execution_count": 12,
   "metadata": {},
   "outputs": [
    {
     "name": "stdout",
     "output_type": "stream",
     "text": [
      "0.029025071099103836\n",
      "1.511660312829414\n"
     ]
    }
   ],
   "source": [
    "laplace_mean = np.mean(laplacevar)\n",
    "laplace_std = np.std(laplacevar)\n",
    "print(laplace_mean)\n",
    "print(laplace_std)"
   ]
  },
  {
   "cell_type": "code",
   "execution_count": 13,
   "metadata": {},
   "outputs": [
    {
     "data": {
      "image/png": "[encoded data removed]",
      "text/plain": [
       "<Figure size 432x288 with 1 Axes>"
      ]
     },
     "metadata": {
      "needs_background": "light"
     },
     "output_type": "display_data"
    }
   ],
   "source": [
    "plt.hist(laplacevar, bins = 15)\n",
    "plt.axvline(laplace_mean, linewidth = 2, color = 'red')\n",
    "plt.axvline(laplace_mean - laplace_std, linewidth = 2, color = 'red', linestyle = 'dashed')\n",
    "plt.axvline(laplace_mean + laplace_std, linewidth = 2, color = 'red', linestyle = 'dashed');"
   ]
  },
  {
   "cell_type": "markdown",
   "metadata": {},
   "source": [
    "This distribution initially looks like a normal distribution, however, the difference between the central (highest) bar on the histogram and the two adjacent bars is much more dramatic than expected. Also, the counts decrease more dramatically as you move to the extremes making the curve as the combination of two curves that merge around the mean. Actually, the documentation mentions that the distribution represents the difference between two exponential distributions. There is no surprise on the values of mean and standard deviation, very similar to our normal distribution values"
   ]
  },
  {
   "cell_type": "markdown",
   "metadata": {},
   "source": [
    "### Normal Distribution"
   ]
  },
  {
   "cell_type": "code",
   "execution_count": 14,
   "metadata": {},
   "outputs": [],
   "source": [
    "normalvar = np.random.normal(loc = 0, scale = 1, size = 1000)"
   ]
  },
  {
   "cell_type": "code",
   "execution_count": 15,
   "metadata": {},
   "outputs": [
    {
     "name": "stdout",
     "output_type": "stream",
     "text": [
      "-0.015150579195660242\n",
      "0.9814834821297607\n"
     ]
    }
   ],
   "source": [
    "normal_mean = np.mean(normalvar)\n",
    "normal_std = np.std(normalvar)\n",
    "print(normal_mean)\n",
    "print(normal_std)"
   ]
  },
  {
   "cell_type": "code",
   "execution_count": 16,
   "metadata": {
    "scrolled": true
   },
   "outputs": [
    {
     "data": {
      "image/png": "[encoded data removed]",
      "text/plain": [
       "<Figure size 432x288 with 1 Axes>"
      ]
     },
     "metadata": {
      "needs_background": "light"
     },
     "output_type": "display_data"
    }
   ],
   "source": [
    "plt.hist(normalvar, bins = 10)\n",
    "plt.axvline(normal_mean, linewidth = 2, color = 'red')\n",
    "plt.axvline(normal_mean - normal_std, linewidth = 2, color = 'red', linestyle = 'dashed')\n",
    "plt.axvline(normal_mean + normal_std, linewidth = 2, color = 'red', linestyle = 'dashed');"
   ]
  },
  {
   "cell_type": "markdown",
   "metadata": {},
   "source": [
    "Just a normal distribution with the mean being the best estimate of central tendency and the standard deviation an excellent estimator of variance in the data. A larger sample might make the distribution more symmetrical"
   ]
  },
  {
   "cell_type": "markdown",
   "metadata": {},
   "source": [
    "### Geometric Distribution"
   ]
  },
  {
   "cell_type": "code",
   "execution_count": 17,
   "metadata": {},
   "outputs": [],
   "source": [
    "geomvar = np.random.geometric(p = 0.20, size = 1000)"
   ]
  },
  {
   "cell_type": "code",
   "execution_count": 18,
   "metadata": {},
   "outputs": [
    {
     "name": "stdout",
     "output_type": "stream",
     "text": [
      "5.127\n",
      "4.608998915165852\n"
     ]
    }
   ],
   "source": [
    "geom_mean = np.mean(geomvar)\n",
    "geom_std = np.std(geomvar)\n",
    "print(geom_mean)\n",
    "print(geom_std)"
   ]
  },
  {
   "cell_type": "code",
   "execution_count": 19,
   "metadata": {
    "scrolled": true
   },
   "outputs": [
    {
     "data": {
      "image/png": "[encoded data removed]",
      "text/plain": [
       "<Figure size 432x288 with 1 Axes>"
      ]
     },
     "metadata": {
      "needs_background": "light"
     },
     "output_type": "display_data"
    }
   ],
   "source": [
    "plt.hist(geomvar, bins = 25)\n",
    "plt.axvline(geom_mean, linewidth = 2, color = 'red')\n",
    "plt.axvline(geom_mean - geom_std, linewidth = 2, color = 'red', linestyle = 'dashed')\n",
    "plt.axvline(geom_mean + geom_std, linewidth = 2, color = 'red', linestyle = 'dashed');"
   ]
  },
  {
   "cell_type": "markdown",
   "metadata": {},
   "source": [
    "This distribution is used to model events with two possible outcomes, success or failure. It helps determine the number of trials that must be run to achieve success. In this particular case, since the probability of success is 0.2, the distribution suggests that success can be mostly achieved after 1-5 trials, but in some less frequent cases success can be achieved after more than 20 trials. For this distribution the mean does not seems to be a good estimator of central tendency"
   ]
  },
  {
   "cell_type": "markdown",
   "metadata": {},
   "source": [
    "### Additional Problem"
   ]
  },
  {
   "cell_type": "code",
   "execution_count": 20,
   "metadata": {},
   "outputs": [],
   "source": [
    "var1 = np.random.normal(5, 0.5, 1000)\n",
    "var2 = np.random.normal(10, 1, 1000)\n",
    "\n",
    "var3 = var1 + var2"
   ]
  },
  {
   "cell_type": "code",
   "execution_count": 21,
   "metadata": {},
   "outputs": [
    {
     "name": "stdout",
     "output_type": "stream",
     "text": [
      "15.005934657277168\n",
      "1.1524794348804661\n"
     ]
    }
   ],
   "source": [
    "var3_mean = np.mean(var3)\n",
    "var3_std = np.std(var3)\n",
    "print(var3_mean)\n",
    "print(var3_std)"
   ]
  },
  {
   "cell_type": "code",
   "execution_count": 22,
   "metadata": {},
   "outputs": [
    {
     "data": {
      "image/png": "[encoded data removed]",
      "text/plain": [
       "<Figure size 432x288 with 1 Axes>"
      ]
     },
     "metadata": {
      "needs_background": "light"
     },
     "output_type": "display_data"
    }
   ],
   "source": [
    "plt.hist(var3, bins = 15)\n",
    "plt.axvline(var3_mean, linewidth = 2, color = 'red')\n",
    "plt.axvline(var3_mean - var3_std, linewidth = 2, color = 'red', linestyle = 'dashed')\n",
    "plt.axvline(var3_mean + var3_std, linewidth = 2, color = 'red', linestyle = 'dashed');"
   ]
  },
  {
   "cell_type": "markdown",
   "metadata": {},
   "source": [
    "It is worth noting that while the mean of the variable (var3) resulting from adding the two original variables (var1 + var2) changed as expected to reflect the new values, the standard deviation of the data in the new variable changed slightly from the values reported from var2. This is not completely unexpected since adding the variables is not expected to modify the spread of the values two much and the results shoudl carry the variance of the variable with the larger number"
   ]
  }
 ],
 "metadata": {
  "kernelspec": {
   "display_name": "Python 3",
   "language": "python",
   "name": "python3"
  },
  "language_info": {
   "codemirror_mode": {
    "name": "ipython",
    "version": 3
   },
   "file_extension": ".py",
   "mimetype": "text/x-python",
   "name": "python",
   "nbconvert_exporter": "python",
   "pygments_lexer": "ipython3",
   "version": "3.6.6"
  }
 },
 "nbformat": 4,
 "nbformat_minor": 2
}
