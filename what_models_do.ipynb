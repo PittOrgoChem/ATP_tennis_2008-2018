{
 "cells": [
  {
   "cell_type": "markdown",
   "metadata": {},
   "source": [
    "# What Models Do\n",
    "\n",
    "## <br>By Jean-Philippe Pitteloud</br>"
   ]
  },
  {
   "cell_type": "markdown",
   "metadata": {},
   "source": [
    "**1. Try to model the result of a coin toss. In your model, include any features that you think important in explaining the result. Discuss with your mentor about the pros and cons of adding too many features into your model**"
   ]
  },
  {
   "cell_type": "markdown",
   "metadata": {},
   "source": [
    "During the tossing of a coin, many parameters may affect the outcome, some might be:\n",
    "\n",
    "- Vertical angle of release of the coin\n",
    "- Force applied to the coin at the moment of release\n",
    "- Mass/weight of the coin\n",
    "- Surface area of the coin\n",
    "- Distance between the release and landing of the coin"
   ]
  },
  {
   "cell_type": "markdown",
   "metadata": {},
   "source": [
    "**2. If you ever used Netflix, you should already have realized that it provides some recommendations for you to watch. In data science, this is an example of the so called recommendations systems. Read this non-technical blog post of Netflix about how they model their recommendations systems. Then, derive the features they use in their recommendations engines and discuss what else can be incorporated into this model**"
   ]
  },
  {
   "cell_type": "markdown",
   "metadata": {},
   "source": [
    "Based on the article linked to the question, the Netflix recommendation models use the following information:\n",
    "- Viewing history and past ratings made by user\n",
    "- Preference of other user with similar profiles\n",
    "- Movie/program's information like genre, categories, actors, release year, ratings\n",
    "- Watching preferences in terms of duration of viewing session, time of the day, day of the week\n",
    "- Platform used (mobile, app, browser)\n",
    "\n",
    "I believe their system is very robust and may be it might be enhanced by using geographical location data, however, nowadays, it might be seing by some users as an overeach in terms of privacy"
   ]
  }
 ],
 "metadata": {
  "kernelspec": {
   "display_name": "Python 3",
   "language": "python",
   "name": "python3"
  },
  "language_info": {
   "codemirror_mode": {
    "name": "ipython",
    "version": 3
   },
   "file_extension": ".py",
   "mimetype": "text/x-python",
   "name": "python",
   "nbconvert_exporter": "python",
   "pygments_lexer": "ipython3",
   "version": "3.6.8"
  }
 },
 "nbformat": 4,
 "nbformat_minor": 2
}
