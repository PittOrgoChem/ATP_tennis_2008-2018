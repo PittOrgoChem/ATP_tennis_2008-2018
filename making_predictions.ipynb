{
 "cells": [
  {
   "cell_type": "markdown",
   "metadata": {},
   "source": [
    "# Making Predictions - House Prices Model\n",
    "\n",
    "## By Jean-Philippe Pitteloud"
   ]
  },
  {
   "cell_type": "markdown",
   "metadata": {},
   "source": [
    "### Requirements"
   ]
  },
  {
   "cell_type": "code",
   "execution_count": 1,
   "metadata": {},
   "outputs": [],
   "source": [
    "import numpy as np\n",
    "import pandas as pd\n",
    "from sklearn import linear_model\n",
    "import matplotlib.pyplot as plt\n",
    "import seaborn as sns\n",
    "from sqlalchemy import create_engine\n",
    "import statsmodels.api as sm\n",
    "from scipy.stats import jarque_bera\n",
    "from scipy.stats import normaltest\n",
    "from sklearn.linear_model import LinearRegression\n",
    "from sklearn.model_selection import train_test_split\n",
    "from sklearn.metrics import mean_absolute_error\n",
    "from statsmodels.tools.eval_measures import mse, rmse\n",
    "%matplotlib inline\n",
    "\n",
    "import warnings\n",
    "warnings.filterwarnings('ignore')"
   ]
  },
  {
   "cell_type": "markdown",
   "metadata": {},
   "source": [
    "### Data Gathering"
   ]
  },
  {
   "cell_type": "code",
   "execution_count": 2,
   "metadata": {},
   "outputs": [
    {
     "data": {
      "text/html": [
       "<div>\n",
       "<style scoped>\n",
       "    .dataframe tbody tr th:only-of-type {\n",
       "        vertical-align: middle;\n",
       "    }\n",
       "\n",
       "    .dataframe tbody tr th {\n",
       "        vertical-align: top;\n",
       "    }\n",
       "\n",
       "    .dataframe thead th {\n",
       "        text-align: right;\n",
       "    }\n",
       "</style>\n",
       "<table border=\"1\" class=\"dataframe\">\n",
       "  <thead>\n",
       "    <tr style=\"text-align: right;\">\n",
       "      <th></th>\n",
       "      <th>id</th>\n",
       "      <th>mssubclass</th>\n",
       "      <th>mszoning</th>\n",
       "      <th>lotfrontage</th>\n",
       "      <th>lotarea</th>\n",
       "      <th>street</th>\n",
       "      <th>alley</th>\n",
       "      <th>lotshape</th>\n",
       "      <th>landcontour</th>\n",
       "      <th>utilities</th>\n",
       "      <th>...</th>\n",
       "      <th>poolarea</th>\n",
       "      <th>poolqc</th>\n",
       "      <th>fence</th>\n",
       "      <th>miscfeature</th>\n",
       "      <th>miscval</th>\n",
       "      <th>mosold</th>\n",
       "      <th>yrsold</th>\n",
       "      <th>saletype</th>\n",
       "      <th>salecondition</th>\n",
       "      <th>saleprice</th>\n",
       "    </tr>\n",
       "  </thead>\n",
       "  <tbody>\n",
       "    <tr>\n",
       "      <th>0</th>\n",
       "      <td>1</td>\n",
       "      <td>60</td>\n",
       "      <td>RL</td>\n",
       "      <td>65.0</td>\n",
       "      <td>8450</td>\n",
       "      <td>Pave</td>\n",
       "      <td>None</td>\n",
       "      <td>Reg</td>\n",
       "      <td>Lvl</td>\n",
       "      <td>AllPub</td>\n",
       "      <td>...</td>\n",
       "      <td>0</td>\n",
       "      <td>None</td>\n",
       "      <td>None</td>\n",
       "      <td>None</td>\n",
       "      <td>0</td>\n",
       "      <td>2</td>\n",
       "      <td>2008</td>\n",
       "      <td>WD</td>\n",
       "      <td>Normal</td>\n",
       "      <td>208500</td>\n",
       "    </tr>\n",
       "    <tr>\n",
       "      <th>1</th>\n",
       "      <td>2</td>\n",
       "      <td>20</td>\n",
       "      <td>RL</td>\n",
       "      <td>80.0</td>\n",
       "      <td>9600</td>\n",
       "      <td>Pave</td>\n",
       "      <td>None</td>\n",
       "      <td>Reg</td>\n",
       "      <td>Lvl</td>\n",
       "      <td>AllPub</td>\n",
       "      <td>...</td>\n",
       "      <td>0</td>\n",
       "      <td>None</td>\n",
       "      <td>None</td>\n",
       "      <td>None</td>\n",
       "      <td>0</td>\n",
       "      <td>5</td>\n",
       "      <td>2007</td>\n",
       "      <td>WD</td>\n",
       "      <td>Normal</td>\n",
       "      <td>181500</td>\n",
       "    </tr>\n",
       "    <tr>\n",
       "      <th>2</th>\n",
       "      <td>3</td>\n",
       "      <td>60</td>\n",
       "      <td>RL</td>\n",
       "      <td>68.0</td>\n",
       "      <td>11250</td>\n",
       "      <td>Pave</td>\n",
       "      <td>None</td>\n",
       "      <td>IR1</td>\n",
       "      <td>Lvl</td>\n",
       "      <td>AllPub</td>\n",
       "      <td>...</td>\n",
       "      <td>0</td>\n",
       "      <td>None</td>\n",
       "      <td>None</td>\n",
       "      <td>None</td>\n",
       "      <td>0</td>\n",
       "      <td>9</td>\n",
       "      <td>2008</td>\n",
       "      <td>WD</td>\n",
       "      <td>Normal</td>\n",
       "      <td>223500</td>\n",
       "    </tr>\n",
       "    <tr>\n",
       "      <th>3</th>\n",
       "      <td>4</td>\n",
       "      <td>70</td>\n",
       "      <td>RL</td>\n",
       "      <td>60.0</td>\n",
       "      <td>9550</td>\n",
       "      <td>Pave</td>\n",
       "      <td>None</td>\n",
       "      <td>IR1</td>\n",
       "      <td>Lvl</td>\n",
       "      <td>AllPub</td>\n",
       "      <td>...</td>\n",
       "      <td>0</td>\n",
       "      <td>None</td>\n",
       "      <td>None</td>\n",
       "      <td>None</td>\n",
       "      <td>0</td>\n",
       "      <td>2</td>\n",
       "      <td>2006</td>\n",
       "      <td>WD</td>\n",
       "      <td>Abnorml</td>\n",
       "      <td>140000</td>\n",
       "    </tr>\n",
       "    <tr>\n",
       "      <th>4</th>\n",
       "      <td>5</td>\n",
       "      <td>60</td>\n",
       "      <td>RL</td>\n",
       "      <td>84.0</td>\n",
       "      <td>14260</td>\n",
       "      <td>Pave</td>\n",
       "      <td>None</td>\n",
       "      <td>IR1</td>\n",
       "      <td>Lvl</td>\n",
       "      <td>AllPub</td>\n",
       "      <td>...</td>\n",
       "      <td>0</td>\n",
       "      <td>None</td>\n",
       "      <td>None</td>\n",
       "      <td>None</td>\n",
       "      <td>0</td>\n",
       "      <td>12</td>\n",
       "      <td>2008</td>\n",
       "      <td>WD</td>\n",
       "      <td>Normal</td>\n",
       "      <td>250000</td>\n",
       "    </tr>\n",
       "  </tbody>\n",
       "</table>\n",
       "<p>5 rows × 81 columns</p>\n",
       "</div>"
      ],
      "text/plain": [
       "   id  mssubclass mszoning  lotfrontage  lotarea street alley lotshape  \\\n",
       "0   1          60       RL         65.0     8450   Pave  None      Reg   \n",
       "1   2          20       RL         80.0     9600   Pave  None      Reg   \n",
       "2   3          60       RL         68.0    11250   Pave  None      IR1   \n",
       "3   4          70       RL         60.0     9550   Pave  None      IR1   \n",
       "4   5          60       RL         84.0    14260   Pave  None      IR1   \n",
       "\n",
       "  landcontour utilities    ...     poolarea poolqc fence miscfeature miscval  \\\n",
       "0         Lvl    AllPub    ...            0   None  None        None       0   \n",
       "1         Lvl    AllPub    ...            0   None  None        None       0   \n",
       "2         Lvl    AllPub    ...            0   None  None        None       0   \n",
       "3         Lvl    AllPub    ...            0   None  None        None       0   \n",
       "4         Lvl    AllPub    ...            0   None  None        None       0   \n",
       "\n",
       "  mosold yrsold  saletype  salecondition  saleprice  \n",
       "0      2   2008        WD         Normal     208500  \n",
       "1      5   2007        WD         Normal     181500  \n",
       "2      9   2008        WD         Normal     223500  \n",
       "3      2   2006        WD        Abnorml     140000  \n",
       "4     12   2008        WD         Normal     250000  \n",
       "\n",
       "[5 rows x 81 columns]"
      ]
     },
     "execution_count": 2,
     "metadata": {},
     "output_type": "execute_result"
    }
   ],
   "source": [
    "postgres_user = 'dsbc_student'\n",
    "postgres_pw = '7*.8G9QH21'\n",
    "postgres_host = '142.93.121.174'\n",
    "postgres_port = '5432'\n",
    "postgres_db = 'houseprices'\n",
    "\n",
    "engine = create_engine('postgresql://{}:{}@{}:{}/{}'.format(\n",
    "    postgres_user, postgres_pw, postgres_host, postgres_port, postgres_db))\n",
    "house_df = pd.read_sql_query('select * from houseprices',con = engine)\n",
    "\n",
    "engine.dispose()\n",
    "\n",
    "\n",
    "house_df.head()"
   ]
  },
  {
   "cell_type": "markdown",
   "metadata": {},
   "source": [
    "### Modeling and Predicting"
   ]
  },
  {
   "cell_type": "markdown",
   "metadata": {},
   "source": [
    "#### _Model #1:_"
   ]
  },
  {
   "cell_type": "markdown",
   "metadata": {},
   "source": [
    "In our first and simpler model, a Linear Regression Model is used using OLS method. The target variable is 'saleprice'. The independent variables included are 'overallqual', 'grlivarea', 'garagearea', 'firstflrsf', and the categorical variables 'exterqual', 'kitchenqual', and 'mszoning'. Upon creating dummy variables for all three categorical variables, however, during previous optimization two dummy variables for the categorical variables 'mszoning' were removed since they did not meet the statistical significance threshold"
   ]
  },
  {
   "cell_type": "code",
   "execution_count": 3,
   "metadata": {},
   "outputs": [],
   "source": [
    "house_df = pd.concat([house_df,pd.get_dummies(house_df['exterqual'], prefix = 'exterqual_dummy', drop_first=True)], axis = 1)\n",
    "\n",
    "house_df = pd.concat([house_df,pd.get_dummies(house_df['kitchenqual'], prefix = 'kitchenqual_dummy', drop_first=True)], axis = 1)\n",
    "\n",
    "house_df = pd.concat([house_df,pd.get_dummies(house_df['mszoning'], prefix = 'mszoning_dummy', drop_first=True)], axis = 1)"
   ]
  },
  {
   "cell_type": "markdown",
   "metadata": {},
   "source": [
    "To better evaluate the performance of the model, the available data was splitted into \"test\" and \"train\" subsets. The \"train\" subset was then employed to train the model while the \"test\" data was later used to evaluate the model performance while predicting the values for the target variable"
   ]
  },
  {
   "cell_type": "code",
   "execution_count": 4,
   "metadata": {},
   "outputs": [
    {
     "name": "stdout",
     "output_type": "stream",
     "text": [
      "The number of observations in training set is 1168\n",
      "The number of observations in test set is 292\n"
     ]
    }
   ],
   "source": [
    "X = house_df[['overallqual', 'grlivarea', 'garagearea', 'firstflrsf', 'exterqual_dummy_Fa', 'exterqual_dummy_Gd', 'exterqual_dummy_TA', 'kitchenqual_dummy_Fa', 'kitchenqual_dummy_Gd', 'kitchenqual_dummy_TA', 'mszoning_dummy_FV', 'mszoning_dummy_RL']]\n",
    "\n",
    "Y = house_df['saleprice']\n",
    "\n",
    "X_train, X_test, y_train, y_test = train_test_split(X, Y, test_size = 0.2, random_state = 465)\n",
    "\n",
    "print(\"The number of observations in training set is {}\".format(X_train.shape[0]))\n",
    "print(\"The number of observations in test set is {}\".format(X_test.shape[0]))"
   ]
  },
  {
   "cell_type": "code",
   "execution_count": 5,
   "metadata": {
    "scrolled": true
   },
   "outputs": [
    {
     "data": {
      "text/html": [
       "<table class=\"simpletable\">\n",
       "<caption>OLS Regression Results</caption>\n",
       "<tr>\n",
       "  <th>Dep. Variable:</th>        <td>saleprice</td>    <th>  R-squared:         </th> <td>   0.790</td> \n",
       "</tr>\n",
       "<tr>\n",
       "  <th>Model:</th>                   <td>OLS</td>       <th>  Adj. R-squared:    </th> <td>   0.788</td> \n",
       "</tr>\n",
       "<tr>\n",
       "  <th>Method:</th>             <td>Least Squares</td>  <th>  F-statistic:       </th> <td>   362.9</td> \n",
       "</tr>\n",
       "<tr>\n",
       "  <th>Date:</th>             <td>Mon, 14 Oct 2019</td> <th>  Prob (F-statistic):</th>  <td>  0.00</td>  \n",
       "</tr>\n",
       "<tr>\n",
       "  <th>Time:</th>                 <td>18:05:52</td>     <th>  Log-Likelihood:    </th> <td> -13913.</td> \n",
       "</tr>\n",
       "<tr>\n",
       "  <th>No. Observations:</th>      <td>  1168</td>      <th>  AIC:               </th> <td>2.785e+04</td>\n",
       "</tr>\n",
       "<tr>\n",
       "  <th>Df Residuals:</th>          <td>  1155</td>      <th>  BIC:               </th> <td>2.792e+04</td>\n",
       "</tr>\n",
       "<tr>\n",
       "  <th>Df Model:</th>              <td>    12</td>      <th>                     </th>     <td> </td>    \n",
       "</tr>\n",
       "<tr>\n",
       "  <th>Covariance Type:</th>      <td>nonrobust</td>    <th>                     </th>     <td> </td>    \n",
       "</tr>\n",
       "</table>\n",
       "<table class=\"simpletable\">\n",
       "<tr>\n",
       "            <td></td>              <th>coef</th>     <th>std err</th>      <th>t</th>      <th>P>|t|</th>  <th>[0.025</th>    <th>0.975]</th>  \n",
       "</tr>\n",
       "<tr>\n",
       "  <th>const</th>                <td> 1.679e+04</td> <td> 1.25e+04</td> <td>    1.341</td> <td> 0.180</td> <td>-7769.295</td> <td> 4.13e+04</td>\n",
       "</tr>\n",
       "<tr>\n",
       "  <th>overallqual</th>          <td> 1.949e+04</td> <td> 1332.763</td> <td>   14.621</td> <td> 0.000</td> <td> 1.69e+04</td> <td> 2.21e+04</td>\n",
       "</tr>\n",
       "<tr>\n",
       "  <th>grlivarea</th>            <td>   40.8186</td> <td>    2.777</td> <td>   14.701</td> <td> 0.000</td> <td>   35.371</td> <td>   46.266</td>\n",
       "</tr>\n",
       "<tr>\n",
       "  <th>garagearea</th>           <td>   47.4436</td> <td>    6.462</td> <td>    7.342</td> <td> 0.000</td> <td>   34.765</td> <td>   60.122</td>\n",
       "</tr>\n",
       "<tr>\n",
       "  <th>firstflrsf</th>           <td>   14.9869</td> <td>    3.674</td> <td>    4.079</td> <td> 0.000</td> <td>    7.778</td> <td>   22.196</td>\n",
       "</tr>\n",
       "<tr>\n",
       "  <th>exterqual_dummy_Fa</th>   <td>-3.476e+04</td> <td> 1.48e+04</td> <td>   -2.342</td> <td> 0.019</td> <td>-6.39e+04</td> <td>-5645.456</td>\n",
       "</tr>\n",
       "<tr>\n",
       "  <th>exterqual_dummy_Gd</th>   <td> -3.15e+04</td> <td> 7158.184</td> <td>   -4.400</td> <td> 0.000</td> <td>-4.55e+04</td> <td>-1.75e+04</td>\n",
       "</tr>\n",
       "<tr>\n",
       "  <th>exterqual_dummy_TA</th>   <td>-4.491e+04</td> <td> 7972.899</td> <td>   -5.633</td> <td> 0.000</td> <td>-6.06e+04</td> <td>-2.93e+04</td>\n",
       "</tr>\n",
       "<tr>\n",
       "  <th>kitchenqual_dummy_Fa</th> <td>-4.648e+04</td> <td> 9404.371</td> <td>   -4.943</td> <td> 0.000</td> <td>-6.49e+04</td> <td> -2.8e+04</td>\n",
       "</tr>\n",
       "<tr>\n",
       "  <th>kitchenqual_dummy_Gd</th> <td>-3.373e+04</td> <td> 5448.741</td> <td>   -6.190</td> <td> 0.000</td> <td>-4.44e+04</td> <td> -2.3e+04</td>\n",
       "</tr>\n",
       "<tr>\n",
       "  <th>kitchenqual_dummy_TA</th> <td>-4.236e+04</td> <td> 6052.652</td> <td>   -6.998</td> <td> 0.000</td> <td>-5.42e+04</td> <td>-3.05e+04</td>\n",
       "</tr>\n",
       "<tr>\n",
       "  <th>mszoning_dummy_FV</th>    <td> 1.293e+04</td> <td> 6027.878</td> <td>    2.145</td> <td> 0.032</td> <td> 1104.408</td> <td> 2.48e+04</td>\n",
       "</tr>\n",
       "<tr>\n",
       "  <th>mszoning_dummy_RL</th>    <td> 2.203e+04</td> <td> 3071.092</td> <td>    7.173</td> <td> 0.000</td> <td>  1.6e+04</td> <td> 2.81e+04</td>\n",
       "</tr>\n",
       "</table>\n",
       "<table class=\"simpletable\">\n",
       "<tr>\n",
       "  <th>Omnibus:</th>       <td>484.256</td> <th>  Durbin-Watson:     </th> <td>   1.875</td> \n",
       "</tr>\n",
       "<tr>\n",
       "  <th>Prob(Omnibus):</th> <td> 0.000</td>  <th>  Jarque-Bera (JB):  </th> <td>46819.476</td>\n",
       "</tr>\n",
       "<tr>\n",
       "  <th>Skew:</th>          <td>-0.946</td>  <th>  Prob(JB):          </th> <td>    0.00</td> \n",
       "</tr>\n",
       "<tr>\n",
       "  <th>Kurtosis:</th>      <td>33.959</td>  <th>  Cond. No.          </th> <td>3.57e+04</td> \n",
       "</tr>\n",
       "</table><br/><br/>Warnings:<br/>[1] Standard Errors assume that the covariance matrix of the errors is correctly specified.<br/>[2] The condition number is large, 3.57e+04. This might indicate that there are<br/>strong multicollinearity or other numerical problems."
      ],
      "text/plain": [
       "<class 'statsmodels.iolib.summary.Summary'>\n",
       "\"\"\"\n",
       "                            OLS Regression Results                            \n",
       "==============================================================================\n",
       "Dep. Variable:              saleprice   R-squared:                       0.790\n",
       "Model:                            OLS   Adj. R-squared:                  0.788\n",
       "Method:                 Least Squares   F-statistic:                     362.9\n",
       "Date:                Mon, 14 Oct 2019   Prob (F-statistic):               0.00\n",
       "Time:                        18:05:52   Log-Likelihood:                -13913.\n",
       "No. Observations:                1168   AIC:                         2.785e+04\n",
       "Df Residuals:                    1155   BIC:                         2.792e+04\n",
       "Df Model:                          12                                         \n",
       "Covariance Type:            nonrobust                                         \n",
       "========================================================================================\n",
       "                           coef    std err          t      P>|t|      [0.025      0.975]\n",
       "----------------------------------------------------------------------------------------\n",
       "const                 1.679e+04   1.25e+04      1.341      0.180   -7769.295    4.13e+04\n",
       "overallqual           1.949e+04   1332.763     14.621      0.000    1.69e+04    2.21e+04\n",
       "grlivarea               40.8186      2.777     14.701      0.000      35.371      46.266\n",
       "garagearea              47.4436      6.462      7.342      0.000      34.765      60.122\n",
       "firstflrsf              14.9869      3.674      4.079      0.000       7.778      22.196\n",
       "exterqual_dummy_Fa   -3.476e+04   1.48e+04     -2.342      0.019   -6.39e+04   -5645.456\n",
       "exterqual_dummy_Gd    -3.15e+04   7158.184     -4.400      0.000   -4.55e+04   -1.75e+04\n",
       "exterqual_dummy_TA   -4.491e+04   7972.899     -5.633      0.000   -6.06e+04   -2.93e+04\n",
       "kitchenqual_dummy_Fa -4.648e+04   9404.371     -4.943      0.000   -6.49e+04    -2.8e+04\n",
       "kitchenqual_dummy_Gd -3.373e+04   5448.741     -6.190      0.000   -4.44e+04    -2.3e+04\n",
       "kitchenqual_dummy_TA -4.236e+04   6052.652     -6.998      0.000   -5.42e+04   -3.05e+04\n",
       "mszoning_dummy_FV     1.293e+04   6027.878      2.145      0.032    1104.408    2.48e+04\n",
       "mszoning_dummy_RL     2.203e+04   3071.092      7.173      0.000     1.6e+04    2.81e+04\n",
       "==============================================================================\n",
       "Omnibus:                      484.256   Durbin-Watson:                   1.875\n",
       "Prob(Omnibus):                  0.000   Jarque-Bera (JB):            46819.476\n",
       "Skew:                          -0.946   Prob(JB):                         0.00\n",
       "Kurtosis:                      33.959   Cond. No.                     3.57e+04\n",
       "==============================================================================\n",
       "\n",
       "Warnings:\n",
       "[1] Standard Errors assume that the covariance matrix of the errors is correctly specified.\n",
       "[2] The condition number is large, 3.57e+04. This might indicate that there are\n",
       "strong multicollinearity or other numerical problems.\n",
       "\"\"\""
      ]
     },
     "execution_count": 5,
     "metadata": {},
     "output_type": "execute_result"
    }
   ],
   "source": [
    "X_train = sm.add_constant(X_train)\n",
    "\n",
    "lr_model = sm.OLS(y_train, X_train).fit()\n",
    "\n",
    "lr_model.summary()"
   ]
  },
  {
   "cell_type": "code",
   "execution_count": 6,
   "metadata": {},
   "outputs": [
    {
     "name": "stdout",
     "output_type": "stream",
     "text": [
      "Mean absolute error of the prediction is: 23969.088572906687\n",
      "Mean squared error of the prediction is: 1331986916.2642722\n",
      "Root mean squared error of the prediction is: 36496.39593527383\n",
      "Mean absolute percentage error of the prediction is: 14.334190237436301\n"
     ]
    },
    {
     "data": {
      "image/png": "[encoded data removed]",
      "text/plain": [
       "<Figure size 432x288 with 1 Axes>"
      ]
     },
     "metadata": {
      "needs_background": "light"
     },
     "output_type": "display_data"
    }
   ],
   "source": [
    "# We add constant to the model as it's a best practice\n",
    "# to do so every time!\n",
    "X_test = sm.add_constant(X_test)\n",
    "\n",
    "# We are making predictions here\n",
    "y_preds = lr_model.predict(X_test)\n",
    "\n",
    "plt.scatter(y_test, y_preds, alpha = 0.3)\n",
    "plt.plot(y_test, y_test, color = \"red\")\n",
    "plt.xlabel(\"true values\")\n",
    "plt.ylabel(\"predicted values\")\n",
    "plt.title(\"Charges: true and predicted values\");\n",
    "\n",
    "print(\"Mean absolute error of the prediction is: {}\".format(mean_absolute_error(y_test, y_preds)))\n",
    "print(\"Mean squared error of the prediction is: {}\".format(mse(y_test, y_preds)))\n",
    "print(\"Root mean squared error of the prediction is: {}\".format(rmse(y_test, y_preds)))\n",
    "print(\"Mean absolute percentage error of the prediction is: {}\".format(np.mean(np.abs((y_test - y_preds) / y_test)) * 100))"
   ]
  },
  {
   "cell_type": "markdown",
   "metadata": {},
   "source": [
    "As it can be seen in the summary table above, the adjusted R-squared value obtained was 0.788 indicating that this model explains about 79% of the variance in the target variable. In this particular model, all features were considered statistically significant as judged by their associated p-values. The performance of this model was also evaluated by comparing the predicted values of the target using a sample of the data not used during the model training. Four metrics were estimated based on the difference between the predicted values and the actual values of the target (errors or residuals) and its values listed above\n",
    "\n",
    "From the plot above, which compares displays the relationship between the predicted and the actual values, we can infer that the model works fairly well except when predicting house prices in the upper range"
   ]
  },
  {
   "cell_type": "markdown",
   "metadata": {},
   "source": [
    "#### _Model #2:_"
   ]
  },
  {
   "cell_type": "markdown",
   "metadata": {},
   "source": [
    "In order to optimize the model, two additional predictor variables were included, 'lotarea' and 'fireplaces'. The new model was fitted and evaluated and the summary of the results is presented below. In addition, the dataset was splitted into \"train\" and \"test\" subsets to be used during model training and testing respectively"
   ]
  },
  {
   "cell_type": "code",
   "execution_count": 7,
   "metadata": {},
   "outputs": [
    {
     "name": "stdout",
     "output_type": "stream",
     "text": [
      "The number of observations in training set is 1168\n",
      "The number of observations in test set is 292\n"
     ]
    }
   ],
   "source": [
    "X_2 = house_df[['overallqual', 'grlivarea', 'garagearea', 'firstflrsf', 'lotarea', 'fireplaces', 'exterqual_dummy_Fa', 'exterqual_dummy_Gd', 'exterqual_dummy_TA', 'kitchenqual_dummy_Fa', 'kitchenqual_dummy_Gd', 'kitchenqual_dummy_TA', 'mszoning_dummy_FV', 'mszoning_dummy_RL']]\n",
    "\n",
    "Y_2 = house_df['saleprice']\n",
    "\n",
    "X_train_2, X_test_2, y_train_2, y_test_2 = train_test_split(X_2, Y_2, test_size = 0.2, random_state = 465)\n",
    "\n",
    "print(\"The number of observations in training set is {}\".format(X_train_2.shape[0]))\n",
    "print(\"The number of observations in test set is {}\".format(X_test_2.shape[0]))"
   ]
  },
  {
   "cell_type": "code",
   "execution_count": 8,
   "metadata": {},
   "outputs": [
    {
     "data": {
      "text/html": [
       "<table class=\"simpletable\">\n",
       "<caption>OLS Regression Results</caption>\n",
       "<tr>\n",
       "  <th>Dep. Variable:</th>        <td>saleprice</td>    <th>  R-squared:         </th> <td>   0.799</td> \n",
       "</tr>\n",
       "<tr>\n",
       "  <th>Model:</th>                   <td>OLS</td>       <th>  Adj. R-squared:    </th> <td>   0.797</td> \n",
       "</tr>\n",
       "<tr>\n",
       "  <th>Method:</th>             <td>Least Squares</td>  <th>  F-statistic:       </th> <td>   327.3</td> \n",
       "</tr>\n",
       "<tr>\n",
       "  <th>Date:</th>             <td>Mon, 14 Oct 2019</td> <th>  Prob (F-statistic):</th>  <td>  0.00</td>  \n",
       "</tr>\n",
       "<tr>\n",
       "  <th>Time:</th>                 <td>18:05:52</td>     <th>  Log-Likelihood:    </th> <td> -13889.</td> \n",
       "</tr>\n",
       "<tr>\n",
       "  <th>No. Observations:</th>      <td>  1168</td>      <th>  AIC:               </th> <td>2.781e+04</td>\n",
       "</tr>\n",
       "<tr>\n",
       "  <th>Df Residuals:</th>          <td>  1153</td>      <th>  BIC:               </th> <td>2.788e+04</td>\n",
       "</tr>\n",
       "<tr>\n",
       "  <th>Df Model:</th>              <td>    14</td>      <th>                     </th>     <td> </td>    \n",
       "</tr>\n",
       "<tr>\n",
       "  <th>Covariance Type:</th>      <td>nonrobust</td>    <th>                     </th>     <td> </td>    \n",
       "</tr>\n",
       "</table>\n",
       "<table class=\"simpletable\">\n",
       "<tr>\n",
       "            <td></td>              <th>coef</th>     <th>std err</th>      <th>t</th>      <th>P>|t|</th>  <th>[0.025</th>    <th>0.975]</th>  \n",
       "</tr>\n",
       "<tr>\n",
       "  <th>const</th>                <td> 2.632e+04</td> <td> 1.24e+04</td> <td>    2.121</td> <td> 0.034</td> <td> 1972.105</td> <td> 5.07e+04</td>\n",
       "</tr>\n",
       "<tr>\n",
       "  <th>overallqual</th>          <td> 1.914e+04</td> <td> 1324.426</td> <td>   14.455</td> <td> 0.000</td> <td> 1.65e+04</td> <td> 2.17e+04</td>\n",
       "</tr>\n",
       "<tr>\n",
       "  <th>grlivarea</th>            <td>   35.9461</td> <td>    2.816</td> <td>   12.766</td> <td> 0.000</td> <td>   30.422</td> <td>   41.471</td>\n",
       "</tr>\n",
       "<tr>\n",
       "  <th>garagearea</th>           <td>   46.9493</td> <td>    6.347</td> <td>    7.397</td> <td> 0.000</td> <td>   34.497</td> <td>   59.402</td>\n",
       "</tr>\n",
       "<tr>\n",
       "  <th>firstflrsf</th>           <td>    9.9973</td> <td>    3.671</td> <td>    2.723</td> <td> 0.007</td> <td>    2.795</td> <td>   17.200</td>\n",
       "</tr>\n",
       "<tr>\n",
       "  <th>lotarea</th>              <td>    0.5432</td> <td>    0.105</td> <td>    5.163</td> <td> 0.000</td> <td>    0.337</td> <td>    0.750</td>\n",
       "</tr>\n",
       "<tr>\n",
       "  <th>fireplaces</th>           <td> 7525.5855</td> <td> 1912.996</td> <td>    3.934</td> <td> 0.000</td> <td> 3772.243</td> <td> 1.13e+04</td>\n",
       "</tr>\n",
       "<tr>\n",
       "  <th>exterqual_dummy_Fa</th>   <td>-3.644e+04</td> <td> 1.45e+04</td> <td>   -2.505</td> <td> 0.012</td> <td> -6.5e+04</td> <td>-7897.889</td>\n",
       "</tr>\n",
       "<tr>\n",
       "  <th>exterqual_dummy_Gd</th>   <td>-3.232e+04</td> <td> 7018.050</td> <td>   -4.606</td> <td> 0.000</td> <td>-4.61e+04</td> <td>-1.86e+04</td>\n",
       "</tr>\n",
       "<tr>\n",
       "  <th>exterqual_dummy_TA</th>   <td>-4.713e+04</td> <td> 7822.442</td> <td>   -6.025</td> <td> 0.000</td> <td>-6.25e+04</td> <td>-3.18e+04</td>\n",
       "</tr>\n",
       "<tr>\n",
       "  <th>kitchenqual_dummy_Fa</th> <td>-4.596e+04</td> <td> 9220.344</td> <td>   -4.984</td> <td> 0.000</td> <td> -6.4e+04</td> <td>-2.79e+04</td>\n",
       "</tr>\n",
       "<tr>\n",
       "  <th>kitchenqual_dummy_Gd</th> <td>-3.359e+04</td> <td> 5342.356</td> <td>   -6.288</td> <td> 0.000</td> <td>-4.41e+04</td> <td>-2.31e+04</td>\n",
       "</tr>\n",
       "<tr>\n",
       "  <th>kitchenqual_dummy_TA</th> <td>-4.284e+04</td> <td> 5934.599</td> <td>   -7.218</td> <td> 0.000</td> <td>-5.45e+04</td> <td>-3.12e+04</td>\n",
       "</tr>\n",
       "<tr>\n",
       "  <th>mszoning_dummy_FV</th>    <td> 1.327e+04</td> <td> 5915.494</td> <td>    2.243</td> <td> 0.025</td> <td> 1661.685</td> <td> 2.49e+04</td>\n",
       "</tr>\n",
       "<tr>\n",
       "  <th>mszoning_dummy_RL</th>    <td> 1.881e+04</td> <td> 3045.334</td> <td>    6.175</td> <td> 0.000</td> <td> 1.28e+04</td> <td> 2.48e+04</td>\n",
       "</tr>\n",
       "</table>\n",
       "<table class=\"simpletable\">\n",
       "<tr>\n",
       "  <th>Omnibus:</th>       <td>532.451</td> <th>  Durbin-Watson:     </th> <td>   1.900</td> \n",
       "</tr>\n",
       "<tr>\n",
       "  <th>Prob(Omnibus):</th> <td> 0.000</td>  <th>  Jarque-Bera (JB):  </th> <td>59370.762</td>\n",
       "</tr>\n",
       "<tr>\n",
       "  <th>Skew:</th>          <td>-1.106</td>  <th>  Prob(JB):          </th> <td>    0.00</td> \n",
       "</tr>\n",
       "<tr>\n",
       "  <th>Kurtosis:</th>      <td>37.858</td>  <th>  Cond. No.          </th> <td>2.64e+05</td> \n",
       "</tr>\n",
       "</table><br/><br/>Warnings:<br/>[1] Standard Errors assume that the covariance matrix of the errors is correctly specified.<br/>[2] The condition number is large, 2.64e+05. This might indicate that there are<br/>strong multicollinearity or other numerical problems."
      ],
      "text/plain": [
       "<class 'statsmodels.iolib.summary.Summary'>\n",
       "\"\"\"\n",
       "                            OLS Regression Results                            \n",
       "==============================================================================\n",
       "Dep. Variable:              saleprice   R-squared:                       0.799\n",
       "Model:                            OLS   Adj. R-squared:                  0.797\n",
       "Method:                 Least Squares   F-statistic:                     327.3\n",
       "Date:                Mon, 14 Oct 2019   Prob (F-statistic):               0.00\n",
       "Time:                        18:05:52   Log-Likelihood:                -13889.\n",
       "No. Observations:                1168   AIC:                         2.781e+04\n",
       "Df Residuals:                    1153   BIC:                         2.788e+04\n",
       "Df Model:                          14                                         \n",
       "Covariance Type:            nonrobust                                         \n",
       "========================================================================================\n",
       "                           coef    std err          t      P>|t|      [0.025      0.975]\n",
       "----------------------------------------------------------------------------------------\n",
       "const                 2.632e+04   1.24e+04      2.121      0.034    1972.105    5.07e+04\n",
       "overallqual           1.914e+04   1324.426     14.455      0.000    1.65e+04    2.17e+04\n",
       "grlivarea               35.9461      2.816     12.766      0.000      30.422      41.471\n",
       "garagearea              46.9493      6.347      7.397      0.000      34.497      59.402\n",
       "firstflrsf               9.9973      3.671      2.723      0.007       2.795      17.200\n",
       "lotarea                  0.5432      0.105      5.163      0.000       0.337       0.750\n",
       "fireplaces            7525.5855   1912.996      3.934      0.000    3772.243    1.13e+04\n",
       "exterqual_dummy_Fa   -3.644e+04   1.45e+04     -2.505      0.012    -6.5e+04   -7897.889\n",
       "exterqual_dummy_Gd   -3.232e+04   7018.050     -4.606      0.000   -4.61e+04   -1.86e+04\n",
       "exterqual_dummy_TA   -4.713e+04   7822.442     -6.025      0.000   -6.25e+04   -3.18e+04\n",
       "kitchenqual_dummy_Fa -4.596e+04   9220.344     -4.984      0.000    -6.4e+04   -2.79e+04\n",
       "kitchenqual_dummy_Gd -3.359e+04   5342.356     -6.288      0.000   -4.41e+04   -2.31e+04\n",
       "kitchenqual_dummy_TA -4.284e+04   5934.599     -7.218      0.000   -5.45e+04   -3.12e+04\n",
       "mszoning_dummy_FV     1.327e+04   5915.494      2.243      0.025    1661.685    2.49e+04\n",
       "mszoning_dummy_RL     1.881e+04   3045.334      6.175      0.000    1.28e+04    2.48e+04\n",
       "==============================================================================\n",
       "Omnibus:                      532.451   Durbin-Watson:                   1.900\n",
       "Prob(Omnibus):                  0.000   Jarque-Bera (JB):            59370.762\n",
       "Skew:                          -1.106   Prob(JB):                         0.00\n",
       "Kurtosis:                      37.858   Cond. No.                     2.64e+05\n",
       "==============================================================================\n",
       "\n",
       "Warnings:\n",
       "[1] Standard Errors assume that the covariance matrix of the errors is correctly specified.\n",
       "[2] The condition number is large, 2.64e+05. This might indicate that there are\n",
       "strong multicollinearity or other numerical problems.\n",
       "\"\"\""
      ]
     },
     "execution_count": 8,
     "metadata": {},
     "output_type": "execute_result"
    }
   ],
   "source": [
    "X_train_2 = sm.add_constant(X_train_2)\n",
    "\n",
    "lr_model_2 = sm.OLS(y_train_2, X_train_2).fit()\n",
    "\n",
    "lr_model_2.summary()"
   ]
  },
  {
   "cell_type": "markdown",
   "metadata": {},
   "source": [
    "From the table above, we can conclude that this model most succesfully explains the variance in the target with an adjusted R-squared of 0.797. This adjusted R-square value represents an improvement in the explanatory power compared to both Model #1. Once again all included features were estimated as statistically significant. Concerning other metrics such as AIC and BIC, this new model slightly reports just a slight decrease in the values of these metrics. In order to better estimate the predictive power of Model #2, predictions of the target using the \"test\" subset were calculated and their values compared to the actual values for 'saleprice'"
   ]
  },
  {
   "cell_type": "code",
   "execution_count": 9,
   "metadata": {},
   "outputs": [
    {
     "name": "stdout",
     "output_type": "stream",
     "text": [
      "Mean absolute error of the prediction is: 23465.116162244467\n",
      "Mean squared error of the prediction is: 1309844854.593614\n",
      "Root mean squared error of the prediction is: 36191.778826048525\n",
      "Mean absolute percentage error of the prediction is: 14.017521953958767\n"
     ]
    },
    {
     "data": {
      "image/png": "[encoded data removed]",
      "text/plain": [
       "<Figure size 432x288 with 1 Axes>"
      ]
     },
     "metadata": {
      "needs_background": "light"
     },
     "output_type": "display_data"
    }
   ],
   "source": [
    "# We add constant to the model as it's a best practice\n",
    "# to do so every time!\n",
    "X_test_2 = sm.add_constant(X_test_2)\n",
    "\n",
    "# We are making predictions here\n",
    "y_preds_2 = lr_model_2.predict(X_test_2)\n",
    "\n",
    "plt.scatter(y_test_2, y_preds_2, alpha = 0.3)\n",
    "plt.plot(y_test_2, y_test_2, color = \"red\")\n",
    "plt.xlabel(\"true values\")\n",
    "plt.ylabel(\"predicted values\")\n",
    "plt.title(\"Charges: true and predicted values\");\n",
    "\n",
    "print(\"Mean absolute error of the prediction is: {}\".format(mean_absolute_error(y_test_2, y_preds_2)))\n",
    "print(\"Mean squared error of the prediction is: {}\".format(mse(y_test_2, y_preds_2)))\n",
    "print(\"Root mean squared error of the prediction is: {}\".format(rmse(y_test_2, y_preds_2)))\n",
    "print(\"Mean absolute percentage error of the prediction is: {}\".format(np.mean(np.abs((y_test_2 - y_preds_2) / y_test_2)) * 100))"
   ]
  },
  {
   "cell_type": "markdown",
   "metadata": {},
   "source": [
    "From the plot above, we can quickly say that Model #2 does not represent a significant improvement over Model #1. Both models fail to accurately predict the house prices in the upper end of the range. Also, comparison of the evaluation metrics based on the residuals or errors confirm that the new model just slightly improve the predictive power of the original model. Other approaches such as feature engineering and the use of insightful interaction between original features may result in significant improvements of the model performance in the upper range of 'saleprice'"
   ]
  }
 ],
 "metadata": {
  "kernelspec": {
   "display_name": "Python 3",
   "language": "python",
   "name": "python3"
  },
  "language_info": {
   "codemirror_mode": {
    "name": "ipython",
    "version": 3
   },
   "file_extension": ".py",
   "mimetype": "text/x-python",
   "name": "python",
   "nbconvert_exporter": "python",
   "pygments_lexer": "ipython3",
   "version": "3.6.8"
  }
 },
 "nbformat": 4,
 "nbformat_minor": 2
}
