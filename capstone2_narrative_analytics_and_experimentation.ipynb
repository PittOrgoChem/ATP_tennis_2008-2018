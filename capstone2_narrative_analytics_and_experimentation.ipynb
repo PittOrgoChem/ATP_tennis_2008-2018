{
 "cells": [
  {
   "cell_type": "markdown",
   "metadata": {},
   "source": [
    "## <div style=\"text-align:center\">Experiment Proposal: Demo Stand versus Printed Flyers as Advertisement Vehicle for the New AR Smart Watch</div> \n",
    "### <div style=\"text-align:center\">By Jean-Philippe Pitteloud</div>"
   ]
  },
  {
   "cell_type": "markdown",
   "metadata": {},
   "source": [
    "#### Business Problem"
   ]
  },
  {
   "cell_type": "markdown",
   "metadata": {},
   "source": [
    "The management of the anonymous company that owns 45 retail stores is evaluating launching a **New Augmented Reality (AR) Smart Watch** throughout the entire company. Traditionally, the company adverstises its new products along with the week clearance products through a **printed flyer distributed in the store front**. A new marketing team, is proposing the use of a **booth to demo the product to visitors** to allow customers to try the product first hand and encourage them to buy it immediately"
   ]
  },
  {
   "cell_type": "markdown",
   "metadata": {},
   "source": [
    "#### Proposal"
   ]
  },
  {
   "cell_type": "markdown",
   "metadata": {},
   "source": [
    "The Data Science team of the company proposes an **A/B testing experiment** to evaluate the effects of the new **demo booth** in boosting the sales of the new product. Based on the problem at hand, it is expected that the average sales for new product ($\\mu_{sales}$) will be higher in stores having the **demo booth** (test stores) in comparison to those stores advertising via **printed flyer** (control stores). The information below summarizes our working hypotheses for the experiment:"
   ]
  },
  {
   "cell_type": "markdown",
   "metadata": {},
   "source": [
    "<div style=\"text-align:center\">$H_{0}: \\mu_{sales,test} \\le \\mu_{sales,control}$</div>\n",
    "\n",
    "<div style=\"text-align:center\">$H_{1}: \\mu_{sales,test} > \\mu_{sales,control}$</div>"
   ]
  },
  {
   "cell_type": "markdown",
   "metadata": {},
   "source": [
    "- **Requirements**"
   ]
  },
  {
   "cell_type": "code",
   "execution_count": 1,
   "metadata": {},
   "outputs": [],
   "source": [
    "import numpy as np\n",
    "import pandas as pd\n",
    "import seaborn as sns\n",
    "import matplotlib.pyplot as plt\n",
    "%matplotlib inline"
   ]
  },
  {
   "cell_type": "markdown",
   "metadata": {},
   "source": [
    "- **Data Gathering**"
   ]
  },
  {
   "cell_type": "markdown",
   "metadata": {},
   "source": [
    "The data for this project was manually downloaded from **kaggle** and made available by **Manjeet Singh** (https://www.kaggle.com/manjeetsingh/retaildataset#stores%20data-set.csv). The data comprises three tables containing historical sales data for 45 stores of an anonymous company located in several regions. Each particular store contains a number of departments. A more detailed description of the data contained in every table is offered below"
   ]
  },
  {
   "cell_type": "code",
   "execution_count": 2,
   "metadata": {
    "scrolled": true
   },
   "outputs": [
    {
     "data": {
      "text/html": [
       "<div>\n",
       "<style scoped>\n",
       "    .dataframe tbody tr th:only-of-type {\n",
       "        vertical-align: middle;\n",
       "    }\n",
       "\n",
       "    .dataframe tbody tr th {\n",
       "        vertical-align: top;\n",
       "    }\n",
       "\n",
       "    .dataframe thead th {\n",
       "        text-align: right;\n",
       "    }\n",
       "</style>\n",
       "<table border=\"1\" class=\"dataframe\">\n",
       "  <thead>\n",
       "    <tr style=\"text-align: right;\">\n",
       "      <th></th>\n",
       "      <th>Store</th>\n",
       "      <th>Type</th>\n",
       "      <th>Size</th>\n",
       "    </tr>\n",
       "  </thead>\n",
       "  <tbody>\n",
       "    <tr>\n",
       "      <th>0</th>\n",
       "      <td>1</td>\n",
       "      <td>A</td>\n",
       "      <td>151315</td>\n",
       "    </tr>\n",
       "    <tr>\n",
       "      <th>1</th>\n",
       "      <td>2</td>\n",
       "      <td>A</td>\n",
       "      <td>202307</td>\n",
       "    </tr>\n",
       "    <tr>\n",
       "      <th>2</th>\n",
       "      <td>3</td>\n",
       "      <td>B</td>\n",
       "      <td>37392</td>\n",
       "    </tr>\n",
       "    <tr>\n",
       "      <th>3</th>\n",
       "      <td>4</td>\n",
       "      <td>A</td>\n",
       "      <td>205863</td>\n",
       "    </tr>\n",
       "    <tr>\n",
       "      <th>4</th>\n",
       "      <td>5</td>\n",
       "      <td>B</td>\n",
       "      <td>34875</td>\n",
       "    </tr>\n",
       "  </tbody>\n",
       "</table>\n",
       "</div>"
      ],
      "text/plain": [
       "   Store Type    Size\n",
       "0      1    A  151315\n",
       "1      2    A  202307\n",
       "2      3    B   37392\n",
       "3      4    A  205863\n",
       "4      5    B   34875"
      ]
     },
     "execution_count": 2,
     "metadata": {},
     "output_type": "execute_result"
    }
   ],
   "source": [
    "df_stores = pd.read_csv('stores_data_set.csv')\n",
    "\n",
    "df_stores.head()"
   ]
  },
  {
   "cell_type": "markdown",
   "metadata": {},
   "source": [
    "The **stores** table loaded above as **df_stores** Pandas dataframe summarizes anonymized information about the 45 stores, indicating the type and size of store"
   ]
  },
  {
   "cell_type": "code",
   "execution_count": 3,
   "metadata": {},
   "outputs": [
    {
     "data": {
      "text/html": [
       "<div>\n",
       "<style scoped>\n",
       "    .dataframe tbody tr th:only-of-type {\n",
       "        vertical-align: middle;\n",
       "    }\n",
       "\n",
       "    .dataframe tbody tr th {\n",
       "        vertical-align: top;\n",
       "    }\n",
       "\n",
       "    .dataframe thead th {\n",
       "        text-align: right;\n",
       "    }\n",
       "</style>\n",
       "<table border=\"1\" class=\"dataframe\">\n",
       "  <thead>\n",
       "    <tr style=\"text-align: right;\">\n",
       "      <th></th>\n",
       "      <th>Store</th>\n",
       "      <th>Date</th>\n",
       "      <th>Temperature</th>\n",
       "      <th>Fuel_Price</th>\n",
       "      <th>MarkDown1</th>\n",
       "      <th>MarkDown2</th>\n",
       "      <th>MarkDown3</th>\n",
       "      <th>MarkDown4</th>\n",
       "      <th>MarkDown5</th>\n",
       "      <th>CPI</th>\n",
       "      <th>Unemployment</th>\n",
       "      <th>IsHoliday</th>\n",
       "    </tr>\n",
       "  </thead>\n",
       "  <tbody>\n",
       "    <tr>\n",
       "      <th>0</th>\n",
       "      <td>1</td>\n",
       "      <td>05/02/2010</td>\n",
       "      <td>42.31</td>\n",
       "      <td>2.572</td>\n",
       "      <td>NaN</td>\n",
       "      <td>NaN</td>\n",
       "      <td>NaN</td>\n",
       "      <td>NaN</td>\n",
       "      <td>NaN</td>\n",
       "      <td>211.096358</td>\n",
       "      <td>8.106</td>\n",
       "      <td>False</td>\n",
       "    </tr>\n",
       "    <tr>\n",
       "      <th>1</th>\n",
       "      <td>1</td>\n",
       "      <td>12/02/2010</td>\n",
       "      <td>38.51</td>\n",
       "      <td>2.548</td>\n",
       "      <td>NaN</td>\n",
       "      <td>NaN</td>\n",
       "      <td>NaN</td>\n",
       "      <td>NaN</td>\n",
       "      <td>NaN</td>\n",
       "      <td>211.242170</td>\n",
       "      <td>8.106</td>\n",
       "      <td>True</td>\n",
       "    </tr>\n",
       "    <tr>\n",
       "      <th>2</th>\n",
       "      <td>1</td>\n",
       "      <td>19/02/2010</td>\n",
       "      <td>39.93</td>\n",
       "      <td>2.514</td>\n",
       "      <td>NaN</td>\n",
       "      <td>NaN</td>\n",
       "      <td>NaN</td>\n",
       "      <td>NaN</td>\n",
       "      <td>NaN</td>\n",
       "      <td>211.289143</td>\n",
       "      <td>8.106</td>\n",
       "      <td>False</td>\n",
       "    </tr>\n",
       "    <tr>\n",
       "      <th>3</th>\n",
       "      <td>1</td>\n",
       "      <td>26/02/2010</td>\n",
       "      <td>46.63</td>\n",
       "      <td>2.561</td>\n",
       "      <td>NaN</td>\n",
       "      <td>NaN</td>\n",
       "      <td>NaN</td>\n",
       "      <td>NaN</td>\n",
       "      <td>NaN</td>\n",
       "      <td>211.319643</td>\n",
       "      <td>8.106</td>\n",
       "      <td>False</td>\n",
       "    </tr>\n",
       "    <tr>\n",
       "      <th>4</th>\n",
       "      <td>1</td>\n",
       "      <td>05/03/2010</td>\n",
       "      <td>46.50</td>\n",
       "      <td>2.625</td>\n",
       "      <td>NaN</td>\n",
       "      <td>NaN</td>\n",
       "      <td>NaN</td>\n",
       "      <td>NaN</td>\n",
       "      <td>NaN</td>\n",
       "      <td>211.350143</td>\n",
       "      <td>8.106</td>\n",
       "      <td>False</td>\n",
       "    </tr>\n",
       "  </tbody>\n",
       "</table>\n",
       "</div>"
      ],
      "text/plain": [
       "   Store        Date  Temperature  Fuel_Price  MarkDown1  MarkDown2  \\\n",
       "0      1  05/02/2010        42.31       2.572        NaN        NaN   \n",
       "1      1  12/02/2010        38.51       2.548        NaN        NaN   \n",
       "2      1  19/02/2010        39.93       2.514        NaN        NaN   \n",
       "3      1  26/02/2010        46.63       2.561        NaN        NaN   \n",
       "4      1  05/03/2010        46.50       2.625        NaN        NaN   \n",
       "\n",
       "   MarkDown3  MarkDown4  MarkDown5         CPI  Unemployment  IsHoliday  \n",
       "0        NaN        NaN        NaN  211.096358         8.106      False  \n",
       "1        NaN        NaN        NaN  211.242170         8.106       True  \n",
       "2        NaN        NaN        NaN  211.289143         8.106      False  \n",
       "3        NaN        NaN        NaN  211.319643         8.106      False  \n",
       "4        NaN        NaN        NaN  211.350143         8.106      False  "
      ]
     },
     "execution_count": 3,
     "metadata": {},
     "output_type": "execute_result"
    }
   ],
   "source": [
    "df_features = pd.read_csv('features_data_set.csv')\n",
    "\n",
    "df_features.head(5)"
   ]
  },
  {
   "cell_type": "markdown",
   "metadata": {},
   "source": [
    "The **features** table loaded above as **df_features** dataframe contains additional data related to the store, department, and regional activity for the given dates\n",
    "\n",
    "- Store - the store number\n",
    "- Date - week of\n",
    "- Temperature - average temperature in the region\n",
    "- Fuel_Price - cost of fuel in the region\n",
    "- MarkDown1-5 - anonymized data related to promotional markdowns. MarkDown data is only available after Nov 2011, and is not available for all stores all the time. Any missing value is marked with an NA\n",
    "- CPI - the consumer price index\n",
    "- Unemployment - the unemployment rate\n",
    "- IsHoliday - whether the week is a special holiday week"
   ]
  },
  {
   "cell_type": "code",
   "execution_count": 4,
   "metadata": {
    "scrolled": true
   },
   "outputs": [
    {
     "data": {
      "text/html": [
       "<div>\n",
       "<style scoped>\n",
       "    .dataframe tbody tr th:only-of-type {\n",
       "        vertical-align: middle;\n",
       "    }\n",
       "\n",
       "    .dataframe tbody tr th {\n",
       "        vertical-align: top;\n",
       "    }\n",
       "\n",
       "    .dataframe thead th {\n",
       "        text-align: right;\n",
       "    }\n",
       "</style>\n",
       "<table border=\"1\" class=\"dataframe\">\n",
       "  <thead>\n",
       "    <tr style=\"text-align: right;\">\n",
       "      <th></th>\n",
       "      <th>Store</th>\n",
       "      <th>Dept</th>\n",
       "      <th>Date</th>\n",
       "      <th>Weekly_Sales</th>\n",
       "      <th>IsHoliday</th>\n",
       "    </tr>\n",
       "  </thead>\n",
       "  <tbody>\n",
       "    <tr>\n",
       "      <th>0</th>\n",
       "      <td>1</td>\n",
       "      <td>1</td>\n",
       "      <td>05/02/2010</td>\n",
       "      <td>24924.50</td>\n",
       "      <td>False</td>\n",
       "    </tr>\n",
       "    <tr>\n",
       "      <th>1</th>\n",
       "      <td>1</td>\n",
       "      <td>1</td>\n",
       "      <td>12/02/2010</td>\n",
       "      <td>46039.49</td>\n",
       "      <td>True</td>\n",
       "    </tr>\n",
       "    <tr>\n",
       "      <th>2</th>\n",
       "      <td>1</td>\n",
       "      <td>1</td>\n",
       "      <td>19/02/2010</td>\n",
       "      <td>41595.55</td>\n",
       "      <td>False</td>\n",
       "    </tr>\n",
       "    <tr>\n",
       "      <th>3</th>\n",
       "      <td>1</td>\n",
       "      <td>1</td>\n",
       "      <td>26/02/2010</td>\n",
       "      <td>19403.54</td>\n",
       "      <td>False</td>\n",
       "    </tr>\n",
       "    <tr>\n",
       "      <th>4</th>\n",
       "      <td>1</td>\n",
       "      <td>1</td>\n",
       "      <td>05/03/2010</td>\n",
       "      <td>21827.90</td>\n",
       "      <td>False</td>\n",
       "    </tr>\n",
       "  </tbody>\n",
       "</table>\n",
       "</div>"
      ],
      "text/plain": [
       "   Store  Dept        Date  Weekly_Sales  IsHoliday\n",
       "0      1     1  05/02/2010      24924.50      False\n",
       "1      1     1  12/02/2010      46039.49       True\n",
       "2      1     1  19/02/2010      41595.55      False\n",
       "3      1     1  26/02/2010      19403.54      False\n",
       "4      1     1  05/03/2010      21827.90      False"
      ]
     },
     "execution_count": 4,
     "metadata": {},
     "output_type": "execute_result"
    }
   ],
   "source": [
    "df_sales = pd.read_csv('sales_data_set.csv')\n",
    "\n",
    "df_sales.head()"
   ]
  },
  {
   "cell_type": "markdown",
   "metadata": {},
   "source": [
    "Last, the third table **sales** reports historical sales data convering the period between 2010-02-05 and 2012-11-01. The data was loaded as a Pandas dataframe **df_sales**\n",
    "\n",
    "- Store - the store number\n",
    "- Dept - the department number\n",
    "- Date - week of\n",
    "- Weekly_Sales -  sales for the given department in the given store\n",
    "- IsHoliday - whether the week is a special holiday week"
   ]
  },
  {
   "cell_type": "markdown",
   "metadata": {},
   "source": [
    "- **Data Assessment and Cleaning**"
   ]
  },
  {
   "cell_type": "markdown",
   "metadata": {},
   "source": [
    "To ensure the quality of the data before the study, assessment of the datasets was conducted"
   ]
  },
  {
   "cell_type": "code",
   "execution_count": 5,
   "metadata": {
    "scrolled": false
   },
   "outputs": [
    {
     "name": "stdout",
     "output_type": "stream",
     "text": [
      "<class 'pandas.core.frame.DataFrame'>\n",
      "RangeIndex: 45 entries, 0 to 44\n",
      "Data columns (total 3 columns):\n",
      "Store    45 non-null int64\n",
      "Type     45 non-null object\n",
      "Size     45 non-null int64\n",
      "dtypes: int64(2), object(1)\n",
      "memory usage: 1.1+ KB\n"
     ]
    }
   ],
   "source": [
    "df_stores.info()"
   ]
  },
  {
   "cell_type": "code",
   "execution_count": 6,
   "metadata": {},
   "outputs": [],
   "source": [
    "df_stores['Store'] = df_stores['Store'].astype(str)\n",
    "df_features['Store'] = df_features['Store'].astype(str)\n",
    "df_sales['Store'] = df_sales['Store'].astype(str)"
   ]
  },
  {
   "cell_type": "markdown",
   "metadata": {},
   "source": [
    "As it can be seen in the summary above, the **df_stores** dataset does not have missing values. To see the distribution of 'store types'the following plot was prepared"
   ]
  },
  {
   "cell_type": "code",
   "execution_count": 7,
   "metadata": {
    "scrolled": false
   },
   "outputs": [
    {
     "data": {
      "image/png": "[encoded data removed]",
      "text/plain": [
       "<Figure size 432x288 with 1 Axes>"
      ]
     },
     "metadata": {
      "needs_background": "light"
     },
     "output_type": "display_data"
    }
   ],
   "source": [
    "sns.countplot(data = df_stores, x = 'Type', palette = 'colorblind')\n",
    "plt.title('Distribution of Stores based on Type of Store')\n",
    "plt.ylabel('Number of Stores')\n",
    "plt.xlabel('Type of Store');"
   ]
  },
  {
   "cell_type": "markdown",
   "metadata": {},
   "source": [
    "In the plot above, it is eveident that most of the 45 stores are classified as **Type A** stores, closely followed by **Type B** stores. **Type C** stores are much less common with only a small fraction of all stores belonging to this type"
   ]
  },
  {
   "cell_type": "code",
   "execution_count": 8,
   "metadata": {
    "scrolled": true
   },
   "outputs": [
    {
     "data": {
      "image/png": "[encoded data removed]",
      "text/plain": [
       "<Figure size 432x288 with 1 Axes>"
      ]
     },
     "metadata": {
      "needs_background": "light"
     },
     "output_type": "display_data"
    }
   ],
   "source": [
    "sns.boxplot(data = df_stores, x = 'Type', y = 'Size', palette = 'colorblind')\n",
    "sns.swarmplot(data = df_stores, x = 'Type', y = 'Size', color=\".75\")\n",
    "plt.yscale('log')\n",
    "plt.title('Distribution of Store Sizes based on Store Type')\n",
    "plt.ylabel('Store Size')\n",
    "plt.xlabel('Store Type');"
   ]
  },
  {
   "cell_type": "markdown",
   "metadata": {},
   "source": [
    "In the chart above, the distribution of the Store Sizes for all three groups of stores is depicted. The lack of overlap between the three groups makes it easier to distinguish them based on this attribute and eventually establish meaningful comparisons among stores classified as the same Store Type. For example, the presence of more than ten **Type A** stores with very similar sizes might be useful for direct comparison during A/B Testing, however, other metrics such as average sales and location might be also taken into account"
   ]
  },
  {
   "cell_type": "code",
   "execution_count": 9,
   "metadata": {},
   "outputs": [
    {
     "name": "stdout",
     "output_type": "stream",
     "text": [
      "<class 'pandas.core.frame.DataFrame'>\n",
      "RangeIndex: 421570 entries, 0 to 421569\n",
      "Data columns (total 5 columns):\n",
      "Store           421570 non-null object\n",
      "Dept            421570 non-null int64\n",
      "Date            421570 non-null object\n",
      "Weekly_Sales    421570 non-null float64\n",
      "IsHoliday       421570 non-null bool\n",
      "dtypes: bool(1), float64(1), int64(1), object(2)\n",
      "memory usage: 13.3+ MB\n"
     ]
    }
   ],
   "source": [
    "df_sales.info()"
   ]
  },
  {
   "cell_type": "markdown",
   "metadata": {},
   "source": [
    "The summary table above, describes the **df_sales** dataframe as a complete dataset without any missing values. However, in order to be able to work and perform aggregations over a period of time, it is more convenient to format the 'Date' field as 'datetime'. The appropriate conversion of the mentioned field was performed on a copy of the original 'sales' dataset"
   ]
  },
  {
   "cell_type": "code",
   "execution_count": 10,
   "metadata": {},
   "outputs": [],
   "source": [
    "df_sales_clean = df_sales.copy()"
   ]
  },
  {
   "cell_type": "code",
   "execution_count": 11,
   "metadata": {},
   "outputs": [],
   "source": [
    "df_sales_clean['Date'] = pd.to_datetime(df_sales_clean['Date'], format = '%d/%m/%Y')"
   ]
  },
  {
   "cell_type": "markdown",
   "metadata": {},
   "source": [
    "Last, a quick look was taken into the data contained in the **df_features** dataset"
   ]
  },
  {
   "cell_type": "code",
   "execution_count": 12,
   "metadata": {
    "scrolled": true
   },
   "outputs": [
    {
     "name": "stdout",
     "output_type": "stream",
     "text": [
      "<class 'pandas.core.frame.DataFrame'>\n",
      "RangeIndex: 8190 entries, 0 to 8189\n",
      "Data columns (total 12 columns):\n",
      "Store           8190 non-null object\n",
      "Date            8190 non-null object\n",
      "Temperature     8190 non-null float64\n",
      "Fuel_Price      8190 non-null float64\n",
      "MarkDown1       4032 non-null float64\n",
      "MarkDown2       2921 non-null float64\n",
      "MarkDown3       3613 non-null float64\n",
      "MarkDown4       3464 non-null float64\n",
      "MarkDown5       4050 non-null float64\n",
      "CPI             7605 non-null float64\n",
      "Unemployment    7605 non-null float64\n",
      "IsHoliday       8190 non-null bool\n",
      "dtypes: bool(1), float64(9), object(2)\n",
      "memory usage: 711.9+ KB\n"
     ]
    }
   ],
   "source": [
    "df_features.info()"
   ]
  },
  {
   "cell_type": "markdown",
   "metadata": {},
   "source": [
    "As it can be seen above, there are multiple fields reporting missing values, while five fields containing information about the store identity, climate, and geoeconomical parameters is quite complete. To simplify the analysis around the different stores, fields with missing values were removed from a copy of the original dataset. To secure consistency with other datasets in the project the 'Date' field format was also changed to 'datetime' data type"
   ]
  },
  {
   "cell_type": "code",
   "execution_count": 13,
   "metadata": {},
   "outputs": [],
   "source": [
    "df_feat_clean = df_features.copy()"
   ]
  },
  {
   "cell_type": "code",
   "execution_count": 14,
   "metadata": {},
   "outputs": [],
   "source": [
    "df_feat_clean.drop(['MarkDown1', 'MarkDown2', 'MarkDown3', 'MarkDown4', 'MarkDown5', 'CPI', 'Unemployment'], axis = 1, inplace = True)"
   ]
  },
  {
   "cell_type": "code",
   "execution_count": 15,
   "metadata": {},
   "outputs": [],
   "source": [
    "df_feat_clean['Date'] = pd.to_datetime(df_feat_clean['Date'], format = '%d/%m/%Y')"
   ]
  },
  {
   "cell_type": "markdown",
   "metadata": {},
   "source": [
    "- **Experiment duration:** The experiment would be run for two months during from March 1st and April 30th of the present year. The reason for selecting these dates is the absence of 'Holidays' during the period giving us a good baseline for comparison (see below). "
   ]
  },
  {
   "cell_type": "code",
   "execution_count": 16,
   "metadata": {},
   "outputs": [],
   "source": [
    "date_flag = (df_feat_clean['Date'] >= '2010-03-01') & (df_feat_clean['Date'] <= '2010-04-30')"
   ]
  },
  {
   "cell_type": "code",
   "execution_count": 17,
   "metadata": {
    "scrolled": true
   },
   "outputs": [
    {
     "data": {
      "text/plain": [
       "0"
      ]
     },
     "execution_count": 17,
     "metadata": {},
     "output_type": "execute_result"
    }
   ],
   "source": [
    "df_feat_clean.loc[date_flag, :]['IsHoliday'].sum()"
   ]
  },
  {
   "cell_type": "markdown",
   "metadata": {},
   "source": [
    "- **Sample selection**: defining the unit (the entity to which the experiment is being applied to) as a **store**, the selection of the **test stores** could be performed taking into account the following metrics: average temperature, average fuel price, store size, store type, and average monthly sales. The averaged metrics would be calculated over the period defined above using historic data. A total of 5 stores would be selected as the **test sample** and 5 other stores would be pair with the test stores using the averaged 'Weekly_Sales' and the store 'Size' (**control sample**). Considering the nature of the proposed experiment, **only Type A** (larger size) stores would be considered to accommodate the needs for physical space. In order to facilitate matching the test and control stores, a master dataset was assembled below and a scatter plot was created to visualize stores with similar metrics. As a more advanced alternative, the use of clustering techniques that will use all the metrics available might be better to find stores that report similar performances and parameters overall"
   ]
  },
  {
   "cell_type": "code",
   "execution_count": 18,
   "metadata": {},
   "outputs": [],
   "source": [
    "df_temp_fuel = df_feat_clean.loc[date_flag, :].groupby('Store', as_index = False)['Temperature', 'Fuel_Price'].mean()"
   ]
  },
  {
   "cell_type": "code",
   "execution_count": 19,
   "metadata": {},
   "outputs": [],
   "source": [
    "df_stores2 = df_stores.merge(df_temp_fuel, on = 'Store')"
   ]
  },
  {
   "cell_type": "code",
   "execution_count": 20,
   "metadata": {},
   "outputs": [],
   "source": [
    "date_flag2 = (df_sales_clean['Date'] >= '2010-03-01') & (df_sales_clean['Date'] <= '2010-04-30')\n",
    "df_mean_sales = df_sales_clean.loc[date_flag2, :].groupby('Store', as_index = False)['Weekly_Sales'].mean()"
   ]
  },
  {
   "cell_type": "code",
   "execution_count": 21,
   "metadata": {},
   "outputs": [],
   "source": [
    "df_stores3 = df_stores2.merge(df_mean_sales, on = 'Store')"
   ]
  },
  {
   "cell_type": "code",
   "execution_count": 22,
   "metadata": {},
   "outputs": [
    {
     "data": {
      "image/png": "[encoded data removed]",
      "text/plain": [
       "<Figure size 1080x576 with 1 Axes>"
      ]
     },
     "metadata": {
      "needs_background": "light"
     },
     "output_type": "display_data"
    }
   ],
   "source": [
    "plt.figure(figsize = [15, 8])\n",
    "ax = sns.scatterplot(data = df_stores3[df_stores3['Type'] == 'A'], x = 'Size', y = 'Weekly_Sales', s = 100)\n",
    "plt.title('Average Weekly Sales versus Store Size')\n",
    "plt.ylabel('Average Weekly Sales ($)')\n",
    "plt.xlabel('Store Size')\n",
    "df_stores3[df_stores3['Type'] == 'A'][['Size','Weekly_Sales','Store']].apply(lambda x: ax.text(*x),axis=1);"
   ]
  },
  {
   "cell_type": "markdown",
   "metadata": {},
   "source": [
    "Based on the information displayed in the plot above, five **test stores** were selected and matched against five **control stores**. The matching was based on similarities in terms of average weekly sales and store size for the period of time between 2010-03-01 and 2010-04-30. The use of the other features such as 'Fuel_Price' and 'Temperature' during the selection might be also possible, however, they should not be considered a reliable information regarding store's location. The list of matched stores was then used to create a Pandas Dataframe for future reference and evaluation of the experiment's results"
   ]
  },
  {
   "cell_type": "code",
   "execution_count": 23,
   "metadata": {},
   "outputs": [],
   "source": [
    "ls = [[41,32], [24, 31], [28, 11], [27, 4], [40, 8]]\n",
    "store_matched = pd.DataFrame(ls, columns = ['test_store', 'control_store'])"
   ]
  },
  {
   "cell_type": "code",
   "execution_count": 24,
   "metadata": {},
   "outputs": [
    {
     "data": {
      "text/html": [
       "<div>\n",
       "<style scoped>\n",
       "    .dataframe tbody tr th:only-of-type {\n",
       "        vertical-align: middle;\n",
       "    }\n",
       "\n",
       "    .dataframe tbody tr th {\n",
       "        vertical-align: top;\n",
       "    }\n",
       "\n",
       "    .dataframe thead th {\n",
       "        text-align: right;\n",
       "    }\n",
       "</style>\n",
       "<table border=\"1\" class=\"dataframe\">\n",
       "  <thead>\n",
       "    <tr style=\"text-align: right;\">\n",
       "      <th></th>\n",
       "      <th>test_store</th>\n",
       "      <th>control_store</th>\n",
       "    </tr>\n",
       "  </thead>\n",
       "  <tbody>\n",
       "    <tr>\n",
       "      <th>0</th>\n",
       "      <td>41</td>\n",
       "      <td>32</td>\n",
       "    </tr>\n",
       "    <tr>\n",
       "      <th>1</th>\n",
       "      <td>24</td>\n",
       "      <td>31</td>\n",
       "    </tr>\n",
       "    <tr>\n",
       "      <th>2</th>\n",
       "      <td>28</td>\n",
       "      <td>11</td>\n",
       "    </tr>\n",
       "    <tr>\n",
       "      <th>3</th>\n",
       "      <td>27</td>\n",
       "      <td>4</td>\n",
       "    </tr>\n",
       "    <tr>\n",
       "      <th>4</th>\n",
       "      <td>40</td>\n",
       "      <td>8</td>\n",
       "    </tr>\n",
       "  </tbody>\n",
       "</table>\n",
       "</div>"
      ],
      "text/plain": [
       "   test_store  control_store\n",
       "0          41             32\n",
       "1          24             31\n",
       "2          28             11\n",
       "3          27              4\n",
       "4          40              8"
      ]
     },
     "execution_count": 24,
     "metadata": {},
     "output_type": "execute_result"
    }
   ],
   "source": [
    "store_matched"
   ]
  },
  {
   "cell_type": "markdown",
   "metadata": {},
   "source": [
    "- **Experiment execution:** the booths would be delivered by the main office to the management of each **test store** two weeks in advance with instructions about installation and training for personel in charge of the demos. As mentioned above, the experiment would run for two months between March 1st and April 30th of the current year. All operations in selected **control stores** would be run as usual. The **new product sales** will be recorded as the main metric and aggregated daily by adding all sales originated from the new product. As the key metric for the experiment, the **average daily sales** ($\\mu_{sales}$) will be calculated by adding all daily sales for the period of the experiment (N = 60 days) and dividing the result by the total number by the following formula:\n",
    "\n",
    "<br><div style=\"text-align:center\">$\\mu_{sales}=\\frac{\\sum_{i=1}^Nx_{i}}{N}$</div></br>\n",
    "\n",
    "where $\\mu_{sales}$ is the average daily sales, $x_{i}$ is the sale for an individual day, N is the total number of days during the experiment.\n",
    "Once the **average daily sales** would be calculated, the standard deviation of the sales distribution ($\\sigma_{sales}$) would be determined using the following formula\n",
    "\n",
    "<br><div style=\"text-align:center\">$\\sigma_{sales}=\\sqrt{\\frac{1}{N}\\sum_{i=1}^N(x_{i}-\\mu_{sales})^2}$</div></br>\n",
    "\n",
    "where $x_{i}$ corresponds to the daily sales of the new product, N is the total number of days of the experiment, and $\\mu_{sales}$ is the average daily sales calculated over the experiment.\n",
    "At the end of the experiment period, store management should report original sales data collected during the experiment along with the calculated figures of $\\mu_{sales}$ and $\\sigma_{sales}$ for the new product"
   ]
  },
  {
   "cell_type": "markdown",
   "metadata": {},
   "source": [
    "- **Experiment evaluation:** the performance of the experiment would be measured by comparing the average daily sales for the new product during the period comprising the experiment for the **test store** group against the same metric for the **control store** group using an **independent two sample t-test**. The following formula will be used to calculate the **t-test value**:\n",
    "<br><div style=\"text-align:center\">$t=\\frac{\\mu_{sales,test}-\\mu_{sales,control}}{\\sqrt{\\frac{\\sigma_{sales,test}^2}{n_{test}}+\\frac{\\sigma_{sales,control}^2}{n_{control}}}}$</div></br>\n",
    "<br>where $\\mu_{sales,test}$ and $\\mu_{sales,control}$ are the corresponding averaged daily sales for the matching test and control stores, $\\sigma_{sales,test}$ and $\\sigma_{sales,control}$ are the standard deviations of the respective daily sales, and $n_{test}$ and $n_{control}$ are the number of stores in each group (5 each)</br>\n",
    "<br></br>\n",
    "<br>In order to test the validity of our hypotheses, a **p-value** will be determined. The p-value can be defined as the likelihood of obtaining values for the difference of the means of the two groups (test and control) as or more extreme than the actual measured difference. In other words, a p-value would give statistical ground to reject or not the formulated **null hypothesis**, which in this particular case is that the difference of the means would be zero or negligible taking into account pre-defined confidence intervals. Based on the values obtained for average daily sales and the corresponding standard deviation, a distribution of values will be created and the value determined using the calculated t-test values, and the p-values determined. Implementation of the program would be based on a p-value < 0.05, which means that you can be certain with 95% confidence that the measured differences in the means is caused by the test and not by random chance</br>\n",
    "<br></br>\n",
    "<br> A final report from the Data Science team shoudl be expected within two weeks from the completion of the experiment</br>"
   ]
  },
  {
   "cell_type": "markdown",
   "metadata": {},
   "source": [
    "#### References"
   ]
  },
  {
   "cell_type": "markdown",
   "metadata": {},
   "source": [
    "- I would like to thank **Manjeet Singh** and **kaggle** for sharing the data used for this project (https://www.kaggle.com/manjeetsingh/retaildataset#stores%20data-set.csv)\n",
    "- Stack overflow and the available documentation for some employed functions and methods were consulted during the project\n",
    "- I would also like to thank **Karen Farbman** for reviewing this work and giving valuable feedback"
   ]
  }
 ],
 "metadata": {
  "kernelspec": {
   "display_name": "Python 3",
   "language": "python",
   "name": "python3"
  },
  "language_info": {
   "codemirror_mode": {
    "name": "ipython",
    "version": 3
   },
   "file_extension": ".py",
   "mimetype": "text/x-python",
   "name": "python",
   "nbconvert_exporter": "python",
   "pygments_lexer": "ipython3",
   "version": "3.6.8"
  }
 },
 "nbformat": 4,
 "nbformat_minor": 2
}
