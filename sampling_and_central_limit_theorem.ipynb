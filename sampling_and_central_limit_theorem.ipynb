{
 "cells": [
  {
   "cell_type": "markdown",
   "metadata": {},
   "source": [
    "# Sampling and the Central Limit Theorem Assignment"
   ]
  },
  {
   "cell_type": "code",
   "execution_count": 1,
   "metadata": {},
   "outputs": [],
   "source": [
    "import numpy as np\n",
    "import pandas as pd\n",
    "import scipy\n",
    "import matplotlib.pyplot as plt\n",
    "%matplotlib inline"
   ]
  },
  {
   "cell_type": "markdown",
   "metadata": {},
   "source": [
    "### Data Generation - Two Populations "
   ]
  },
  {
   "cell_type": "code",
   "execution_count": 2,
   "metadata": {},
   "outputs": [
    {
     "name": "stdout",
     "output_type": "stream",
     "text": [
      "pop1_mean: 2.0141\n",
      "pop2_mean: 4.9813\n",
      "pop1_std: 1.2630523306656776\n",
      "pop2_std: 1.57058916015615\n",
      "mean_diff: 2.9672\n"
     ]
    }
   ],
   "source": [
    "pop1 = np.random.binomial(10, 0.2, 10000)\n",
    "\n",
    "pop2 = np.random.binomial(10, 0.5, 10000)\n",
    "\n",
    "print('pop1_mean:', pop1.mean())\n",
    "print('pop2_mean:', pop2.mean())\n",
    "print('pop1_std:', pop1.std())\n",
    "print('pop2_std:', pop2.std())\n",
    "\n",
    "diff = pop2.mean() - pop1.mean()\n",
    "print('mean_diff:', diff)"
   ]
  },
  {
   "cell_type": "code",
   "execution_count": 3,
   "metadata": {
    "scrolled": true
   },
   "outputs": [
    {
     "data": {
      "image/png": "[encoded data removed]",
      "text/plain": [
       "<Figure size 432x288 with 1 Axes>"
      ]
     },
     "metadata": {
      "needs_background": "light"
     },
     "output_type": "display_data"
    }
   ],
   "source": [
    "plt.hist(pop1, alpha=0.5, label='Pop 1', bins = 9) \n",
    "plt.hist(pop2, alpha=0.5, label='Pop 2', bins = 9) \n",
    "plt.legend();"
   ]
  },
  {
   "cell_type": "markdown",
   "metadata": {},
   "source": [
    "### Sampling "
   ]
  },
  {
   "cell_type": "code",
   "execution_count": 4,
   "metadata": {},
   "outputs": [
    {
     "name": "stdout",
     "output_type": "stream",
     "text": [
      "samp1_mean: 1.98\n",
      "samp2_mean: 5.03\n",
      "samp1_std: 1.2804686642007292\n",
      "samp2_std: 1.5261389189716643\n",
      "mean_diff: 3.0500000000000003\n"
     ]
    }
   ],
   "source": [
    "sample1 = np.random.choice(pop1, 100, replace=True)\n",
    "\n",
    "sample2 = np.random.choice(pop2, 100, replace=True)\n",
    "\n",
    "print('samp1_mean:', sample1.mean())\n",
    "print('samp2_mean:', sample2.mean())\n",
    "print('samp1_std:', sample1.std())\n",
    "print('samp2_std:', sample2.std())\n",
    "\n",
    "diff = sample2.mean() - sample1.mean()\n",
    "print('mean_diff:', diff)"
   ]
  },
  {
   "cell_type": "code",
   "execution_count": 5,
   "metadata": {},
   "outputs": [
    {
     "data": {
      "image/png": "[encoded data removed]",
      "text/plain": [
       "<Figure size 432x288 with 1 Axes>"
      ]
     },
     "metadata": {
      "needs_background": "light"
     },
     "output_type": "display_data"
    }
   ],
   "source": [
    "plt.hist(sample1, alpha=0.5, label='Sample 1', bins = 9) \n",
    "plt.hist(sample2, alpha=0.5, label='Sample 2', bins = 9) \n",
    "plt.legend();"
   ]
  },
  {
   "cell_type": "markdown",
   "metadata": {},
   "source": [
    "The resulting distributions and statistics (mean, standard deviation, and mean difference) of two samples created from the original populations (pop1 and pop2), can be observed in the histogram above. As it can be seen, none of the collection of values are normally distributed and reported values for the standar deviations and mean difference very similar to the values reported for the original populations. In terms of the means for the samples the values differ to a greater extent but were close to the original values. In both cases the obtained means were close expected value calculated by using the formula mean = n * p"
   ]
  },
  {
   "cell_type": "markdown",
   "metadata": {},
   "source": [
    "**1a. Increase the size of your samples from 100 to 1000**"
   ]
  },
  {
   "cell_type": "markdown",
   "metadata": {},
   "source": [
    "By increasing the size of the samples from 100 to 1000 is expected to produce a more normal-looking distribution and mean and standard deviations values closer to the values reported for the original populations"
   ]
  },
  {
   "cell_type": "code",
   "execution_count": 6,
   "metadata": {},
   "outputs": [
    {
     "name": "stdout",
     "output_type": "stream",
     "text": [
      "samp3_mean: 1.942\n",
      "samp4_mean: 5.007\n",
      "samp3_std: 1.2635806266321117\n",
      "samp4_std: 1.5430330521411393\n",
      "mean_diff: 3.0649999999999995\n"
     ]
    }
   ],
   "source": [
    "sample3 = np.random.choice(pop1, 1000, replace=True)\n",
    "\n",
    "sample4 = np.random.choice(pop2, 1000, replace=True)\n",
    "\n",
    "print('samp3_mean:', sample3.mean())\n",
    "print('samp4_mean:', sample4.mean())\n",
    "print('samp3_std:', sample3.std())\n",
    "print('samp4_std:', sample4.std())\n",
    "\n",
    "diff = sample4.mean() - sample3.mean()\n",
    "print('mean_diff:', diff)"
   ]
  },
  {
   "cell_type": "code",
   "execution_count": 7,
   "metadata": {
    "scrolled": false
   },
   "outputs": [
    {
     "data": {
      "image/png": "[encoded data removed]",
      "text/plain": [
       "<Figure size 432x288 with 1 Axes>"
      ]
     },
     "metadata": {
      "needs_background": "light"
     },
     "output_type": "display_data"
    }
   ],
   "source": [
    "plt.hist(sample3, alpha=0.5, label='Sample 3', bins = 9) \n",
    "plt.hist(sample4, alpha=0.5, label='Sample 4', bins = 9) \n",
    "plt.legend();"
   ]
  },
  {
   "cell_type": "markdown",
   "metadata": {},
   "source": [
    "As predicted above, the histogram shows two distribution that look more normal than the distributions obtained for smaller samples and the mean and standard deviation for the new samples are closer to the values reported for the original populations"
   ]
  },
  {
   "cell_type": "markdown",
   "metadata": {},
   "source": [
    "**1b. Decrease the size of your samples to 20**"
   ]
  },
  {
   "cell_type": "markdown",
   "metadata": {},
   "source": [
    "In contrast to the previous example, decreasing the size of the sample from 100 to 20 is expected to result in values for mean and standard deviation for the new samples that are less similar to the values for the original populations and distributions that are less normal-looking"
   ]
  },
  {
   "cell_type": "code",
   "execution_count": 8,
   "metadata": {},
   "outputs": [
    {
     "name": "stdout",
     "output_type": "stream",
     "text": [
      "samp5_mean: 2.4\n",
      "samp6_mean: 5.2\n",
      "samp5_std: 1.1575836902790226\n",
      "samp6_std: 1.2884098726725126\n",
      "mean_diff: 2.8000000000000003\n"
     ]
    }
   ],
   "source": [
    "sample5 = np.random.choice(pop1, 20, replace=True)\n",
    "\n",
    "sample6 = np.random.choice(pop2, 20, replace=True)\n",
    "\n",
    "print('samp5_mean:', sample5.mean())\n",
    "print('samp6_mean:', sample6.mean())\n",
    "print('samp5_std:', sample5.std())\n",
    "print('samp6_std:', sample6.std())\n",
    "\n",
    "diff = sample6.mean() - sample5.mean()\n",
    "print('mean_diff:', diff)"
   ]
  },
  {
   "cell_type": "code",
   "execution_count": 9,
   "metadata": {
    "scrolled": true
   },
   "outputs": [
    {
     "data": {
      "image/png": "[encoded data removed]",
      "text/plain": [
       "<Figure size 432x288 with 1 Axes>"
      ]
     },
     "metadata": {
      "needs_background": "light"
     },
     "output_type": "display_data"
    }
   ],
   "source": [
    "plt.hist(sample5, alpha=0.5, label='Sample 5', bins = 9) \n",
    "plt.hist(sample6, alpha=0.5, label='Sample 6', bins = 9) \n",
    "plt.legend();"
   ]
  },
  {
   "cell_type": "markdown",
   "metadata": {},
   "source": [
    "As it can be seen above, the histogram shows two distributions that are very distant from the known normal distribution. In terms of the statistics, both the mean and standard deviation for both samples were determined to be farther from the same statistics for the original populations than the larger samples of the previous example"
   ]
  },
  {
   "cell_type": "markdown",
   "metadata": {},
   "source": [
    "**2a. Changing the probability \"p\" for population 1 from 0.2 to 0.3**"
   ]
  },
  {
   "cell_type": "markdown",
   "metadata": {},
   "source": [
    "A change in the probability of success for the first population is expected to have a direct impact on the mean for the population and therefore any sample taken from it. The new value is expected to be around **p** * **n** = 3. Also, a change in the value for the mean difference is expected since the means for the two populations would be one full unit closer. In regards to the the t-value and p-value, a t-value that takes into account the mean difference and the combined variance in the form of the Standard Error is expected"
   ]
  },
  {
   "cell_type": "code",
   "execution_count": 10,
   "metadata": {},
   "outputs": [
    {
     "name": "stdout",
     "output_type": "stream",
     "text": [
      "samp7_mean: 3.1\n",
      "samp8_mean: 5.03\n",
      "samp7_std: 1.4106735979665885\n",
      "samp8_std: 1.5713370103195559\n",
      "mean_diff: 1.9300000000000002\n"
     ]
    }
   ],
   "source": [
    "pop1_2 = np.random.binomial(10, 0.3, 10000)\n",
    "\n",
    "pop2 = np.random.binomial(10, 0.5, 10000)\n",
    "\n",
    "sample7 = np.random.choice(pop1_2, 100, replace=True)\n",
    "\n",
    "sample8 = np.random.choice(pop2, 100, replace=True)\n",
    "\n",
    "print('samp7_mean:', sample7.mean())\n",
    "print('samp8_mean:', sample8.mean())\n",
    "print('samp7_std:', sample7.std())\n",
    "print('samp8_std:', sample8.std())\n",
    "\n",
    "diff = sample8.mean() - sample7.mean()\n",
    "print('mean_diff:', diff)"
   ]
  },
  {
   "cell_type": "code",
   "execution_count": 11,
   "metadata": {},
   "outputs": [
    {
     "name": "stdout",
     "output_type": "stream",
     "text": [
      "Ttest_indResult(statistic=9.09392357987258, pvalue=1.08388590233113e-16)\n"
     ]
    }
   ],
   "source": [
    "from scipy.stats import ttest_ind\n",
    "print(ttest_ind(sample8, sample7, equal_var=False))"
   ]
  },
  {
   "cell_type": "markdown",
   "metadata": {},
   "source": [
    "From the results above, the very small p-value obtained suggests that the difference in the mean for the two populations is statistically significant, in other words, the two samples are different"
   ]
  },
  {
   "cell_type": "code",
   "execution_count": 12,
   "metadata": {
    "scrolled": true
   },
   "outputs": [
    {
     "data": {
      "image/png": "[encoded data removed]",
      "text/plain": [
       "<Figure size 432x288 with 1 Axes>"
      ]
     },
     "metadata": {
      "needs_background": "light"
     },
     "output_type": "display_data"
    }
   ],
   "source": [
    "plt.hist(sample7, alpha=0.5, label='Sample 7', bins = 8) \n",
    "plt.hist(sample8, alpha=0.5, label='Sample 8', bins = 8) \n",
    "plt.legend();"
   ]
  },
  {
   "cell_type": "markdown",
   "metadata": {},
   "source": [
    "**2b. Changing the probability \"p\" for population 1 from 0.2 to 0.4**"
   ]
  },
  {
   "cell_type": "markdown",
   "metadata": {},
   "source": [
    "The change in probability \"p\" for population 1 from 0.2 to 0.4, is expected to change the mean for the mentioned population and subsequently the mean difference between the populations and any sample taken from them making it smaller. In terms of the t- and p-values, although the exact values cannot be predicted, we can expect the t-value to become smaller than the previous example since the mean difference would decrease by an approximate full unit while the standard deviations are not expected to change much. By the t-value getting smaller, it is expected for the p-value associated with it to become larger (closer to 1)  "
   ]
  },
  {
   "cell_type": "code",
   "execution_count": 13,
   "metadata": {},
   "outputs": [
    {
     "name": "stdout",
     "output_type": "stream",
     "text": [
      "samp9_mean: 3.87\n",
      "samp10_mean: 5.14\n",
      "samp9_std: 1.3758997056471813\n",
      "samp10_std: 1.523285921946369\n",
      "mean_diff: 1.2699999999999996\n"
     ]
    }
   ],
   "source": [
    "pop1_3 = np.random.binomial(10, 0.4, 10000)\n",
    "\n",
    "pop2 = np.random.binomial(10, 0.5, 10000)\n",
    "\n",
    "sample9 = np.random.choice(pop1_3, 100, replace=True)\n",
    "\n",
    "sample10 = np.random.choice(pop2, 100, replace=True)\n",
    "\n",
    "print('samp9_mean:', sample9.mean())\n",
    "print('samp10_mean:', sample10.mean())\n",
    "print('samp9_std:', sample9.std())\n",
    "print('samp10_std:', sample10.std())\n",
    "\n",
    "diff = sample10.mean() - sample9.mean()\n",
    "print('mean_diff:', diff)"
   ]
  },
  {
   "cell_type": "code",
   "execution_count": 14,
   "metadata": {},
   "outputs": [
    {
     "name": "stdout",
     "output_type": "stream",
     "text": [
      "Ttest_indResult(statistic=6.15601712260555, pvalue=4.136123607077554e-09)\n"
     ]
    }
   ],
   "source": [
    "from scipy.stats import ttest_ind\n",
    "print(ttest_ind(sample10, sample9, equal_var=False))"
   ]
  },
  {
   "cell_type": "markdown",
   "metadata": {},
   "source": [
    "From the results above, the adjusted mean difference became smaller than on the previous example while the p-value increased dramatically. However, the p-value is still well below the usual 0.05 value commonly used as threshold to reject the null hypothesis (that the two means will be the same)"
   ]
  },
  {
   "cell_type": "code",
   "execution_count": 15,
   "metadata": {},
   "outputs": [
    {
     "data": {
      "image/png": "[encoded data removed]",
      "text/plain": [
       "<Figure size 432x288 with 1 Axes>"
      ]
     },
     "metadata": {
      "needs_background": "light"
     },
     "output_type": "display_data"
    }
   ],
   "source": [
    "plt.hist(sample9, alpha=0.5, label='Sample 9', bins = 9) \n",
    "plt.hist(sample10, alpha=0.5, label='Sample 10', bins = 9) \n",
    "plt.legend();"
   ]
  },
  {
   "cell_type": "markdown",
   "metadata": {},
   "source": [
    "**3. Change the distribution of your populations from binomial to a distribution of your choice. Do the sample mean values still accurately represent the population values?**"
   ]
  },
  {
   "cell_type": "code",
   "execution_count": 16,
   "metadata": {},
   "outputs": [
    {
     "name": "stdout",
     "output_type": "stream",
     "text": [
      "pop3_mean: 5.0137\n",
      "pop4_mean: 2.001\n",
      "pop3_std: 4.509070005001031\n",
      "pop4_std: 1.4132936708271213\n",
      "mean_diff: -3.0127\n"
     ]
    }
   ],
   "source": [
    "pop3 = np.random.geometric(p = 0.2, size = 10000)\n",
    "\n",
    "pop4 = np.random.geometric(p = 0.5, size = 10000)\n",
    "\n",
    "print('pop3_mean:', pop3.mean())\n",
    "print('pop4_mean:', pop4.mean())\n",
    "print('pop3_std:', pop3.std())\n",
    "print('pop4_std:', pop4.std())\n",
    "\n",
    "diff = pop4.mean() - pop3.mean()\n",
    "print('mean_diff:', diff)"
   ]
  },
  {
   "cell_type": "code",
   "execution_count": 17,
   "metadata": {},
   "outputs": [
    {
     "data": {
      "image/png": "[encoded data removed]",
      "text/plain": [
       "<Figure size 432x288 with 1 Axes>"
      ]
     },
     "metadata": {
      "needs_background": "light"
     },
     "output_type": "display_data"
    }
   ],
   "source": [
    "plt.hist(pop3, alpha=0.5, label='Population 3') \n",
    "plt.hist(pop4, alpha=0.5, label='Population 4') \n",
    "plt.legend();"
   ]
  },
  {
   "cell_type": "code",
   "execution_count": 18,
   "metadata": {},
   "outputs": [
    {
     "name": "stdout",
     "output_type": "stream",
     "text": [
      "samp11_mean: 5.35\n",
      "samp12_mean: 2.1\n",
      "samp11_std: 4.798697740012388\n",
      "samp12_std: 1.4798648586948744\n",
      "mean_diff: -3.2499999999999996\n"
     ]
    }
   ],
   "source": [
    "sample11 = np.random.choice(pop3, 100, replace=True)\n",
    "\n",
    "sample12 = np.random.choice(pop4, 100, replace=True)\n",
    "\n",
    "print('samp11_mean:', sample11.mean())\n",
    "print('samp12_mean:', sample12.mean())\n",
    "print('samp11_std:', sample11.std())\n",
    "print('samp12_std:', sample12.std())\n",
    "\n",
    "diff = sample12.mean() - sample11.mean()\n",
    "print('mean_diff:', diff)"
   ]
  },
  {
   "cell_type": "code",
   "execution_count": 19,
   "metadata": {},
   "outputs": [
    {
     "name": "stdout",
     "output_type": "stream",
     "text": [
      "samp13_mean: 5.007\n",
      "samp14_mean: 2.03\n",
      "samp13_std: 4.364510396367502\n",
      "samp14_std: 1.4439875345722346\n",
      "mean_diff: -2.977\n"
     ]
    }
   ],
   "source": [
    "sample13 = np.random.choice(pop3, 1000, replace=True)\n",
    "\n",
    "sample14 = np.random.choice(pop4, 1000, replace=True)\n",
    "\n",
    "print('samp13_mean:', sample13.mean())\n",
    "print('samp14_mean:', sample14.mean())\n",
    "print('samp13_std:', sample13.std())\n",
    "print('samp14_std:', sample14.std())\n",
    "\n",
    "diff = sample14.mean() - sample13.mean()\n",
    "print('mean_diff:', diff)"
   ]
  },
  {
   "cell_type": "markdown",
   "metadata": {},
   "source": [
    "In the three outputs above, we calculated the means and standard deviations of two populations of 10000 points geometrically distributed with probabilities of success of 0.2 and 0.5 respectively. As it can be observed on the histogram showing the distribution of points from each of the populations, none of the populations are normally distributed. Then, we created one sample of each population of size 100 and determined the same statistics for comparison. As a result, both the mean and standard deviation were consistent with the values reported for the original population. As expected, creating larger samples (1000 points) from the original populations moved the means of the samples closer to the accepted values for the original populations, confirming the Central Limit Theorem"
   ]
  }
 ],
 "metadata": {
  "kernelspec": {
   "display_name": "Python 3",
   "language": "python",
   "name": "python3"
  },
  "language_info": {
   "codemirror_mode": {
    "name": "ipython",
    "version": 3
   },
   "file_extension": ".py",
   "mimetype": "text/x-python",
   "name": "python",
   "nbconvert_exporter": "python",
   "pygments_lexer": "ipython3",
   "version": "3.6.6"
  }
 },
 "nbformat": 4,
 "nbformat_minor": 2
}
