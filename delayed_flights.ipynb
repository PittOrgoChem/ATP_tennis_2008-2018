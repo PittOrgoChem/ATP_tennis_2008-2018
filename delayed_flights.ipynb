{
 "cells": [
  {
   "cell_type": "markdown",
   "metadata": {},
   "source": [
    "# DELAYED FLIGHTS IN THE US: A Painful Reality \n",
    "## *Author: Jean-Philippe Pitteloud*"
   ]
  },
  {
   "cell_type": "markdown",
   "metadata": {},
   "source": [
    "Have you ever experience a long and uncertain wait in a crowded airport without knowing if you are going to make it home, or your vacation, or your work meeting ? You are probably not alone in this group that typically have no other option but to patiently wait until the gates are finally open and the crew ready to scan your boarding pass. This work is inspired by a recent event that almost ruined a pleasant long weekdend in San Juan, Puerto Rico. What started as a fun trip to this beatiful island, slowly changed into a very painful experience for my family. A flight that was supposed to leave at 8:30 PM in the evening ended up leaving at 2:30 AM. The long wait was horrific, 2 hours inside a plane withour A/C probably resembled more a torture than a pleasure. Since my intention is not to bore you with a story that may be millions can share, I decided to know a little bit more about the behind-the-scenes of flight delays."
   ]
  },
  {
   "cell_type": "markdown",
   "metadata": {},
   "source": [
    "### Requirements"
   ]
  },
  {
   "cell_type": "code",
   "execution_count": 1,
   "metadata": {},
   "outputs": [],
   "source": [
    "import numpy as np\n",
    "import pandas as pd\n",
    "import seaborn as sns\n",
    "import scipy\n",
    "import os, fnmatch\n",
    "import matplotlib.pyplot as plt\n",
    "%matplotlib inline"
   ]
  },
  {
   "cell_type": "markdown",
   "metadata": {},
   "source": [
    "### Data Gathering"
   ]
  },
  {
   "cell_type": "markdown",
   "metadata": {},
   "source": [
    "In order to assemble our master dataset comprising information for the period of 2014-2018, a built-in function available in the 'OS' library was employed. First, the corresponding files for each year were manually downloaded from the United States Department of Transportation website (Bureau of Transportation Statistics, https://www.transtats.bts.gov/OT_Delay/OT_DelayCause1.asp?pn=1). After storing each separate file in a working directory, a list of files was created and a loop used to read and append the data to a dataframe named 'df_master'."
   ]
  },
  {
   "cell_type": "code",
   "execution_count": 2,
   "metadata": {},
   "outputs": [],
   "source": [
    "file_list = sorted(list(filter(lambda x: '.csv' in x, os.listdir('.'))))"
   ]
  },
  {
   "cell_type": "code",
   "execution_count": 3,
   "metadata": {},
   "outputs": [],
   "source": [
    "df_master = pd.DataFrame()\n",
    "for i in range(0, len(file_list)):\n",
    "    if df_master.empty: #evaluate if the 'comb_df' dataframe is empty\n",
    "        df_master = pd.read_csv(file_list[i]) #if empty, the dataframe resulting from 'prepare_data' is stored\n",
    "        i += 1 #increasing the indexing figure to move to the next file\n",
    "    else:\n",
    "        # if dataframe is not empty, merge new dataframe from 'prepare_data' to existing 'comb_df' dataframe\n",
    "        df_master = df_master.append(pd.read_csv(file_list[i]), ignore_index = True)\n",
    "        i += 1"
   ]
  },
  {
   "cell_type": "markdown",
   "metadata": {},
   "source": [
    "### Data Assessment and Cleaning"
   ]
  },
  {
   "cell_type": "markdown",
   "metadata": {},
   "source": [
    "Visual assessment of the dataset revealed a quite complete dataset with a diverse range of fields that include carrier and airport information, and a myriad of fields reporting the count of flights delayed and some of the most common reasons for their delays. Also, count of minutes delayed for each of those reasons is reported. The master dataset, is composed of 72,474 records of airlines during the period between January, 2014 and December, 2018."
   ]
  },
  {
   "cell_type": "code",
   "execution_count": 4,
   "metadata": {
    "scrolled": true
   },
   "outputs": [
    {
     "name": "stdout",
     "output_type": "stream",
     "text": [
      "Number of records on the master dataset: 72474\n"
     ]
    }
   ],
   "source": [
    "print('Number of records on the master dataset:', df_master.shape[0])"
   ]
  },
  {
   "cell_type": "markdown",
   "metadata": {},
   "source": [
    "The master dataset is divided into 23 columns. To avoid any confusion with the titles of the columns, some of the fields were appropriately renamed to be more explicit."
   ]
  },
  {
   "cell_type": "code",
   "execution_count": 5,
   "metadata": {
    "scrolled": false
   },
   "outputs": [],
   "source": [
    "df_master.rename(columns = {'arr_flights': 'total_flights', ' arr_delay': 'tot_min_delay', 'arr_del15': 'delayed_flights', 'arr_diverted': 'diverted_flights', 'arr_cancelled': 'cancelled_flights', ' carrier_delay': 'min_carrier_delay', 'weather_delay': 'min_weather_delay', 'nas_delay': 'min_nas_delay', 'security_delay': 'min_security_delay', 'late_aircraft_delay': 'min_late_aircraft_delay', 'carrier_ct': 'del_carrier_ct', ' weather_ct': 'del_weather_ct', 'nas_ct': 'del_nas_ct', 'security_ct': 'del_security_ct', 'late_aircraft_ct': 'del_late_aircraft_ct', ' month': 'month'}, inplace = True)"
   ]
  },
  {
   "cell_type": "markdown",
   "metadata": {},
   "source": [
    "Although the data in the field 'airport_name' includes the city and state where the aiport is located, the two letter state abbreviation was extracted to facilitate future aggregation of the data using the state as reference."
   ]
  },
  {
   "cell_type": "code",
   "execution_count": 6,
   "metadata": {},
   "outputs": [],
   "source": [
    "states = df_master.airport_name.str.extract(r'([A-Z][A-Z])')\n",
    "df_master = df_master.merge(states, left_index = True, right_index = True)\n",
    "\n",
    "df_master.rename(columns = {0: 'state'}, inplace = True)"
   ]
  },
  {
   "cell_type": "code",
   "execution_count": 7,
   "metadata": {
    "scrolled": true
   },
   "outputs": [
    {
     "data": {
      "text/html": [
       "<div>\n",
       "<style scoped>\n",
       "    .dataframe tbody tr th:only-of-type {\n",
       "        vertical-align: middle;\n",
       "    }\n",
       "\n",
       "    .dataframe tbody tr th {\n",
       "        vertical-align: top;\n",
       "    }\n",
       "\n",
       "    .dataframe thead th {\n",
       "        text-align: right;\n",
       "    }\n",
       "</style>\n",
       "<table border=\"1\" class=\"dataframe\">\n",
       "  <thead>\n",
       "    <tr style=\"text-align: right;\">\n",
       "      <th></th>\n",
       "      <th>year</th>\n",
       "      <th>month</th>\n",
       "      <th>carrier</th>\n",
       "      <th>carrier_name</th>\n",
       "      <th>airport</th>\n",
       "      <th>airport_name</th>\n",
       "      <th>total_flights</th>\n",
       "      <th>delayed_flights</th>\n",
       "      <th>del_carrier_ct</th>\n",
       "      <th>del_weather_ct</th>\n",
       "      <th>...</th>\n",
       "      <th>cancelled_flights</th>\n",
       "      <th>diverted_flights</th>\n",
       "      <th>tot_min_delay</th>\n",
       "      <th>min_carrier_delay</th>\n",
       "      <th>min_weather_delay</th>\n",
       "      <th>min_nas_delay</th>\n",
       "      <th>min_security_delay</th>\n",
       "      <th>min_late_aircraft_delay</th>\n",
       "      <th>Unnamed: 21</th>\n",
       "      <th>state</th>\n",
       "    </tr>\n",
       "  </thead>\n",
       "  <tbody>\n",
       "    <tr>\n",
       "      <th>0</th>\n",
       "      <td>2014</td>\n",
       "      <td>1</td>\n",
       "      <td>AA</td>\n",
       "      <td>American Airlines Inc.</td>\n",
       "      <td>JFK</td>\n",
       "      <td>New York, NY: John F. Kennedy International</td>\n",
       "      <td>1139.0</td>\n",
       "      <td>233.0</td>\n",
       "      <td>68.65</td>\n",
       "      <td>11.21</td>\n",
       "      <td>...</td>\n",
       "      <td>74.0</td>\n",
       "      <td>13.0</td>\n",
       "      <td>15754.0</td>\n",
       "      <td>3957.0</td>\n",
       "      <td>1575.0</td>\n",
       "      <td>3431.0</td>\n",
       "      <td>0.0</td>\n",
       "      <td>6791.0</td>\n",
       "      <td>NaN</td>\n",
       "      <td>NY</td>\n",
       "    </tr>\n",
       "    <tr>\n",
       "      <th>1</th>\n",
       "      <td>2014</td>\n",
       "      <td>1</td>\n",
       "      <td>AA</td>\n",
       "      <td>American Airlines Inc.</td>\n",
       "      <td>LAX</td>\n",
       "      <td>Los Angeles, CA: Los Angeles International</td>\n",
       "      <td>2595.0</td>\n",
       "      <td>452.0</td>\n",
       "      <td>132.37</td>\n",
       "      <td>74.77</td>\n",
       "      <td>...</td>\n",
       "      <td>62.0</td>\n",
       "      <td>3.0</td>\n",
       "      <td>25283.0</td>\n",
       "      <td>7552.0</td>\n",
       "      <td>4600.0</td>\n",
       "      <td>4232.0</td>\n",
       "      <td>4.0</td>\n",
       "      <td>8895.0</td>\n",
       "      <td>NaN</td>\n",
       "      <td>CA</td>\n",
       "    </tr>\n",
       "    <tr>\n",
       "      <th>2</th>\n",
       "      <td>2014</td>\n",
       "      <td>1</td>\n",
       "      <td>AA</td>\n",
       "      <td>American Airlines Inc.</td>\n",
       "      <td>DFW</td>\n",
       "      <td>Dallas/Fort Worth, TX: Dallas/Fort Worth Inter...</td>\n",
       "      <td>13135.0</td>\n",
       "      <td>2185.0</td>\n",
       "      <td>505.52</td>\n",
       "      <td>133.75</td>\n",
       "      <td>...</td>\n",
       "      <td>295.0</td>\n",
       "      <td>17.0</td>\n",
       "      <td>137289.0</td>\n",
       "      <td>49667.0</td>\n",
       "      <td>10471.0</td>\n",
       "      <td>18417.0</td>\n",
       "      <td>15.0</td>\n",
       "      <td>58719.0</td>\n",
       "      <td>NaN</td>\n",
       "      <td>TX</td>\n",
       "    </tr>\n",
       "    <tr>\n",
       "      <th>3</th>\n",
       "      <td>2014</td>\n",
       "      <td>1</td>\n",
       "      <td>AA</td>\n",
       "      <td>American Airlines Inc.</td>\n",
       "      <td>OGG</td>\n",
       "      <td>Kahului, HI: Kahului Airport</td>\n",
       "      <td>92.0</td>\n",
       "      <td>20.0</td>\n",
       "      <td>9.57</td>\n",
       "      <td>0.00</td>\n",
       "      <td>...</td>\n",
       "      <td>0.0</td>\n",
       "      <td>0.0</td>\n",
       "      <td>812.0</td>\n",
       "      <td>563.0</td>\n",
       "      <td>0.0</td>\n",
       "      <td>230.0</td>\n",
       "      <td>0.0</td>\n",
       "      <td>19.0</td>\n",
       "      <td>NaN</td>\n",
       "      <td>HI</td>\n",
       "    </tr>\n",
       "    <tr>\n",
       "      <th>4</th>\n",
       "      <td>2014</td>\n",
       "      <td>1</td>\n",
       "      <td>AA</td>\n",
       "      <td>American Airlines Inc.</td>\n",
       "      <td>HNL</td>\n",
       "      <td>Honolulu, HI: Daniel K Inouye International</td>\n",
       "      <td>176.0</td>\n",
       "      <td>50.0</td>\n",
       "      <td>14.46</td>\n",
       "      <td>5.65</td>\n",
       "      <td>...</td>\n",
       "      <td>0.0</td>\n",
       "      <td>1.0</td>\n",
       "      <td>2565.0</td>\n",
       "      <td>844.0</td>\n",
       "      <td>238.0</td>\n",
       "      <td>646.0</td>\n",
       "      <td>0.0</td>\n",
       "      <td>837.0</td>\n",
       "      <td>NaN</td>\n",
       "      <td>HI</td>\n",
       "    </tr>\n",
       "  </tbody>\n",
       "</table>\n",
       "<p>5 rows × 23 columns</p>\n",
       "</div>"
      ],
      "text/plain": [
       "   year  month carrier            carrier_name airport  \\\n",
       "0  2014      1      AA  American Airlines Inc.     JFK   \n",
       "1  2014      1      AA  American Airlines Inc.     LAX   \n",
       "2  2014      1      AA  American Airlines Inc.     DFW   \n",
       "3  2014      1      AA  American Airlines Inc.     OGG   \n",
       "4  2014      1      AA  American Airlines Inc.     HNL   \n",
       "\n",
       "                                        airport_name  total_flights  \\\n",
       "0        New York, NY: John F. Kennedy International         1139.0   \n",
       "1         Los Angeles, CA: Los Angeles International         2595.0   \n",
       "2  Dallas/Fort Worth, TX: Dallas/Fort Worth Inter...        13135.0   \n",
       "3                       Kahului, HI: Kahului Airport           92.0   \n",
       "4        Honolulu, HI: Daniel K Inouye International          176.0   \n",
       "\n",
       "   delayed_flights  del_carrier_ct  del_weather_ct  ...    cancelled_flights  \\\n",
       "0            233.0           68.65           11.21  ...                 74.0   \n",
       "1            452.0          132.37           74.77  ...                 62.0   \n",
       "2           2185.0          505.52          133.75  ...                295.0   \n",
       "3             20.0            9.57            0.00  ...                  0.0   \n",
       "4             50.0           14.46            5.65  ...                  0.0   \n",
       "\n",
       "   diverted_flights  tot_min_delay  min_carrier_delay  min_weather_delay  \\\n",
       "0              13.0        15754.0             3957.0             1575.0   \n",
       "1               3.0        25283.0             7552.0             4600.0   \n",
       "2              17.0       137289.0            49667.0            10471.0   \n",
       "3               0.0          812.0              563.0                0.0   \n",
       "4               1.0         2565.0              844.0              238.0   \n",
       "\n",
       "   min_nas_delay  min_security_delay  min_late_aircraft_delay  Unnamed: 21  \\\n",
       "0         3431.0                 0.0                   6791.0          NaN   \n",
       "1         4232.0                 4.0                   8895.0          NaN   \n",
       "2        18417.0                15.0                  58719.0          NaN   \n",
       "3          230.0                 0.0                     19.0          NaN   \n",
       "4          646.0                 0.0                    837.0          NaN   \n",
       "\n",
       "   state  \n",
       "0     NY  \n",
       "1     CA  \n",
       "2     TX  \n",
       "3     HI  \n",
       "4     HI  \n",
       "\n",
       "[5 rows x 23 columns]"
      ]
     },
     "execution_count": 7,
     "metadata": {},
     "output_type": "execute_result"
    }
   ],
   "source": [
    "df_master.head()"
   ]
  },
  {
   "cell_type": "markdown",
   "metadata": {},
   "source": [
    "In order to get information about the integrity and quality of the data, information about the formatting and the completeness of each field was retrieved. As it can be seen below, most of the fields are quite complete except the last field named 'Unnamed: 21'. Also, a very small percentage (< 0.1%) of missing records is reported in some of the remaining fields."
   ]
  },
  {
   "cell_type": "code",
   "execution_count": 8,
   "metadata": {
    "scrolled": true
   },
   "outputs": [
    {
     "name": "stdout",
     "output_type": "stream",
     "text": [
      "<class 'pandas.core.frame.DataFrame'>\n",
      "RangeIndex: 72474 entries, 0 to 72473\n",
      "Data columns (total 23 columns):\n",
      "year                       72474 non-null int64\n",
      "month                      72474 non-null int64\n",
      "carrier                    72474 non-null object\n",
      "carrier_name               72474 non-null object\n",
      "airport                    72474 non-null object\n",
      "airport_name               72474 non-null object\n",
      "total_flights              72394 non-null float64\n",
      "delayed_flights            72379 non-null float64\n",
      "del_carrier_ct             72394 non-null float64\n",
      "del_weather_ct             72394 non-null float64\n",
      "del_nas_ct                 72394 non-null float64\n",
      "del_security_ct            72394 non-null float64\n",
      "del_late_aircraft_ct       72394 non-null float64\n",
      "cancelled_flights          72394 non-null float64\n",
      "diverted_flights           72394 non-null float64\n",
      "tot_min_delay              72394 non-null float64\n",
      "min_carrier_delay          72394 non-null float64\n",
      "min_weather_delay          72394 non-null float64\n",
      "min_nas_delay              72394 non-null float64\n",
      "min_security_delay         72394 non-null float64\n",
      "min_late_aircraft_delay    72394 non-null float64\n",
      "Unnamed: 21                0 non-null float64\n",
      "state                      72474 non-null object\n",
      "dtypes: float64(16), int64(2), object(5)\n",
      "memory usage: 12.7+ MB\n"
     ]
    }
   ],
   "source": [
    "df_master.info()"
   ]
  },
  {
   "cell_type": "markdown",
   "metadata": {},
   "source": [
    "Since the field 'Unnamed: 21' is completely empty, the field was removed from the master dataset."
   ]
  },
  {
   "cell_type": "code",
   "execution_count": 9,
   "metadata": {},
   "outputs": [],
   "source": [
    "df_master.drop('Unnamed: 21', axis = 1, inplace = True)"
   ]
  },
  {
   "cell_type": "markdown",
   "metadata": {},
   "source": [
    "In order to address the presence of less than 0.1% of missing records in some of our fields, the best course of action in this particular case is to remove the records containing any missing values from the master dataset."
   ]
  },
  {
   "cell_type": "code",
   "execution_count": 10,
   "metadata": {},
   "outputs": [],
   "source": [
    "df_master.dropna(inplace = True)"
   ]
  },
  {
   "cell_type": "markdown",
   "metadata": {},
   "source": [
    "Upon addressing the presence of missing values from our dataset, the number of records was reduced to 72,379."
   ]
  },
  {
   "cell_type": "code",
   "execution_count": 11,
   "metadata": {
    "scrolled": false
   },
   "outputs": [
    {
     "name": "stdout",
     "output_type": "stream",
     "text": [
      "Number of records after addressing missing values: 72379\n"
     ]
    }
   ],
   "source": [
    "print('Number of records after addressing missing values:', df_master.shape[0])"
   ]
  },
  {
   "cell_type": "markdown",
   "metadata": {},
   "source": [
    "To make the data more presentable, the order of the fields in our dataset was arranged into a more appropriate format, "
   ]
  },
  {
   "cell_type": "code",
   "execution_count": 12,
   "metadata": {
    "scrolled": true
   },
   "outputs": [
    {
     "data": {
      "text/plain": [
       "Index(['year', 'month', 'carrier', 'carrier_name', 'airport', 'airport_name',\n",
       "       'state', 'total_flights', 'delayed_flights', 'del_carrier_ct',\n",
       "       'del_weather_ct', 'del_nas_ct', 'del_security_ct',\n",
       "       'del_late_aircraft_ct', 'cancelled_flights', 'diverted_flights',\n",
       "       'tot_min_delay', 'min_carrier_delay', 'min_weather_delay',\n",
       "       'min_nas_delay', 'min_security_delay', 'min_late_aircraft_delay'],\n",
       "      dtype='object')"
      ]
     },
     "execution_count": 12,
     "metadata": {},
     "output_type": "execute_result"
    }
   ],
   "source": [
    "df_master = df_master[['year', 'month', 'carrier', 'carrier_name', 'airport', 'airport_name', 'state', 'total_flights', 'delayed_flights', 'del_carrier_ct', 'del_weather_ct', 'del_nas_ct', 'del_security_ct', 'del_late_aircraft_ct', 'cancelled_flights', 'diverted_flights', 'tot_min_delay', 'min_carrier_delay', 'min_weather_delay', 'min_nas_delay', 'min_security_delay', 'min_late_aircraft_delay']]\n",
    "\n",
    "df_master.columns"
   ]
  },
  {
   "cell_type": "markdown",
   "metadata": {},
   "source": [
    "In an attempt to best compare the performance of different airlines and airports with regards to delays and cancellations of flights, some new features or fields were created from the existing ones. For example, the \"percentage of delayed flights\" (pct_delayed_flights) can be considered a much better metric than just the \"number of delayed flights\" (delayed_flights) at the moment of comparing the performance of a small carrier and a large carrier. Based on this logic, multiple new fields were created as described below."
   ]
  },
  {
   "cell_type": "code",
   "execution_count": 13,
   "metadata": {},
   "outputs": [],
   "source": [
    "df_master['pct_delayed_flights'] = (df_master['delayed_flights'] / df_master['total_flights']) * 100\n",
    "df_master['pct_cancelled_flights'] = (df_master['cancelled_flights'] / df_master['total_flights']) * 100\n",
    "df_master['pct_diverted_flights'] = (df_master['diverted_flights'] / df_master['total_flights']) * 100\n",
    "df_master['pct_del_carrier'] = (df_master['del_carrier_ct'] / df_master['delayed_flights']) * 100\n",
    "df_master['pct_del_weather'] = (df_master['del_weather_ct'] / df_master['delayed_flights']) * 100\n",
    "df_master['pct_del_nas'] = (df_master['del_nas_ct'] / df_master['delayed_flights']) * 100\n",
    "df_master['pct_del_security'] = (df_master['del_security_ct'] / df_master['delayed_flights']) * 100\n",
    "df_master['pct_del_late'] = (df_master['del_late_aircraft_ct'] / df_master['delayed_flights']) * 100\n",
    "df_master['min_per_delay'] = df_master['tot_min_delay'] / df_master['delayed_flights']"
   ]
  },
  {
   "cell_type": "markdown",
   "metadata": {},
   "source": [
    "A sample of our cleaned dataset is presented below,"
   ]
  },
  {
   "cell_type": "code",
   "execution_count": 14,
   "metadata": {
    "scrolled": true
   },
   "outputs": [
    {
     "name": "stdout",
     "output_type": "stream",
     "text": [
      "The cleaned dataset consists of 72379 rows and 31 columns\n"
     ]
    },
    {
     "data": {
      "text/html": [
       "<div>\n",
       "<style scoped>\n",
       "    .dataframe tbody tr th:only-of-type {\n",
       "        vertical-align: middle;\n",
       "    }\n",
       "\n",
       "    .dataframe tbody tr th {\n",
       "        vertical-align: top;\n",
       "    }\n",
       "\n",
       "    .dataframe thead th {\n",
       "        text-align: right;\n",
       "    }\n",
       "</style>\n",
       "<table border=\"1\" class=\"dataframe\">\n",
       "  <thead>\n",
       "    <tr style=\"text-align: right;\">\n",
       "      <th></th>\n",
       "      <th>year</th>\n",
       "      <th>month</th>\n",
       "      <th>carrier</th>\n",
       "      <th>carrier_name</th>\n",
       "      <th>airport</th>\n",
       "      <th>airport_name</th>\n",
       "      <th>state</th>\n",
       "      <th>total_flights</th>\n",
       "      <th>delayed_flights</th>\n",
       "      <th>del_carrier_ct</th>\n",
       "      <th>...</th>\n",
       "      <th>min_late_aircraft_delay</th>\n",
       "      <th>pct_delayed_flights</th>\n",
       "      <th>pct_cancelled_flights</th>\n",
       "      <th>pct_diverted_flights</th>\n",
       "      <th>pct_del_carrier</th>\n",
       "      <th>pct_del_weather</th>\n",
       "      <th>pct_del_nas</th>\n",
       "      <th>pct_del_security</th>\n",
       "      <th>pct_del_late</th>\n",
       "      <th>min_per_delay</th>\n",
       "    </tr>\n",
       "  </thead>\n",
       "  <tbody>\n",
       "    <tr>\n",
       "      <th>36853</th>\n",
       "      <td>2016</td>\n",
       "      <td>10</td>\n",
       "      <td>B6</td>\n",
       "      <td>JetBlue Airways</td>\n",
       "      <td>PVD</td>\n",
       "      <td>Providence, RI: Theodore Francis Green State</td>\n",
       "      <td>RI</td>\n",
       "      <td>86.0</td>\n",
       "      <td>12.0</td>\n",
       "      <td>7.66</td>\n",
       "      <td>...</td>\n",
       "      <td>305.0</td>\n",
       "      <td>13.953488</td>\n",
       "      <td>5.813953</td>\n",
       "      <td>0.000000</td>\n",
       "      <td>63.833333</td>\n",
       "      <td>3.166667</td>\n",
       "      <td>10.750000</td>\n",
       "      <td>0.000</td>\n",
       "      <td>22.250000</td>\n",
       "      <td>79.583333</td>\n",
       "    </tr>\n",
       "    <tr>\n",
       "      <th>2199</th>\n",
       "      <td>2014</td>\n",
       "      <td>2</td>\n",
       "      <td>US</td>\n",
       "      <td>US Airways Inc.</td>\n",
       "      <td>BUF</td>\n",
       "      <td>Buffalo, NY: Buffalo Niagara International</td>\n",
       "      <td>NY</td>\n",
       "      <td>102.0</td>\n",
       "      <td>15.0</td>\n",
       "      <td>7.17</td>\n",
       "      <td>...</td>\n",
       "      <td>236.0</td>\n",
       "      <td>14.705882</td>\n",
       "      <td>7.843137</td>\n",
       "      <td>0.000000</td>\n",
       "      <td>47.800000</td>\n",
       "      <td>0.000000</td>\n",
       "      <td>15.466667</td>\n",
       "      <td>0.000</td>\n",
       "      <td>36.666667</td>\n",
       "      <td>40.600000</td>\n",
       "    </tr>\n",
       "    <tr>\n",
       "      <th>32660</th>\n",
       "      <td>2016</td>\n",
       "      <td>6</td>\n",
       "      <td>AS</td>\n",
       "      <td>Alaska Airlines Inc.</td>\n",
       "      <td>MSY</td>\n",
       "      <td>New Orleans, LA: Louis Armstrong New Orleans I...</td>\n",
       "      <td>LA</td>\n",
       "      <td>30.0</td>\n",
       "      <td>7.0</td>\n",
       "      <td>2.14</td>\n",
       "      <td>...</td>\n",
       "      <td>115.0</td>\n",
       "      <td>23.333333</td>\n",
       "      <td>0.000000</td>\n",
       "      <td>0.000000</td>\n",
       "      <td>30.571429</td>\n",
       "      <td>0.000000</td>\n",
       "      <td>45.142857</td>\n",
       "      <td>0.000</td>\n",
       "      <td>24.285714</td>\n",
       "      <td>43.142857</td>\n",
       "    </tr>\n",
       "    <tr>\n",
       "      <th>28524</th>\n",
       "      <td>2016</td>\n",
       "      <td>2</td>\n",
       "      <td>AA</td>\n",
       "      <td>American Airlines Inc.</td>\n",
       "      <td>CLT</td>\n",
       "      <td>Charlotte, NC: Charlotte Douglas International</td>\n",
       "      <td>NC</td>\n",
       "      <td>7637.0</td>\n",
       "      <td>1072.0</td>\n",
       "      <td>250.11</td>\n",
       "      <td>...</td>\n",
       "      <td>19507.0</td>\n",
       "      <td>14.036925</td>\n",
       "      <td>1.558203</td>\n",
       "      <td>0.117847</td>\n",
       "      <td>23.331157</td>\n",
       "      <td>2.180037</td>\n",
       "      <td>44.964552</td>\n",
       "      <td>0.125</td>\n",
       "      <td>29.399254</td>\n",
       "      <td>55.353545</td>\n",
       "    </tr>\n",
       "    <tr>\n",
       "      <th>41877</th>\n",
       "      <td>2017</td>\n",
       "      <td>3</td>\n",
       "      <td>AS</td>\n",
       "      <td>Alaska Airlines Inc.</td>\n",
       "      <td>DTW</td>\n",
       "      <td>Detroit, MI: Detroit Metro Wayne County</td>\n",
       "      <td>MI</td>\n",
       "      <td>31.0</td>\n",
       "      <td>7.0</td>\n",
       "      <td>1.37</td>\n",
       "      <td>...</td>\n",
       "      <td>16.0</td>\n",
       "      <td>22.580645</td>\n",
       "      <td>0.000000</td>\n",
       "      <td>0.000000</td>\n",
       "      <td>19.571429</td>\n",
       "      <td>0.000000</td>\n",
       "      <td>67.000000</td>\n",
       "      <td>0.000</td>\n",
       "      <td>13.428571</td>\n",
       "      <td>38.142857</td>\n",
       "    </tr>\n",
       "  </tbody>\n",
       "</table>\n",
       "<p>5 rows × 31 columns</p>\n",
       "</div>"
      ],
      "text/plain": [
       "       year  month carrier            carrier_name airport  \\\n",
       "36853  2016     10      B6         JetBlue Airways     PVD   \n",
       "2199   2014      2      US         US Airways Inc.     BUF   \n",
       "32660  2016      6      AS    Alaska Airlines Inc.     MSY   \n",
       "28524  2016      2      AA  American Airlines Inc.     CLT   \n",
       "41877  2017      3      AS    Alaska Airlines Inc.     DTW   \n",
       "\n",
       "                                            airport_name state  total_flights  \\\n",
       "36853       Providence, RI: Theodore Francis Green State    RI           86.0   \n",
       "2199          Buffalo, NY: Buffalo Niagara International    NY          102.0   \n",
       "32660  New Orleans, LA: Louis Armstrong New Orleans I...    LA           30.0   \n",
       "28524     Charlotte, NC: Charlotte Douglas International    NC         7637.0   \n",
       "41877            Detroit, MI: Detroit Metro Wayne County    MI           31.0   \n",
       "\n",
       "       delayed_flights  del_carrier_ct      ...        \\\n",
       "36853             12.0            7.66      ...         \n",
       "2199              15.0            7.17      ...         \n",
       "32660              7.0            2.14      ...         \n",
       "28524           1072.0          250.11      ...         \n",
       "41877              7.0            1.37      ...         \n",
       "\n",
       "       min_late_aircraft_delay  pct_delayed_flights  pct_cancelled_flights  \\\n",
       "36853                    305.0            13.953488               5.813953   \n",
       "2199                     236.0            14.705882               7.843137   \n",
       "32660                    115.0            23.333333               0.000000   \n",
       "28524                  19507.0            14.036925               1.558203   \n",
       "41877                     16.0            22.580645               0.000000   \n",
       "\n",
       "       pct_diverted_flights  pct_del_carrier  pct_del_weather  pct_del_nas  \\\n",
       "36853              0.000000        63.833333         3.166667    10.750000   \n",
       "2199               0.000000        47.800000         0.000000    15.466667   \n",
       "32660              0.000000        30.571429         0.000000    45.142857   \n",
       "28524              0.117847        23.331157         2.180037    44.964552   \n",
       "41877              0.000000        19.571429         0.000000    67.000000   \n",
       "\n",
       "       pct_del_security  pct_del_late  min_per_delay  \n",
       "36853             0.000     22.250000      79.583333  \n",
       "2199              0.000     36.666667      40.600000  \n",
       "32660             0.000     24.285714      43.142857  \n",
       "28524             0.125     29.399254      55.353545  \n",
       "41877             0.000     13.428571      38.142857  \n",
       "\n",
       "[5 rows x 31 columns]"
      ]
     },
     "execution_count": 14,
     "metadata": {},
     "output_type": "execute_result"
    }
   ],
   "source": [
    "print('The cleaned dataset consists of {} rows and {} columns'.format(df_master.shape[0], df_master.shape[1]))\n",
    "\n",
    "df_master.sample(5)"
   ]
  },
  {
   "cell_type": "markdown",
   "metadata": {},
   "source": [
    "Finally, a look into the summary statistics for the dataset might provide more information about the distribution of the numeric fields."
   ]
  },
  {
   "cell_type": "code",
   "execution_count": 15,
   "metadata": {
    "scrolled": true
   },
   "outputs": [
    {
     "data": {
      "text/html": [
       "<div>\n",
       "<style scoped>\n",
       "    .dataframe tbody tr th:only-of-type {\n",
       "        vertical-align: middle;\n",
       "    }\n",
       "\n",
       "    .dataframe tbody tr th {\n",
       "        vertical-align: top;\n",
       "    }\n",
       "\n",
       "    .dataframe thead th {\n",
       "        text-align: right;\n",
       "    }\n",
       "</style>\n",
       "<table border=\"1\" class=\"dataframe\">\n",
       "  <thead>\n",
       "    <tr style=\"text-align: right;\">\n",
       "      <th></th>\n",
       "      <th>year</th>\n",
       "      <th>month</th>\n",
       "      <th>total_flights</th>\n",
       "      <th>delayed_flights</th>\n",
       "      <th>del_carrier_ct</th>\n",
       "      <th>del_weather_ct</th>\n",
       "      <th>del_nas_ct</th>\n",
       "      <th>del_security_ct</th>\n",
       "      <th>del_late_aircraft_ct</th>\n",
       "      <th>cancelled_flights</th>\n",
       "      <th>...</th>\n",
       "      <th>min_late_aircraft_delay</th>\n",
       "      <th>pct_delayed_flights</th>\n",
       "      <th>pct_cancelled_flights</th>\n",
       "      <th>pct_diverted_flights</th>\n",
       "      <th>pct_del_carrier</th>\n",
       "      <th>pct_del_weather</th>\n",
       "      <th>pct_del_nas</th>\n",
       "      <th>pct_del_security</th>\n",
       "      <th>pct_del_late</th>\n",
       "      <th>min_per_delay</th>\n",
       "    </tr>\n",
       "  </thead>\n",
       "  <tbody>\n",
       "    <tr>\n",
       "      <th>count</th>\n",
       "      <td>72379.000000</td>\n",
       "      <td>72379.000000</td>\n",
       "      <td>72379.000000</td>\n",
       "      <td>72379.000000</td>\n",
       "      <td>72379.000000</td>\n",
       "      <td>72379.000000</td>\n",
       "      <td>72379.000000</td>\n",
       "      <td>72379.000000</td>\n",
       "      <td>72379.000000</td>\n",
       "      <td>72379.000000</td>\n",
       "      <td>...</td>\n",
       "      <td>72379.000000</td>\n",
       "      <td>72379.000000</td>\n",
       "      <td>72379.000000</td>\n",
       "      <td>72379.000000</td>\n",
       "      <td>70627.000000</td>\n",
       "      <td>70627.000000</td>\n",
       "      <td>70627.000000</td>\n",
       "      <td>70627.000000</td>\n",
       "      <td>70627.000000</td>\n",
       "      <td>70627.000000</td>\n",
       "    </tr>\n",
       "    <tr>\n",
       "      <th>mean</th>\n",
       "      <td>2016.158858</td>\n",
       "      <td>6.506735</td>\n",
       "      <td>416.482668</td>\n",
       "      <td>78.066704</td>\n",
       "      <td>22.406630</td>\n",
       "      <td>2.427762</td>\n",
       "      <td>24.262735</td>\n",
       "      <td>0.134332</td>\n",
       "      <td>28.835267</td>\n",
       "      <td>6.659335</td>\n",
       "      <td>...</td>\n",
       "      <td>1913.516918</td>\n",
       "      <td>19.194889</td>\n",
       "      <td>1.764274</td>\n",
       "      <td>0.292803</td>\n",
       "      <td>35.736447</td>\n",
       "      <td>3.938736</td>\n",
       "      <td>27.600230</td>\n",
       "      <td>0.187672</td>\n",
       "      <td>32.538041</td>\n",
       "      <td>59.196625</td>\n",
       "    </tr>\n",
       "    <tr>\n",
       "      <th>std</th>\n",
       "      <td>1.490811</td>\n",
       "      <td>3.449340</td>\n",
       "      <td>1094.397381</td>\n",
       "      <td>195.056210</td>\n",
       "      <td>49.305954</td>\n",
       "      <td>7.235846</td>\n",
       "      <td>70.948228</td>\n",
       "      <td>0.557327</td>\n",
       "      <td>79.390032</td>\n",
       "      <td>28.439428</td>\n",
       "      <td>...</td>\n",
       "      <td>5362.167842</td>\n",
       "      <td>10.323138</td>\n",
       "      <td>3.353920</td>\n",
       "      <td>1.009405</td>\n",
       "      <td>17.915454</td>\n",
       "      <td>7.023878</td>\n",
       "      <td>18.303058</td>\n",
       "      <td>1.465477</td>\n",
       "      <td>17.238898</td>\n",
       "      <td>28.596206</td>\n",
       "    </tr>\n",
       "    <tr>\n",
       "      <th>min</th>\n",
       "      <td>2014.000000</td>\n",
       "      <td>1.000000</td>\n",
       "      <td>1.000000</td>\n",
       "      <td>0.000000</td>\n",
       "      <td>0.000000</td>\n",
       "      <td>0.000000</td>\n",
       "      <td>0.000000</td>\n",
       "      <td>0.000000</td>\n",
       "      <td>0.000000</td>\n",
       "      <td>0.000000</td>\n",
       "      <td>...</td>\n",
       "      <td>0.000000</td>\n",
       "      <td>0.000000</td>\n",
       "      <td>0.000000</td>\n",
       "      <td>0.000000</td>\n",
       "      <td>0.000000</td>\n",
       "      <td>0.000000</td>\n",
       "      <td>0.000000</td>\n",
       "      <td>0.000000</td>\n",
       "      <td>0.000000</td>\n",
       "      <td>15.000000</td>\n",
       "    </tr>\n",
       "    <tr>\n",
       "      <th>25%</th>\n",
       "      <td>2015.000000</td>\n",
       "      <td>4.000000</td>\n",
       "      <td>58.000000</td>\n",
       "      <td>9.000000</td>\n",
       "      <td>2.950000</td>\n",
       "      <td>0.000000</td>\n",
       "      <td>1.790000</td>\n",
       "      <td>0.000000</td>\n",
       "      <td>2.240000</td>\n",
       "      <td>0.000000</td>\n",
       "      <td>...</td>\n",
       "      <td>123.000000</td>\n",
       "      <td>12.500000</td>\n",
       "      <td>0.000000</td>\n",
       "      <td>0.000000</td>\n",
       "      <td>24.974937</td>\n",
       "      <td>0.000000</td>\n",
       "      <td>15.000000</td>\n",
       "      <td>0.000000</td>\n",
       "      <td>21.739565</td>\n",
       "      <td>44.895273</td>\n",
       "    </tr>\n",
       "    <tr>\n",
       "      <th>50%</th>\n",
       "      <td>2016.000000</td>\n",
       "      <td>7.000000</td>\n",
       "      <td>120.000000</td>\n",
       "      <td>22.000000</td>\n",
       "      <td>7.750000</td>\n",
       "      <td>0.540000</td>\n",
       "      <td>5.290000</td>\n",
       "      <td>0.000000</td>\n",
       "      <td>6.980000</td>\n",
       "      <td>1.000000</td>\n",
       "      <td>...</td>\n",
       "      <td>444.000000</td>\n",
       "      <td>18.035714</td>\n",
       "      <td>0.485513</td>\n",
       "      <td>0.000000</td>\n",
       "      <td>33.927928</td>\n",
       "      <td>1.414474</td>\n",
       "      <td>25.000000</td>\n",
       "      <td>0.000000</td>\n",
       "      <td>32.333333</td>\n",
       "      <td>55.294118</td>\n",
       "    </tr>\n",
       "    <tr>\n",
       "      <th>75%</th>\n",
       "      <td>2018.000000</td>\n",
       "      <td>9.000000</td>\n",
       "      <td>300.000000</td>\n",
       "      <td>57.000000</td>\n",
       "      <td>19.760000</td>\n",
       "      <td>1.990000</td>\n",
       "      <td>15.100000</td>\n",
       "      <td>0.000000</td>\n",
       "      <td>19.260000</td>\n",
       "      <td>4.000000</td>\n",
       "      <td>...</td>\n",
       "      <td>1311.000000</td>\n",
       "      <td>24.561404</td>\n",
       "      <td>2.179177</td>\n",
       "      <td>0.185874</td>\n",
       "      <td>44.384615</td>\n",
       "      <td>5.024695</td>\n",
       "      <td>36.988421</td>\n",
       "      <td>0.000000</td>\n",
       "      <td>43.153312</td>\n",
       "      <td>67.695707</td>\n",
       "    </tr>\n",
       "    <tr>\n",
       "      <th>max</th>\n",
       "      <td>2018.000000</td>\n",
       "      <td>12.000000</td>\n",
       "      <td>21977.000000</td>\n",
       "      <td>4176.000000</td>\n",
       "      <td>1242.160000</td>\n",
       "      <td>240.790000</td>\n",
       "      <td>1884.420000</td>\n",
       "      <td>19.530000</td>\n",
       "      <td>1849.000000</td>\n",
       "      <td>1312.000000</td>\n",
       "      <td>...</td>\n",
       "      <td>148181.000000</td>\n",
       "      <td>100.000000</td>\n",
       "      <td>86.666667</td>\n",
       "      <td>66.666667</td>\n",
       "      <td>100.000000</td>\n",
       "      <td>100.000000</td>\n",
       "      <td>100.000000</td>\n",
       "      <td>100.000000</td>\n",
       "      <td>100.000000</td>\n",
       "      <td>1461.000000</td>\n",
       "    </tr>\n",
       "  </tbody>\n",
       "</table>\n",
       "<p>8 rows × 26 columns</p>\n",
       "</div>"
      ],
      "text/plain": [
       "               year         month  total_flights  delayed_flights  \\\n",
       "count  72379.000000  72379.000000   72379.000000     72379.000000   \n",
       "mean    2016.158858      6.506735     416.482668        78.066704   \n",
       "std        1.490811      3.449340    1094.397381       195.056210   \n",
       "min     2014.000000      1.000000       1.000000         0.000000   \n",
       "25%     2015.000000      4.000000      58.000000         9.000000   \n",
       "50%     2016.000000      7.000000     120.000000        22.000000   \n",
       "75%     2018.000000      9.000000     300.000000        57.000000   \n",
       "max     2018.000000     12.000000   21977.000000      4176.000000   \n",
       "\n",
       "       del_carrier_ct  del_weather_ct    del_nas_ct  del_security_ct  \\\n",
       "count    72379.000000    72379.000000  72379.000000     72379.000000   \n",
       "mean        22.406630        2.427762     24.262735         0.134332   \n",
       "std         49.305954        7.235846     70.948228         0.557327   \n",
       "min          0.000000        0.000000      0.000000         0.000000   \n",
       "25%          2.950000        0.000000      1.790000         0.000000   \n",
       "50%          7.750000        0.540000      5.290000         0.000000   \n",
       "75%         19.760000        1.990000     15.100000         0.000000   \n",
       "max       1242.160000      240.790000   1884.420000        19.530000   \n",
       "\n",
       "       del_late_aircraft_ct  cancelled_flights      ...        \\\n",
       "count          72379.000000       72379.000000      ...         \n",
       "mean              28.835267           6.659335      ...         \n",
       "std               79.390032          28.439428      ...         \n",
       "min                0.000000           0.000000      ...         \n",
       "25%                2.240000           0.000000      ...         \n",
       "50%                6.980000           1.000000      ...         \n",
       "75%               19.260000           4.000000      ...         \n",
       "max             1849.000000        1312.000000      ...         \n",
       "\n",
       "       min_late_aircraft_delay  pct_delayed_flights  pct_cancelled_flights  \\\n",
       "count             72379.000000         72379.000000           72379.000000   \n",
       "mean               1913.516918            19.194889               1.764274   \n",
       "std                5362.167842            10.323138               3.353920   \n",
       "min                   0.000000             0.000000               0.000000   \n",
       "25%                 123.000000            12.500000               0.000000   \n",
       "50%                 444.000000            18.035714               0.485513   \n",
       "75%                1311.000000            24.561404               2.179177   \n",
       "max              148181.000000           100.000000              86.666667   \n",
       "\n",
       "       pct_diverted_flights  pct_del_carrier  pct_del_weather   pct_del_nas  \\\n",
       "count          72379.000000     70627.000000     70627.000000  70627.000000   \n",
       "mean               0.292803        35.736447         3.938736     27.600230   \n",
       "std                1.009405        17.915454         7.023878     18.303058   \n",
       "min                0.000000         0.000000         0.000000      0.000000   \n",
       "25%                0.000000        24.974937         0.000000     15.000000   \n",
       "50%                0.000000        33.927928         1.414474     25.000000   \n",
       "75%                0.185874        44.384615         5.024695     36.988421   \n",
       "max               66.666667       100.000000       100.000000    100.000000   \n",
       "\n",
       "       pct_del_security  pct_del_late  min_per_delay  \n",
       "count      70627.000000  70627.000000   70627.000000  \n",
       "mean           0.187672     32.538041      59.196625  \n",
       "std            1.465477     17.238898      28.596206  \n",
       "min            0.000000      0.000000      15.000000  \n",
       "25%            0.000000     21.739565      44.895273  \n",
       "50%            0.000000     32.333333      55.294118  \n",
       "75%            0.000000     43.153312      67.695707  \n",
       "max          100.000000    100.000000    1461.000000  \n",
       "\n",
       "[8 rows x 26 columns]"
      ]
     },
     "execution_count": 15,
     "metadata": {},
     "output_type": "execute_result"
    }
   ],
   "source": [
    "df_master.describe()"
   ]
  },
  {
   "cell_type": "markdown",
   "metadata": {},
   "source": [
    "As it results obvious in the chart above, some fields such as 'delayed_flights', 'cancelled_flights' and some others have maximum values that seem very extreme compared to the 75% quartile values. Also, all fields related to percentage of delays due to a specific reason report maximum values of 100%. This is feasible since in a record you may have an airline that reported all their delays in a month due to a single reason. For example, in a specific month an airline may had have a total of five (5) delayed flights, all of those due to weather. Some of the \"extreme\" values were investigated below."
   ]
  },
  {
   "cell_type": "code",
   "execution_count": 16,
   "metadata": {
    "scrolled": true
   },
   "outputs": [
    {
     "data": {
      "text/html": [
       "<div>\n",
       "<style scoped>\n",
       "    .dataframe tbody tr th:only-of-type {\n",
       "        vertical-align: middle;\n",
       "    }\n",
       "\n",
       "    .dataframe tbody tr th {\n",
       "        vertical-align: top;\n",
       "    }\n",
       "\n",
       "    .dataframe thead th {\n",
       "        text-align: right;\n",
       "    }\n",
       "</style>\n",
       "<table border=\"1\" class=\"dataframe\">\n",
       "  <thead>\n",
       "    <tr style=\"text-align: right;\">\n",
       "      <th></th>\n",
       "      <th>year</th>\n",
       "      <th>month</th>\n",
       "      <th>carrier</th>\n",
       "      <th>carrier_name</th>\n",
       "      <th>airport</th>\n",
       "      <th>airport_name</th>\n",
       "      <th>state</th>\n",
       "      <th>total_flights</th>\n",
       "      <th>delayed_flights</th>\n",
       "      <th>del_carrier_ct</th>\n",
       "      <th>...</th>\n",
       "      <th>min_late_aircraft_delay</th>\n",
       "      <th>pct_delayed_flights</th>\n",
       "      <th>pct_cancelled_flights</th>\n",
       "      <th>pct_diverted_flights</th>\n",
       "      <th>pct_del_carrier</th>\n",
       "      <th>pct_del_weather</th>\n",
       "      <th>pct_del_nas</th>\n",
       "      <th>pct_del_security</th>\n",
       "      <th>pct_del_late</th>\n",
       "      <th>min_per_delay</th>\n",
       "    </tr>\n",
       "  </thead>\n",
       "  <tbody>\n",
       "    <tr>\n",
       "      <th>612</th>\n",
       "      <td>2014</td>\n",
       "      <td>1</td>\n",
       "      <td>MQ</td>\n",
       "      <td>American Eagle Airlines Inc.</td>\n",
       "      <td>ORD</td>\n",
       "      <td>Chicago, IL: Chicago O'Hare International</td>\n",
       "      <td>IL</td>\n",
       "      <td>5478.0</td>\n",
       "      <td>2091.0</td>\n",
       "      <td>327.91</td>\n",
       "      <td>...</td>\n",
       "      <td>71309.0</td>\n",
       "      <td>38.170865</td>\n",
       "      <td>23.950347</td>\n",
       "      <td>0.073019</td>\n",
       "      <td>15.681970</td>\n",
       "      <td>4.382592</td>\n",
       "      <td>42.196078</td>\n",
       "      <td>0.000000</td>\n",
       "      <td>37.739359</td>\n",
       "      <td>87.037303</td>\n",
       "    </tr>\n",
       "    <tr>\n",
       "      <th>5799</th>\n",
       "      <td>2014</td>\n",
       "      <td>6</td>\n",
       "      <td>AA</td>\n",
       "      <td>American Airlines Inc.</td>\n",
       "      <td>DFW</td>\n",
       "      <td>Dallas/Fort Worth, TX: Dallas/Fort Worth Inter...</td>\n",
       "      <td>TX</td>\n",
       "      <td>13503.0</td>\n",
       "      <td>3818.0</td>\n",
       "      <td>700.18</td>\n",
       "      <td>...</td>\n",
       "      <td>148181.0</td>\n",
       "      <td>28.275198</td>\n",
       "      <td>1.044212</td>\n",
       "      <td>0.503592</td>\n",
       "      <td>18.338921</td>\n",
       "      <td>5.028811</td>\n",
       "      <td>28.154007</td>\n",
       "      <td>0.049764</td>\n",
       "      <td>48.428497</td>\n",
       "      <td>73.909377</td>\n",
       "    </tr>\n",
       "    <tr>\n",
       "      <th>60860</th>\n",
       "      <td>2018</td>\n",
       "      <td>6</td>\n",
       "      <td>DL</td>\n",
       "      <td>Delta Air Lines Inc.</td>\n",
       "      <td>ATL</td>\n",
       "      <td>Atlanta, GA: Hartsfield-Jackson Atlanta Intern...</td>\n",
       "      <td>GA</td>\n",
       "      <td>21029.0</td>\n",
       "      <td>4176.0</td>\n",
       "      <td>1026.09</td>\n",
       "      <td>...</td>\n",
       "      <td>131666.0</td>\n",
       "      <td>19.858291</td>\n",
       "      <td>0.294831</td>\n",
       "      <td>0.680013</td>\n",
       "      <td>24.571121</td>\n",
       "      <td>4.509818</td>\n",
       "      <td>36.296935</td>\n",
       "      <td>0.056513</td>\n",
       "      <td>34.565374</td>\n",
       "      <td>88.825910</td>\n",
       "    </tr>\n",
       "    <tr>\n",
       "      <th>69384</th>\n",
       "      <td>2018</td>\n",
       "      <td>11</td>\n",
       "      <td>DL</td>\n",
       "      <td>Delta Air Lines Inc.</td>\n",
       "      <td>ATL</td>\n",
       "      <td>Atlanta, GA: Hartsfield-Jackson Atlanta Intern...</td>\n",
       "      <td>GA</td>\n",
       "      <td>19820.0</td>\n",
       "      <td>3895.0</td>\n",
       "      <td>643.43</td>\n",
       "      <td>...</td>\n",
       "      <td>65739.0</td>\n",
       "      <td>19.651867</td>\n",
       "      <td>0.065590</td>\n",
       "      <td>0.040363</td>\n",
       "      <td>16.519384</td>\n",
       "      <td>2.622850</td>\n",
       "      <td>48.380488</td>\n",
       "      <td>0.025674</td>\n",
       "      <td>32.451861</td>\n",
       "      <td>52.489345</td>\n",
       "    </tr>\n",
       "  </tbody>\n",
       "</table>\n",
       "<p>4 rows × 31 columns</p>\n",
       "</div>"
      ],
      "text/plain": [
       "       year  month carrier                  carrier_name airport  \\\n",
       "612    2014      1      MQ  American Eagle Airlines Inc.     ORD   \n",
       "5799   2014      6      AA        American Airlines Inc.     DFW   \n",
       "60860  2018      6      DL          Delta Air Lines Inc.     ATL   \n",
       "69384  2018     11      DL          Delta Air Lines Inc.     ATL   \n",
       "\n",
       "                                            airport_name state  total_flights  \\\n",
       "612            Chicago, IL: Chicago O'Hare International    IL         5478.0   \n",
       "5799   Dallas/Fort Worth, TX: Dallas/Fort Worth Inter...    TX        13503.0   \n",
       "60860  Atlanta, GA: Hartsfield-Jackson Atlanta Intern...    GA        21029.0   \n",
       "69384  Atlanta, GA: Hartsfield-Jackson Atlanta Intern...    GA        19820.0   \n",
       "\n",
       "       delayed_flights  del_carrier_ct      ...        \\\n",
       "612             2091.0          327.91      ...         \n",
       "5799            3818.0          700.18      ...         \n",
       "60860           4176.0         1026.09      ...         \n",
       "69384           3895.0          643.43      ...         \n",
       "\n",
       "       min_late_aircraft_delay  pct_delayed_flights  pct_cancelled_flights  \\\n",
       "612                    71309.0            38.170865              23.950347   \n",
       "5799                  148181.0            28.275198               1.044212   \n",
       "60860                 131666.0            19.858291               0.294831   \n",
       "69384                  65739.0            19.651867               0.065590   \n",
       "\n",
       "       pct_diverted_flights  pct_del_carrier  pct_del_weather  pct_del_nas  \\\n",
       "612                0.073019        15.681970         4.382592    42.196078   \n",
       "5799               0.503592        18.338921         5.028811    28.154007   \n",
       "60860              0.680013        24.571121         4.509818    36.296935   \n",
       "69384              0.040363        16.519384         2.622850    48.380488   \n",
       "\n",
       "       pct_del_security  pct_del_late  min_per_delay  \n",
       "612            0.000000     37.739359      87.037303  \n",
       "5799           0.049764     48.428497      73.909377  \n",
       "60860          0.056513     34.565374      88.825910  \n",
       "69384          0.025674     32.451861      52.489345  \n",
       "\n",
       "[4 rows x 31 columns]"
      ]
     },
     "execution_count": 16,
     "metadata": {},
     "output_type": "execute_result"
    }
   ],
   "source": [
    "flag = (df_master['delayed_flights'] == 4176) | (df_master['del_nas_ct'] == 1884.42) | (df_master['del_late_aircraft_ct'] == 1849) | (df_master['cancelled_flights'] == 1312)\n",
    "df_master.loc[flag, :]"
   ]
  },
  {
   "cell_type": "markdown",
   "metadata": {},
   "source": [
    "From the table above, it can be concluded that the \"extreme\" values mentioned above may be justified since they are values generated from airports that serve as hubs of operations for some of the major airlines in the United States, For instances, 'total_flights' values around 20,000 in a single month from a single airport may seem extreme, however knowing that Hartsfield-Jackson Atlanta International Airport serves as the major hub for Delta Airlines makes that number very feasible. In terms of 'cancelled_flights', the high number reported by \"American Eagle Airlines Inc.\" in January of 2014 (25% of total flights) may seem odd but further investigation led us a possible reason based on a major weather event. More information can be found by clicking in this link https://www.businessinsider.com/polar-vortex-flight-cancellations-2014-1"
   ]
  },
  {
   "cell_type": "markdown",
   "metadata": {},
   "source": [
    "Since for no reason at all I feel lonely in the prestigiuous list of customers not making it to their destination on time, I would like to share my answers to some of interesting questions."
   ]
  },
  {
   "cell_type": "markdown",
   "metadata": {},
   "source": [
    "### Delayed again ??? Wait don't tell me...you are probably flying"
   ]
  },
  {
   "cell_type": "markdown",
   "metadata": {},
   "source": [
    "Have you felt desperate rushing through the security gates at the airport, with your heart pumping at extreme rates thinking that you will not make it to your flight ? Sadly, that is what many traveler experience daily in the United States. Let's just stop and think what might happen if you do not make it. First, you will need to almost beg the airline to find you a seat in the next flight, which in some cases might be few hours later, but in some other cases a pleasant night sleeping at the airport. Second, if you happened to check a bag, the bag will probably make a round trip without its owner until it makes it back to you few days later. Let's know switch roles, you made all necessary arrangements to be 2-3 before your flight at the airport (very expensive food, many times no free internet, and if you have small children, HELL !!). You finally TSA and make it to the gate to receive the news that your flight is delayed. From that very second, all assumptions start going through your head, from a polar vortex to godzilla, you immediately try to justify the delay. You ask for reasons and in most of the cases 'weather' is blamed and the top-secret truth stays hidden in the body of the unfortunate airline representative that is paid to receive the hate of many customer."
   ]
  },
  {
   "cell_type": "code",
   "execution_count": 17,
   "metadata": {
    "scrolled": false
   },
   "outputs": [
    {
     "data": {
      "image/png": "[encoded data removed]",
      "text/plain": [
       "<Figure size 864x504 with 1 Axes>"
      ]
     },
     "metadata": {
      "needs_background": "light"
     },
     "output_type": "display_data"
    }
   ],
   "source": [
    "most_delayed = df_master.groupby('carrier_name')['pct_delayed_flights'].mean().sort_values(ascending = False)\n",
    "\n",
    "plt.figure(figsize = [12, 7])\n",
    "\n",
    "base_color = sns.color_palette()[0]\n",
    "sns.barplot(y = most_delayed.index, x = most_delayed.values, color = base_color)\n",
    "plt.title('Average Percentage of Delayed Flights per Carrier (2014-2018)', fontsize = 15, weight = 'bold')\n",
    "plt.xlabel('Average Percentage of Delayed Fligths (2014-2018)', fontsize = 13, weight = 'bold')\n",
    "plt.ylabel('Carrier Name', fontsize = 13, weight = 'bold');"
   ]
  },
  {
   "cell_type": "markdown",
   "metadata": {},
   "source": [
    "And the winner is...as it can be observed in the chart above, the carrier that reported the highest percentage of delays during the last five years was **American Eagle Airlines** (25.7%) followed by **Frontier Airlines** (25.02%) and **JetBlue Airways** (22.94%). However, to be fair **American Eagle Airlines** only reported data until mid 2014 when it changed its name to **Envoy Air** which is not in our top five list for the most delayed. The data for both carriers was kept separated since we had no certainty about the how the operations were affected after the change of name.\n",
    "\n",
    "In contrast, the real winner is **Delta Air Lines**. Even not being the carrier reporting the lowest percentage of delayed flights, the massive number of flights carried on by the airline and the low percentage of delays reported (13.7%) makes it, in my opinion, the most reliable carrier in the group."
   ]
  },
  {
   "cell_type": "markdown",
   "metadata": {},
   "source": [
    "### Is it always the weather ??? are they lying to you ???"
   ]
  },
  {
   "cell_type": "markdown",
   "metadata": {},
   "source": [
    "It is easy to imagine that many travelers have received the following message from the airline after inquiring about their delayed flight: \"We are so sorry but due to the weather your flight has been delayed, and it is the only information we can have for now\". As logic people we tend to accept that information as truth knowing we live in a very large country, the size of a some continents, where anything can happen at any given second regarding the weather. But IS IT ALWAYS THE WEATHER???"
   ]
  },
  {
   "cell_type": "code",
   "execution_count": 18,
   "metadata": {},
   "outputs": [
    {
     "data": {
      "image/png": "[encoded data removed]",
      "text/plain": [
       "<Figure size 720x360 with 1 Axes>"
      ]
     },
     "metadata": {},
     "output_type": "display_data"
    }
   ],
   "source": [
    "delay_causes = df_master[['pct_del_carrier', 'pct_del_weather', 'pct_del_nas', 'pct_del_security', 'pct_del_late']].mean()\n",
    "\n",
    "labels = ['Carrier', 'Extreme Weather', 'National Aviation System', 'Security', 'Late Aircraft']\n",
    "explode = (0, 0.1, 0, 0, 0)\n",
    "plt.figure(figsize = [10, 5])\n",
    "plt.pie(x = delay_causes, textprops = dict(color=\"w\"), autopct='%1.1f%%', startangle = 90)\n",
    "plt.axis('equal')\n",
    "plt.title('Causes of Flight Delays in United States (2014-2018)', fontsize = 15, weight = 'bold')\n",
    "plt.legend(labels, title = \"Causes of Flight Delays\", loc = \"center left\", bbox_to_anchor=(1, 0, 0.5, 1));"
   ]
  },
  {
   "cell_type": "markdown",
   "metadata": {},
   "source": [
    "And the answer is very tricky. In the figure above, a summary of the most common causes for delayed flights in the period of 2014-2018 in the United States are represented. As it can be noted, the most common reason for a delayed flight were delays due to **\"Carrier\"** (35.7%) situations within the airline's control (e.g. maintenance, crew problems, aircraft cleaning, baggage loading, fueling, etc.). On the other end, delays due to **\"Security\"** (delays or cancellations caused by evacuation of a terminal or concourse, re-boarding of aircraft because of security breach, inoperative screening equipment and/or long lines in excess of 29 minutes at screening areas) were the least common with only 0.2 % of the flights being delayed for this reason. Although it seems that **\"Extreme Weather\"** was only responsible of the delay of approximately 4% of the flights during the studied period, a variable fraction of the delays under **\"National Aviation System\"** (delays and cancellations due to the national aviation system that refer to a varied set of situations, such as non-extreme weather conditions, airport operations, heavy traffic volume, and air traffic control) and **\"Late Aircraft\"** (a previous flight using the same aircraft arrived late, causing the present flight to depart late)."
   ]
  },
  {
   "cell_type": "markdown",
   "metadata": {},
   "source": [
    "**Why aren’t all weather-related delays reported as a single category ?** a committee named the *Air Carrier On-Time Reporting Advisory Committee* created the reporting system in use believing that keeping the extreme weather delays from the weather delays that could be fixed through improvements to the system, would give a more realistic picture of the extent of weather delays. Soooo, is it really the weather ??? I guess it depends, in some occassions when major weather events have occurred in some parts of the country, it is very feasible that a flight will be delayed, likely causing delays in the next flight and producing a chain reaction of delays. Being afraid to sound like a airline representative, I just advice you to be patient, do not scream, but always ask for coupons and credit if the delay gets too long. A little pressure never hurts to make things work better."
   ]
  },
  {
   "cell_type": "markdown",
   "metadata": {},
   "source": [
    "### Does size matters ???"
   ]
  },
  {
   "cell_type": "markdown",
   "metadata": {},
   "source": [
    "In a recent converstation with other angry-delayed travelers, I heard comments about how different airports and airlines seem to be more prone to delays than others based on the size of the operations they carry. In order to answer this question, the airlines were divided into two grous depending on the size of their operations throughout the period 2014-2018. The list below show the carriers from the largest number of flights to the smallest."
   ]
  },
  {
   "cell_type": "code",
   "execution_count": 19,
   "metadata": {
    "scrolled": false
   },
   "outputs": [
    {
     "data": {
      "text/plain": [
       "carrier_name\n",
       "Southwest Airlines Co.          6417928.0\n",
       "Delta Air Lines Inc.            4471845.0\n",
       "American Airlines Inc.          3991341.0\n",
       "SkyWest Airlines Inc.           3287977.0\n",
       "United Air Lines Inc.           2760362.0\n",
       "ExpressJet Airlines Inc.        2291412.0\n",
       "JetBlue Airways                 1402878.0\n",
       "Alaska Airlines Inc.             940887.0\n",
       "Envoy Air                        883343.0\n",
       "US Airways Inc.                  613380.0\n",
       "Spirit Air Lines                 588574.0\n",
       "Frontier Airlines Inc.           494493.0\n",
       "Hawaiian Airlines Inc.           391688.0\n",
       "Republic Airline                 316090.0\n",
       "PSA Airlines Inc.                278457.0\n",
       "Virgin America                   277184.0\n",
       "Endeavor Air Inc.                245917.0\n",
       "Mesa Airlines Inc.               215138.0\n",
       "American Eagle Airlines Inc.      99989.0\n",
       "Allegiant Air                     96221.0\n",
       "AirTran Airways Corporation       79495.0\n",
       "Name: total_flights, dtype: float64"
      ]
     },
     "execution_count": 19,
     "metadata": {},
     "output_type": "execute_result"
    }
   ],
   "source": [
    "size = df_master.groupby('carrier_name')['total_flights'].sum().sort_values(ascending = False)\n",
    "size"
   ]
  },
  {
   "cell_type": "markdown",
   "metadata": {},
   "source": [
    "In order to get a better idea about the what size of operations will serve as cutoff for creating the two groups, summary statistics were evaluated below, suggesting that operations larger than 600,000 flights during the last five years may be called 'large' while operations sizes below that number may be considered 'small'"
   ]
  },
  {
   "cell_type": "code",
   "execution_count": 20,
   "metadata": {
    "scrolled": true
   },
   "outputs": [
    {
     "data": {
      "text/plain": [
       "count    2.100000e+01\n",
       "mean     1.435457e+06\n",
       "std      1.770149e+06\n",
       "min      7.949500e+04\n",
       "25%      2.771840e+05\n",
       "50%      5.885740e+05\n",
       "75%      2.291412e+06\n",
       "max      6.417928e+06\n",
       "Name: total_flights, dtype: float64"
      ]
     },
     "execution_count": 20,
     "metadata": {},
     "output_type": "execute_result"
    }
   ],
   "source": [
    "df_master.groupby('carrier_name').total_flights.sum().sort_values(ascending = False).describe()"
   ]
  },
  {
   "cell_type": "code",
   "execution_count": 21,
   "metadata": {},
   "outputs": [],
   "source": [
    "df_size = pd.DataFrame()\n",
    "df_size['carrier_name'] = size.index\n",
    "df_size['total_flights_14-18'] = size.values"
   ]
  },
  {
   "cell_type": "code",
   "execution_count": 22,
   "metadata": {},
   "outputs": [],
   "source": [
    "df_size['carrier_size'] = np.where(df_size['total_flights_14-18'] > 600000, 'large', 'small')"
   ]
  },
  {
   "cell_type": "code",
   "execution_count": 23,
   "metadata": {},
   "outputs": [
    {
     "data": {
      "text/html": [
       "<div>\n",
       "<style scoped>\n",
       "    .dataframe tbody tr th:only-of-type {\n",
       "        vertical-align: middle;\n",
       "    }\n",
       "\n",
       "    .dataframe tbody tr th {\n",
       "        vertical-align: top;\n",
       "    }\n",
       "\n",
       "    .dataframe thead th {\n",
       "        text-align: right;\n",
       "    }\n",
       "</style>\n",
       "<table border=\"1\" class=\"dataframe\">\n",
       "  <thead>\n",
       "    <tr style=\"text-align: right;\">\n",
       "      <th></th>\n",
       "      <th>carrier_name</th>\n",
       "      <th>total_flights_14-18</th>\n",
       "      <th>carrier_size</th>\n",
       "      <th>pct_delay_flights_14-18</th>\n",
       "    </tr>\n",
       "  </thead>\n",
       "  <tbody>\n",
       "    <tr>\n",
       "      <th>0</th>\n",
       "      <td>Southwest Airlines Co.</td>\n",
       "      <td>6417928.0</td>\n",
       "      <td>large</td>\n",
       "      <td>21.262385</td>\n",
       "    </tr>\n",
       "    <tr>\n",
       "      <th>1</th>\n",
       "      <td>Delta Air Lines Inc.</td>\n",
       "      <td>4471845.0</td>\n",
       "      <td>large</td>\n",
       "      <td>13.698814</td>\n",
       "    </tr>\n",
       "    <tr>\n",
       "      <th>2</th>\n",
       "      <td>American Airlines Inc.</td>\n",
       "      <td>3991341.0</td>\n",
       "      <td>large</td>\n",
       "      <td>21.165946</td>\n",
       "    </tr>\n",
       "    <tr>\n",
       "      <th>3</th>\n",
       "      <td>SkyWest Airlines Inc.</td>\n",
       "      <td>3287977.0</td>\n",
       "      <td>large</td>\n",
       "      <td>18.310551</td>\n",
       "    </tr>\n",
       "    <tr>\n",
       "      <th>4</th>\n",
       "      <td>United Air Lines Inc.</td>\n",
       "      <td>2760362.0</td>\n",
       "      <td>large</td>\n",
       "      <td>19.855501</td>\n",
       "    </tr>\n",
       "    <tr>\n",
       "      <th>5</th>\n",
       "      <td>ExpressJet Airlines Inc.</td>\n",
       "      <td>2291412.0</td>\n",
       "      <td>large</td>\n",
       "      <td>20.195502</td>\n",
       "    </tr>\n",
       "    <tr>\n",
       "      <th>6</th>\n",
       "      <td>JetBlue Airways</td>\n",
       "      <td>1402878.0</td>\n",
       "      <td>large</td>\n",
       "      <td>22.938490</td>\n",
       "    </tr>\n",
       "    <tr>\n",
       "      <th>7</th>\n",
       "      <td>Alaska Airlines Inc.</td>\n",
       "      <td>940887.0</td>\n",
       "      <td>large</td>\n",
       "      <td>13.565742</td>\n",
       "    </tr>\n",
       "    <tr>\n",
       "      <th>8</th>\n",
       "      <td>Envoy Air</td>\n",
       "      <td>883343.0</td>\n",
       "      <td>large</td>\n",
       "      <td>21.308606</td>\n",
       "    </tr>\n",
       "    <tr>\n",
       "      <th>9</th>\n",
       "      <td>US Airways Inc.</td>\n",
       "      <td>613380.0</td>\n",
       "      <td>large</td>\n",
       "      <td>18.963155</td>\n",
       "    </tr>\n",
       "    <tr>\n",
       "      <th>10</th>\n",
       "      <td>Spirit Air Lines</td>\n",
       "      <td>588574.0</td>\n",
       "      <td>small</td>\n",
       "      <td>21.468362</td>\n",
       "    </tr>\n",
       "    <tr>\n",
       "      <th>11</th>\n",
       "      <td>Frontier Airlines Inc.</td>\n",
       "      <td>494493.0</td>\n",
       "      <td>small</td>\n",
       "      <td>25.016160</td>\n",
       "    </tr>\n",
       "    <tr>\n",
       "      <th>12</th>\n",
       "      <td>Hawaiian Airlines Inc.</td>\n",
       "      <td>391688.0</td>\n",
       "      <td>small</td>\n",
       "      <td>16.122096</td>\n",
       "    </tr>\n",
       "    <tr>\n",
       "      <th>13</th>\n",
       "      <td>Republic Airline</td>\n",
       "      <td>316090.0</td>\n",
       "      <td>small</td>\n",
       "      <td>16.271392</td>\n",
       "    </tr>\n",
       "    <tr>\n",
       "      <th>14</th>\n",
       "      <td>PSA Airlines Inc.</td>\n",
       "      <td>278457.0</td>\n",
       "      <td>small</td>\n",
       "      <td>21.967308</td>\n",
       "    </tr>\n",
       "    <tr>\n",
       "      <th>15</th>\n",
       "      <td>Virgin America</td>\n",
       "      <td>277184.0</td>\n",
       "      <td>small</td>\n",
       "      <td>19.736811</td>\n",
       "    </tr>\n",
       "    <tr>\n",
       "      <th>16</th>\n",
       "      <td>Endeavor Air Inc.</td>\n",
       "      <td>245917.0</td>\n",
       "      <td>small</td>\n",
       "      <td>17.898304</td>\n",
       "    </tr>\n",
       "    <tr>\n",
       "      <th>17</th>\n",
       "      <td>Mesa Airlines Inc.</td>\n",
       "      <td>215138.0</td>\n",
       "      <td>small</td>\n",
       "      <td>20.168199</td>\n",
       "    </tr>\n",
       "    <tr>\n",
       "      <th>18</th>\n",
       "      <td>American Eagle Airlines Inc.</td>\n",
       "      <td>99989.0</td>\n",
       "      <td>small</td>\n",
       "      <td>25.722937</td>\n",
       "    </tr>\n",
       "    <tr>\n",
       "      <th>19</th>\n",
       "      <td>Allegiant Air</td>\n",
       "      <td>96221.0</td>\n",
       "      <td>small</td>\n",
       "      <td>18.928902</td>\n",
       "    </tr>\n",
       "    <tr>\n",
       "      <th>20</th>\n",
       "      <td>AirTran Airways Corporation</td>\n",
       "      <td>79495.0</td>\n",
       "      <td>small</td>\n",
       "      <td>17.236340</td>\n",
       "    </tr>\n",
       "  </tbody>\n",
       "</table>\n",
       "</div>"
      ],
      "text/plain": [
       "                    carrier_name  total_flights_14-18 carrier_size  \\\n",
       "0         Southwest Airlines Co.            6417928.0        large   \n",
       "1           Delta Air Lines Inc.            4471845.0        large   \n",
       "2         American Airlines Inc.            3991341.0        large   \n",
       "3          SkyWest Airlines Inc.            3287977.0        large   \n",
       "4          United Air Lines Inc.            2760362.0        large   \n",
       "5       ExpressJet Airlines Inc.            2291412.0        large   \n",
       "6                JetBlue Airways            1402878.0        large   \n",
       "7           Alaska Airlines Inc.             940887.0        large   \n",
       "8                      Envoy Air             883343.0        large   \n",
       "9                US Airways Inc.             613380.0        large   \n",
       "10              Spirit Air Lines             588574.0        small   \n",
       "11        Frontier Airlines Inc.             494493.0        small   \n",
       "12        Hawaiian Airlines Inc.             391688.0        small   \n",
       "13              Republic Airline             316090.0        small   \n",
       "14             PSA Airlines Inc.             278457.0        small   \n",
       "15                Virgin America             277184.0        small   \n",
       "16             Endeavor Air Inc.             245917.0        small   \n",
       "17            Mesa Airlines Inc.             215138.0        small   \n",
       "18  American Eagle Airlines Inc.              99989.0        small   \n",
       "19                 Allegiant Air              96221.0        small   \n",
       "20   AirTran Airways Corporation              79495.0        small   \n",
       "\n",
       "    pct_delay_flights_14-18  \n",
       "0                 21.262385  \n",
       "1                 13.698814  \n",
       "2                 21.165946  \n",
       "3                 18.310551  \n",
       "4                 19.855501  \n",
       "5                 20.195502  \n",
       "6                 22.938490  \n",
       "7                 13.565742  \n",
       "8                 21.308606  \n",
       "9                 18.963155  \n",
       "10                21.468362  \n",
       "11                25.016160  \n",
       "12                16.122096  \n",
       "13                16.271392  \n",
       "14                21.967308  \n",
       "15                19.736811  \n",
       "16                17.898304  \n",
       "17                20.168199  \n",
       "18                25.722937  \n",
       "19                18.928902  \n",
       "20                17.236340  "
      ]
     },
     "execution_count": 23,
     "metadata": {},
     "output_type": "execute_result"
    }
   ],
   "source": [
    "pct_delays = df_master.groupby('carrier_name').pct_delayed_flights.mean().sort_values(ascending = False)\n",
    "df_pct_delays = pd.DataFrame()\n",
    "df_pct_delays['carrier_name'] = pct_delays.index\n",
    "df_pct_delays['pct_delay_flights_14-18'] = pct_delays.values\n",
    "\n",
    "df_size = df_size.merge(df_pct_delays, on = 'carrier_name')\n",
    "df_size"
   ]
  },
  {
   "cell_type": "code",
   "execution_count": 24,
   "metadata": {},
   "outputs": [
    {
     "data": {
      "image/png": "[encoded data removed]",
      "text/plain": [
       "<Figure size 864x504 with 1 Axes>"
      ]
     },
     "metadata": {
      "needs_background": "light"
     },
     "output_type": "display_data"
    }
   ],
   "source": [
    "plt.figure(figsize = [12, 7])\n",
    "\n",
    "sns.scatterplot(y = df_size['pct_delay_flights_14-18'], x = df_size['total_flights_14-18'], hue = df_size['carrier_size'], palette = 'colorblind', legend = 'full', s = 60)\n",
    "plt.title('Average Percentage of Delayed Flights vs Total Number of Flights by a Carrier (2014-2018)', fontsize = 14, weight = 'bold')\n",
    "plt.xlabel('Total Number of Flights by a Carrier (2014-2018)', fontsize = 11, weight = 'bold')\n",
    "plt.ylabel('Average Percentage of Delayed Flights (2014-2018)', fontsize = 11, weight = 'bold');"
   ]
  },
  {
   "cell_type": "markdown",
   "metadata": {},
   "source": [
    "In the plot above, it can be observed that the scale or size of the operations of a carrier does not imply a higher percentage of delayed flights. Actually, the airlines that reported the lowest percentages of delayed flights (below 14%) between years 2014 and 2018 were airlines with large operations (above 1,000,000 flights in the last five years). In constrast, the two carriers that reported the highest percentage of delayed flights (approximately 25% and above) were airlines with number of flights below the 500,000 flights in the last five years. Based on this information, it seems that there is not enough evidence to support choosing an airline based on size when worrying about delays. Many other reasons are typically behind deciding what airline to choose like cost, scheduling options, etc."
   ]
  },
  {
   "cell_type": "markdown",
   "metadata": {},
   "source": [
    "### References"
   ]
  },
  {
   "cell_type": "markdown",
   "metadata": {},
   "source": [
    "- The original data used for this work was manually downloaded from the United States Department of Transportation website hosted under the following link: https://www.transtats.bts.gov/OT_Delay/OT_DelayCause1.asp?pn=1.\n",
    "\n",
    "- Appropriate description of the original fields can be found in https://www.bts.gov/topics/airlines-and-airports/understanding-reporting-causes-flight-delays-and-cancellations\n",
    "\n",
    "- In occassions, the documentation available for the Python's libraries used in this work and certain built-in functions was accessed through the internet "
   ]
  }
 ],
 "metadata": {
  "kernelspec": {
   "display_name": "Python 3",
   "language": "python",
   "name": "python3"
  },
  "language_info": {
   "codemirror_mode": {
    "name": "ipython",
    "version": 3
   },
   "file_extension": ".py",
   "mimetype": "text/x-python",
   "name": "python",
   "nbconvert_exporter": "python",
   "pygments_lexer": "ipython3",
   "version": "3.6.6"
  }
 },
 "nbformat": 4,
 "nbformat_minor": 2
}
