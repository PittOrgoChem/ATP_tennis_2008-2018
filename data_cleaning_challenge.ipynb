{
 "cells": [
  {
   "cell_type": "markdown",
   "metadata": {},
   "source": [
    "### Requirements"
   ]
  },
  {
   "cell_type": "code",
   "execution_count": 1,
   "metadata": {},
   "outputs": [],
   "source": [
    "import numpy as np\n",
    "import pandas as pd\n",
    "import chardet\n",
    "import seaborn as sns\n",
    "import matplotlib.pyplot as plt\n",
    "%matplotlib inline"
   ]
  },
  {
   "cell_type": "markdown",
   "metadata": {},
   "source": [
    "### Data Gathering"
   ]
  },
  {
   "cell_type": "code",
   "execution_count": 2,
   "metadata": {},
   "outputs": [
    {
     "data": {
      "text/plain": [
       "'Windows-1254'"
      ]
     },
     "execution_count": 2,
     "metadata": {},
     "output_type": "execute_result"
    }
   ],
   "source": [
    "rawdata = open('WELLCOME_APCspend2013_forThinkful.csv', \"rb\").read()\n",
    "result = chardet.detect(rawdata)\n",
    "charenc = result['encoding']\n",
    "charenc"
   ]
  },
  {
   "cell_type": "code",
   "execution_count": 3,
   "metadata": {
    "scrolled": true
   },
   "outputs": [
    {
     "data": {
      "text/html": [
       "<div>\n",
       "<style scoped>\n",
       "    .dataframe tbody tr th:only-of-type {\n",
       "        vertical-align: middle;\n",
       "    }\n",
       "\n",
       "    .dataframe tbody tr th {\n",
       "        vertical-align: top;\n",
       "    }\n",
       "\n",
       "    .dataframe thead th {\n",
       "        text-align: right;\n",
       "    }\n",
       "</style>\n",
       "<table border=\"1\" class=\"dataframe\">\n",
       "  <thead>\n",
       "    <tr style=\"text-align: right;\">\n",
       "      <th></th>\n",
       "      <th>PMID/PMCID</th>\n",
       "      <th>Publisher</th>\n",
       "      <th>Journal title</th>\n",
       "      <th>Article title</th>\n",
       "      <th>COST (£) charged to Wellcome (inc VAT when charged)</th>\n",
       "    </tr>\n",
       "  </thead>\n",
       "  <tbody>\n",
       "    <tr>\n",
       "      <th>0</th>\n",
       "      <td>NaN</td>\n",
       "      <td>CUP</td>\n",
       "      <td>Psychological Medicine</td>\n",
       "      <td>Reduced parahippocampal cortical thickness in ...</td>\n",
       "      <td>£0.00</td>\n",
       "    </tr>\n",
       "    <tr>\n",
       "      <th>1</th>\n",
       "      <td>PMC3679557</td>\n",
       "      <td>ACS</td>\n",
       "      <td>Biomacromolecules</td>\n",
       "      <td>Structural characterization of a Model Gram-ne...</td>\n",
       "      <td>£2381.04</td>\n",
       "    </tr>\n",
       "    <tr>\n",
       "      <th>2</th>\n",
       "      <td>23043264  PMC3506128</td>\n",
       "      <td>ACS</td>\n",
       "      <td>J Med Chem</td>\n",
       "      <td>Fumaroylamino-4,5-epoxymorphinans and related ...</td>\n",
       "      <td>£642.56</td>\n",
       "    </tr>\n",
       "    <tr>\n",
       "      <th>3</th>\n",
       "      <td>23438330 PMC3646402</td>\n",
       "      <td>ACS</td>\n",
       "      <td>J Med Chem</td>\n",
       "      <td>Orvinols with mixed kappa/mu opioid receptor a...</td>\n",
       "      <td>£669.64</td>\n",
       "    </tr>\n",
       "    <tr>\n",
       "      <th>4</th>\n",
       "      <td>23438216 PMC3601604</td>\n",
       "      <td>ACS</td>\n",
       "      <td>J Org Chem</td>\n",
       "      <td>Regioselective opening of myo-inositol orthoes...</td>\n",
       "      <td>£685.88</td>\n",
       "    </tr>\n",
       "  </tbody>\n",
       "</table>\n",
       "</div>"
      ],
      "text/plain": [
       "              PMID/PMCID Publisher           Journal title  \\\n",
       "0                    NaN       CUP  Psychological Medicine   \n",
       "1             PMC3679557       ACS       Biomacromolecules   \n",
       "2  23043264  PMC3506128        ACS              J Med Chem   \n",
       "3    23438330 PMC3646402       ACS              J Med Chem   \n",
       "4   23438216 PMC3601604        ACS              J Org Chem   \n",
       "\n",
       "                                       Article title  \\\n",
       "0  Reduced parahippocampal cortical thickness in ...   \n",
       "1  Structural characterization of a Model Gram-ne...   \n",
       "2  Fumaroylamino-4,5-epoxymorphinans and related ...   \n",
       "3  Orvinols with mixed kappa/mu opioid receptor a...   \n",
       "4  Regioselective opening of myo-inositol orthoes...   \n",
       "\n",
       "  COST (£) charged to Wellcome (inc VAT when charged)  \n",
       "0                                              £0.00   \n",
       "1                                           £2381.04   \n",
       "2                                            £642.56   \n",
       "3                                            £669.64   \n",
       "4                                            £685.88   "
      ]
     },
     "execution_count": 3,
     "metadata": {},
     "output_type": "execute_result"
    }
   ],
   "source": [
    "df = pd.read_csv('WELLCOME_APCspend2013_forThinkful.csv', encoding = 'unicode_escape')\n",
    "df.head()"
   ]
  },
  {
   "cell_type": "markdown",
   "metadata": {},
   "source": [
    "Once the dataset was read as pandas dataframe, a quick assessment (see below) of the data showed a \"complete\" dataset with most fields complete, however, a deeper assessment will give a better idea about the quality of the data"
   ]
  },
  {
   "cell_type": "code",
   "execution_count": 4,
   "metadata": {
    "scrolled": true
   },
   "outputs": [
    {
     "name": "stdout",
     "output_type": "stream",
     "text": [
      "<class 'pandas.core.frame.DataFrame'>\n",
      "RangeIndex: 2127 entries, 0 to 2126\n",
      "Data columns (total 5 columns):\n",
      "PMID/PMCID                                             1928 non-null object\n",
      "Publisher                                              2127 non-null object\n",
      "Journal title                                          2126 non-null object\n",
      "Article title                                          2127 non-null object\n",
      "COST (£) charged to Wellcome (inc VAT when charged)    2127 non-null object\n",
      "dtypes: object(5)\n",
      "memory usage: 83.2+ KB\n"
     ]
    }
   ],
   "source": [
    "df.info()"
   ]
  },
  {
   "cell_type": "markdown",
   "metadata": {},
   "source": [
    "### Data Assessing and Cleaning"
   ]
  },
  {
   "cell_type": "code",
   "execution_count": 5,
   "metadata": {},
   "outputs": [],
   "source": [
    "df_clean = df.copy()"
   ]
  },
  {
   "cell_type": "markdown",
   "metadata": {},
   "source": [
    "As seen below, there are 984 \"unique\" Journal titles and 299 unique Publisher in the dataset"
   ]
  },
  {
   "cell_type": "code",
   "execution_count": 6,
   "metadata": {
    "scrolled": true
   },
   "outputs": [
    {
     "name": "stdout",
     "output_type": "stream",
     "text": [
      "984\n",
      "299\n"
     ]
    }
   ],
   "source": [
    "print(df_clean['Journal title'].nunique())\n",
    "\n",
    "print(df_clean['Publisher'].nunique())"
   ]
  },
  {
   "cell_type": "markdown",
   "metadata": {},
   "source": [
    "Since most of the fields of interest contain strings, the removal of leading and trailing whitespace may help reducing the size of the 'Publisher' and 'Journal title' fields. Similarly, replacing the symbol '&' by 'and' may also achieved a good result"
   ]
  },
  {
   "cell_type": "code",
   "execution_count": 7,
   "metadata": {},
   "outputs": [],
   "source": [
    "df_clean['Journal title'] = df_clean['Journal title'].str.lower().str.strip()\n",
    "\n",
    "df_clean['Publisher'] = df_clean['Publisher'].str.lower().str.strip()\n",
    "\n",
    "df_clean['Journal title'] = df_clean['Journal title'].str.replace('&', 'and', regex = False)\n",
    "\n",
    "df_clean['Publisher'] = df_clean['Publisher'].str.replace('&', 'and', regex = False)"
   ]
  },
  {
   "cell_type": "markdown",
   "metadata": {},
   "source": [
    "As it can be seen below, the modifications performed effectively reduced the size of the mentioned fields"
   ]
  },
  {
   "cell_type": "code",
   "execution_count": 8,
   "metadata": {
    "scrolled": false
   },
   "outputs": [
    {
     "name": "stdout",
     "output_type": "stream",
     "text": [
      "881\n",
      "251\n"
     ]
    }
   ],
   "source": [
    "print(df_clean['Journal title'].nunique())\n",
    "\n",
    "print(df_clean['Publisher'].nunique())"
   ]
  },
  {
   "cell_type": "markdown",
   "metadata": {},
   "source": [
    "Before starting cleaning the larger fields, visual assessment of the field 'Publisher' suggests the presence of multiple records containing small variations of the same 'Publisher', therefore incresing the size of the corresponding field"
   ]
  },
  {
   "cell_type": "code",
   "execution_count": 9,
   "metadata": {
    "scrolled": true
   },
   "outputs": [
    {
     "data": {
      "text/plain": [
       "elsevier                                                   399\n",
       "public library of science                                  278\n",
       "wiley                                                      148\n",
       "oxford university press                                     85\n",
       "springer                                                    82\n",
       "biomed central                                              60\n",
       "wiley-blackwell                                             56\n",
       "oup                                                         56\n",
       "nature publishing group                                     49\n",
       "asbmb                                                       46\n",
       "bmc                                                         26\n",
       "bmj                                                         25\n",
       "nature                                                      25\n",
       "plos                                                        24\n",
       "frontiers                                                   23\n",
       "royal society                                               22\n",
       "cambridge university press                                  20\n",
       "american society for biochemistry and molecular biology     19\n",
       "dartmouth journal services                                  18\n",
       "american society for microbiology                           18\n",
       "company of biologists                                       18\n",
       "bmj group                                                   16\n",
       "taylor and francis                                          16\n",
       "oxford journals                                             16\n",
       "national academy of sciences                                16\n",
       "american chemical society                                   15\n",
       "american psychological association                          14\n",
       "landes bioscience                                           14\n",
       "society for general microbiology                            14\n",
       "sage                                                        14\n",
       "                                                          ... \n",
       "springer verlag                                              1\n",
       "nature pg                                                    1\n",
       "asm (american society for microbiology)                      1\n",
       "jscimed central                                              1\n",
       "asbmc /cenveo                                                1\n",
       "frontiers research foundation                                1\n",
       "association for research in vision and ophthalmology         1\n",
       "future medicine ltd                                          1\n",
       "cold spring harbor                                           1\n",
       "company of biologist                                         1\n",
       "my jove corporation                                          1\n",
       "bmj publishing group ltd and british thoracic society        1\n",
       "mit press open access                                        1\n",
       "springer-verlag gmbh and ci                                  1\n",
       "society for genermal microbiology                            1\n",
       "ios press                                                    1\n",
       "wolters kluwer n.v./lippinott                                1\n",
       "royal society for chemistry                                  1\n",
       "public.service.co.uk                                         1\n",
       "the company of biologists ltd                                1\n",
       "j med internet research                                      1\n",
       "asbmb/cadmus                                                 1\n",
       "cshlp                                                        1\n",
       "springer-veriag gmbh                                         1\n",
       "humana press (springer imprint)                              1\n",
       "cadmus journal service                                       1\n",
       "society for publication of acta dermato-venereologica        1\n",
       "company of biologists ltd                                    1\n",
       "wiley vch                                                    1\n",
       "european respiratory society                                 1\n",
       "Name: Publisher, Length: 251, dtype: int64"
      ]
     },
     "execution_count": 9,
     "metadata": {},
     "output_type": "execute_result"
    }
   ],
   "source": [
    "df_clean['Publisher'].value_counts()"
   ]
  },
  {
   "cell_type": "markdown",
   "metadata": {},
   "source": [
    "In the case of the 'Publisher' field, certain records contained wrong information that was only confirmed by searching information about the particular article on the internet and manually inputing the correct information (see below)"
   ]
  },
  {
   "cell_type": "code",
   "execution_count": 10,
   "metadata": {},
   "outputs": [],
   "source": [
    "df_clean.at[173, 'Publisher'] = 'portland press'\n",
    "df_clean.at[174, 'Publisher'] = 'elsevier'\n",
    "df_clean.at[1622, 'Publisher'] = 'biomed central (bmc)'\n",
    "df_clean.at[1621, 'Publisher'] = 'elsevier'\n",
    "df_clean.at[15, 'Publisher'] = 'elsevier'\n",
    "df_clean.at[376, 'Publisher'] = 'endocrine society'\n",
    "df_clean.at[373, 'Publisher'] = 'american physiological society'\n",
    "df_clean.at[[378, 1107], 'Publisher'] = 'international aids society'\n",
    "df_clean.at[1620, 'Publisher'] = 'endocrine society'\n",
    "df_clean.at[1682, 'Publisher'] = 'bioscientifica'\n",
    "df_clean.at[1810, ['PMID/PMCID', 'Journal title']] = 'PMC4214402', 'azania'\n",
    "df_clean.at[406, 'Publisher'] = 'taylor and francis'"
   ]
  },
  {
   "cell_type": "markdown",
   "metadata": {},
   "source": [
    "In the case of more general issues (e.g. typos, abbreviations, etc), built-in string methods and regular expressions allowed for programatic cleaning in order to combine records related to the same 'Publisher' under a unique name"
   ]
  },
  {
   "cell_type": "code",
   "execution_count": 11,
   "metadata": {},
   "outputs": [],
   "source": [
    "df_clean['acs'] = df_clean['Publisher'].str.contains('acs|american chemical society', case = False, regex = True)\n",
    "df_clean['Publisher'] = np.where(df_clean['acs'], 'american chemical society (acs)', df_clean['Publisher'])\n",
    "df_clean.drop('acs', axis = 1, inplace = True)\n",
    "\n",
    "df_clean['wiley'] = df_clean['Publisher'].str.extract(r'([w][ile]{3}[y])', expand = True)\n",
    "df_clean['Publisher'] = np.where(df_clean['wiley'] == 'wiley', 'john wiley and sons', df_clean['Publisher'])\n",
    "df_clean.drop('wiley', axis = 1, inplace = True)\n",
    "\n",
    "df_clean['wiley'] = df_clean['Publisher'].str.contains('[w][ile]{3}[y]', case = False, regex = True)\n",
    "df_clean['Publisher'] = np.where(df_clean['wiley'], 'john wiley and sons', df_clean['Publisher'])\n",
    "df_clean.drop('wiley', axis = 1, inplace = True)\n",
    "\n",
    "df_clean['plos'] = df_clean['Publisher'].str.contains('plos|public library of science', case = False, regex = True)\n",
    "df_clean['Publisher'] = np.where(df_clean['plos'], 'plos (public library of science)', df_clean['Publisher'])\n",
    "df_clean.drop('plos', axis = 1, inplace = True)\n",
    "\n",
    "df_clean['springer'] = df_clean['Publisher'].str.contains('springer', case = False, regex = True)\n",
    "df_clean['Publisher'] = np.where(df_clean['springer'], 'springer', df_clean['Publisher'])\n",
    "df_clean.drop('springer', axis = 1, inplace = True)\n",
    "\n",
    "df_clean['ox'] = df_clean['Publisher'].str.contains('oxford|^[o][u][p]', case = False, regex = True)\n",
    "df_clean['Publisher'] = np.where(df_clean['ox'], 'oxford university press', df_clean['Publisher'])\n",
    "df_clean.drop('ox', axis = 1, inplace = True)\n",
    "\n",
    "df_clean['nat'] = df_clean['Publisher'].str.contains('[n][atur]{4}[e]|npg', case = False, regex = True)\n",
    "df_clean['Publisher'] = np.where(df_clean['nat'], 'nature publishing group', df_clean['Publisher'])\n",
    "df_clean.drop('nat', axis = 1, inplace = True)\n",
    "\n",
    "df_clean['bmc'] = df_clean['Publisher'].str.contains('biomed|^bmc', case = False, regex = True)\n",
    "df_clean['Publisher'] = np.where(df_clean['bmc'], 'biomed central (bmc)', df_clean['Publisher'])\n",
    "df_clean.drop('bmc', axis = 1, inplace = True)\n",
    "\n",
    "df_clean['elsevier'] = df_clean['Publisher'].str.contains('[e][lsevie]{6}[r]|elseveier|cell press', case = False, regex = True)\n",
    "df_clean['Publisher'] = np.where(df_clean['elsevier'], 'elsevier', df_clean['Publisher'])\n",
    "df_clean.drop('elsevier', axis = 1, inplace = True)\n",
    "\n",
    "df_clean['bmj'] = df_clean['Publisher'].str.contains('[b][m][j]|british', case = False, regex = True)\n",
    "df_clean['Publisher'] = np.where(df_clean['bmj'], 'the british medical journal (bmj)', df_clean['Publisher'])\n",
    "df_clean.drop('bmj', axis = 1, inplace = True)\n",
    "\n",
    "df_clean['royalsoc'] = df_clean['Publisher'].str.contains('royal society$', case = False, regex = True)\n",
    "df_clean['Publisher'] = np.where(df_clean['royalsoc'], 'the royal society', df_clean['Publisher'])\n",
    "df_clean.drop('royalsoc', axis = 1, inplace = True)\n",
    "\n",
    "df_clean['royalchem'] = df_clean['Publisher'].str.contains('royal society \\w+ chemistry|[r][s][c]', case = False, regex = True)\n",
    "df_clean['Publisher'] = np.where(df_clean['royalchem'], 'the royal society of chemistry', df_clean['Publisher'])\n",
    "df_clean.drop('royalchem', axis = 1, inplace = True)\n",
    "\n",
    "df_clean['frontiers'] = df_clean['Publisher'].str.contains('[f][rontier]{7}[s]?', case = False, regex = True)\n",
    "df_clean['Publisher'] = np.where(df_clean['frontiers'], 'frontiers media', df_clean['Publisher'])\n",
    "df_clean.drop('frontiers', axis = 1, inplace = True)\n",
    "\n",
    "df_clean['asbmb'] = df_clean['Publisher'].str.contains('american society for biochemistry|[a][sbm]{3}[b]?|cadmus|american soc for biochemistry', case = False, regex = True)\n",
    "df_clean['Publisher'] = np.where(df_clean['asbmb'], 'american society for biochemistry and molecular biology (asbmb)', df_clean['Publisher'])\n",
    "df_clean.drop('asbmb', axis = 1, inplace = True)\n",
    "\n",
    "df_clean['camb'] = df_clean['Publisher'].str.contains('[c][amb]{3}\\w+|[c][u][p]', case = False, regex = True)\n",
    "df_clean['Publisher'] = np.where(df_clean['camb'], 'cambridge university press', df_clean['Publisher'])\n",
    "df_clean.drop('camb', axis = 1, inplace = True)\n",
    "\n",
    "df_clean['tf'] = df_clean['Publisher'].str.contains('[t][ay]{2}\\w+|[f][ranci]{5}[s]?|tandf', case = False, regex = True)\n",
    "df_clean['Publisher'] = np.where(df_clean['tf'], 'taylor and francis', df_clean['Publisher'])\n",
    "df_clean.drop('tf', axis = 1, inplace = True)\n",
    "\n",
    "df_clean['dt'] = df_clean['Publisher'].str.contains('[d][ar]{2}\\w+', case = False, regex = True)\n",
    "df_clean['Publisher'] = np.where(df_clean['dt'], 'darmouth journal services', df_clean['Publisher'])\n",
    "df_clean.drop('dt', axis = 1, inplace = True)\n",
    "\n",
    "df_clean['comp'] = df_clean['Publisher'].str.contains('[c][ompan]{5}\\w+', case = False, regex = True)\n",
    "df_clean['Publisher'] = np.where(df_clean['comp'], 'the company of biologists', df_clean['Publisher'])\n",
    "df_clean.drop('comp', axis = 1, inplace = True)\n",
    "\n",
    "df_clean['asm'] = df_clean['Publisher'].str.contains('[a][s][m]|^american.*microbiology$', case = False, regex = True)\n",
    "df_clean['Publisher'] = np.where(df_clean['asm'], 'american society for microbiology (asm)', df_clean['Publisher'])\n",
    "df_clean.drop('asm', axis = 1, inplace = True)\n",
    "\n",
    "df_clean['pnas'] = df_clean['Publisher'].str.contains('^[n][ati]{3}\\w+|[a][c][a]\\w+|[p][nas]{3}', case = False, regex = True)\n",
    "df_clean['Publisher'] = np.where(df_clean['pnas'], 'national academy of sciences of the united states of america', df_clean['Publisher'])\n",
    "df_clean.drop('pnas', axis = 1, inplace = True)\n",
    "\n",
    "df_clean['landes'] = df_clean['Publisher'].str.contains('[l][andes]{5}', case = False, regex = True)\n",
    "df_clean['Publisher'] = np.where(df_clean['landes'], 'landes bioscience', df_clean['Publisher'])\n",
    "df_clean.drop('landes', axis = 1, inplace = True)\n",
    "\n",
    "df_clean['soc'] = df_clean['Publisher'].str.contains('^[s][ociety]{6}.*[m][icro]{4}\\w+', case = False, regex = True)\n",
    "df_clean['Publisher'] = np.where(df_clean['soc'], 'society for general microbiology', df_clean['Publisher'])\n",
    "df_clean.drop('soc', axis = 1, inplace = True)\n",
    "\n",
    "df_clean['sage'] = df_clean['Publisher'].str.contains('[s][age]{3}', case = False, regex = True)\n",
    "df_clean['Publisher'] = np.where(df_clean['sage'], 'sage publishing', df_clean['Publisher'])\n",
    "df_clean.drop('sage', axis = 1, inplace = True)\n",
    "\n",
    "df_clean['port'] = df_clean['Publisher'].str.contains('[p][ort]{3}', case = False, regex = True)\n",
    "df_clean['Publisher'] = np.where(df_clean['port'], 'portland press', df_clean['Publisher'])\n",
    "df_clean.drop('port', axis = 1, inplace = True)\n",
    "\n",
    "df_clean['neuro'] = df_clean['Publisher'].str.contains('[n][e][uro]{3}|[sfn]{3}', case = False, regex = True)\n",
    "df_clean['Publisher'] = np.where(df_clean['neuro'], 'society for neuroscience', df_clean['Publisher'])\n",
    "df_clean.drop('neuro', axis = 1, inplace = True)\n",
    "\n",
    "df_clean['cryst'] = df_clean['Publisher'].str.contains('[i][ucr]{3}|[c][rys]{3}', case = False, regex = True)\n",
    "df_clean['Publisher'] = np.where(df_clean['cryst'], 'international union of crystallography (iucr)', df_clean['Publisher'])\n",
    "df_clean.drop('cryst', axis = 1, inplace = True)\n",
    "\n",
    "df_clean['endo'] = df_clean['Publisher'].str.contains('[e][nd]{2}.*[e]', case = False, regex = True)\n",
    "df_clean['Publisher'] = np.where(df_clean['endo'], 'endocrine society', df_clean['Publisher'])\n",
    "df_clean.drop('endo', axis = 1, inplace = True)\n",
    "\n",
    "df_clean['wolt'] = df_clean['Publisher'].str.contains('[w][ol]{2}.*|[k][lu]{2}.*', case = False, regex = True)\n",
    "df_clean['Publisher'] = np.where(df_clean['wolt'], 'wolters kluwer', df_clean['Publisher'])\n",
    "df_clean.drop('wolt', axis = 1, inplace = True)\n",
    "\n",
    "df_clean['physio'] = df_clean['Publisher'].str.contains('[p][hy]{2}[sio]{3}.*|[a][p][s]', case = False, regex = True)\n",
    "df_clean['Publisher'] = np.where(df_clean['physio'], 'american physiological society', df_clean['Publisher'])\n",
    "df_clean.drop('physio', axis = 1, inplace = True)\n",
    "\n",
    "df_clean['faseb'] = df_clean['Publisher'].str.contains('[f][ed]{2}.*|[f][ase]{3}[b]', case = False, regex = True)\n",
    "df_clean['Publisher'] = np.where(df_clean['faseb'], 'federation of american societies for experimental biology (faseb)', df_clean['Publisher'])\n",
    "df_clean.drop('faseb', axis = 1, inplace = True)\n",
    "\n",
    "df_clean['ash'] = df_clean['Publisher'].str.contains('[h][ema]{3}.*|[a][s][h]', case = False, regex = True)\n",
    "df_clean['Publisher'] = np.where(df_clean['ash'], 'american society of hematology (ash)', df_clean['Publisher'])\n",
    "df_clean.drop('ash', axis = 1, inplace = True)\n",
    "\n",
    "df_clean['sher'] = df_clean['Publisher'].str.contains('sheridan', case = False, regex = True)\n",
    "df_clean['Publisher'] = np.where(df_clean['sher'], 'the sheridan press', df_clean['Publisher'])\n",
    "df_clean.drop('sher', axis = 1, inplace = True)\n",
    "\n",
    "df_clean['roy'] = df_clean['Publisher'].str.contains('royal college', case = False, regex = True)\n",
    "df_clean['Publisher'] = np.where(df_clean['roy'], 'royal college of psychiatrists', df_clean['Publisher'])\n",
    "df_clean.drop('roy', axis = 1, inplace = True)\n",
    "\n",
    "df_clean['fut'] = df_clean['Publisher'].str.contains('future|medicine', case = False, regex = True)\n",
    "df_clean['Publisher'] = np.where(df_clean['fut'], 'future medicine', df_clean['Publisher'])\n",
    "df_clean.drop('fut', axis = 1, inplace = True)\n",
    "\n",
    "df_clean['cold'] = df_clean['Publisher'].str.contains('cold|cshlp', case = False, regex = True)\n",
    "df_clean['Publisher'] = np.where(df_clean['cold'], 'cold spring harbor laboratory press', df_clean['Publisher'])\n",
    "df_clean.drop('cold', axis = 1, inplace = True)\n",
    "\n",
    "df_clean['mary'] = df_clean['Publisher'].str.contains('[m][ary]{3}|[l][ieber]{5}', case = False, regex = True)\n",
    "df_clean['Publisher'] = np.where(df_clean['mary'], 'mary ann liebert', df_clean['Publisher'])\n",
    "df_clean.drop('mary', axis = 1, inplace = True)\n",
    "\n",
    "df_clean['hind'] = df_clean['Publisher'].str.contains('[h][ind]{3}', case = False, regex = True)\n",
    "df_clean['Publisher'] = np.where(df_clean['hind'], 'hindawi', df_clean['Publisher'])\n",
    "df_clean.drop('hind', axis = 1, inplace = True)\n",
    "\n",
    "df_clean['jove'] = df_clean['Publisher'].str.contains('[m][y].*?[j]|visualized|jove', case = False, regex = True)\n",
    "df_clean['Publisher'] = np.where(df_clean['jove'], 'myjove corporation', df_clean['Publisher'])\n",
    "df_clean.drop('jove', axis = 1, inplace = True)\n",
    "\n",
    "df_clean['biophys'] = df_clean['Publisher'].str.contains('[b][iophy]{5}', case = False, regex = True)\n",
    "df_clean['Publisher'] = np.where(df_clean['biophys'], 'biophysical society', df_clean['Publisher'])\n",
    "df_clean.drop('biophys', axis = 1, inplace = True)\n",
    "\n",
    "df_clean['bent'] = df_clean['Publisher'].str.contains('[b][ent]{3}', case = False, regex = True)\n",
    "df_clean['Publisher'] = np.where(df_clean['bent'], 'bentham science publishers', df_clean['Publisher'])\n",
    "df_clean.drop('bent', axis = 1, inplace = True)\n",
    "\n",
    "df_clean['imp'] = df_clean['Publisher'].str.contains('[i][mpa]{3}', case = False, regex = True)\n",
    "df_clean['Publisher'] = np.where(df_clean['imp'], 'impact journals', df_clean['Publisher'])\n",
    "df_clean.drop('imp', axis = 1, inplace = True)\n",
    "\n",
    "df_clean['leu'] = df_clean['Publisher'].str.contains('[l][eu]{2}', case = False, regex = True)\n",
    "df_clean['Publisher'] = np.where(df_clean['leu'], 'society for leukocyte biology', df_clean['Publisher'])\n",
    "df_clean.drop('leu', axis = 1, inplace = True)\n",
    "\n",
    "df_clean['mit'] = df_clean['Publisher'].str.contains('[m][it]{2}', case = False, regex = True)\n",
    "df_clean['Publisher'] = np.where(df_clean['mit'], 'mit press', df_clean['Publisher'])\n",
    "df_clean.drop('mit', axis = 1, inplace = True)\n",
    "\n",
    "df_clean['info'] = df_clean['Publisher'].str.contains('[i][nfo]{3}', case = False, regex = True)\n",
    "df_clean['Publisher'] = np.where(df_clean['info'], 'informa healthcare communications', df_clean['Publisher'])\n",
    "df_clean.drop('info', axis = 1, inplace = True)"
   ]
  },
  {
   "cell_type": "markdown",
   "metadata": {},
   "source": [
    "As it can be noted below, through manual and programmatic cleaning, the size of the 'Publisher' field was effectively reduced from 299 unique names to 85"
   ]
  },
  {
   "cell_type": "code",
   "execution_count": 12,
   "metadata": {
    "scrolled": true
   },
   "outputs": [
    {
     "data": {
      "text/plain": [
       "85"
      ]
     },
     "execution_count": 12,
     "metadata": {},
     "output_type": "execute_result"
    }
   ],
   "source": [
    "df_clean['Publisher'].nunique()"
   ]
  },
  {
   "cell_type": "code",
   "execution_count": 13,
   "metadata": {
    "scrolled": true
   },
   "outputs": [
    {
     "data": {
      "text/plain": [
       "elsevier                                                             414\n",
       "plos (public library of science)                                     307\n",
       "john wiley and sons                                                  270\n",
       "oxford university press                                              167\n",
       "biomed central (bmc)                                                  96\n",
       "springer                                                              95\n",
       "american society for biochemistry and molecular biology (asbmb)       84\n",
       "nature publishing group                                               81\n",
       "the british medical journal (bmj)                                     58\n",
       "national academy of sciences of the united states of america          36\n",
       "american chemical society (acs)                                       34\n",
       "cambridge university press                                            33\n",
       "frontiers media                                                       32\n",
       "the royal society                                                     29\n",
       "the company of biologists                                             27\n",
       "american society for microbiology (asm)                               25\n",
       "portland press                                                        23\n",
       "darmouth journal services                                             22\n",
       "sage publishing                                                       21\n",
       "taylor and francis                                                    20\n",
       "endocrine society                                                     18\n",
       "landes bioscience                                                     16\n",
       "society for general microbiology                                      16\n",
       "american psychological association                                    14\n",
       "society for neuroscience                                              14\n",
       "wolters kluwer                                                        12\n",
       "federation of american societies for experimental biology (faseb)     12\n",
       "international union of crystallography (iucr)                         10\n",
       "american society of hematology (ash)                                   9\n",
       "american physiological society                                         9\n",
       "                                                                    ... \n",
       "european society of endocrinolog                                       1\n",
       "research media ltd                                                     1\n",
       "american society for investigative pathology                           1\n",
       "brill                                                                  1\n",
       "palgrave macmillan                                                     1\n",
       "j med internet research                                                1\n",
       "ios press                                                              1\n",
       "macmillan                                                              1\n",
       "the boulevard                                                          1\n",
       "society for publication of acta dermato-venereologica                  1\n",
       "ivyspring international publisher                                      1\n",
       "public.service.co.uk                                                   1\n",
       "pion                                                                   1\n",
       "american speech-language-hearing association                           1\n",
       "american society for nutrition                                         1\n",
       "scientific research publishing                                         1\n",
       "jscimed central                                                        1\n",
       "iop publishing                                                         1\n",
       "association for research in vision and ophthalmology                   1\n",
       "american psychiatric association                                       1\n",
       "university of the basque country press                                 1\n",
       "american college of chest physicians                                   1\n",
       "policy press                                                           1\n",
       "european respiratory society                                           1\n",
       "johns hopkins university press                                         1\n",
       "transcript verlag                                                      1\n",
       "optical society of america                                             1\n",
       "lww                                                                    1\n",
       "american psychiatric publishing                                        1\n",
       "the american society of pediatrics                                     1\n",
       "Name: Publisher, Length: 85, dtype: int64"
      ]
     },
     "execution_count": 13,
     "metadata": {},
     "output_type": "execute_result"
    }
   ],
   "source": [
    "df_clean['Publisher'].value_counts()"
   ]
  },
  {
   "cell_type": "markdown",
   "metadata": {},
   "source": [
    "Next, a similar approach was taken to assess and clean the 'Journal title' field, however, only the top most common 'Journal title' were assessed and cleaned due to the considerably larger size of the field compared to the 'Publisher' field"
   ]
  },
  {
   "cell_type": "code",
   "execution_count": 14,
   "metadata": {
    "scrolled": true
   },
   "outputs": [
    {
     "data": {
      "text/plain": [
       "881"
      ]
     },
     "execution_count": 14,
     "metadata": {},
     "output_type": "execute_result"
    }
   ],
   "source": [
    "df_clean['Journal title'].nunique()"
   ]
  },
  {
   "cell_type": "markdown",
   "metadata": {},
   "source": [
    "It was found that only one record was missing the information conrresponding to the 'Journal title'. Manual inputation was not possible since information needed to retrieve additional information was not available. The record was removed from the dataset"
   ]
  },
  {
   "cell_type": "code",
   "execution_count": 15,
   "metadata": {
    "scrolled": false
   },
   "outputs": [
    {
     "data": {
      "text/html": [
       "<div>\n",
       "<style scoped>\n",
       "    .dataframe tbody tr th:only-of-type {\n",
       "        vertical-align: middle;\n",
       "    }\n",
       "\n",
       "    .dataframe tbody tr th {\n",
       "        vertical-align: top;\n",
       "    }\n",
       "\n",
       "    .dataframe thead th {\n",
       "        text-align: right;\n",
       "    }\n",
       "</style>\n",
       "<table border=\"1\" class=\"dataframe\">\n",
       "  <thead>\n",
       "    <tr style=\"text-align: right;\">\n",
       "      <th></th>\n",
       "      <th>PMID/PMCID</th>\n",
       "      <th>Publisher</th>\n",
       "      <th>Journal title</th>\n",
       "      <th>Article title</th>\n",
       "      <th>COST (£) charged to Wellcome (inc VAT when charged)</th>\n",
       "    </tr>\n",
       "  </thead>\n",
       "  <tbody>\n",
       "    <tr>\n",
       "      <th>986</th>\n",
       "      <td>NaN</td>\n",
       "      <td>macmillan</td>\n",
       "      <td>NaN</td>\n",
       "      <td>Fungal Disease in Britain and the United State...</td>\n",
       "      <td>£13200.00</td>\n",
       "    </tr>\n",
       "  </tbody>\n",
       "</table>\n",
       "</div>"
      ],
      "text/plain": [
       "    PMID/PMCID  Publisher Journal title  \\\n",
       "986        NaN  macmillan           NaN   \n",
       "\n",
       "                                         Article title  \\\n",
       "986  Fungal Disease in Britain and the United State...   \n",
       "\n",
       "    COST (£) charged to Wellcome (inc VAT when charged)  \n",
       "986                                          £13200.00   "
      ]
     },
     "execution_count": 15,
     "metadata": {},
     "output_type": "execute_result"
    }
   ],
   "source": [
    "df_clean[df_clean['Journal title'].isnull()]"
   ]
  },
  {
   "cell_type": "code",
   "execution_count": 16,
   "metadata": {},
   "outputs": [],
   "source": [
    "df_clean.dropna(subset = ['Journal title'], inplace = True)"
   ]
  },
  {
   "cell_type": "markdown",
   "metadata": {},
   "source": [
    "Similarly to the cleaning of the 'Publisher' field, manual correction of wrong information was performed using manual inputation after confirming the right information using the internet"
   ]
  },
  {
   "cell_type": "code",
   "execution_count": 17,
   "metadata": {},
   "outputs": [],
   "source": [
    "df_clean.at[1345, ['Publisher', 'Journal title']] = 'sage publishing', 'Health: An Interdisciplinary Journal for the Social Study of Health, Illness and Medicine'\n",
    "df_clean.at[1256, 'Journal title'] = 'age and ageing'\n",
    "df_clean.at[1255, 'Journal title'] = 'health policy and planning'\n",
    "df_clean.at[429, 'Journal title'] = 'genetics'\n",
    "df_clean.at[[430, 431, 436], 'Publisher'] = 'national academy of sciences of the united states of america'\n",
    "df_clean.at[767, 'Journal title'] = 'public health1'\n",
    "df_clean.at[339, 'Publisher'] = 'society for neuroscience'\n",
    "df_clean.at[397, 'Journal title'] = 'biology open'\n",
    "df_clean.at[547, 'Journal title'] = 'behaviour research and therapy'\n",
    "df_clean.at[548, 'Journal title'] = 'the journal of pediatrics'\n",
    "df_clean.at[549, ['Publisher', 'Journal title']] = 'john wiley and sons', 'pathogens and disease'\n",
    "df_clean.at[550, 'Journal title'] = 'health and place'\n",
    "df_clean.at[551, 'Journal title'] = 'drug and alcohol dependence'\n",
    "df_clean.at[552, 'Journal title'] = 'lancet'\n",
    "df_clean.at[546, 'Journal title'] = 'brain, behavior, and immunity'\n",
    "df_clean.at[1205, ['PMID/PMCID', 'Journal title']] = 'PMC3530408', 'british medical bulletin'"
   ]
  },
  {
   "cell_type": "markdown",
   "metadata": {},
   "source": [
    "A more general programmatic approach allowed for cleaning of the data for the 20 most common journal titles in the set\n"
   ]
  },
  {
   "cell_type": "code",
   "execution_count": 18,
   "metadata": {},
   "outputs": [],
   "source": [
    "df_clean['plos1'] = df_clean['Journal title'].str.contains('[p][l][o][s].*?[o][ne]{2}|[p][l][o][s].*?1|plos$|pone-d12-17947|public library of science', case = False, regex = True)\n",
    "df_clean['Journal title'] = np.where(df_clean['plos1'], 'plos one', df_clean['Journal title'])\n",
    "df_clean.drop('plos1', axis = 1, inplace = True)\n",
    "\n",
    "df_clean['jbc'] = df_clean['Journal title'].str.contains('journal of biological chemistry|j biol chem.|j biol chemistry|jnl biological chemistry|journal of biol chem|journal biological chemistry|the journal of biological chemistry|biological chemistry|biologicial chemistry', case = False, regex = True)\n",
    "df_clean['Journal title'] = np.where(df_clean['jbc'], 'journal of biological chemistry', df_clean['Journal title'])\n",
    "df_clean.drop('jbc', axis = 1, inplace = True)\n",
    "\n",
    "df_clean['nuc'] = df_clean['Journal title'].str.contains('nucleic acid[s]? research', case = False, regex = True)\n",
    "df_clean['Journal title'] = np.where(df_clean['nuc'], 'nucleic acids research', df_clean['Journal title'])\n",
    "df_clean.drop('nuc', axis = 1, inplace = True)\n",
    "\n",
    "df_clean['pntd'] = df_clean['Journal title'].str.contains('neglected tropical disease|pntd|plos negected tropical diseases|plos ntd', case = False, regex = True)\n",
    "df_clean['Journal title'] = np.where(df_clean['pntd'], 'plos neglected tropical diseases', df_clean['Journal title'])\n",
    "df_clean.drop('pntd', axis = 1, inplace = True)\n",
    "\n",
    "df_clean['pnas'] = df_clean['Journal title'].str.contains('national academy of sciences|pnas|proc natl acad sci u s a.', case = False, regex = True)\n",
    "df_clean['Journal title'] = np.where(df_clean['pnas'], 'proceedings of the national academy of sciences', df_clean['Journal title'])\n",
    "df_clean.drop('pnas', axis = 1, inplace = True)\n",
    "\n",
    "df_clean['hmg'] = df_clean['Journal title'].str.contains('[h][uman]{4}.*[m][ol]{2}.*?[g][ene]{3}', case = False, regex = True)\n",
    "df_clean['Journal title'] = np.where(df_clean['hmg'], 'human molecular genetics', df_clean['Journal title'])\n",
    "df_clean.drop('hmg', axis = 1, inplace = True)\n",
    "\n",
    "df_clean['brain'] = df_clean['Journal title'].str.contains('^[b][rain]{4}$|brain online', case = False, regex = True)\n",
    "df_clean['Journal title'] = np.where(df_clean['brain'], 'brain', df_clean['Journal title'])\n",
    "df_clean.drop('brain', axis = 1, inplace = True)\n",
    "\n",
    "df_clean['pubh'] = df_clean['Journal title'].str.contains('^public health$|bmc public|[b][m][c].*[p][u]', case = False, regex = True)\n",
    "df_clean['Journal title'] = np.where(df_clean['pubh'], 'bmc public health', df_clean['Journal title'])\n",
    "df_clean.drop('pubh', axis = 1, inplace = True)\n",
    "\n",
    "df_clean['neuro'] = df_clean['Journal title'].str.contains('^journal of neuroscience$|the journal of neuroscience', case = False, regex = True)\n",
    "df_clean['Journal title'] = np.where(df_clean['neuro'], 'journal of neuroscience', df_clean['Journal title'])\n",
    "df_clean.drop('neuro', axis = 1, inplace = True)\n",
    "\n",
    "df_clean['biochem'] = df_clean['Journal title'].str.contains('[b][iochem]{6}.*[j].*?', case = False, regex = True)\n",
    "df_clean['Journal title'] = np.where(df_clean['biochem'], 'biochemical journal', df_clean['Journal title'])\n",
    "df_clean.drop('biochem', axis = 1, inplace = True)\n",
    "\n",
    "df_clean['develop'] = df_clean['Journal title'].str.contains('[d][ev]{2}.*[c][ell]{3}?', case = False, regex = True)\n",
    "df_clean['Journal title'] = np.where(df_clean['develop'], 'developmental cell', df_clean['Journal title'])\n",
    "df_clean.drop('develop', axis = 1, inplace = True)\n",
    "\n",
    "df_clean['bio'] = df_clean['Journal title'].str.contains('[c][urr]{3}.*[^o][b][io]{2}', case = False, regex = True)\n",
    "df_clean['Journal title'] = np.where(df_clean['bio'], 'current biology', df_clean['Journal title'])\n",
    "df_clean.drop('bio', axis = 1, inplace = True)\n",
    "\n",
    "df_clean['bmj'] = df_clean['Journal title'].str.contains('british medical journal|bmj$', case = False, regex = True)\n",
    "df_clean['Journal title'] = np.where(df_clean['bmj'], 'bmj', df_clean['Journal title'])\n",
    "df_clean.drop('bmj', axis = 1, inplace = True)"
   ]
  },
  {
   "cell_type": "markdown",
   "metadata": {},
   "source": [
    "Upon cleaning, the five most common journal titles in the dataset were following:"
   ]
  },
  {
   "cell_type": "code",
   "execution_count": 19,
   "metadata": {
    "scrolled": true
   },
   "outputs": [
    {
     "data": {
      "text/plain": [
       "plos one                                           213\n",
       "journal of biological chemistry                     73\n",
       "proceedings of the national academy of sciences     39\n",
       "nucleic acids research                              29\n",
       "neuroimage                                          29\n",
       "Name: Journal title, dtype: int64"
      ]
     },
     "execution_count": 19,
     "metadata": {},
     "output_type": "execute_result"
    }
   ],
   "source": [
    "df_clean['Journal title'].value_counts()[:5]"
   ]
  },
  {
   "cell_type": "markdown",
   "metadata": {},
   "source": [
    "The last cleaning effort before performing analyses, was to clean the 'PMID/PMCID' field. This field contain unique identification information for each article in the dataset, however, the original visual assessment of the data reveal multiple variations in formatting. In order to solve these issues, built-in string methods combined with regular expressions, permitted the extraction and creation of two new fields containing the information corresponding to each identifier, the european (PM_ID) and the american (PMC_ID)"
   ]
  },
  {
   "cell_type": "code",
   "execution_count": 20,
   "metadata": {},
   "outputs": [],
   "source": [
    "df_clean['PMID/PMCID'] = df_clean['PMID/PMCID'].str.replace('\\n', '', regex = False)\n",
    "df_clean['PMC'] = df_clean['PMID/PMCID'].str.extract(r'[P]?[M]?[C]?[I]?[D]?:?([P][M][C][I]?[D]?\\s*?[3][0-9]{6})', expand = True)\n",
    "df_clean['PMC'] = df_clean['PMC'].str.replace('PMC', '', regex = False)\n",
    "df_clean['PM_ID'] = df_clean['PMID/PMCID'].str.extract(r'[P]?[M]?[I]?[D]?:?([2][0-9]{7})', expand = True)\n",
    "df_clean['PMC2'] = df_clean['PMID/PMCID'].str.extract(r'^([3][0-9]{6})', expand = True)\n",
    "df_clean['PMC_ID'] = df_clean['PMC'].fillna('') + df_clean['PMC2'].fillna('')\n",
    "df_clean.drop(['PMC', 'PMC2'], axis = 1, inplace = True)\n",
    "df_clean = df_clean[['PMID/PMCID', 'PMC_ID', 'PM_ID', 'Publisher', 'Journal title', 'Article title', 'COST (£) charged to Wellcome (inc VAT when charged)']]"
   ]
  },
  {
   "cell_type": "code",
   "execution_count": 21,
   "metadata": {
    "scrolled": true
   },
   "outputs": [
    {
     "data": {
      "text/html": [
       "<div>\n",
       "<style scoped>\n",
       "    .dataframe tbody tr th:only-of-type {\n",
       "        vertical-align: middle;\n",
       "    }\n",
       "\n",
       "    .dataframe tbody tr th {\n",
       "        vertical-align: top;\n",
       "    }\n",
       "\n",
       "    .dataframe thead th {\n",
       "        text-align: right;\n",
       "    }\n",
       "</style>\n",
       "<table border=\"1\" class=\"dataframe\">\n",
       "  <thead>\n",
       "    <tr style=\"text-align: right;\">\n",
       "      <th></th>\n",
       "      <th>PMID/PMCID</th>\n",
       "      <th>PMC_ID</th>\n",
       "      <th>PM_ID</th>\n",
       "      <th>Publisher</th>\n",
       "      <th>Journal title</th>\n",
       "      <th>Article title</th>\n",
       "      <th>COST (£) charged to Wellcome (inc VAT when charged)</th>\n",
       "    </tr>\n",
       "  </thead>\n",
       "  <tbody>\n",
       "    <tr>\n",
       "      <th>1749</th>\n",
       "      <td>23385540 PMC3669511</td>\n",
       "      <td>3669511</td>\n",
       "      <td>23385540</td>\n",
       "      <td>springer</td>\n",
       "      <td>european child and adolescent psychiatty</td>\n",
       "      <td>Are parental ADHD problems associated with a m...</td>\n",
       "      <td>£2285.92</td>\n",
       "    </tr>\n",
       "    <tr>\n",
       "      <th>160</th>\n",
       "      <td>23698002 PMC3696650</td>\n",
       "      <td>3696650</td>\n",
       "      <td>23698002</td>\n",
       "      <td>american society for biochemistry and molecula...</td>\n",
       "      <td>journal of biological chemistry</td>\n",
       "      <td>T-Cell Receptor specifically maintained by alt...</td>\n",
       "      <td>£1566.89</td>\n",
       "    </tr>\n",
       "    <tr>\n",
       "      <th>1548</th>\n",
       "      <td>3574120</td>\n",
       "      <td>3574120</td>\n",
       "      <td>NaN</td>\n",
       "      <td>plos (public library of science)</td>\n",
       "      <td>plos one</td>\n",
       "      <td>Use of a Molecular Decoy to Segregate Transpor...</td>\n",
       "      <td>£889.97</td>\n",
       "    </tr>\n",
       "    <tr>\n",
       "      <th>1630</th>\n",
       "      <td>PMC3730629</td>\n",
       "      <td>3730629</td>\n",
       "      <td>NaN</td>\n",
       "      <td>the royal society</td>\n",
       "      <td>biology letters</td>\n",
       "      <td>Anthelmintic treatment alters the parasite com...</td>\n",
       "      <td>£1680.00</td>\n",
       "    </tr>\n",
       "    <tr>\n",
       "      <th>170</th>\n",
       "      <td>23885220 PMC3706957</td>\n",
       "      <td>3706957</td>\n",
       "      <td>23885220</td>\n",
       "      <td>bentham science publishers</td>\n",
       "      <td>current analytical chemistry</td>\n",
       "      <td>Ion mobility spectrometry-mass spectrometry of...</td>\n",
       "      <td>£2142.99</td>\n",
       "    </tr>\n",
       "  </tbody>\n",
       "</table>\n",
       "</div>"
      ],
      "text/plain": [
       "                PMID/PMCID   PMC_ID     PM_ID  \\\n",
       "1749  23385540 PMC3669511   3669511  23385540   \n",
       "160    23698002 PMC3696650  3696650  23698002   \n",
       "1548               3574120  3574120       NaN   \n",
       "1630            PMC3730629  3730629       NaN   \n",
       "170   23885220 PMC3706957   3706957  23885220   \n",
       "\n",
       "                                              Publisher  \\\n",
       "1749                                           springer   \n",
       "160   american society for biochemistry and molecula...   \n",
       "1548                   plos (public library of science)   \n",
       "1630                                  the royal society   \n",
       "170                          bentham science publishers   \n",
       "\n",
       "                                 Journal title  \\\n",
       "1749  european child and adolescent psychiatty   \n",
       "160            journal of biological chemistry   \n",
       "1548                                  plos one   \n",
       "1630                           biology letters   \n",
       "170               current analytical chemistry   \n",
       "\n",
       "                                          Article title  \\\n",
       "1749  Are parental ADHD problems associated with a m...   \n",
       "160   T-Cell Receptor specifically maintained by alt...   \n",
       "1548  Use of a Molecular Decoy to Segregate Transpor...   \n",
       "1630  Anthelmintic treatment alters the parasite com...   \n",
       "170   Ion mobility spectrometry-mass spectrometry of...   \n",
       "\n",
       "     COST (£) charged to Wellcome (inc VAT when charged)  \n",
       "1749                                           £2285.92   \n",
       "160                                            £1566.89   \n",
       "1548                                            £889.97   \n",
       "1630                                           £1680.00   \n",
       "170                                            £2142.99   "
      ]
     },
     "execution_count": 21,
     "metadata": {},
     "output_type": "execute_result"
    }
   ],
   "source": [
    "df_clean.sample(5)"
   ]
  },
  {
   "cell_type": "markdown",
   "metadata": {},
   "source": [
    "Since our analyses focuses on the 'COST (£) charged to Wellcome (inc VAT when charged)' field, the removal of alphanumeric symbols (£ and $) and the subsequent change in data format to the more appropriate 'float' was performed"
   ]
  },
  {
   "cell_type": "code",
   "execution_count": 22,
   "metadata": {},
   "outputs": [],
   "source": [
    "df_clean['COST (£) charged to Wellcome (inc VAT when charged)'] = df_clean['COST (£) charged to Wellcome (inc VAT when charged)'].str.replace('£', '', regex = False)\n",
    "df_clean['COST (£) charged to Wellcome (inc VAT when charged)'] = df_clean['COST (£) charged to Wellcome (inc VAT when charged)'].str.replace('$', '', regex = False)\n",
    "df_clean['COST (£) charged to Wellcome (inc VAT when charged)'] = df_clean['COST (£) charged to Wellcome (inc VAT when charged)'].astype(float)"
   ]
  },
  {
   "cell_type": "markdown",
   "metadata": {},
   "source": [
    "In order to simplify the analysis, a subset of the original dataset was assembled containing information for the five most common journals exclusively"
   ]
  },
  {
   "cell_type": "code",
   "execution_count": 23,
   "metadata": {
    "scrolled": false
   },
   "outputs": [
    {
     "data": {
      "text/html": [
       "<div>\n",
       "<style scoped>\n",
       "    .dataframe tbody tr th:only-of-type {\n",
       "        vertical-align: middle;\n",
       "    }\n",
       "\n",
       "    .dataframe tbody tr th {\n",
       "        vertical-align: top;\n",
       "    }\n",
       "\n",
       "    .dataframe thead th {\n",
       "        text-align: right;\n",
       "    }\n",
       "</style>\n",
       "<table border=\"1\" class=\"dataframe\">\n",
       "  <thead>\n",
       "    <tr style=\"text-align: right;\">\n",
       "      <th></th>\n",
       "      <th>PMID/PMCID</th>\n",
       "      <th>PMC_ID</th>\n",
       "      <th>PM_ID</th>\n",
       "      <th>Publisher</th>\n",
       "      <th>Journal title</th>\n",
       "      <th>Article title</th>\n",
       "      <th>COST (£) charged to Wellcome (inc VAT when charged)</th>\n",
       "    </tr>\n",
       "  </thead>\n",
       "  <tbody>\n",
       "    <tr>\n",
       "      <th>16</th>\n",
       "      <td>22610094</td>\n",
       "      <td></td>\n",
       "      <td>22610094</td>\n",
       "      <td>american society for biochemistry and molecula...</td>\n",
       "      <td>journal of biological chemistry</td>\n",
       "      <td>Annexin-1 interaction with FPR2/ALX</td>\n",
       "      <td>265.67</td>\n",
       "    </tr>\n",
       "    <tr>\n",
       "      <th>60</th>\n",
       "      <td>PMC3576085</td>\n",
       "      <td>3576085</td>\n",
       "      <td>NaN</td>\n",
       "      <td>american society for biochemistry and molecula...</td>\n",
       "      <td>journal of biological chemistry</td>\n",
       "      <td>Understanding how noncatalytic carbohydrate bi...</td>\n",
       "      <td>1100.00</td>\n",
       "    </tr>\n",
       "    <tr>\n",
       "      <th>61</th>\n",
       "      <td>23239883 PMC3561570</td>\n",
       "      <td>3561570</td>\n",
       "      <td>23239883</td>\n",
       "      <td>american society for biochemistry and molecula...</td>\n",
       "      <td>journal of biological chemistry</td>\n",
       "      <td>Molecular architecture and functional analysis...</td>\n",
       "      <td>2259.64</td>\n",
       "    </tr>\n",
       "    <tr>\n",
       "      <th>62</th>\n",
       "      <td>PMC3481300</td>\n",
       "      <td>3481300</td>\n",
       "      <td>NaN</td>\n",
       "      <td>american society for biochemistry and molecula...</td>\n",
       "      <td>journal of biological chemistry</td>\n",
       "      <td>Structure of the BMP receptor ALK2 and implica...</td>\n",
       "      <td>1487.46</td>\n",
       "    </tr>\n",
       "    <tr>\n",
       "      <th>63</th>\n",
       "      <td>PMC3234852</td>\n",
       "      <td>3234852</td>\n",
       "      <td>NaN</td>\n",
       "      <td>american society for biochemistry and molecula...</td>\n",
       "      <td>journal of biological chemistry</td>\n",
       "      <td>Inhibitory member of the apoptosis-stimulating...</td>\n",
       "      <td>1531.08</td>\n",
       "    </tr>\n",
       "  </tbody>\n",
       "</table>\n",
       "</div>"
      ],
      "text/plain": [
       "              PMID/PMCID   PMC_ID     PM_ID  \\\n",
       "16              22610094           22610094   \n",
       "60            PMC3576085  3576085       NaN   \n",
       "61  23239883 PMC3561570   3561570  23239883   \n",
       "62            PMC3481300  3481300       NaN   \n",
       "63            PMC3234852  3234852       NaN   \n",
       "\n",
       "                                            Publisher  \\\n",
       "16  american society for biochemistry and molecula...   \n",
       "60  american society for biochemistry and molecula...   \n",
       "61  american society for biochemistry and molecula...   \n",
       "62  american society for biochemistry and molecula...   \n",
       "63  american society for biochemistry and molecula...   \n",
       "\n",
       "                      Journal title  \\\n",
       "16  journal of biological chemistry   \n",
       "60  journal of biological chemistry   \n",
       "61  journal of biological chemistry   \n",
       "62  journal of biological chemistry   \n",
       "63  journal of biological chemistry   \n",
       "\n",
       "                                        Article title  \\\n",
       "16                Annexin-1 interaction with FPR2/ALX   \n",
       "60  Understanding how noncatalytic carbohydrate bi...   \n",
       "61  Molecular architecture and functional analysis...   \n",
       "62  Structure of the BMP receptor ALK2 and implica...   \n",
       "63  Inhibitory member of the apoptosis-stimulating...   \n",
       "\n",
       "    COST (£) charged to Wellcome (inc VAT when charged)  \n",
       "16                                             265.67    \n",
       "60                                            1100.00    \n",
       "61                                            2259.64    \n",
       "62                                            1487.46    \n",
       "63                                            1531.08    "
      ]
     },
     "execution_count": 23,
     "metadata": {},
     "output_type": "execute_result"
    }
   ],
   "source": [
    "top_five_flag = (df_clean['Journal title'] == 'plos one') | (df_clean['Journal title'] == 'journal of biological chemistry') | (df_clean['Journal title'] == 'proceedings of the national academy of sciences') | (df_clean['Journal title'] == 'nucleic acids research') | (df_clean['Journal title'] == 'neuroimage')\n",
    "df_top_5 = df_clean.loc[top_five_flag, :]\n",
    "df_top_5.head()"
   ]
  },
  {
   "cell_type": "markdown",
   "metadata": {},
   "source": [
    "As it can be seen below, the resulting dataset ('df_top_5') is very complete, however, a visual assessment will provide more information about its quality"
   ]
  },
  {
   "cell_type": "code",
   "execution_count": 24,
   "metadata": {
    "scrolled": false
   },
   "outputs": [
    {
     "name": "stdout",
     "output_type": "stream",
     "text": [
      "<class 'pandas.core.frame.DataFrame'>\n",
      "Int64Index: 383 entries, 16 to 1835\n",
      "Data columns (total 7 columns):\n",
      "PMID/PMCID                                             370 non-null object\n",
      "PMC_ID                                                 383 non-null object\n",
      "PM_ID                                                  59 non-null object\n",
      "Publisher                                              383 non-null object\n",
      "Journal title                                          383 non-null object\n",
      "Article title                                          383 non-null object\n",
      "COST (£) charged to Wellcome (inc VAT when charged)    383 non-null float64\n",
      "dtypes: float64(1), object(6)\n",
      "memory usage: 23.9+ KB\n"
     ]
    }
   ],
   "source": [
    "df_top_5.info()"
   ]
  },
  {
   "cell_type": "markdown",
   "metadata": {},
   "source": [
    "In the plot below, it is very notorius that most of the journals in our dataset have costs associated with them that are way too high in comparison to most of the records"
   ]
  },
  {
   "cell_type": "code",
   "execution_count": 25,
   "metadata": {
    "scrolled": true
   },
   "outputs": [
    {
     "data": {
      "image/png": "[encoded data removed]",
      "text/plain": [
       "<Figure size 720x360 with 1 Axes>"
      ]
     },
     "metadata": {
      "needs_background": "light"
     },
     "output_type": "display_data"
    }
   ],
   "source": [
    "plt.figure(figsize = [10, 5])\n",
    "\n",
    "sns.boxplot(data = df_top_5, x = 'COST (£) charged to Wellcome (inc VAT when charged)', y = 'Journal title', palette = 'colorblind')\n",
    "plt.xscale('log');"
   ]
  },
  {
   "cell_type": "markdown",
   "metadata": {},
   "source": [
    "Filtering the new dataset for records with 'COST (£) charged to Wellcome (inc VAT when charged)' above £ 10,000, revealed that multiple entries were associated with costs of £ 999,999, likely caused by a problem inputing the data or a system related problem. In the case of record indexed as #1470, a value of £ 192,645 seem equally wrong. After considering several approaches for resolving these issues, these wrong values were replaced with 'null values (NaN)' in order to be able to calculate summary statistics for the field based on the 'Journal title' in a more reliable way "
   ]
  },
  {
   "cell_type": "code",
   "execution_count": 26,
   "metadata": {},
   "outputs": [
    {
     "data": {
      "text/html": [
       "<div>\n",
       "<style scoped>\n",
       "    .dataframe tbody tr th:only-of-type {\n",
       "        vertical-align: middle;\n",
       "    }\n",
       "\n",
       "    .dataframe tbody tr th {\n",
       "        vertical-align: top;\n",
       "    }\n",
       "\n",
       "    .dataframe thead th {\n",
       "        text-align: right;\n",
       "    }\n",
       "</style>\n",
       "<table border=\"1\" class=\"dataframe\">\n",
       "  <thead>\n",
       "    <tr style=\"text-align: right;\">\n",
       "      <th></th>\n",
       "      <th>PMID/PMCID</th>\n",
       "      <th>PMC_ID</th>\n",
       "      <th>PM_ID</th>\n",
       "      <th>Publisher</th>\n",
       "      <th>Journal title</th>\n",
       "      <th>Article title</th>\n",
       "      <th>COST (£) charged to Wellcome (inc VAT when charged)</th>\n",
       "    </tr>\n",
       "  </thead>\n",
       "  <tbody>\n",
       "    <tr>\n",
       "      <th>149</th>\n",
       "      <td>PMC3234811</td>\n",
       "      <td>3234811</td>\n",
       "      <td>NaN</td>\n",
       "      <td>american society for biochemistry and molecula...</td>\n",
       "      <td>journal of biological chemistry</td>\n",
       "      <td>Picomolar nitric oxide signals from central ne...</td>\n",
       "      <td>999999.0</td>\n",
       "    </tr>\n",
       "    <tr>\n",
       "      <th>1309</th>\n",
       "      <td>2294692</td>\n",
       "      <td></td>\n",
       "      <td>NaN</td>\n",
       "      <td>national academy of sciences of the united sta...</td>\n",
       "      <td>proceedings of the national academy of sciences</td>\n",
       "      <td>Shaping accoustic fields as a toolset for micr...</td>\n",
       "      <td>999999.0</td>\n",
       "    </tr>\n",
       "    <tr>\n",
       "      <th>1470</th>\n",
       "      <td>3547931</td>\n",
       "      <td>3547931</td>\n",
       "      <td>NaN</td>\n",
       "      <td>plos (public library of science)</td>\n",
       "      <td>plos one</td>\n",
       "      <td>Reducing stock-outs of life saving Malaria Com...</td>\n",
       "      <td>192645.0</td>\n",
       "    </tr>\n",
       "    <tr>\n",
       "      <th>1560</th>\n",
       "      <td>3726600</td>\n",
       "      <td>3726600</td>\n",
       "      <td>NaN</td>\n",
       "      <td>plos (public library of science)</td>\n",
       "      <td>plos one</td>\n",
       "      <td>Plasmodium falciparum vary Gene Expression Hom...</td>\n",
       "      <td>999999.0</td>\n",
       "    </tr>\n",
       "    <tr>\n",
       "      <th>1561</th>\n",
       "      <td>23285297</td>\n",
       "      <td></td>\n",
       "      <td>23285297</td>\n",
       "      <td>plos (public library of science)</td>\n",
       "      <td>plos one</td>\n",
       "      <td>Pharmacological inhibition of caspase-2 protec...</td>\n",
       "      <td>999999.0</td>\n",
       "    </tr>\n",
       "    <tr>\n",
       "      <th>1562</th>\n",
       "      <td>PMC3720940</td>\n",
       "      <td>3720940</td>\n",
       "      <td>NaN</td>\n",
       "      <td>plos (public library of science)</td>\n",
       "      <td>plos one</td>\n",
       "      <td>Population-based CD4 counts in a rural area in...</td>\n",
       "      <td>999999.0</td>\n",
       "    </tr>\n",
       "    <tr>\n",
       "      <th>1563</th>\n",
       "      <td>PMCID: PMC3748079</td>\n",
       "      <td>3748079</td>\n",
       "      <td>NaN</td>\n",
       "      <td>plos (public library of science)</td>\n",
       "      <td>plos one</td>\n",
       "      <td>Plant SILAC: stable-isotope labelling with ami...</td>\n",
       "      <td>999999.0</td>\n",
       "    </tr>\n",
       "    <tr>\n",
       "      <th>1564</th>\n",
       "      <td>PMCID:    PMC3579793</td>\n",
       "      <td>3579793</td>\n",
       "      <td>NaN</td>\n",
       "      <td>plos (public library of science)</td>\n",
       "      <td>plos one</td>\n",
       "      <td>Phagocytosis Is the Main CR3-Mediated Function...</td>\n",
       "      <td>999999.0</td>\n",
       "    </tr>\n",
       "    <tr>\n",
       "      <th>1565</th>\n",
       "      <td>PMCID:    PMC3732248</td>\n",
       "      <td>3732248</td>\n",
       "      <td>NaN</td>\n",
       "      <td>plos (public library of science)</td>\n",
       "      <td>plos one</td>\n",
       "      <td>Pneumocystis jirovecii pneumonia in tropical a...</td>\n",
       "      <td>999999.0</td>\n",
       "    </tr>\n",
       "    <tr>\n",
       "      <th>1566</th>\n",
       "      <td>PMCID:    PMC3767740</td>\n",
       "      <td>3767740</td>\n",
       "      <td>NaN</td>\n",
       "      <td>plos (public library of science)</td>\n",
       "      <td>plos one</td>\n",
       "      <td>Phenotypic alteration of neutrophils in the bl...</td>\n",
       "      <td>999999.0</td>\n",
       "    </tr>\n",
       "    <tr>\n",
       "      <th>1612</th>\n",
       "      <td>PMC3777952</td>\n",
       "      <td>3777952</td>\n",
       "      <td>NaN</td>\n",
       "      <td>plos (public library of science)</td>\n",
       "      <td>plos one</td>\n",
       "      <td>Retinal Nerve Fibre Layer Thickness and Contra...</td>\n",
       "      <td>999999.0</td>\n",
       "    </tr>\n",
       "    <tr>\n",
       "      <th>1616</th>\n",
       "      <td>PMC 3460945</td>\n",
       "      <td>3460945</td>\n",
       "      <td>NaN</td>\n",
       "      <td>plos (public library of science)</td>\n",
       "      <td>plos one</td>\n",
       "      <td>Persistence of Hyperinvasive Meningococcal Str...</td>\n",
       "      <td>999999.0</td>\n",
       "    </tr>\n",
       "    <tr>\n",
       "      <th>1835</th>\n",
       "      <td>PMCID:PMC3268392</td>\n",
       "      <td>3268392</td>\n",
       "      <td>NaN</td>\n",
       "      <td>american society for biochemistry and molecula...</td>\n",
       "      <td>journal of biological chemistry</td>\n",
       "      <td>Photoaffinity labelling of high affinity nicot...</td>\n",
       "      <td>999999.0</td>\n",
       "    </tr>\n",
       "  </tbody>\n",
       "</table>\n",
       "</div>"
      ],
      "text/plain": [
       "                PMID/PMCID    PMC_ID     PM_ID  \\\n",
       "149             PMC3234811   3234811       NaN   \n",
       "1309               2294692                 NaN   \n",
       "1470               3547931   3547931       NaN   \n",
       "1560               3726600   3726600       NaN   \n",
       "1561              23285297            23285297   \n",
       "1562           PMC3720940    3720940       NaN   \n",
       "1563     PMCID: PMC3748079   3748079       NaN   \n",
       "1564  PMCID:    PMC3579793   3579793       NaN   \n",
       "1565  PMCID:    PMC3732248   3732248       NaN   \n",
       "1566  PMCID:    PMC3767740   3767740       NaN   \n",
       "1612            PMC3777952   3777952       NaN   \n",
       "1616           PMC 3460945   3460945       NaN   \n",
       "1835      PMCID:PMC3268392   3268392       NaN   \n",
       "\n",
       "                                              Publisher  \\\n",
       "149   american society for biochemistry and molecula...   \n",
       "1309  national academy of sciences of the united sta...   \n",
       "1470                   plos (public library of science)   \n",
       "1560                   plos (public library of science)   \n",
       "1561                   plos (public library of science)   \n",
       "1562                   plos (public library of science)   \n",
       "1563                   plos (public library of science)   \n",
       "1564                   plos (public library of science)   \n",
       "1565                   plos (public library of science)   \n",
       "1566                   plos (public library of science)   \n",
       "1612                   plos (public library of science)   \n",
       "1616                   plos (public library of science)   \n",
       "1835  american society for biochemistry and molecula...   \n",
       "\n",
       "                                        Journal title  \\\n",
       "149                   journal of biological chemistry   \n",
       "1309  proceedings of the national academy of sciences   \n",
       "1470                                         plos one   \n",
       "1560                                         plos one   \n",
       "1561                                         plos one   \n",
       "1562                                         plos one   \n",
       "1563                                         plos one   \n",
       "1564                                         plos one   \n",
       "1565                                         plos one   \n",
       "1566                                         plos one   \n",
       "1612                                         plos one   \n",
       "1616                                         plos one   \n",
       "1835                  journal of biological chemistry   \n",
       "\n",
       "                                          Article title  \\\n",
       "149   Picomolar nitric oxide signals from central ne...   \n",
       "1309  Shaping accoustic fields as a toolset for micr...   \n",
       "1470  Reducing stock-outs of life saving Malaria Com...   \n",
       "1560  Plasmodium falciparum vary Gene Expression Hom...   \n",
       "1561  Pharmacological inhibition of caspase-2 protec...   \n",
       "1562  Population-based CD4 counts in a rural area in...   \n",
       "1563  Plant SILAC: stable-isotope labelling with ami...   \n",
       "1564  Phagocytosis Is the Main CR3-Mediated Function...   \n",
       "1565  Pneumocystis jirovecii pneumonia in tropical a...   \n",
       "1566  Phenotypic alteration of neutrophils in the bl...   \n",
       "1612  Retinal Nerve Fibre Layer Thickness and Contra...   \n",
       "1616  Persistence of Hyperinvasive Meningococcal Str...   \n",
       "1835  Photoaffinity labelling of high affinity nicot...   \n",
       "\n",
       "      COST (£) charged to Wellcome (inc VAT when charged)  \n",
       "149                                            999999.0    \n",
       "1309                                           999999.0    \n",
       "1470                                           192645.0    \n",
       "1560                                           999999.0    \n",
       "1561                                           999999.0    \n",
       "1562                                           999999.0    \n",
       "1563                                           999999.0    \n",
       "1564                                           999999.0    \n",
       "1565                                           999999.0    \n",
       "1566                                           999999.0    \n",
       "1612                                           999999.0    \n",
       "1616                                           999999.0    \n",
       "1835                                           999999.0    "
      ]
     },
     "execution_count": 26,
     "metadata": {},
     "output_type": "execute_result"
    }
   ],
   "source": [
    "df_top_5[df_top_5['COST (£) charged to Wellcome (inc VAT when charged)'] > 10000]"
   ]
  },
  {
   "cell_type": "code",
   "execution_count": 27,
   "metadata": {
    "scrolled": false
   },
   "outputs": [
    {
     "name": "stderr",
     "output_type": "stream",
     "text": [
      "/anaconda3/lib/python3.6/site-packages/ipykernel_launcher.py:1: SettingWithCopyWarning: \n",
      "A value is trying to be set on a copy of a slice from a DataFrame.\n",
      "Try using .loc[row_indexer,col_indexer] = value instead\n",
      "\n",
      "See the caveats in the documentation: http://pandas.pydata.org/pandas-docs/stable/indexing.html#indexing-view-versus-copy\n",
      "  \"\"\"Entry point for launching an IPython kernel.\n"
     ]
    }
   ],
   "source": [
    "df_top_5['COST (£) charged to Wellcome (inc VAT when charged)'] = np.where(df_top_5['COST (£) charged to Wellcome (inc VAT when charged)'] > 10000, np.nan, df_top_5['COST (£) charged to Wellcome (inc VAT when charged)'])"
   ]
  },
  {
   "cell_type": "markdown",
   "metadata": {},
   "source": [
    "As it can be noted below, the removal of the extreme values from the 'COST (£) charged to Wellcome (inc VAT when charged)' resulted in the appearance of 13 missing records in the dataset. Cleaning approaches that considered inputing the missing values with the mean or median for each 'Journal title' were considered, however, built-in functions that estimate the mentioned statistics without using missing values were used"
   ]
  },
  {
   "cell_type": "code",
   "execution_count": 28,
   "metadata": {
    "scrolled": true
   },
   "outputs": [
    {
     "name": "stdout",
     "output_type": "stream",
     "text": [
      "<class 'pandas.core.frame.DataFrame'>\n",
      "Int64Index: 383 entries, 16 to 1835\n",
      "Data columns (total 7 columns):\n",
      "PMID/PMCID                                             370 non-null object\n",
      "PMC_ID                                                 383 non-null object\n",
      "PM_ID                                                  59 non-null object\n",
      "Publisher                                              383 non-null object\n",
      "Journal title                                          383 non-null object\n",
      "Article title                                          383 non-null object\n",
      "COST (£) charged to Wellcome (inc VAT when charged)    370 non-null float64\n",
      "dtypes: float64(1), object(6)\n",
      "memory usage: 33.9+ KB\n"
     ]
    }
   ],
   "source": [
    "df_top_5.info()"
   ]
  },
  {
   "cell_type": "code",
   "execution_count": 29,
   "metadata": {
    "scrolled": true
   },
   "outputs": [
    {
     "data": {
      "text/html": [
       "<div>\n",
       "<style scoped>\n",
       "    .dataframe tbody tr th:only-of-type {\n",
       "        vertical-align: middle;\n",
       "    }\n",
       "\n",
       "    .dataframe tbody tr th {\n",
       "        vertical-align: top;\n",
       "    }\n",
       "\n",
       "    .dataframe thead th {\n",
       "        text-align: right;\n",
       "    }\n",
       "</style>\n",
       "<table border=\"1\" class=\"dataframe\">\n",
       "  <thead>\n",
       "    <tr style=\"text-align: right;\">\n",
       "      <th></th>\n",
       "      <th>Journal Title</th>\n",
       "      <th>Mean (£)</th>\n",
       "      <th>Median (£)</th>\n",
       "      <th>Standard deviation</th>\n",
       "    </tr>\n",
       "  </thead>\n",
       "  <tbody>\n",
       "    <tr>\n",
       "      <th>0</th>\n",
       "      <td>journal of biological chemistry</td>\n",
       "      <td>1378.140423</td>\n",
       "      <td>1311.730</td>\n",
       "      <td>388.553911</td>\n",
       "    </tr>\n",
       "    <tr>\n",
       "      <th>1</th>\n",
       "      <td>neuroimage</td>\n",
       "      <td>2215.168276</td>\n",
       "      <td>2326.430</td>\n",
       "      <td>266.653947</td>\n",
       "    </tr>\n",
       "    <tr>\n",
       "      <th>2</th>\n",
       "      <td>nucleic acids research</td>\n",
       "      <td>1162.344828</td>\n",
       "      <td>852.000</td>\n",
       "      <td>442.150934</td>\n",
       "    </tr>\n",
       "    <tr>\n",
       "      <th>3</th>\n",
       "      <td>plos one</td>\n",
       "      <td>937.642906</td>\n",
       "      <td>897.610</td>\n",
       "      <td>193.298329</td>\n",
       "    </tr>\n",
       "    <tr>\n",
       "      <th>4</th>\n",
       "      <td>proceedings of the national academy of sciences</td>\n",
       "      <td>829.325000</td>\n",
       "      <td>733.125</td>\n",
       "      <td>456.567758</td>\n",
       "    </tr>\n",
       "  </tbody>\n",
       "</table>\n",
       "</div>"
      ],
      "text/plain": [
       "                                     Journal Title     Mean (£)  Median (£)  \\\n",
       "0                  journal of biological chemistry  1378.140423    1311.730   \n",
       "1                                       neuroimage  2215.168276    2326.430   \n",
       "2                           nucleic acids research  1162.344828     852.000   \n",
       "3                                         plos one   937.642906     897.610   \n",
       "4  proceedings of the national academy of sciences   829.325000     733.125   \n",
       "\n",
       "   Standard deviation  \n",
       "0          388.553911  \n",
       "1          266.653947  \n",
       "2          442.150934  \n",
       "3          193.298329  \n",
       "4          456.567758  "
      ]
     },
     "execution_count": 29,
     "metadata": {},
     "output_type": "execute_result"
    }
   ],
   "source": [
    "means = df_top_5.groupby('Journal title')['COST (£) charged to Wellcome (inc VAT when charged)'].mean()\n",
    "medians = df_top_5.groupby('Journal title')['COST (£) charged to Wellcome (inc VAT when charged)'].median()\n",
    "stds = df_top_5.groupby('Journal title')['COST (£) charged to Wellcome (inc VAT when charged)'].std()\n",
    "\n",
    "df_summary = pd.DataFrame({'Journal Title': means.index, 'Mean (£)': means.values, 'Median (£)': medians.values, 'Standard deviation': stds.values})\n",
    "df_summary"
   ]
  },
  {
   "cell_type": "markdown",
   "metadata": {},
   "source": [
    "As it can be seen in the table above and the image below, articles published in the journal **Neuroimage** recorded the highest associated costs, with an average cost of £ 2,215.17 per article. Articles in the other four most common journals presented average costs below £ 1378,14 per article. In terms of the median costs, all journal except **Neuroimage** reported values lower than the average costs"
   ]
  },
  {
   "cell_type": "code",
   "execution_count": 30,
   "metadata": {},
   "outputs": [
    {
     "data": {
      "image/png": "[encoded data removed]",
      "text/plain": [
       "<Figure size 720x360 with 1 Axes>"
      ]
     },
     "metadata": {
      "needs_background": "light"
     },
     "output_type": "display_data"
    }
   ],
   "source": [
    "plt.figure(figsize = [10, 5])\n",
    "\n",
    "order = ['neuroimage', 'journal of biological chemistry', 'nucleic acids research', 'plos one', 'proceedings of the national academy of sciences']\n",
    "base_color = sns.color_palette()[0]\n",
    "sns.barplot(data = df_summary, y = 'Journal Title', x = 'Mean (£)', color = base_color, order = order)\n",
    "plt.xticks(rotation = 25);"
   ]
  }
 ],
 "metadata": {
  "kernelspec": {
   "display_name": "Python 3",
   "language": "python",
   "name": "python3"
  },
  "language_info": {
   "codemirror_mode": {
    "name": "ipython",
    "version": 3
   },
   "file_extension": ".py",
   "mimetype": "text/x-python",
   "name": "python",
   "nbconvert_exporter": "python",
   "pygments_lexer": "ipython3",
   "version": "3.6.8"
  }
 },
 "nbformat": 4,
 "nbformat_minor": 2
}
