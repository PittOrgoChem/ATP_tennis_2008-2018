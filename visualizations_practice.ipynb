{
 "cells": [
  {
   "cell_type": "markdown",
   "metadata": {},
   "source": [
    "# Practice Assignment: Visualizations"
   ]
  },
  {
   "cell_type": "markdown",
   "metadata": {},
   "source": [
    "## Requirements"
   ]
  },
  {
   "cell_type": "code",
   "execution_count": 1,
   "metadata": {},
   "outputs": [],
   "source": [
    "import pandas as pd\n",
    "import numpy as np\n",
    "import os, fnmatch\n",
    "import seaborn as sns\n",
    "import matplotlib.pyplot as plt\n",
    "%matplotlib inline"
   ]
  },
  {
   "cell_type": "markdown",
   "metadata": {},
   "source": [
    "## Data Gathering"
   ]
  },
  {
   "cell_type": "markdown",
   "metadata": {},
   "source": [
    "In order to complete this assignment, data collected and made available by Jeff Sackmann in his Github (https://github.com/JeffSackmann) was employed. For this particular project, data for the ATP (Association of Tennis Professionals) tennis circuit collected over the period between 2008 and 2010 was gathered and employed. Since the data correspond to each individual year over the specified period, our first step was to combine the data for years 2008-2018 into one master dataset. Each file was manually dowloaded from (https://github.com/JeffSackmann/tennis_atp) and read into a Pandas dataframe using a customized function "
   ]
  },
  {
   "cell_type": "code",
   "execution_count": 2,
   "metadata": {
    "scrolled": true
   },
   "outputs": [],
   "source": [
    "file_list = sorted(list(filter(lambda x: '.csv' in x, os.listdir('.'))))"
   ]
  },
  {
   "cell_type": "code",
   "execution_count": 3,
   "metadata": {},
   "outputs": [],
   "source": [
    "df_master = pd.DataFrame()\n",
    "for i in range(0, len(file_list)):\n",
    "    if df_master.empty: #evaluate if the 'comb_df' dataframe is empty\n",
    "        df_master = pd.read_csv(file_list[i]) #if empty, the dataframe resulting from 'prepare_data' is stored\n",
    "        i += 1 #increasing the indexing figure to move to the next file\n",
    "    else:\n",
    "        # if dataframe is not empty, merge new dataframe from 'prepare_data' to existing 'comb_df' dataframe\n",
    "        df_master = df_master.append(pd.read_csv(file_list[i]), ignore_index = True)\n",
    "        i += 1"
   ]
  },
  {
   "cell_type": "markdown",
   "metadata": {},
   "source": [
    "## Data Exploration"
   ]
  },
  {
   "cell_type": "markdown",
   "metadata": {},
   "source": [
    "Since the main objective of this work is to generate exploratory data visualizations and not thorough assessment and cleaning of the data for future use, only a brief exploration was completed"
   ]
  },
  {
   "cell_type": "code",
   "execution_count": 4,
   "metadata": {},
   "outputs": [
    {
     "name": "stdout",
     "output_type": "stream",
     "text": [
      "<class 'pandas.core.frame.DataFrame'>\n",
      "RangeIndex: 32740 entries, 0 to 32739\n",
      "Data columns (total 49 columns):\n",
      "tourney_id            32740 non-null object\n",
      "tourney_name          32740 non-null object\n",
      "surface               32622 non-null object\n",
      "draw_size             0 non-null float64\n",
      "tourney_level         32740 non-null object\n",
      "tourney_date          32740 non-null int64\n",
      "match_num             32740 non-null int64\n",
      "winner_id             32740 non-null int64\n",
      "winner_seed           14190 non-null float64\n",
      "winner_entry          3836 non-null object\n",
      "winner_name           32740 non-null object\n",
      "winner_hand           32724 non-null object\n",
      "winner_ht             29429 non-null float64\n",
      "winner_ioc            32740 non-null object\n",
      "winner_age            32736 non-null float64\n",
      "loser_id              32740 non-null int64\n",
      "loser_seed            7634 non-null float64\n",
      "loser_entry           6468 non-null object\n",
      "loser_name            32740 non-null object\n",
      "loser_hand            32697 non-null object\n",
      "loser_ht              27468 non-null float64\n",
      "loser_ioc             32740 non-null object\n",
      "loser_age             32726 non-null float64\n",
      "score                 32740 non-null object\n",
      "best_of               32740 non-null int64\n",
      "round                 32740 non-null object\n",
      "minutes               28668 non-null float64\n",
      "w_ace                 29987 non-null float64\n",
      "w_df                  29987 non-null float64\n",
      "w_svpt                29987 non-null float64\n",
      "w_1stIn               29987 non-null float64\n",
      "w_1stWon              29987 non-null float64\n",
      "w_2ndWon              29987 non-null float64\n",
      "w_SvGms               29987 non-null float64\n",
      "w_bpSaved             29987 non-null float64\n",
      "w_bpFaced             29987 non-null float64\n",
      "l_ace                 29987 non-null float64\n",
      "l_df                  29987 non-null float64\n",
      "l_svpt                29987 non-null float64\n",
      "l_1stIn               29987 non-null float64\n",
      "l_1stWon              29987 non-null float64\n",
      "l_2ndWon              29987 non-null float64\n",
      "l_SvGms               29987 non-null float64\n",
      "l_bpSaved             29987 non-null float64\n",
      "l_bpFaced             29987 non-null float64\n",
      "winner_rank           32505 non-null float64\n",
      "winner_rank_points    32505 non-null float64\n",
      "loser_rank            32115 non-null float64\n",
      "loser_rank_points     32115 non-null float64\n",
      "dtypes: float64(30), int64(5), object(14)\n",
      "memory usage: 12.2+ MB\n"
     ]
    }
   ],
   "source": [
    "df_master.info()"
   ]
  },
  {
   "cell_type": "markdown",
   "metadata": {},
   "source": [
    "As it can be seen in the summary above, the mastered dataset consists of 32,740 records and 49 columns. Most of the fields are complete while few others report a high number of missing values. However, since our analysis focuses on a niche of players there is no problem expected"
   ]
  },
  {
   "cell_type": "markdown",
   "metadata": {},
   "source": [
    "Considering the pool of tennis players that year by year participate in ATP tournaments across the world a very heterogenous group, our first exploration was about the age of the players and any possible trend/effect on their ability to win matches"
   ]
  },
  {
   "cell_type": "code",
   "execution_count": 5,
   "metadata": {
    "scrolled": false
   },
   "outputs": [
    {
     "name": "stderr",
     "output_type": "stream",
     "text": [
      "/anaconda3/lib/python3.6/site-packages/numpy/lib/histograms.py:824: RuntimeWarning: invalid value encountered in greater_equal\n",
      "  keep = (tmp_a >= first_edge)\n",
      "/anaconda3/lib/python3.6/site-packages/numpy/lib/histograms.py:825: RuntimeWarning: invalid value encountered in less_equal\n",
      "  keep &= (tmp_a <= last_edge)\n"
     ]
    },
    {
     "data": {
      "image/png": "[encoded data removed]",
      "text/plain": [
       "<Figure size 720x360 with 2 Axes>"
      ]
     },
     "metadata": {
      "needs_background": "light"
     },
     "output_type": "display_data"
    }
   ],
   "source": [
    "plt.figure(figsize = [10,5])\n",
    "plt.subplots_adjust(wspace = 1.5)\n",
    "\n",
    "plt.subplot(1, 2, 1)\n",
    "plt.hist(data = df_master, x = 'winner_age', density = True, bins = 15, alpha = 0.5)\n",
    "mean_w = df_master['winner_age'].mean()\n",
    "plt.axvline(mean_w, linestyle = 'dashed', color = 'red')\n",
    "plt.title('Distribution of Age for Winners (2008 - 2018)', fontweight = 'bold')\n",
    "plt.xlabel('Winners\\' Age', fontweight = 'bold')\n",
    "plt.ylabel('Proportion', fontweight = 'bold')\n",
    "plt.xlim((15, 40))\n",
    "\n",
    "plt.subplot(1, 2, 2)\n",
    "plt.hist(data = df_master, x = 'loser_age', density = True, bins = 15, alpha = 0.5)\n",
    "mean_l = df_master['loser_age'].mean()\n",
    "plt.axvline(mean_l, linestyle = 'dashed', color = 'red')\n",
    "plt.title('Distribution of Age for Losers (2008-2018)', fontweight = 'bold')\n",
    "plt.xlabel('Losers\\' Age', fontweight = 'bold')\n",
    "plt.ylabel('Proportion', fontweight = 'bold')\n",
    "plt.xlim((15, 40))\n",
    "\n",
    "plt.tight_layout();"
   ]
  },
  {
   "cell_type": "markdown",
   "metadata": {},
   "source": [
    "From the figure above, it can be seen that ages of both winners and loser for game held during 2008-2018 is fairly normally distributed and center around a very similar average age of approximately 27 years. In the case of winners (left plot), the distribution tails a little to the right side (older players). These results may not be surprising considering tennis a sport in which a combination of physical fitness and technical skills is necessary"
   ]
  },
  {
   "cell_type": "code",
   "execution_count": 6,
   "metadata": {
    "scrolled": true
   },
   "outputs": [
    {
     "data": {
      "text/plain": [
       "Andreas Seppi             290\n",
       "Gilles Simon              271\n",
       "Fabio Fognini             270\n",
       "Philipp Kohlschreiber     269\n",
       "Fernando Verdasco         269\n",
       "Guillermo Garcia Lopez    268\n",
       "Feliciano Lopez           268\n",
       "Viktor Troicki            254\n",
       "Jeremy Chardy             248\n",
       "Mikhail Youzhny           246\n",
       "Name: loser_name, dtype: int64"
      ]
     },
     "execution_count": 6,
     "metadata": {},
     "output_type": "execute_result"
    }
   ],
   "source": [
    "df_master['loser_name'].value_counts()[:10]"
   ]
  },
  {
   "cell_type": "markdown",
   "metadata": {},
   "source": [
    "With the data available, a question about the type of surface used to play the game of tennis came to mind. What are the most common surfaces used on the ATP circuit. To answer this question, our master dataframe was filtered to retrieve the frequency of \"surfaces\" among the tournaments played during 2008-2018"
   ]
  },
  {
   "cell_type": "code",
   "execution_count": 7,
   "metadata": {
    "scrolled": true
   },
   "outputs": [],
   "source": [
    "df_finals = df_master[df_master['round'] == 'F']\n",
    "surface_freq = df_finals['surface'].value_counts()"
   ]
  },
  {
   "cell_type": "code",
   "execution_count": 8,
   "metadata": {
    "scrolled": true
   },
   "outputs": [
    {
     "data": {
      "image/png": "[encoded data removed]",
      "text/plain": [
       "<Figure size 432x288 with 1 Axes>"
      ]
     },
     "metadata": {
      "needs_background": "light"
     },
     "output_type": "display_data"
    }
   ],
   "source": [
    "plt.bar(data = surface_freq, x = surface_freq.index, height = (surface_freq.values / surface_freq.sum()*100), color = 'brgy')\n",
    "plt.title('Percentage of Tournements based on Court Surface', fontweight = 'bold')\n",
    "plt.xlabel('Court Surfaces', fontweight = 'bold')\n",
    "plt.ylabel('Percentage', fontweight = 'bold');"
   ]
  },
  {
   "cell_type": "markdown",
   "metadata": {},
   "source": [
    "On the figure above, it can be seen that from all the tournaments played over the specified period, close top 55% of those were played on \"Hard\" courts, while around 33% were decided on \"Clay\". Far less common surfaces such as \"Grass\" and \"Carpet\" were used in 10% and 1% of the tournaments"
   ]
  },
  {
   "cell_type": "markdown",
   "metadata": {},
   "source": [
    "In order to find the players that dominated the ATP circuit in period of 2008-2018, the total number of won games per each player was calculated"
   ]
  },
  {
   "cell_type": "code",
   "execution_count": 9,
   "metadata": {
    "scrolled": true
   },
   "outputs": [
    {
     "data": {
      "text/plain": [
       "Novak Djokovic           726\n",
       "Rafael Nadal             671\n",
       "Roger Federer            637\n",
       "Andy Murray              574\n",
       "David Ferrer             528\n",
       "Tomas Berdych            483\n",
       "Marin Cilic              462\n",
       "Jo Wilfried Tsonga       421\n",
       "Stanislas Wawrinka       413\n",
       "Juan Martin Del Potro    396\n",
       "Name: winner_name, dtype: int64"
      ]
     },
     "execution_count": 9,
     "metadata": {},
     "output_type": "execute_result"
    }
   ],
   "source": [
    "df_master['winner_name'].value_counts()[:10]"
   ]
  },
  {
   "cell_type": "markdown",
   "metadata": {},
   "source": [
    "In the list above, five players seem to have dominated the game during the specified period. However, an exploration about the champions of the four most important tournaments (Grand Slams) was performed"
   ]
  },
  {
   "cell_type": "code",
   "execution_count": 10,
   "metadata": {
    "scrolled": true
   },
   "outputs": [],
   "source": [
    "mask =  ((df_master['tourney_level'] == 'G') & (df_master['round'] == 'F'))\n",
    "df_gs = df_master.loc[mask, :]"
   ]
  },
  {
   "cell_type": "code",
   "execution_count": 11,
   "metadata": {
    "scrolled": true
   },
   "outputs": [],
   "source": [
    "gs_winners = df_gs[['winner_name', 'winner_hand', 'winner_age']]"
   ]
  },
  {
   "cell_type": "code",
   "execution_count": 12,
   "metadata": {},
   "outputs": [
    {
     "data": {
      "text/html": [
       "<div>\n",
       "<style scoped>\n",
       "    .dataframe tbody tr th:only-of-type {\n",
       "        vertical-align: middle;\n",
       "    }\n",
       "\n",
       "    .dataframe tbody tr th {\n",
       "        vertical-align: top;\n",
       "    }\n",
       "\n",
       "    .dataframe thead th {\n",
       "        text-align: right;\n",
       "    }\n",
       "</style>\n",
       "<table border=\"1\" class=\"dataframe\">\n",
       "  <thead>\n",
       "    <tr style=\"text-align: right;\">\n",
       "      <th></th>\n",
       "      <th>winner_name</th>\n",
       "      <th>winner_hand</th>\n",
       "      <th>winner_age</th>\n",
       "    </tr>\n",
       "  </thead>\n",
       "  <tbody>\n",
       "    <tr>\n",
       "      <th>281</th>\n",
       "      <td>Novak Djokovic</td>\n",
       "      <td>R</td>\n",
       "      <td>20.65</td>\n",
       "    </tr>\n",
       "    <tr>\n",
       "      <th>1615</th>\n",
       "      <td>Rafael Nadal</td>\n",
       "      <td>L</td>\n",
       "      <td>21.98</td>\n",
       "    </tr>\n",
       "    <tr>\n",
       "      <th>1921</th>\n",
       "      <td>Rafael Nadal</td>\n",
       "      <td>L</td>\n",
       "      <td>22.06</td>\n",
       "    </tr>\n",
       "    <tr>\n",
       "      <th>2587</th>\n",
       "      <td>Roger Federer</td>\n",
       "      <td>R</td>\n",
       "      <td>27.05</td>\n",
       "    </tr>\n",
       "    <tr>\n",
       "      <th>3383</th>\n",
       "      <td>Rafael Nadal</td>\n",
       "      <td>L</td>\n",
       "      <td>22.63</td>\n",
       "    </tr>\n",
       "    <tr>\n",
       "      <th>4641</th>\n",
       "      <td>Roger Federer</td>\n",
       "      <td>R</td>\n",
       "      <td>27.79</td>\n",
       "    </tr>\n",
       "    <tr>\n",
       "      <th>4916</th>\n",
       "      <td>Roger Federer</td>\n",
       "      <td>R</td>\n",
       "      <td>27.87</td>\n",
       "    </tr>\n",
       "    <tr>\n",
       "      <th>5599</th>\n",
       "      <td>Juan Martin Del Potro</td>\n",
       "      <td>R</td>\n",
       "      <td>20.94</td>\n",
       "    </tr>\n",
       "    <tr>\n",
       "      <th>6457</th>\n",
       "      <td>Roger Federer</td>\n",
       "      <td>R</td>\n",
       "      <td>28.45</td>\n",
       "    </tr>\n",
       "    <tr>\n",
       "      <th>7710</th>\n",
       "      <td>Rafael Nadal</td>\n",
       "      <td>L</td>\n",
       "      <td>23.97</td>\n",
       "    </tr>\n",
       "    <tr>\n",
       "      <th>7981</th>\n",
       "      <td>Rafael Nadal</td>\n",
       "      <td>L</td>\n",
       "      <td>24.05</td>\n",
       "    </tr>\n",
       "    <tr>\n",
       "      <th>8647</th>\n",
       "      <td>Rafael Nadal</td>\n",
       "      <td>L</td>\n",
       "      <td>24.24</td>\n",
       "    </tr>\n",
       "    <tr>\n",
       "      <th>9484</th>\n",
       "      <td>Novak Djokovic</td>\n",
       "      <td>R</td>\n",
       "      <td>23.66</td>\n",
       "    </tr>\n",
       "    <tr>\n",
       "      <th>10704</th>\n",
       "      <td>Rafael Nadal</td>\n",
       "      <td>L</td>\n",
       "      <td>24.97</td>\n",
       "    </tr>\n",
       "    <tr>\n",
       "      <th>10979</th>\n",
       "      <td>Novak Djokovic</td>\n",
       "      <td>R</td>\n",
       "      <td>24.08</td>\n",
       "    </tr>\n",
       "    <tr>\n",
       "      <th>11687</th>\n",
       "      <td>Novak Djokovic</td>\n",
       "      <td>R</td>\n",
       "      <td>24.27</td>\n",
       "    </tr>\n",
       "    <tr>\n",
       "      <th>12495</th>\n",
       "      <td>Novak Djokovic</td>\n",
       "      <td>R</td>\n",
       "      <td>24.65</td>\n",
       "    </tr>\n",
       "    <tr>\n",
       "      <th>13839</th>\n",
       "      <td>Rafael Nadal</td>\n",
       "      <td>L</td>\n",
       "      <td>25.98</td>\n",
       "    </tr>\n",
       "    <tr>\n",
       "      <th>14106</th>\n",
       "      <td>Roger Federer</td>\n",
       "      <td>R</td>\n",
       "      <td>30.88</td>\n",
       "    </tr>\n",
       "    <tr>\n",
       "      <th>14728</th>\n",
       "      <td>Andy Murray</td>\n",
       "      <td>R</td>\n",
       "      <td>25.29</td>\n",
       "    </tr>\n",
       "    <tr>\n",
       "      <th>15501</th>\n",
       "      <td>Novak Djokovic</td>\n",
       "      <td>R</td>\n",
       "      <td>25.65</td>\n",
       "    </tr>\n",
       "    <tr>\n",
       "      <th>16801</th>\n",
       "      <td>Rafael Nadal</td>\n",
       "      <td>L</td>\n",
       "      <td>26.98</td>\n",
       "    </tr>\n",
       "    <tr>\n",
       "      <th>17068</th>\n",
       "      <td>Andy Murray</td>\n",
       "      <td>R</td>\n",
       "      <td>26.11</td>\n",
       "    </tr>\n",
       "    <tr>\n",
       "      <th>17666</th>\n",
       "      <td>Rafael Nadal</td>\n",
       "      <td>L</td>\n",
       "      <td>27.23</td>\n",
       "    </tr>\n",
       "    <tr>\n",
       "      <th>18445</th>\n",
       "      <td>Stanislas Wawrinka</td>\n",
       "      <td>R</td>\n",
       "      <td>28.80</td>\n",
       "    </tr>\n",
       "    <tr>\n",
       "      <th>19736</th>\n",
       "      <td>Rafael Nadal</td>\n",
       "      <td>L</td>\n",
       "      <td>27.98</td>\n",
       "    </tr>\n",
       "    <tr>\n",
       "      <th>20003</th>\n",
       "      <td>Novak Djokovic</td>\n",
       "      <td>R</td>\n",
       "      <td>27.09</td>\n",
       "    </tr>\n",
       "    <tr>\n",
       "      <th>20601</th>\n",
       "      <td>Marin Cilic</td>\n",
       "      <td>R</td>\n",
       "      <td>25.91</td>\n",
       "    </tr>\n",
       "    <tr>\n",
       "      <th>21346</th>\n",
       "      <td>Novak Djokovic</td>\n",
       "      <td>R</td>\n",
       "      <td>27.66</td>\n",
       "    </tr>\n",
       "    <tr>\n",
       "      <th>22566</th>\n",
       "      <td>Stanislas Wawrinka</td>\n",
       "      <td>R</td>\n",
       "      <td>30.15</td>\n",
       "    </tr>\n",
       "    <tr>\n",
       "      <th>22856</th>\n",
       "      <td>Novak Djokovic</td>\n",
       "      <td>R</td>\n",
       "      <td>28.10</td>\n",
       "    </tr>\n",
       "    <tr>\n",
       "      <th>23517</th>\n",
       "      <td>Novak Djokovic</td>\n",
       "      <td>R</td>\n",
       "      <td>28.28</td>\n",
       "    </tr>\n",
       "    <tr>\n",
       "      <th>24289</th>\n",
       "      <td>Novak Djokovic</td>\n",
       "      <td>R</td>\n",
       "      <td>28.66</td>\n",
       "    </tr>\n",
       "    <tr>\n",
       "      <th>25501</th>\n",
       "      <td>Novak Djokovic</td>\n",
       "      <td>R</td>\n",
       "      <td>29.00</td>\n",
       "    </tr>\n",
       "    <tr>\n",
       "      <th>25791</th>\n",
       "      <td>Andy Murray</td>\n",
       "      <td>R</td>\n",
       "      <td>29.12</td>\n",
       "    </tr>\n",
       "    <tr>\n",
       "      <th>26478</th>\n",
       "      <td>Stanislas Wawrinka</td>\n",
       "      <td>R</td>\n",
       "      <td>31.42</td>\n",
       "    </tr>\n",
       "    <tr>\n",
       "      <th>27230</th>\n",
       "      <td>Roger Federer</td>\n",
       "      <td>R</td>\n",
       "      <td>35.44</td>\n",
       "    </tr>\n",
       "    <tr>\n",
       "      <th>28516</th>\n",
       "      <td>Rafael Nadal</td>\n",
       "      <td>L</td>\n",
       "      <td>30.99</td>\n",
       "    </tr>\n",
       "    <tr>\n",
       "      <th>28813</th>\n",
       "      <td>Roger Federer</td>\n",
       "      <td>R</td>\n",
       "      <td>35.90</td>\n",
       "    </tr>\n",
       "    <tr>\n",
       "      <th>29364</th>\n",
       "      <td>Rafael Nadal</td>\n",
       "      <td>L</td>\n",
       "      <td>31.24</td>\n",
       "    </tr>\n",
       "    <tr>\n",
       "      <th>30116</th>\n",
       "      <td>Roger Federer</td>\n",
       "      <td>R</td>\n",
       "      <td>36.44</td>\n",
       "    </tr>\n",
       "    <tr>\n",
       "      <th>31393</th>\n",
       "      <td>Rafael Nadal</td>\n",
       "      <td>L</td>\n",
       "      <td>31.98</td>\n",
       "    </tr>\n",
       "    <tr>\n",
       "      <th>31690</th>\n",
       "      <td>Novak Djokovic</td>\n",
       "      <td>R</td>\n",
       "      <td>31.11</td>\n",
       "    </tr>\n",
       "    <tr>\n",
       "      <th>32241</th>\n",
       "      <td>Novak Djokovic</td>\n",
       "      <td>R</td>\n",
       "      <td>31.27</td>\n",
       "    </tr>\n",
       "  </tbody>\n",
       "</table>\n",
       "</div>"
      ],
      "text/plain": [
       "                 winner_name winner_hand  winner_age\n",
       "281           Novak Djokovic           R       20.65\n",
       "1615            Rafael Nadal           L       21.98\n",
       "1921            Rafael Nadal           L       22.06\n",
       "2587           Roger Federer           R       27.05\n",
       "3383            Rafael Nadal           L       22.63\n",
       "4641           Roger Federer           R       27.79\n",
       "4916           Roger Federer           R       27.87\n",
       "5599   Juan Martin Del Potro           R       20.94\n",
       "6457           Roger Federer           R       28.45\n",
       "7710            Rafael Nadal           L       23.97\n",
       "7981            Rafael Nadal           L       24.05\n",
       "8647            Rafael Nadal           L       24.24\n",
       "9484          Novak Djokovic           R       23.66\n",
       "10704           Rafael Nadal           L       24.97\n",
       "10979         Novak Djokovic           R       24.08\n",
       "11687         Novak Djokovic           R       24.27\n",
       "12495         Novak Djokovic           R       24.65\n",
       "13839           Rafael Nadal           L       25.98\n",
       "14106          Roger Federer           R       30.88\n",
       "14728            Andy Murray           R       25.29\n",
       "15501         Novak Djokovic           R       25.65\n",
       "16801           Rafael Nadal           L       26.98\n",
       "17068            Andy Murray           R       26.11\n",
       "17666           Rafael Nadal           L       27.23\n",
       "18445     Stanislas Wawrinka           R       28.80\n",
       "19736           Rafael Nadal           L       27.98\n",
       "20003         Novak Djokovic           R       27.09\n",
       "20601            Marin Cilic           R       25.91\n",
       "21346         Novak Djokovic           R       27.66\n",
       "22566     Stanislas Wawrinka           R       30.15\n",
       "22856         Novak Djokovic           R       28.10\n",
       "23517         Novak Djokovic           R       28.28\n",
       "24289         Novak Djokovic           R       28.66\n",
       "25501         Novak Djokovic           R       29.00\n",
       "25791            Andy Murray           R       29.12\n",
       "26478     Stanislas Wawrinka           R       31.42\n",
       "27230          Roger Federer           R       35.44\n",
       "28516           Rafael Nadal           L       30.99\n",
       "28813          Roger Federer           R       35.90\n",
       "29364           Rafael Nadal           L       31.24\n",
       "30116          Roger Federer           R       36.44\n",
       "31393           Rafael Nadal           L       31.98\n",
       "31690         Novak Djokovic           R       31.11\n",
       "32241         Novak Djokovic           R       31.27"
      ]
     },
     "execution_count": 12,
     "metadata": {},
     "output_type": "execute_result"
    }
   ],
   "source": [
    "gs_winners"
   ]
  },
  {
   "cell_type": "code",
   "execution_count": 13,
   "metadata": {
    "scrolled": false
   },
   "outputs": [
    {
     "data": {
      "image/png": "[encoded data removed]",
      "text/plain": [
       "<Figure size 432x288 with 1 Axes>"
      ]
     },
     "metadata": {
      "needs_background": "light"
     },
     "output_type": "display_data"
    }
   ],
   "source": [
    "base_color = sns.color_palette()[0]\n",
    "order = gs_winners['winner_name'].value_counts().index\n",
    "sns.countplot(data = gs_winners, y = 'winner_name', color = base_color, order = order)\n",
    "plt.title('Number of Grand Slam Championships between 2008-2018', fontweight = 'bold')\n",
    "plt.ylabel('Player', fontweight = 'bold')\n",
    "plt.xlabel('Number of Championships', fontweight = 'bold');"
   ]
  },
  {
   "cell_type": "markdown",
   "metadata": {},
   "source": [
    "From the visualization above, few players have clearly dominated the four major tournaments over the period 2008-2018. Among those, Rafael Nadal and Novak Djokovic (each with 14 titles) are tied at the top of the list, while legendary Roger Federer collected 8 of his record 20 major titles over the same period of time"
   ]
  },
  {
   "cell_type": "markdown",
   "metadata": {},
   "source": [
    "Our last goal was to dig a little further into aspects of the game that may affect the chances of winning for the **TOP FOUR PLAYERS** on the ATP circuit between years 2008-2018. From above, the data suggested that \"Rafael Nadal\", \"Novak Djokovic\", \"Roger Federer\", and \"Andy Murray\" were the four players that collected the highest number of won games and the most titles on the most prestigious tournaments. Also, in order to make the data easier to understand and compare, some additional features were created from raw existing data. Our idea was to compare some game statistics when each player won or lost a game during the specified period, to find which aspect of their game possibly has a major impact on the outcome"
   ]
  },
  {
   "cell_type": "code",
   "execution_count": 14,
   "metadata": {},
   "outputs": [
    {
     "name": "stderr",
     "output_type": "stream",
     "text": [
      "/anaconda3/lib/python3.6/site-packages/ipykernel_launcher.py:3: SettingWithCopyWarning: \n",
      "A value is trying to be set on a copy of a slice from a DataFrame.\n",
      "Try using .loc[row_indexer,col_indexer] = value instead\n",
      "\n",
      "See the caveats in the documentation: http://pandas.pydata.org/pandas-docs/stable/indexing.html#indexing-view-versus-copy\n",
      "  This is separate from the ipykernel package so we can avoid doing imports until\n",
      "/anaconda3/lib/python3.6/site-packages/ipykernel_launcher.py:4: SettingWithCopyWarning: \n",
      "A value is trying to be set on a copy of a slice from a DataFrame.\n",
      "Try using .loc[row_indexer,col_indexer] = value instead\n",
      "\n",
      "See the caveats in the documentation: http://pandas.pydata.org/pandas-docs/stable/indexing.html#indexing-view-versus-copy\n",
      "  after removing the cwd from sys.path.\n",
      "/anaconda3/lib/python3.6/site-packages/ipykernel_launcher.py:5: SettingWithCopyWarning: \n",
      "A value is trying to be set on a copy of a slice from a DataFrame.\n",
      "Try using .loc[row_indexer,col_indexer] = value instead\n",
      "\n",
      "See the caveats in the documentation: http://pandas.pydata.org/pandas-docs/stable/indexing.html#indexing-view-versus-copy\n",
      "  \"\"\"\n"
     ]
    }
   ],
   "source": [
    "flag_wins_top4 = (df_master['winner_name'] == 'Novak Djokovic') | (df_master['winner_name'] == 'Rafael Nadal') | (df_master['winner_name'] == 'Roger Federer') | (df_master['winner_name'] =='Andy Murray')\n",
    "wins_top4 = df_master.loc[flag_wins_top4, :]\n",
    "wins_top4['w_pct_1stIn'] = (wins_top4['w_1stIn'] / wins_top4['w_svpt']) * 100\n",
    "wins_top4['w_pct_bpSaved'] = (wins_top4['w_bpSaved'] / wins_top4['w_bpFaced']) * 100\n",
    "wins_top4['w_pct_1stWon'] = (wins_top4['w_1stWon'] / wins_top4['w_1stIn']) * 100"
   ]
  },
  {
   "cell_type": "code",
   "execution_count": 15,
   "metadata": {},
   "outputs": [
    {
     "name": "stderr",
     "output_type": "stream",
     "text": [
      "/anaconda3/lib/python3.6/site-packages/ipykernel_launcher.py:3: SettingWithCopyWarning: \n",
      "A value is trying to be set on a copy of a slice from a DataFrame.\n",
      "Try using .loc[row_indexer,col_indexer] = value instead\n",
      "\n",
      "See the caveats in the documentation: http://pandas.pydata.org/pandas-docs/stable/indexing.html#indexing-view-versus-copy\n",
      "  This is separate from the ipykernel package so we can avoid doing imports until\n",
      "/anaconda3/lib/python3.6/site-packages/ipykernel_launcher.py:4: SettingWithCopyWarning: \n",
      "A value is trying to be set on a copy of a slice from a DataFrame.\n",
      "Try using .loc[row_indexer,col_indexer] = value instead\n",
      "\n",
      "See the caveats in the documentation: http://pandas.pydata.org/pandas-docs/stable/indexing.html#indexing-view-versus-copy\n",
      "  after removing the cwd from sys.path.\n",
      "/anaconda3/lib/python3.6/site-packages/ipykernel_launcher.py:5: SettingWithCopyWarning: \n",
      "A value is trying to be set on a copy of a slice from a DataFrame.\n",
      "Try using .loc[row_indexer,col_indexer] = value instead\n",
      "\n",
      "See the caveats in the documentation: http://pandas.pydata.org/pandas-docs/stable/indexing.html#indexing-view-versus-copy\n",
      "  \"\"\"\n"
     ]
    }
   ],
   "source": [
    "flag_lost_top4 = (df_master['loser_name'] == 'Novak Djokovic') | (df_master['loser_name'] == 'Rafael Nadal') | (df_master['loser_name'] == 'Roger Federer') | (df_master['loser_name'] =='Andy Murray')\n",
    "lost_top4 = df_master.loc[flag_lost_top4, :]\n",
    "lost_top4['l_pct_1stIn'] = (lost_top4['l_1stIn'] / lost_top4['l_svpt']) * 100\n",
    "lost_top4['l_pct_bpSaved'] = (lost_top4['l_bpSaved'] / lost_top4['l_bpFaced']) * 100\n",
    "lost_top4['l_pct_1stWon'] = (lost_top4['l_1stWon'] / lost_top4['l_1stIn']) * 100"
   ]
  },
  {
   "cell_type": "code",
   "execution_count": 16,
   "metadata": {},
   "outputs": [],
   "source": [
    "wins_top4_stats = wins_top4.groupby('winner_name')[['w_ace', 'w_df', 'w_svpt', 'w_1stIn', 'w_pct_1stIn', 'w_1stWon', 'w_pct_1stWon', 'w_2ndWon',\n",
    "       'w_SvGms', 'w_bpSaved', 'w_bpFaced', 'w_pct_bpSaved']].mean()"
   ]
  },
  {
   "cell_type": "code",
   "execution_count": 17,
   "metadata": {},
   "outputs": [],
   "source": [
    "lost_top4_stats = lost_top4.groupby('loser_name')[['l_ace', 'l_df', 'l_svpt', 'l_1stIn', 'l_pct_1stIn', 'l_1stWon', 'l_pct_1stWon', 'l_2ndWon',\n",
    "       'l_SvGms', 'l_bpSaved', 'l_bpFaced', 'l_pct_bpSaved']].mean()"
   ]
  },
  {
   "cell_type": "code",
   "execution_count": 18,
   "metadata": {},
   "outputs": [
    {
     "data": {
      "image/png": "[encoded data removed]",
      "text/plain": [
       "<Figure size 1440x720 with 4 Axes>"
      ]
     },
     "metadata": {
      "needs_background": "light"
     },
     "output_type": "display_data"
    }
   ],
   "source": [
    "plt.figure(figsize = [20, 10])\n",
    "plt.subplots_adjust(hspace = 0.3)\n",
    "plt.subplot(2, 2, 1)\n",
    "\n",
    "#Subplot 1\n",
    "# set width of bar\n",
    "bar_width = 0.25\n",
    " \n",
    "# set height of bar\n",
    "col_1 = wins_top4_stats['w_ace']\n",
    "col_2 = lost_top4_stats['l_ace']\n",
    " \n",
    "# Set position of bar on X axis\n",
    "loc_1 = np.arange(len(col_1))\n",
    "loc_2 = [x + bar_width for x in loc_1]\n",
    " \n",
    "# Make the plot\n",
    "plt.bar(loc_1, col_1, color='#7f6d5f', width=bar_width, edgecolor='white', label='Wins')\n",
    "plt.bar(loc_2, col_2, color='#557f2d', width=bar_width, edgecolor='white', label='Losses')\n",
    " \n",
    "# Add xticks on the middle of the group bars\n",
    "plt.title('Average Number of Aces per Game for Top 4 Best Players (2008-2018)', fontweight = 'bold')\n",
    "plt.xlabel('Player', fontweight='bold')\n",
    "plt.ylabel('Average Number of Aces', fontweight='bold')\n",
    "plt.xticks([r + (bar_width / 2) for r in range(len(col_1))], wins_top4_stats.index)\n",
    " \n",
    "# Create legend & Show graphic\n",
    "plt.legend(loc = 'lower center')\n",
    "\n",
    "#Subplot 2\n",
    "plt.subplot(2, 2, 2)\n",
    "\n",
    "bar_width = 0.25\n",
    " \n",
    "col_1 = wins_top4_stats['w_pct_1stIn']\n",
    "col_2 = lost_top4_stats['l_pct_1stIn']\n",
    " \n",
    "loc_1 = np.arange(len(col_1))\n",
    "loc_2 = [x + bar_width for x in loc_1]\n",
    " \n",
    "plt.bar(loc_1, col_1, color='#7f6d5f', width=bar_width, edgecolor='white', label='Wins')\n",
    "plt.bar(loc_2, col_2, color='#557f2d', width=bar_width, edgecolor='white', label='Losses')\n",
    " \n",
    "plt.title('Average Percentage of First Services In per Game for Top 4 Best Players (2008-2018)', fontweight = 'bold')\n",
    "plt.xlabel('Player', fontweight='bold')\n",
    "plt.ylabel('Average % of First Services In', fontweight='bold')\n",
    "plt.xticks([r + (bar_width / 2) for r in range(len(col_1))], wins_top4_stats.index)\n",
    " \n",
    "plt.legend(loc = 'lower center')\n",
    "\n",
    "#Subplot 3\n",
    "plt.subplot(2, 2, 3)\n",
    "\n",
    "bar_width = 0.25\n",
    " \n",
    "col_1 = wins_top4_stats['w_pct_1stWon']\n",
    "col_2 = lost_top4_stats['l_pct_1stWon']\n",
    " \n",
    "loc_1 = np.arange(len(col_1))\n",
    "loc_2 = [x + bar_width for x in loc_1]\n",
    " \n",
    "plt.bar(loc_1, col_1, color='#7f6d5f', width=bar_width, edgecolor='white', label='Wins')\n",
    "plt.bar(loc_2, col_2, color='#557f2d', width=bar_width, edgecolor='white', label='Losses')\n",
    " \n",
    "plt.title('Average Percentage of First Services Won per Game for Top 4 Best Players (2008-2018)', fontweight = 'bold')\n",
    "plt.xlabel('Player', fontweight='bold')\n",
    "plt.ylabel('Average % of First Services Won', fontweight='bold')\n",
    "plt.xticks([r + (bar_width / 2) for r in range(len(col_1))], wins_top4_stats.index)\n",
    " \n",
    "plt.legend(loc = 'lower center');\n",
    "\n",
    "\n",
    "#Subplot 4\n",
    "plt.subplot(2, 2, 4)\n",
    "\n",
    "bar_width = 0.25\n",
    " \n",
    "col_1 = wins_top4_stats['w_pct_bpSaved']\n",
    "col_2 = lost_top4_stats['l_pct_bpSaved']\n",
    " \n",
    "loc_1 = np.arange(len(col_1))\n",
    "loc_2 = [x + bar_width for x in loc_1]\n",
    " \n",
    "plt.bar(loc_1, col_1, color='#7f6d5f', width=bar_width, edgecolor='white', label='Wins')\n",
    "plt.bar(loc_2, col_2, color='#557f2d', width=bar_width, edgecolor='white', label='Losses')\n",
    " \n",
    "plt.title('Average Percentage of Break Points Saved per Game for Top 4 Best Players (2008-2018)', fontweight = 'bold')\n",
    "plt.xlabel('Player', fontweight='bold')\n",
    "plt.ylabel('Average % of Break Points Saved', fontweight='bold')\n",
    "plt.xticks([r + (bar_width / 2) for r in range(len(col_1))], wins_top4_stats.index)\n",
    " \n",
    "plt.legend(loc = 'lower center');"
   ]
  },
  {
   "cell_type": "markdown",
   "metadata": {},
   "source": [
    "In our last figure (see above), four different statistics for the game of tennis averaged for each of the TOP FOUR BEST PLAYERS during the 2008-2018 period both when they ended up winning or losing the game. In the first plot (upper left), the average number of direct services or \"aces\" was compared across the players and for different match outcomes. As the plot reveals, players like Roger Federer reported a higher number of aces while Rafael Nadal reported the lowest. Also, we can infer that when the number of aces was higher, players such as Andy Murray and Novak Djokovic were more likely to win their matches than when that statistic was lower.\n",
    "\n",
    "Another relevant statistic is related to the ability of the player to have a succesful first service (% of First Service In). In this aspect (see plot on upper right corner) of the game, all four players had solid performances (above 60%) and there were not major differences regarding the outcome of the match.\n",
    "\n",
    "Probably a more meaningful statistic related to service is the Percentage of First Service Won (see lower left plot), which relates to the actual outcome of that first service (e.g. a player succeeds on putting the ball at play during the first service and ends up winning the point). For all four players, an approximately 10% higher average was typically associated to winning the match. Regarding the values, all four players seem to rely heavily on their first service for winning the match, winning above 75% of the points when they succeed putting the wall at play.\n",
    "\n",
    "The last statistic presented (bottom right plot), relates to the ability of the players to get out of trouble when their opponents have the opportunity to **break** their services (**breaking a service =** winning a game when your opponent is serving). In this particular aspect, a winning outcome was associated to a higher percentage of break opportunities saved for all four players. It is worth noting that for players such as Roger Federer and Rafael Nadal the difference in percentage of saved break points when winning and losing was around 17%"
   ]
  },
  {
   "cell_type": "markdown",
   "metadata": {},
   "source": [
    "## References"
   ]
  },
  {
   "cell_type": "markdown",
   "metadata": {},
   "source": [
    "I would like to thank Jeff Sackmanm for collecting this valuable data associated to the game of tennis and making it available for doing cool analyses"
   ]
  }
 ],
 "metadata": {
  "kernelspec": {
   "display_name": "Python 3",
   "language": "python",
   "name": "python3"
  },
  "language_info": {
   "codemirror_mode": {
    "name": "ipython",
    "version": 3
   },
   "file_extension": ".py",
   "mimetype": "text/x-python",
   "name": "python",
   "nbconvert_exporter": "python",
   "pygments_lexer": "ipython3",
   "version": "3.6.6"
  }
 },
 "nbformat": 4,
 "nbformat_minor": 2
}
